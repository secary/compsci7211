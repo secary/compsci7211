{
 "cells": [
  {
   "cell_type": "markdown",
   "metadata": {},
   "source": [
    "### Instructions:\n",
    "\n",
    "- You can attempt any number of questions and in any order.  \n",
    "  See the assignment page for a description of the hurdle requirement for this assessment.\n",
    "- You may submit your practical for autograding as many times as you like to check on progress, however you will save time by checking and testing your own code before submitting.\n",
    "- Develop and check your answers in the spaces provided.\n",
    "- **Replace** the code `raise NotImplementedError()` with your solution to the question.\n",
    "- Do **NOT** remove any variables other provided markings already provided in the answer spaces.\n",
    "- Do **NOT** make any changes to this notebook outside of the spaces indicated.  \n",
    "  (If you do this, the submission system might not accept your work)\n",
    "\n",
    "### Submitting:\n",
    "\n",
    "1. Before you turn this problem in, make sure everything runs as expected by resetting this notebook.    \n",
    "   (You can do this from the menubar above by selecting `Kernel`&#8594;`Restart Kernel and Run All Cells...`)\n",
    "1. Don't forget to save your notebook after this step.\n",
    "1. Submit your .ipynb file to Gradescope via file upload or GitHub repository.\n",
    "1. You can submit as many times as needed.\n",
    "1. You **must** give your submitted file the **identical** filename to that which you downloaded without changing **any** aspects - spaces, underscores, capitalisation etc. If your operating system has changed the filename because you downloaded the file twice or more you **must** also fix this.  \n",
    "\n"
   ]
  },
  {
   "cell_type": "markdown",
   "metadata": {},
   "source": [
    "---"
   ]
  },
  {
   "cell_type": "markdown",
   "metadata": {
    "tags": []
   },
   "source": [
    "# <mark style=\"background: #801010; color: #ffffff;\" >B2</mark> Topic 5: Working with pandas 🐼🐼🐼   "
   ]
  },
  {
   "cell_type": "code",
   "execution_count": 83,
   "metadata": {},
   "outputs": [],
   "source": [
    "# Useful imports...\n",
    "import numpy as np\n",
    "import pandas as pd\n",
    "import string\n",
    "import math"
   ]
  },
  {
   "cell_type": "markdown",
   "metadata": {},
   "source": [
    "#### Question 01 &nbsp;&nbsp;&nbsp;&nbsp;&nbsp;&nbsp;(2 Points)\n",
    "\n",
    "Create a pandas Series named `series_1` with values:\n",
    "```python\n",
    "'a','b','c','d','e'\n",
    "```\n",
    "and index from 1 to 5 inclusive."
   ]
  },
  {
   "cell_type": "code",
   "execution_count": 84,
   "metadata": {
    "deletable": false,
    "nbgrader": {
     "cell_type": "code",
     "checksum": "59ea011245cce71c48c31e4c91f86ce1",
     "grade": false,
     "grade_id": "q1",
     "locked": false,
     "schema_version": 3,
     "solution": true,
     "task": false
    },
    "tags": []
   },
   "outputs": [
    {
     "name": "stdout",
     "output_type": "stream",
     "text": [
      "1    a\n",
      "2    b\n",
      "3    c\n",
      "4    d\n",
      "5    e\n",
      "dtype: object\n"
     ]
    }
   ],
   "source": [
    "# Write your solution here\n",
    "\n",
    "# YOUR CODE HERE\n",
    "series_1 = pd.Series(data=['a', 'b', 'c', 'd', 'e'], index=[1 ,2, 3, 4, 5])\n",
    "print(series_1)"
   ]
  },
  {
   "cell_type": "code",
   "execution_count": 85,
   "metadata": {
    "deletable": false,
    "editable": false,
    "nbgrader": {
     "cell_type": "code",
     "checksum": "e1c16b8f77b11102a49e245d91a5b53c",
     "grade": true,
     "grade_id": "q1-1-series",
     "locked": true,
     "points": 2,
     "schema_version": 3,
     "solution": false,
     "task": false
    }
   },
   "outputs": [],
   "source": [
    "# Testing Cell (Do NOT modify this cell)"
   ]
  },
  {
   "cell_type": "markdown",
   "metadata": {},
   "source": [
    "#### Question 02 &nbsp;&nbsp;&nbsp;&nbsp;&nbsp;&nbsp;(2 Points)\n",
    "\n",
    "Create a pandas Series named `series_2` with a default index and the values:\n",
    "```python\n",
    "'data', 'python', 'science', 'machine', 'learning'\n",
    "```"
   ]
  },
  {
   "cell_type": "code",
   "execution_count": 86,
   "metadata": {
    "deletable": false,
    "nbgrader": {
     "cell_type": "code",
     "checksum": "43e7c08b2bba22f2290b849253be95d8",
     "grade": false,
     "grade_id": "q2",
     "locked": false,
     "schema_version": 3,
     "solution": true,
     "task": false
    }
   },
   "outputs": [
    {
     "name": "stdout",
     "output_type": "stream",
     "text": [
      "0        data\n",
      "1      python\n",
      "2     science\n",
      "3     machine\n",
      "4    learning\n",
      "dtype: object\n"
     ]
    }
   ],
   "source": [
    "# Write your solution here\n",
    "\n",
    "# YOUR CODE HERE\n",
    "series_2 = pd.Series(data=['data', 'python', 'science', 'machine', 'learning'])\n",
    "print(series_2)"
   ]
  },
  {
   "cell_type": "code",
   "execution_count": 87,
   "metadata": {
    "deletable": false,
    "editable": false,
    "nbgrader": {
     "cell_type": "code",
     "checksum": "8277c1825e0a6716bfa1a3dd70720ec3",
     "grade": true,
     "grade_id": "q2-1-string-series",
     "locked": true,
     "points": 2,
     "schema_version": 3,
     "solution": false,
     "task": false
    }
   },
   "outputs": [],
   "source": [
    "# Testing Cell (Do NOT modify this cell)"
   ]
  },
  {
   "cell_type": "markdown",
   "metadata": {},
   "source": [
    "#### Question 03 &nbsp;&nbsp;&nbsp;&nbsp;&nbsp;&nbsp;(2 Points)\n",
    "\n",
    "Create a pandas Series named `series_3` from the `np.array` variable supplied below with an index of the uppercase alphabet 'A' to 'Z'."
   ]
  },
  {
   "cell_type": "code",
   "execution_count": 88,
   "metadata": {
    "deletable": false,
    "editable": false,
    "nbgrader": {
     "cell_type": "code",
     "checksum": "bed710ba4edcb033a0e7984b13d77240",
     "grade": false,
     "grade_id": "cell-aa26ee757f8fb61f",
     "locked": true,
     "schema_version": 3,
     "solution": false,
     "task": false
    },
    "tags": []
   },
   "outputs": [],
   "source": [
    "array = np.array([ 7, 59, 42, 13, 67, 19, 26, 59, 99, 97, 77,  1, 36, 49, 10, 51, 41,\n",
    "       73, 33, 79, 19, 34, 84, 11, 41, 75])"
   ]
  },
  {
   "cell_type": "code",
   "execution_count": 89,
   "metadata": {
    "deletable": false,
    "nbgrader": {
     "cell_type": "code",
     "checksum": "47e3c47f174a3538a2caaf1d19e4f575",
     "grade": false,
     "grade_id": "q3",
     "locked": false,
     "schema_version": 3,
     "solution": true,
     "task": false
    },
    "tags": []
   },
   "outputs": [
    {
     "name": "stdout",
     "output_type": "stream",
     "text": [
      "A     7\n",
      "B    59\n",
      "C    42\n",
      "D    13\n",
      "E    67\n",
      "F    19\n",
      "G    26\n",
      "H    59\n",
      "I    99\n",
      "J    97\n",
      "K    77\n",
      "L     1\n",
      "M    36\n",
      "N    49\n",
      "O    10\n",
      "P    51\n",
      "Q    41\n",
      "R    73\n",
      "S    33\n",
      "T    79\n",
      "U    19\n",
      "V    34\n",
      "W    84\n",
      "X    11\n",
      "Y    41\n",
      "Z    75\n",
      "dtype: int64\n"
     ]
    }
   ],
   "source": [
    "# Write your solution here\n",
    "\n",
    "# YOUR CODE HERE\n",
    "series_3 = pd.Series(data=array, index=list(string.ascii_uppercase))\n",
    "print(series_3)"
   ]
  },
  {
   "cell_type": "code",
   "execution_count": 90,
   "metadata": {
    "deletable": false,
    "editable": false,
    "nbgrader": {
     "cell_type": "code",
     "checksum": "49e358d1a5c414a69349a10af0041cdd",
     "grade": true,
     "grade_id": "q3-1-from-array",
     "locked": true,
     "points": 2,
     "schema_version": 3,
     "solution": false,
     "task": false
    },
    "tags": []
   },
   "outputs": [],
   "source": [
    "# Testing Cell (Do NOT modify this cell)"
   ]
  },
  {
   "cell_type": "markdown",
   "metadata": {},
   "source": [
    "#### Question 04 &nbsp;&nbsp;&nbsp;&nbsp;&nbsp;&nbsp;(4 Points)\n",
    "\n",
    "Copy the Series above (`series_3`) to a new object named `series_4` and assign an index of the lowercase alphabet 'a' to 'z'. The first value of `series_4` should be assigned the value `100` while `series_3` must remain unchanged."
   ]
  },
  {
   "cell_type": "code",
   "execution_count": 91,
   "metadata": {
    "deletable": false,
    "nbgrader": {
     "cell_type": "code",
     "checksum": "8e44eec03aea1735226d35be43969550",
     "grade": false,
     "grade_id": "q4",
     "locked": false,
     "schema_version": 3,
     "solution": true,
     "task": false
    },
    "tags": []
   },
   "outputs": [
    {
     "name": "stdout",
     "output_type": "stream",
     "text": [
      "a    100\n",
      "b     59\n",
      "c     42\n",
      "d     13\n",
      "e     67\n",
      "f     19\n",
      "g     26\n",
      "h     59\n",
      "i     99\n",
      "j     97\n",
      "k     77\n",
      "l      1\n",
      "m     36\n",
      "n     49\n",
      "o     10\n",
      "p     51\n",
      "q     41\n",
      "r     73\n",
      "s     33\n",
      "t     79\n",
      "u     19\n",
      "v     34\n",
      "w     84\n",
      "x     11\n",
      "y     41\n",
      "z     75\n",
      "dtype: int64\n"
     ]
    }
   ],
   "source": [
    "# Write your solution here\n",
    "\n",
    "# YOUR CODE HERE\n",
    "series_4 = series_3.copy()\n",
    "series_4.index = list(string.ascii_lowercase)\n",
    "series_4.iloc[0] = 100\n",
    "print(series_4)"
   ]
  },
  {
   "cell_type": "code",
   "execution_count": 92,
   "metadata": {
    "deletable": false,
    "editable": false,
    "nbgrader": {
     "cell_type": "code",
     "checksum": "7e657783ab2fc3c91ca7891b3da98092",
     "grade": true,
     "grade_id": "q4-1-copy",
     "locked": true,
     "points": 4,
     "schema_version": 3,
     "solution": false,
     "task": false
    }
   },
   "outputs": [],
   "source": [
    "# Testing Cell (Do NOT modify this cell)"
   ]
  },
  {
   "cell_type": "markdown",
   "metadata": {},
   "source": [
    "#### Question 05 &nbsp;&nbsp;&nbsp;&nbsp;&nbsp;&nbsp;(4 Points)\n",
    "\n",
    "Given a pandas Series of the integers from 1 to 4 named `series_5`, transform this series into a series of floats and set the name of the series to be `'Float data'`.\n",
    "\n",
    "\n",
    "---\n",
    "<details>\n",
    "  <summary><span style=\"color:blue\">Finding documentation on attributes and methods</span></summary>\n",
    "    It's <strong>essential</strong> to be able to use the pandas API reference to discover details of the pandas classes (Series, DataFrame, Index etc). You can find how to set the data type and Series name here:\n",
    "    <a href=\"https://pandas.pydata.org/docs/reference/index.html\">API reference</a>\n",
    "</details>"
   ]
  },
  {
   "cell_type": "code",
   "execution_count": 149,
   "metadata": {
    "deletable": false,
    "nbgrader": {
     "cell_type": "code",
     "checksum": "3a6996861576cf0d89001665dcc34594",
     "grade": false,
     "grade_id": "q5",
     "locked": false,
     "schema_version": 3,
     "solution": true,
     "task": false
    },
    "tags": []
   },
   "outputs": [
    {
     "name": "stdout",
     "output_type": "stream",
     "text": [
      "0    1.0\n",
      "1    2.0\n",
      "2    3.0\n",
      "3    4.0\n",
      "Name: Float data, dtype: float64\n"
     ]
    }
   ],
   "source": [
    "series_5 = pd.Series(['1','2','3','4'])\n",
    "\n",
    "# Write your solution here\n",
    "\n",
    "# YOUR CODE HERE\n",
    "series_5 = series_5.astype('float')\n",
    "series_5.name = 'Float data'\n",
    "print(series_5)"
   ]
  },
  {
   "cell_type": "code",
   "execution_count": 94,
   "metadata": {
    "deletable": false,
    "editable": false,
    "nbgrader": {
     "cell_type": "code",
     "checksum": "e48468623a080dfbc590ad609ecdb6a7",
     "grade": true,
     "grade_id": "q5-1-to-floats",
     "locked": true,
     "points": 4,
     "schema_version": 3,
     "solution": false,
     "task": false
    },
    "tags": []
   },
   "outputs": [],
   "source": [
    "# Testing Cell (Do NOT modify this cell)"
   ]
  },
  {
   "cell_type": "markdown",
   "metadata": {
    "tags": []
   },
   "source": [
    "#### Question 06 &nbsp;&nbsp;&nbsp;&nbsp;&nbsp;&nbsp;(4 Points)\n",
    "\n",
    "Create a Series with name `series_6` that contains all values greater than 50 in the NumPy `array` from Question 3. You should rely on NumPy filtering to sift these values.\n",
    "\n",
    "\n",
    "---\n",
    "<details>\n",
    "  <summary><span style=\"color:blue\">Filtering NumPy arrays</span></summary>\n",
    "One powerful NumPy concept is to filter the contents of an array according to a mask. Consider our `array` example and wishing to find which elements are \"mod 2\". We can form a boolean mask like this:\n",
    "<pre>\n",
    "\n",
    "print ([array % 2 == 0])\n",
    "[array([False, False,  True, False, False, False,  True, False, False,\n",
    "        False, False, False,  True, False,  True, False, False, False,\n",
    "        False, False, False,  True,  True, False, False, False])]     \n",
    "</pre>        \n",
    "or obtain the values as\n",
    "<pre>\n",
    "print (array[array % 2 == 0])\n",
    "[42 26 36 10 34 84]\n",
    "\n",
    "</pre>\n",
    "This is explained in the course readings <a href=\"https://ebookcentral.proquest.com/lib/adelaide/reader.action?docID=5446042&ppg=66\">on page 58 of Hands-On Data Analysis with NumPy and Pandas : Implement Python Packages from Data Manipulation to Processing</a>.\n",
    "</details>"
   ]
  },
  {
   "cell_type": "code",
   "execution_count": 95,
   "metadata": {
    "deletable": false,
    "nbgrader": {
     "cell_type": "code",
     "checksum": "02b4715bdf7d63a5f176212713595412",
     "grade": false,
     "grade_id": "q6",
     "locked": false,
     "schema_version": 3,
     "solution": true,
     "task": false
    },
    "tags": []
   },
   "outputs": [
    {
     "name": "stdout",
     "output_type": "stream",
     "text": [
      "0     59\n",
      "1     67\n",
      "2     59\n",
      "3     99\n",
      "4     97\n",
      "5     77\n",
      "6     51\n",
      "7     73\n",
      "8     79\n",
      "9     84\n",
      "10    75\n",
      "dtype: int64\n"
     ]
    }
   ],
   "source": [
    "# Write your solution here\n",
    "\n",
    "# YOUR CODE HERE\n",
    "series_6 = pd.Series(data=array[array > 50])\n",
    "print(series_6)"
   ]
  },
  {
   "cell_type": "code",
   "execution_count": 96,
   "metadata": {
    "deletable": false,
    "editable": false,
    "nbgrader": {
     "cell_type": "code",
     "checksum": "083b977869e5bb667be6ab38254d2910",
     "grade": true,
     "grade_id": "q6-1-greater-than-50",
     "locked": true,
     "points": 4,
     "schema_version": 3,
     "solution": false,
     "task": false
    }
   },
   "outputs": [],
   "source": [
    "# Testing Cell (Do NOT modify this cell)"
   ]
  },
  {
   "cell_type": "markdown",
   "metadata": {},
   "source": [
    "#### Question 07 &nbsp;&nbsp;&nbsp;&nbsp;&nbsp;&nbsp;(4 Points)\n",
    "\n",
    "Create a Series of floats that represents the values of the `array` in Question 3 where:\n",
    "- the value divides evenly by 3 (\"mod 3\"), and\n",
    "- the stored value is one sixth or the original value. \n",
    "Assign this Series to the variable `series_7`. Again, you should be looking to harness the featues of NumPy and pandas to create your Series.\n",
    "\n",
    "For example, given an array with values:\n",
    "```python\n",
    "7, 6, 9\n",
    "```\n",
    "then `series_7` would be a pandas Series of:\n",
    "```python\n",
    "1.0, 1.5\n",
    "```"
   ]
  },
  {
   "cell_type": "code",
   "execution_count": 97,
   "metadata": {
    "deletable": false,
    "nbgrader": {
     "cell_type": "code",
     "checksum": "3feeed91deeb296138f9c269c2611025",
     "grade": false,
     "grade_id": "q7",
     "locked": false,
     "schema_version": 3,
     "solution": true,
     "task": false
    },
    "tags": []
   },
   "outputs": [
    {
     "name": "stdout",
     "output_type": "stream",
     "text": [
      "0     7.0\n",
      "1    16.5\n",
      "2     6.0\n",
      "3     8.5\n",
      "4     5.5\n",
      "5    14.0\n",
      "6    12.5\n",
      "dtype: float64\n"
     ]
    }
   ],
   "source": [
    "# Write your solution here\n",
    "\n",
    "# YOUR CODE HERE\n",
    "series_7 = pd.Series(data=array[array%3 == 0]/6)\n",
    "print(series_7)"
   ]
  },
  {
   "cell_type": "code",
   "execution_count": 98,
   "metadata": {
    "deletable": false,
    "editable": false,
    "nbgrader": {
     "cell_type": "code",
     "checksum": "62c1b9eb1e0c1370f129a5ad5239f6fd",
     "grade": true,
     "grade_id": "q7-1-div-by-5",
     "locked": true,
     "points": 4,
     "schema_version": 3,
     "solution": false,
     "task": false
    },
    "tags": []
   },
   "outputs": [],
   "source": [
    "# Testing Cell (Do NOT modify this cell)"
   ]
  },
  {
   "cell_type": "markdown",
   "metadata": {},
   "source": [
    "#### Question 08 &nbsp;&nbsp;&nbsp;&nbsp;&nbsp;&nbsp;(4 Points)\n",
    "\n",
    "Given the mixed type dictionary `mixed_data` below, create a pandas DataFrame from that data and assign it to a variable named `dataframe_8`.\n",
    "\n",
    "---\n",
    "<details>\n",
    "  <summary><span style=\"color:blue\">New pandas classes...</span></summary>\n",
    "   Please refer to the <a href=\"https://pandas.pydata.org/docs/reference/index.html\">API reference</a> to obtain details on any pandas classes that you have not yet encountered.\n",
    "</details>"
   ]
  },
  {
   "cell_type": "code",
   "execution_count": 99,
   "metadata": {
    "deletable": false,
    "editable": false,
    "nbgrader": {
     "cell_type": "code",
     "checksum": "3ffd158f600dbd2a3721acd92d5eba4c",
     "grade": false,
     "grade_id": "cell-dbbcf62c05e7ac6b",
     "locked": true,
     "schema_version": 3,
     "solution": false,
     "task": false
    },
    "tags": []
   },
   "outputs": [],
   "source": [
    "mixed_data={\n",
    "    \"A\": 42.0,\n",
    "    \"B\": pd.Timestamp(\"20220704\"),\n",
    "    \"C\": pd.Series(1, index=list(range(4)), dtype=\"float32\"),\n",
    "    \"D\": np.array([3] * 4, dtype=\"int32\"),\n",
    "    \"E\": pd.Categorical([\"test\", \"train\", \"test\", \"train\"]),\n",
    "    \"F\": \"foundations of computer science\",\n",
    "}"
   ]
  },
  {
   "cell_type": "code",
   "execution_count": 100,
   "metadata": {
    "deletable": false,
    "nbgrader": {
     "cell_type": "code",
     "checksum": "58db537f70a4f2bc6f0940b7727e3710",
     "grade": false,
     "grade_id": "cell-7100q8b41aad77103f",
     "locked": false,
     "schema_version": 3,
     "solution": true,
     "task": false
    },
    "tags": []
   },
   "outputs": [
    {
     "name": "stdout",
     "output_type": "stream",
     "text": [
      "      A          B    C  D      E                                F\n",
      "0  42.0 2022-07-04  1.0  3   test  foundations of computer science\n",
      "1  42.0 2022-07-04  1.0  3  train  foundations of computer science\n",
      "2  42.0 2022-07-04  1.0  3   test  foundations of computer science\n",
      "3  42.0 2022-07-04  1.0  3  train  foundations of computer science\n"
     ]
    }
   ],
   "source": [
    "# Write your solution here\n",
    "\n",
    "# YOUR CODE HERE\n",
    "dataframe_8 = pd.DataFrame(mixed_data)\n",
    "print(dataframe_8)"
   ]
  },
  {
   "cell_type": "code",
   "execution_count": 101,
   "metadata": {
    "deletable": false,
    "editable": false,
    "nbgrader": {
     "cell_type": "code",
     "checksum": "4edcb90c961c0d8bffbb097563ef31b6",
     "grade": true,
     "grade_id": "q8-1-mixed-df",
     "locked": true,
     "points": 4,
     "schema_version": 3,
     "solution": false,
     "task": false
    },
    "tags": []
   },
   "outputs": [],
   "source": [
    "# Testing Cell (Do NOT modify this cell)"
   ]
  },
  {
   "cell_type": "markdown",
   "metadata": {},
   "source": [
    "#### Question 09 &nbsp;&nbsp;&nbsp;&nbsp;&nbsp;&nbsp;(4 Points)\n",
    "\n",
    "In Question 8, we created a DataFrame with 6 columns. Create a series called `series_9` with values that reflect the **data type** of each column in `dataframe_8` and an index consisting of the column labels. Set the `name` attribute of this series to `'Column Types'`."
   ]
  },
  {
   "cell_type": "code",
   "execution_count": 102,
   "metadata": {
    "deletable": false,
    "nbgrader": {
     "cell_type": "code",
     "checksum": "b10ea41487c46513420a20c142b6c9f1",
     "grade": false,
     "grade_id": "q9",
     "locked": false,
     "schema_version": 3,
     "solution": true,
     "task": false
    },
    "tags": []
   },
   "outputs": [
    {
     "name": "stdout",
     "output_type": "stream",
     "text": [
      "A          float64\n",
      "B    datetime64[s]\n",
      "C          float32\n",
      "D            int32\n",
      "E         category\n",
      "F           object\n",
      "Name: Column Types, dtype: object\n"
     ]
    }
   ],
   "source": [
    "# Write your solution here\n",
    "\n",
    "# YOUR CODE HERE\n",
    "series_9 = pd.Series(dataframe_8.dtypes, name='Column Types')\n",
    "print(series_9)"
   ]
  },
  {
   "cell_type": "code",
   "execution_count": 103,
   "metadata": {
    "deletable": false,
    "editable": false,
    "nbgrader": {
     "cell_type": "code",
     "checksum": "75e57ce666c134bf3cc3567aaeb79297",
     "grade": true,
     "grade_id": "q9-1-df",
     "locked": true,
     "points": 4,
     "schema_version": 3,
     "solution": false,
     "task": false
    }
   },
   "outputs": [],
   "source": [
    "# Testing Cell (Do NOT modify this cell)\n"
   ]
  },
  {
   "cell_type": "markdown",
   "metadata": {
    "tags": []
   },
   "source": [
    "#### Question 10 &nbsp;&nbsp;&nbsp;&nbsp;&nbsp;&nbsp;(5 Points)\n",
    "\n",
    "Given a dictionary called `pricing` (below), create a DataFrame that contains only \"object\" and \"colour\" elements in that order and with column names of \"object\" and \"colour\". Assign this DataFrame to the variable `dataframe_10`."
   ]
  },
  {
   "cell_type": "code",
   "execution_count": 104,
   "metadata": {
    "deletable": false,
    "nbgrader": {
     "cell_type": "code",
     "checksum": "87fe47e0a4aecfcabecd236f8c93a7e5",
     "grade": false,
     "grade_id": "q10",
     "locked": false,
     "schema_version": 3,
     "solution": true,
     "task": false
    },
    "tags": []
   },
   "outputs": [
    {
     "name": "stdout",
     "output_type": "stream",
     "text": [
      "   object  colour\n",
      "0    ball    blue\n",
      "1     pen   green\n",
      "2  pencil  yellow\n",
      "3   paper     red\n",
      "4     mug   white\n"
     ]
    }
   ],
   "source": [
    "pricing = {'colour' : ['blue','green','yellow','red','white'],\n",
    "        'object' : ['ball','pen','pencil','paper','mug'],\n",
    "        'price' : [1.2,1.0,0.6,0.9,1.7]}\n",
    "\n",
    "# Write your solution here\n",
    "\n",
    "# YOUR CODE HERE\n",
    "dataframe_10 = pd.DataFrame(data={'object': pricing['object'], 'colour': pricing['colour']})\n",
    "print(dataframe_10)"
   ]
  },
  {
   "cell_type": "code",
   "execution_count": 105,
   "metadata": {
    "deletable": false,
    "editable": false,
    "nbgrader": {
     "cell_type": "code",
     "checksum": "be617093479fc39f2f26b1479b025234",
     "grade": true,
     "grade_id": "q10-1-object-colour",
     "locked": true,
     "points": 5,
     "schema_version": 3,
     "solution": false,
     "task": false
    },
    "tags": []
   },
   "outputs": [],
   "source": [
    "# Testing Cell (Do NOT modify this cell)\n"
   ]
  },
  {
   "cell_type": "markdown",
   "metadata": {},
   "source": [
    "#### Question 11 &nbsp;&nbsp;&nbsp;&nbsp;&nbsp;&nbsp;(5 Points)\n",
    "\n",
    "Create a DataFrame, `dataframe_11`, that is a copy of `dataframe_10` but with the index:\n",
    "```python\n",
    "  'one', 'two', 'three', 'four', 'five'\n",
    "```\n",
    "Change the colour of the mug from `'white'` to `'black'`. `dataframe_10` should not be changed."
   ]
  },
  {
   "cell_type": "code",
   "execution_count": 127,
   "metadata": {
    "deletable": false,
    "nbgrader": {
     "cell_type": "code",
     "checksum": "68b9aaf42cdb5b314c623544efd18f7a",
     "grade": false,
     "grade_id": "q11",
     "locked": false,
     "schema_version": 3,
     "solution": true,
     "task": false
    },
    "tags": []
   },
   "outputs": [
    {
     "name": "stdout",
     "output_type": "stream",
     "text": [
      "       object  colour\n",
      "one      ball    blue\n",
      "two       pen   green\n",
      "three  pencil  yellow\n",
      "four    paper     red\n",
      "five      mug   black\n"
     ]
    }
   ],
   "source": [
    "# Write your solution here\n",
    "\n",
    "# YOUR CODE HERE\n",
    "dataframe_11 = dataframe_10.copy()\n",
    "dataframe_11.index = ['one', 'two', 'three', 'four', 'five']\n",
    "dataframe_11.loc[dataframe_11['object'] == 'mug', 'colour'] = 'black'\n",
    "print(dataframe_11)"
   ]
  },
  {
   "cell_type": "code",
   "execution_count": 107,
   "metadata": {
    "deletable": false,
    "editable": false,
    "nbgrader": {
     "cell_type": "code",
     "checksum": "7644664d4de6d353855c44f5a7a18b7e",
     "grade": true,
     "grade_id": "q11-1-change-mug-colour",
     "locked": true,
     "points": 5,
     "schema_version": 3,
     "solution": false,
     "task": false
    }
   },
   "outputs": [],
   "source": [
    "# Testing Cell (Do NOT modify this cell)"
   ]
  },
  {
   "cell_type": "markdown",
   "metadata": {},
   "source": [
    "#### Question 12 &nbsp;&nbsp;&nbsp;&nbsp;&nbsp;&nbsp;(5 Points)\n",
    "\n",
    "Download the file `weather-utf8.csv` from the MyUni assignment page for this practical and co-locate the file with this notebook. This file contains weather station data from the Australian Bureau of Meteorology for dates in January 2022. Data includes temperature, wind and rainfall information.\n",
    "\n",
    "Load the file into a DataFrame called `dataframe_12` and set the index for this dataframe to be the 'Date'.\n",
    "\n",
    "---\n",
    "<details>\n",
    "  <summary><span style=\"color:blue\">pandas API Reference for Input/Output</span></summary>\n",
    "   You can find how to read and write a CSV file to a DataFrame here:\n",
    "    <a href=\"https://pandas.pydata.org/docs/reference/io.html\">API reference (Input/Output)</a>\n",
    "</details>\n",
    "\n",
    "---\n",
    "<details>\n",
    "  <summary><span style=\"color:blue\">Help! My index won't stay put?!?</span></summary>\n",
    "   You can find how to set the index of DataFrame \"in place\" here:\n",
    "    <a href=\"https://pandas.pydata.org/docs/reference/api/pandas.DataFrame.set_index.html\">API reference (set_index)</a>\n",
    "</details>"
   ]
  },
  {
   "cell_type": "code",
   "execution_count": 108,
   "metadata": {
    "deletable": false,
    "nbgrader": {
     "cell_type": "code",
     "checksum": "ed611ebec9f33f0ba5922a61998b6126",
     "grade": false,
     "grade_id": "q12",
     "locked": false,
     "schema_version": 3,
     "solution": true,
     "task": false
    },
    "tags": []
   },
   "outputs": [
    {
     "name": "stdout",
     "output_type": "stream",
     "text": [
      "         Minimum temperature (C)  Maximum temperature (C)  Rainfall (mm)  \\\n",
      "Date                                                                       \n",
      "1/1/22                      22.5                     33.6            0.0   \n",
      "2/1/22                      19.3                     30.6            0.0   \n",
      "3/1/22                      14.1                     25.9            0.0   \n",
      "4/1/22                      14.2                     24.4            0.0   \n",
      "5/1/22                      14.4                     21.5            0.0   \n",
      "6/1/22                      15.8                     22.3            0.0   \n",
      "7/1/22                      16.6                     21.0            1.6   \n",
      "8/1/22                      16.0                     24.4            1.6   \n",
      "9/1/22                      11.7                     31.7            0.0   \n",
      "10/1/22                     19.8                     37.0            0.0   \n",
      "11/1/22                     27.2                     40.3            0.0   \n",
      "12/1/22                     19.2                     28.9            0.0   \n",
      "13/1/22                     17.6                     25.2            0.0   \n",
      "14/1/22                     17.8                     23.8            0.0   \n",
      "15/1/22                     14.5                     26.7            0.0   \n",
      "16/1/22                     16.9                     28.6            0.0   \n",
      "17/1/22                     16.4                     25.6            0.0   \n",
      "18/1/22                     15.1                     25.0            0.0   \n",
      "19/1/22                     14.2                     29.8            0.0   \n",
      "20/1/22                     18.9                     35.1            0.0   \n",
      "21/1/22                     25.7                     33.7            0.0   \n",
      "22/1/22                     22.8                     26.3            0.6   \n",
      "23/1/22                     21.1                     25.9           22.8   \n",
      "24/1/22                     20.5                     30.1           17.0   \n",
      "25/1/22                     24.2                     31.7            0.2   \n",
      "26/1/22                     21.8                     34.1            0.0   \n",
      "27/1/22                     22.0                     34.4           14.2   \n",
      "28/1/22                     21.7                     26.8            0.2   \n",
      "29/1/22                     18.0                     28.5            0.0   \n",
      "30/1/22                     17.4                     32.8            0.0   \n",
      "31/1/22                     18.7                     35.2            0.0   \n",
      "\n",
      "        Direction of maximum wind gust  Speed of maximum wind gust (km/h)  \\\n",
      "Date                                                                        \n",
      "1/1/22                              SW                                 30   \n",
      "2/1/22                              SW                                 35   \n",
      "3/1/22                               S                                 37   \n",
      "4/1/22                              SE                                 41   \n",
      "5/1/22                               S                                 37   \n",
      "6/1/22                              SW                                 39   \n",
      "7/1/22                              SW                                 43   \n",
      "8/1/22                              SW                                 31   \n",
      "9/1/22                             WNW                                 24   \n",
      "10/1/22                              E                                 52   \n",
      "11/1/22                              E                                 50   \n",
      "12/1/22                            WSW                                 30   \n",
      "13/1/22                            WSW                                 28   \n",
      "14/1/22                            WSW                                 30   \n",
      "15/1/22                            WSW                                 30   \n",
      "16/1/22                             SW                                 33   \n",
      "17/1/22                             SW                                 35   \n",
      "18/1/22                             SE                                 43   \n",
      "19/1/22                            ESE                                 50   \n",
      "20/1/22                             NE                                 50   \n",
      "21/1/22                             NE                                 44   \n",
      "22/1/22                            ENE                                 44   \n",
      "23/1/22                             NE                                 37   \n",
      "24/1/22                            NNE                                 35   \n",
      "25/1/22                             SW                                 30   \n",
      "26/1/22                             SW                                 26   \n",
      "27/1/22                              N                                 33   \n",
      "28/1/22                             SW                                 44   \n",
      "29/1/22                            SSE                                 35   \n",
      "30/1/22                              W                                 28   \n",
      "31/1/22                            WSW                                 31   \n",
      "\n",
      "        Time of maximum wind gust  \n",
      "Date                               \n",
      "1/1/22                      15:39  \n",
      "2/1/22                      14:01  \n",
      "3/1/22                      17:41  \n",
      "4/1/22                      12:00  \n",
      "5/1/22                      13:23  \n",
      "6/1/22                      19:32  \n",
      "7/1/22                      15:40  \n",
      "8/1/22                      14:35  \n",
      "9/1/22                      13:00  \n",
      "10/1/22                     22:43  \n",
      "11/1/22                      0:32  \n",
      "12/1/22                     15:35  \n",
      "13/1/22                     12:29  \n",
      "14/1/22                     17:20  \n",
      "15/1/22                     14:44  \n",
      "16/1/22                     15:30  \n",
      "17/1/22                     13:34  \n",
      "18/1/22                     20:00  \n",
      "19/1/22                     23:43  \n",
      "20/1/22                     10:20  \n",
      "21/1/22                     10:36  \n",
      "22/1/22                      9:06  \n",
      "23/1/22                     17:29  \n",
      "24/1/22                     11:23  \n",
      "25/1/22                     15:25  \n",
      "26/1/22                     11:30  \n",
      "27/1/22                     23:27  \n",
      "28/1/22                     16:08  \n",
      "29/1/22                     14:52  \n",
      "30/1/22                     13:44  \n",
      "31/1/22                     15:02  \n"
     ]
    }
   ],
   "source": [
    "# Write your solution here\n",
    "\n",
    "# YOUR CODE HERE\n",
    "dataframe_12 = pd.read_csv('weather-utf8.csv')\n",
    "dataframe_12.set_index('Date', inplace=True)\n",
    "print(dataframe_12)"
   ]
  },
  {
   "cell_type": "code",
   "execution_count": 109,
   "metadata": {
    "deletable": false,
    "editable": false,
    "nbgrader": {
     "cell_type": "code",
     "checksum": "e8d98011571b4951ac048922651f92a1",
     "grade": true,
     "grade_id": "q12-1-weather",
     "locked": true,
     "points": 5,
     "schema_version": 3,
     "solution": false,
     "task": false
    },
    "tags": []
   },
   "outputs": [],
   "source": [
    "# Testing Cell (Do NOT modify this cell)\n"
   ]
  },
  {
   "cell_type": "markdown",
   "metadata": {},
   "source": [
    "#### Question 13 &nbsp;&nbsp;&nbsp;&nbsp;&nbsp;&nbsp;(5 Points)\n",
    "\n",
    "Using the data loaded in Question 12, create a pandas DataFrame called `dataframe_13` containing the maximum temperature and the rainfall only on those days when the maximum temperature for the day was greater than 34 degrees."
   ]
  },
  {
   "cell_type": "code",
   "execution_count": 110,
   "metadata": {
    "deletable": false,
    "nbgrader": {
     "cell_type": "code",
     "checksum": "6b61bd2cde810d6e3f8f01d0650ac9b5",
     "grade": false,
     "grade_id": "q13",
     "locked": false,
     "schema_version": 3,
     "solution": true,
     "task": false
    },
    "tags": []
   },
   "outputs": [
    {
     "name": "stdout",
     "output_type": "stream",
     "text": [
      "         Maximum temperature (C)  Rainfall (mm)\n",
      "Date                                           \n",
      "10/1/22                     37.0            0.0\n",
      "11/1/22                     40.3            0.0\n",
      "20/1/22                     35.1            0.0\n",
      "26/1/22                     34.1            0.0\n",
      "27/1/22                     34.4           14.2\n",
      "31/1/22                     35.2            0.0\n"
     ]
    }
   ],
   "source": [
    "# Write your solution here\n",
    "\n",
    "# YOUR CODE HERE\n",
    "dataframe_13 = dataframe_12[dataframe_12['Maximum temperature (C)'] > 34][['Maximum temperature (C)', 'Rainfall (mm)']]\n",
    "print(dataframe_13)"
   ]
  },
  {
   "cell_type": "code",
   "execution_count": 111,
   "metadata": {
    "deletable": false,
    "editable": false,
    "nbgrader": {
     "cell_type": "code",
     "checksum": "21faa98b640226e9ec1c6700ba637997",
     "grade": true,
     "grade_id": "q13-1-max-temp",
     "locked": true,
     "points": 5,
     "schema_version": 3,
     "solution": false,
     "task": false
    },
    "tags": []
   },
   "outputs": [],
   "source": [
    "# Testing Cell (Do NOT modify this cell)"
   ]
  },
  {
   "cell_type": "markdown",
   "metadata": {},
   "source": [
    "#### Question 14 &nbsp;&nbsp;&nbsp;&nbsp;&nbsp;&nbsp;(5 Points)\n",
    "\n",
    "Using the data loaded in Question 12 and with reference to the [pandas API](https://pandas.pydata.org/docs/reference/index.html), create a two value tuple called `mean_14` that holds the mean of the maximum temperature and minimum temperature for the month of January like:\n",
    "```python\n",
    "    (mean_max_temp, mean_min_temp)\n",
    "```"
   ]
  },
  {
   "cell_type": "code",
   "execution_count": 112,
   "metadata": {
    "deletable": false,
    "nbgrader": {
     "cell_type": "code",
     "checksum": "d6064ecb74eb083f743b3efe54286047",
     "grade": false,
     "grade_id": "q14",
     "locked": false,
     "schema_version": 3,
     "solution": true,
     "task": false
    },
    "tags": []
   },
   "outputs": [],
   "source": [
    "# Write your solution here\n",
    "\n",
    "# YOUR CODE HERE\n",
    "max_temp = np.array(dataframe_12['Maximum temperature (C)'])\n",
    "min_temp = np.array(dataframe_12['Minimum temperature (C)'])\n",
    "mean_14 = (max_temp.mean(), min_temp.mean())"
   ]
  },
  {
   "cell_type": "code",
   "execution_count": 113,
   "metadata": {
    "deletable": false,
    "editable": false,
    "nbgrader": {
     "cell_type": "code",
     "checksum": "c49d02e07fba280dc3f209754c36fe15",
     "grade": true,
     "grade_id": "q14-1-means",
     "locked": true,
     "points": 5,
     "schema_version": 3,
     "solution": false,
     "task": false
    }
   },
   "outputs": [],
   "source": [
    "# Testing Cell (Do NOT modify this cell)"
   ]
  },
  {
   "cell_type": "markdown",
   "metadata": {},
   "source": [
    "#### Question 15 &nbsp;&nbsp;&nbsp;&nbsp;&nbsp;&nbsp;(5 Points)\n",
    "\n",
    "Create a DataFrame called `dataframe_15` by duplicating `dataframe_12`. To reflect questionable sensor data when windspeed falls below 28 km/h, set these values (speed of maximum windgust < 28 km/h) to be the Not a Number value `np.nan`."
   ]
  },
  {
   "cell_type": "code",
   "execution_count": 114,
   "metadata": {
    "deletable": false,
    "nbgrader": {
     "cell_type": "code",
     "checksum": "73b0ff0627ecf48aaa61a46b5406b490",
     "grade": false,
     "grade_id": "q15",
     "locked": false,
     "schema_version": 3,
     "solution": true,
     "task": false
    },
    "tags": []
   },
   "outputs": [
    {
     "name": "stdout",
     "output_type": "stream",
     "text": [
      "Date\n",
      "1/1/22     30.0\n",
      "2/1/22     35.0\n",
      "3/1/22     37.0\n",
      "4/1/22     41.0\n",
      "5/1/22     37.0\n",
      "6/1/22     39.0\n",
      "7/1/22     43.0\n",
      "8/1/22     31.0\n",
      "9/1/22      NaN\n",
      "10/1/22    52.0\n",
      "11/1/22    50.0\n",
      "12/1/22    30.0\n",
      "13/1/22    28.0\n",
      "14/1/22    30.0\n",
      "15/1/22    30.0\n",
      "16/1/22    33.0\n",
      "17/1/22    35.0\n",
      "18/1/22    43.0\n",
      "19/1/22    50.0\n",
      "20/1/22    50.0\n",
      "21/1/22    44.0\n",
      "22/1/22    44.0\n",
      "23/1/22    37.0\n",
      "24/1/22    35.0\n",
      "25/1/22    30.0\n",
      "26/1/22     NaN\n",
      "27/1/22    33.0\n",
      "28/1/22    44.0\n",
      "29/1/22    35.0\n",
      "30/1/22    28.0\n",
      "31/1/22    31.0\n",
      "Name: Speed of maximum wind gust (km/h), dtype: float64\n"
     ]
    }
   ],
   "source": [
    "# Write your solution here\n",
    "\n",
    "# YOUR CODE HERE\n",
    "dataframe_15 = dataframe_12.copy()\n",
    "dataframe_15.loc[dataframe_15['Speed of maximum wind gust (km/h)'] < 28, 'Speed of maximum wind gust (km/h)'] = np.nan\n",
    "print(dataframe_15['Speed of maximum wind gust (km/h)'])"
   ]
  },
  {
   "cell_type": "code",
   "execution_count": 115,
   "metadata": {
    "deletable": false,
    "editable": false,
    "nbgrader": {
     "cell_type": "code",
     "checksum": "ad5f56a652ef3bebaf32dc73ded1738e",
     "grade": true,
     "grade_id": "q15-1-bad-data",
     "locked": true,
     "points": 5,
     "schema_version": 3,
     "solution": false,
     "task": false
    }
   },
   "outputs": [],
   "source": [
    "# Testing Cell (Do NOT modify this cell)\n"
   ]
  },
  {
   "cell_type": "markdown",
   "metadata": {},
   "source": [
    "#### Question 16 &nbsp;&nbsp;&nbsp;&nbsp;&nbsp;&nbsp;(5 Points)\n",
    "\n",
    "Calculate the number of times that the maxmium wind gust came from the direction 'NNW' and assign it to the variable `nnw_gust_16`."
   ]
  },
  {
   "cell_type": "code",
   "execution_count": 152,
   "metadata": {
    "deletable": false,
    "nbgrader": {
     "cell_type": "code",
     "checksum": "59391aa47a9b966123901614cae70b1b",
     "grade": false,
     "grade_id": "q16",
     "locked": false,
     "schema_version": 3,
     "solution": true,
     "task": false
    },
    "tags": []
   },
   "outputs": [
    {
     "name": "stdout",
     "output_type": "stream",
     "text": [
      "0\n"
     ]
    }
   ],
   "source": [
    "# Write your solution here\n",
    "\n",
    "# YOUR CODE HERE\n",
    "nnw_gust_16 = dataframe_12['Direction of maximum wind gust'].str.contains('NNW').sum()\n",
    "print(nnw_gust_16)"
   ]
  },
  {
   "cell_type": "code",
   "execution_count": 117,
   "metadata": {
    "deletable": false,
    "editable": false,
    "nbgrader": {
     "cell_type": "code",
     "checksum": "3a9af3f80061720faa64e66f8f615921",
     "grade": true,
     "grade_id": "q16-1-gusts",
     "locked": true,
     "points": 5,
     "schema_version": 3,
     "solution": false,
     "task": false
    }
   },
   "outputs": [],
   "source": [
    "# Testing Cell (Do NOT modify this cell)"
   ]
  },
  {
   "cell_type": "markdown",
   "metadata": {},
   "source": [
    "#### Question 17 &nbsp;&nbsp;&nbsp;&nbsp;&nbsp;&nbsp;(10 Points)\n",
    "\n",
    "Download the file `titanic.csv` from the MyUni assignment page for this practical and co-locate the file with this notebook. This file contains data on the passengers on the Titanic - including an indication of those who lived and died on 14 April 1912 when it sank. Most columns are self-explanatory except the `Pclass`, `SibSp` and `Parch`.\n",
    "\n",
    "Load the CSV file into a DataFrame called `dataframe_17` and amend the title of the column `'Pclass'` to `'Passenger Class'`. Also, delete the columns `SibSp` and `Parch` from the DataFrame. Refer to the [API Reference](https://pandas.pydata.org/docs/reference/index.html) for information on renaming and dropping columns if required - and recall from Question 12 that we must specify \"inplace\" for changes to the DataFrame to persist."
   ]
  },
  {
   "cell_type": "code",
   "execution_count": 118,
   "metadata": {
    "deletable": false,
    "nbgrader": {
     "cell_type": "code",
     "checksum": "cf51cce2822460403b110a8e815892ac",
     "grade": false,
     "grade_id": "q17",
     "locked": false,
     "schema_version": 3,
     "solution": true,
     "task": false
    },
    "tags": []
   },
   "outputs": [
    {
     "data": {
      "text/html": [
       "<div>\n",
       "<style scoped>\n",
       "    .dataframe tbody tr th:only-of-type {\n",
       "        vertical-align: middle;\n",
       "    }\n",
       "\n",
       "    .dataframe tbody tr th {\n",
       "        vertical-align: top;\n",
       "    }\n",
       "\n",
       "    .dataframe thead th {\n",
       "        text-align: right;\n",
       "    }\n",
       "</style>\n",
       "<table border=\"1\" class=\"dataframe\">\n",
       "  <thead>\n",
       "    <tr style=\"text-align: right;\">\n",
       "      <th></th>\n",
       "      <th>PassengerId</th>\n",
       "      <th>Survived</th>\n",
       "      <th>Passenger Class</th>\n",
       "      <th>Name</th>\n",
       "      <th>Sex</th>\n",
       "      <th>Age</th>\n",
       "      <th>Ticket</th>\n",
       "      <th>Fare</th>\n",
       "      <th>Cabin</th>\n",
       "      <th>Embarked</th>\n",
       "    </tr>\n",
       "  </thead>\n",
       "  <tbody>\n",
       "    <tr>\n",
       "      <th>0</th>\n",
       "      <td>1</td>\n",
       "      <td>0</td>\n",
       "      <td>3</td>\n",
       "      <td>Braund, Mr. Owen Harris</td>\n",
       "      <td>male</td>\n",
       "      <td>22.0</td>\n",
       "      <td>A/5 21171</td>\n",
       "      <td>7.2500</td>\n",
       "      <td>NaN</td>\n",
       "      <td>S</td>\n",
       "    </tr>\n",
       "    <tr>\n",
       "      <th>1</th>\n",
       "      <td>2</td>\n",
       "      <td>1</td>\n",
       "      <td>1</td>\n",
       "      <td>Cumings, Mrs. John Bradley (Florence Briggs Th...</td>\n",
       "      <td>female</td>\n",
       "      <td>38.0</td>\n",
       "      <td>PC 17599</td>\n",
       "      <td>71.2833</td>\n",
       "      <td>C85</td>\n",
       "      <td>C</td>\n",
       "    </tr>\n",
       "    <tr>\n",
       "      <th>2</th>\n",
       "      <td>3</td>\n",
       "      <td>1</td>\n",
       "      <td>3</td>\n",
       "      <td>Heikkinen, Miss. Laina</td>\n",
       "      <td>female</td>\n",
       "      <td>26.0</td>\n",
       "      <td>STON/O2. 3101282</td>\n",
       "      <td>7.9250</td>\n",
       "      <td>NaN</td>\n",
       "      <td>S</td>\n",
       "    </tr>\n",
       "    <tr>\n",
       "      <th>3</th>\n",
       "      <td>4</td>\n",
       "      <td>1</td>\n",
       "      <td>1</td>\n",
       "      <td>Futrelle, Mrs. Jacques Heath (Lily May Peel)</td>\n",
       "      <td>female</td>\n",
       "      <td>35.0</td>\n",
       "      <td>113803</td>\n",
       "      <td>53.1000</td>\n",
       "      <td>C123</td>\n",
       "      <td>S</td>\n",
       "    </tr>\n",
       "    <tr>\n",
       "      <th>4</th>\n",
       "      <td>5</td>\n",
       "      <td>0</td>\n",
       "      <td>3</td>\n",
       "      <td>Allen, Mr. William Henry</td>\n",
       "      <td>male</td>\n",
       "      <td>35.0</td>\n",
       "      <td>373450</td>\n",
       "      <td>8.0500</td>\n",
       "      <td>NaN</td>\n",
       "      <td>S</td>\n",
       "    </tr>\n",
       "    <tr>\n",
       "      <th>...</th>\n",
       "      <td>...</td>\n",
       "      <td>...</td>\n",
       "      <td>...</td>\n",
       "      <td>...</td>\n",
       "      <td>...</td>\n",
       "      <td>...</td>\n",
       "      <td>...</td>\n",
       "      <td>...</td>\n",
       "      <td>...</td>\n",
       "      <td>...</td>\n",
       "    </tr>\n",
       "    <tr>\n",
       "      <th>886</th>\n",
       "      <td>887</td>\n",
       "      <td>0</td>\n",
       "      <td>2</td>\n",
       "      <td>Montvila, Rev. Juozas</td>\n",
       "      <td>male</td>\n",
       "      <td>27.0</td>\n",
       "      <td>211536</td>\n",
       "      <td>13.0000</td>\n",
       "      <td>NaN</td>\n",
       "      <td>S</td>\n",
       "    </tr>\n",
       "    <tr>\n",
       "      <th>887</th>\n",
       "      <td>888</td>\n",
       "      <td>1</td>\n",
       "      <td>1</td>\n",
       "      <td>Graham, Miss. Margaret Edith</td>\n",
       "      <td>female</td>\n",
       "      <td>19.0</td>\n",
       "      <td>112053</td>\n",
       "      <td>30.0000</td>\n",
       "      <td>B42</td>\n",
       "      <td>S</td>\n",
       "    </tr>\n",
       "    <tr>\n",
       "      <th>888</th>\n",
       "      <td>889</td>\n",
       "      <td>0</td>\n",
       "      <td>3</td>\n",
       "      <td>Johnston, Miss. Catherine Helen \"Carrie\"</td>\n",
       "      <td>female</td>\n",
       "      <td>NaN</td>\n",
       "      <td>W./C. 6607</td>\n",
       "      <td>23.4500</td>\n",
       "      <td>NaN</td>\n",
       "      <td>S</td>\n",
       "    </tr>\n",
       "    <tr>\n",
       "      <th>889</th>\n",
       "      <td>890</td>\n",
       "      <td>1</td>\n",
       "      <td>1</td>\n",
       "      <td>Behr, Mr. Karl Howell</td>\n",
       "      <td>male</td>\n",
       "      <td>26.0</td>\n",
       "      <td>111369</td>\n",
       "      <td>30.0000</td>\n",
       "      <td>C148</td>\n",
       "      <td>C</td>\n",
       "    </tr>\n",
       "    <tr>\n",
       "      <th>890</th>\n",
       "      <td>891</td>\n",
       "      <td>0</td>\n",
       "      <td>3</td>\n",
       "      <td>Dooley, Mr. Patrick</td>\n",
       "      <td>male</td>\n",
       "      <td>32.0</td>\n",
       "      <td>370376</td>\n",
       "      <td>7.7500</td>\n",
       "      <td>NaN</td>\n",
       "      <td>Q</td>\n",
       "    </tr>\n",
       "  </tbody>\n",
       "</table>\n",
       "<p>891 rows × 10 columns</p>\n",
       "</div>"
      ],
      "text/plain": [
       "     PassengerId  Survived  Passenger Class  \\\n",
       "0              1         0                3   \n",
       "1              2         1                1   \n",
       "2              3         1                3   \n",
       "3              4         1                1   \n",
       "4              5         0                3   \n",
       "..           ...       ...              ...   \n",
       "886          887         0                2   \n",
       "887          888         1                1   \n",
       "888          889         0                3   \n",
       "889          890         1                1   \n",
       "890          891         0                3   \n",
       "\n",
       "                                                  Name     Sex   Age  \\\n",
       "0                              Braund, Mr. Owen Harris    male  22.0   \n",
       "1    Cumings, Mrs. John Bradley (Florence Briggs Th...  female  38.0   \n",
       "2                               Heikkinen, Miss. Laina  female  26.0   \n",
       "3         Futrelle, Mrs. Jacques Heath (Lily May Peel)  female  35.0   \n",
       "4                             Allen, Mr. William Henry    male  35.0   \n",
       "..                                                 ...     ...   ...   \n",
       "886                              Montvila, Rev. Juozas    male  27.0   \n",
       "887                       Graham, Miss. Margaret Edith  female  19.0   \n",
       "888           Johnston, Miss. Catherine Helen \"Carrie\"  female   NaN   \n",
       "889                              Behr, Mr. Karl Howell    male  26.0   \n",
       "890                                Dooley, Mr. Patrick    male  32.0   \n",
       "\n",
       "               Ticket     Fare Cabin Embarked  \n",
       "0           A/5 21171   7.2500   NaN        S  \n",
       "1            PC 17599  71.2833   C85        C  \n",
       "2    STON/O2. 3101282   7.9250   NaN        S  \n",
       "3              113803  53.1000  C123        S  \n",
       "4              373450   8.0500   NaN        S  \n",
       "..                ...      ...   ...      ...  \n",
       "886            211536  13.0000   NaN        S  \n",
       "887            112053  30.0000   B42        S  \n",
       "888        W./C. 6607  23.4500   NaN        S  \n",
       "889            111369  30.0000  C148        C  \n",
       "890            370376   7.7500   NaN        Q  \n",
       "\n",
       "[891 rows x 10 columns]"
      ]
     },
     "execution_count": 118,
     "metadata": {},
     "output_type": "execute_result"
    }
   ],
   "source": [
    "# Write your solution here\n",
    "\n",
    "# YOUR CODE HERE\n",
    "dataframe_17 = pd.read_csv('titanic.csv')\n",
    "dataframe_17.rename(columns={'Pclass': 'Passenger Class'}, inplace=True)\n",
    "dataframe_17.drop(columns=['SibSp', 'Parch'], inplace=True)\n",
    "dataframe_17"
   ]
  },
  {
   "cell_type": "code",
   "execution_count": 119,
   "metadata": {
    "deletable": false,
    "editable": false,
    "nbgrader": {
     "cell_type": "code",
     "checksum": "ad031ed11530c1f1ef68ff43b0ce1098",
     "grade": true,
     "grade_id": "q17-1-titanic",
     "locked": true,
     "points": 10,
     "schema_version": 3,
     "solution": false,
     "task": false
    }
   },
   "outputs": [],
   "source": [
    "# Testing Cell (Do NOT modify this cell)"
   ]
  },
  {
   "cell_type": "markdown",
   "metadata": {},
   "source": [
    "#### Question 18 &nbsp;&nbsp;&nbsp;&nbsp;&nbsp;&nbsp;(10 Points)\n",
    "\n",
    "The column `'Survived'` uses 1 and 0 to indicate whether the passenger survived. Create a `dataframe_18` which is a copy of `dataframe_17` and replaces 1 and 0 in the `'Survived'` column with the Python values `True` and `False`."
   ]
  },
  {
   "cell_type": "code",
   "execution_count": 122,
   "metadata": {
    "deletable": false,
    "nbgrader": {
     "cell_type": "code",
     "checksum": "6e0b0a1305721b9d3ec8772568e3e9d6",
     "grade": false,
     "grade_id": "q18",
     "locked": false,
     "schema_version": 3,
     "solution": true,
     "task": false
    },
    "tags": []
   },
   "outputs": [
    {
     "name": "stdout",
     "output_type": "stream",
     "text": [
      "     PassengerId  Survived  Passenger Class  \\\n",
      "0              1     False                3   \n",
      "1              2      True                1   \n",
      "2              3      True                3   \n",
      "3              4      True                1   \n",
      "4              5     False                3   \n",
      "..           ...       ...              ...   \n",
      "886          887     False                2   \n",
      "887          888      True                1   \n",
      "888          889     False                3   \n",
      "889          890      True                1   \n",
      "890          891     False                3   \n",
      "\n",
      "                                                  Name     Sex   Age  \\\n",
      "0                              Braund, Mr. Owen Harris    male  22.0   \n",
      "1    Cumings, Mrs. John Bradley (Florence Briggs Th...  female  38.0   \n",
      "2                               Heikkinen, Miss. Laina  female  26.0   \n",
      "3         Futrelle, Mrs. Jacques Heath (Lily May Peel)  female  35.0   \n",
      "4                             Allen, Mr. William Henry    male  35.0   \n",
      "..                                                 ...     ...   ...   \n",
      "886                              Montvila, Rev. Juozas    male  27.0   \n",
      "887                       Graham, Miss. Margaret Edith  female  19.0   \n",
      "888           Johnston, Miss. Catherine Helen \"Carrie\"  female   NaN   \n",
      "889                              Behr, Mr. Karl Howell    male  26.0   \n",
      "890                                Dooley, Mr. Patrick    male  32.0   \n",
      "\n",
      "               Ticket     Fare Cabin Embarked  \n",
      "0           A/5 21171   7.2500   NaN        S  \n",
      "1            PC 17599  71.2833   C85        C  \n",
      "2    STON/O2. 3101282   7.9250   NaN        S  \n",
      "3              113803  53.1000  C123        S  \n",
      "4              373450   8.0500   NaN        S  \n",
      "..                ...      ...   ...      ...  \n",
      "886            211536  13.0000   NaN        S  \n",
      "887            112053  30.0000   B42        S  \n",
      "888        W./C. 6607  23.4500   NaN        S  \n",
      "889            111369  30.0000  C148        C  \n",
      "890            370376   7.7500   NaN        Q  \n",
      "\n",
      "[891 rows x 10 columns]\n"
     ]
    },
    {
     "name": "stderr",
     "output_type": "stream",
     "text": [
      "/tmp/ipykernel_2371615/2980928228.py:5: FutureWarning: A value is trying to be set on a copy of a DataFrame or Series through chained assignment using an inplace method.\n",
      "The behavior will change in pandas 3.0. This inplace method will never work because the intermediate object on which we are setting values always behaves as a copy.\n",
      "\n",
      "For example, when doing 'df[col].method(value, inplace=True)', try using 'df.method({col: value}, inplace=True)' or df[col] = df[col].method(value) instead, to perform the operation inplace on the original object.\n",
      "\n",
      "\n",
      "  dataframe_18['Survived'].replace(1, True, inplace=True)\n",
      "/tmp/ipykernel_2371615/2980928228.py:6: FutureWarning: Downcasting behavior in `replace` is deprecated and will be removed in a future version. To retain the old behavior, explicitly call `result.infer_objects(copy=False)`. To opt-in to the future behavior, set `pd.set_option('future.no_silent_downcasting', True)`\n",
      "  dataframe_18['Survived'].replace(0, False, inplace=True)\n"
     ]
    }
   ],
   "source": [
    "# Write your solution here\n",
    "\n",
    "# YOUR CODE HERE\n",
    "dataframe_18 = dataframe_17.copy()\n",
    "dataframe_18['Survived'].replace(1, True, inplace=True)\n",
    "dataframe_18['Survived'].replace(0, False, inplace=True)\n",
    "print(dataframe_18)"
   ]
  },
  {
   "cell_type": "code",
   "execution_count": null,
   "metadata": {
    "deletable": false,
    "editable": false,
    "nbgrader": {
     "cell_type": "code",
     "checksum": "0a553daaab3f9f031b14e4a58bb3bd15",
     "grade": true,
     "grade_id": "q18-1-survived",
     "locked": true,
     "points": 10,
     "schema_version": 3,
     "solution": false,
     "task": false
    }
   },
   "outputs": [],
   "source": [
    "# Testing Cell (Do NOT modify this cell)"
   ]
  },
  {
   "cell_type": "markdown",
   "metadata": {},
   "source": [
    "#### Question 19 &nbsp;&nbsp;&nbsp;&nbsp;&nbsp;&nbsp;(15 Points)\n",
    "\n",
    "To end this practical, work out what percentage of female and male passengers survived. Present these two values in a variable called `survivors_19` that is a tuple `(female_percent, male_percent)` that expresses the percentage of survivors rounded to one decimal place like:\n",
    "```python\n",
    "    (72.1, 25.9)  # values are fictional but show the expected format of the result\n",
    "```\n",
    "To determine this value, explore the pandas API for the [groupby](https://pandas.pydata.org/docs/reference/api/pandas.DataFrame.groupby.html) function."
   ]
  },
  {
   "cell_type": "code",
   "execution_count": 154,
   "metadata": {
    "deletable": false,
    "nbgrader": {
     "cell_type": "code",
     "checksum": "e30185ef0d239d72d7b9c3ebe51b63d0",
     "grade": false,
     "grade_id": "q19",
     "locked": false,
     "schema_version": 3,
     "solution": true,
     "task": false
    },
    "tags": []
   },
   "outputs": [
    {
     "name": "stdout",
     "output_type": "stream",
     "text": [
      "Sex\n",
      "female    233\n",
      "male      109\n",
      "Name: Survived, dtype: int64\n",
      "(np.float64(74.2), np.float64(18.9))\n"
     ]
    }
   ],
   "source": [
    "# Write your solution here\n",
    "\n",
    "# YOUR CODE HERE\n",
    "dataframe_19 = dataframe_18.groupby('Sex')['Survived'].sum()\n",
    "print(dataframe_19)\n",
    "\n",
    "total_passengers = dataframe_17.groupby('Sex')['Survived'].count()\n",
    "\n",
    "female_percent = (dataframe_19['female'] / total_passengers['female']) * 100\n",
    "male_percent = (dataframe_19['male'] / total_passengers['male']) * 100\n",
    "\n",
    "survivors_19 = (round(female_percent, 1), round(male_percent, 1))\n",
    "\n",
    "print(survivors_19)"
   ]
  },
  {
   "cell_type": "code",
   "execution_count": null,
   "metadata": {
    "deletable": false,
    "editable": false,
    "nbgrader": {
     "cell_type": "code",
     "checksum": "0f3a00f29f3c256f369e99031c42affe",
     "grade": true,
     "grade_id": "q19-1-percent-survived",
     "locked": true,
     "points": 15,
     "schema_version": 3,
     "solution": false,
     "task": false
    },
    "tags": []
   },
   "outputs": [],
   "source": [
    "# Testing Cell (Do NOT modify this cell)"
   ]
  }
 ],
 "metadata": {
  "kernelspec": {
   "display_name": "Python 3 (ipykernel)",
   "language": "python",
   "name": "python3"
  },
  "language_info": {
   "codemirror_mode": {
    "name": "ipython",
    "version": 3
   },
   "file_extension": ".py",
   "mimetype": "text/x-python",
   "name": "python",
   "nbconvert_exporter": "python",
   "pygments_lexer": "ipython3",
   "version": "3.10.12"
  },
  "varInspector": {
   "cols": {
    "lenName": 16,
    "lenType": 16,
    "lenVar": 40
   },
   "kernels_config": {
    "python": {
     "delete_cmd_postfix": "",
     "delete_cmd_prefix": "del ",
     "library": "var_list.py",
     "varRefreshCmd": "print(var_dic_list())"
    },
    "r": {
     "delete_cmd_postfix": ") ",
     "delete_cmd_prefix": "rm(",
     "library": "var_list.r",
     "varRefreshCmd": "cat(var_dic_list()) "
    }
   },
   "types_to_exclude": [
    "module",
    "function",
    "builtin_function_or_method",
    "instance",
    "_Feature"
   ],
   "window_display": false
  }
 },
 "nbformat": 4,
 "nbformat_minor": 4
}
