{
  "cells": [
    {
      "cell_type": "markdown",
      "metadata": {
        "id": "U0IxVlj3kiXo"
      },
      "source": [
        "# Text file (.txt)"
      ]
    },
    {
      "cell_type": "markdown",
      "metadata": {
        "id": "8kEP0JO0tmwl"
      },
      "source": [
        "## one mode"
      ]
    },
    {
      "cell_type": "code",
      "execution_count": null,
      "metadata": {
        "colab": {
          "base_uri": "https://localhost:8080/"
        },
        "id": "ARdLsivlkfaf",
        "outputId": "f41ca11e-9fc5-4317-d207-6688e34b9655"
      },
      "outputs": [],
      "source": [
        "# An error occurs if the file does not exist.\n",
        "with open('example.txt', 'r') as f:\n",
        "    content = f.read()\n",
        "    print(content)"
      ]
    },
    {
      "cell_type": "code",
      "execution_count": null,
      "metadata": {
        "colab": {
          "base_uri": "https://localhost:8080/"
        },
        "id": "UY1N3pzxwcGR",
        "outputId": "5d47ac8f-9591-42ce-bcf9-7e9ffad1e0ae"
      },
      "outputs": [],
      "source": [
        "# Using read() to read the entire content of the file\n",
        "with open('example.txt', 'r') as f:\n",
        "    content = f.read()\n",
        "    print(\"Using read():\")\n",
        "    print(content)\n",
        "    print()\n",
        "\n",
        "# Using read(10) to read the first 10 characters of the file\n",
        "with open('example.txt', 'r') as f:\n",
        "    content_10 = f.read(10)\n",
        "    print(\"Using read(10):\")\n",
        "    print(content_10)\n",
        "    print()\n",
        "\n",
        "# Using readline() to read the first line of the file\n",
        "with open('example.txt', 'r') as f:\n",
        "    first_line = f.readline()\n",
        "    print(\"Using readline():\")\n",
        "    print(first_line)\n",
        "    print()\n",
        "\n",
        "# Using readlines() to read all lines of the file into a list\n",
        "with open('example.txt', 'r') as f:\n",
        "    lines = f.readlines()\n",
        "    print(\"Using readlines():\")\n",
        "    print(lines)\n",
        "    print()\n"
      ]
    },
    {
      "cell_type": "code",
      "execution_count": 2,
      "metadata": {
        "id": "Xsfih4VpmIYa"
      },
      "outputs": [],
      "source": [
        "# Creates a new file if it does not exist\n",
        "# Truncates the file if it exists.\n",
        "with open('example.txt', 'w') as f:\n",
        "    f.write('I am Lipin.')\n",
        "    f.write('Hello world.\\t')\n",
        "    f.write('Nice to meet you!\\n')\n",
        "    f.write('Nice to meet you too!')"
      ]
    },
    {
      "cell_type": "code",
      "execution_count": null,
      "metadata": {
        "colab": {
          "base_uri": "https://localhost:8080/"
        },
        "id": "I7k_tH_RxLfE",
        "outputId": "5bb5aed3-071e-484d-be66-268d348d2fcd"
      },
      "outputs": [],
      "source": [
        "print(\"Using write():\")\n",
        "with open('example.txt', 'w') as f:\n",
        "    f.write(\"Hello World!\\n\")\n",
        "    f.write(\"This is an example file.\\n\")\n",
        "    f.write(\"It has multiple lines of text.\\n\")\n",
        "\n",
        "with open('example.txt', 'r') as f:\n",
        "    content = f.read()\n",
        "    print(\"Using read():\")\n",
        "    print(content)\n",
        "    print()\n",
        "\n",
        "lines = [\n",
        "    \"Hello World!\\n\",\n",
        "    \"This is an example file.\\n\",\n",
        "    \"It has multiple lines of text.\\n\"\n",
        "]\n",
        "\n",
        "print(\"Using writelines():\")\n",
        "with open('example2.txt', 'w') as f:\n",
        "    f.writelines(lines)\n",
        "\n",
        "with open('example2.txt', 'r') as f:\n",
        "    content = f.read()\n",
        "    print(\"Using read():\")\n",
        "    print(content)"
      ]
    },
    {
      "cell_type": "code",
      "execution_count": null,
      "metadata": {
        "id": "V-Qbd5AOmP5g"
      },
      "outputs": [],
      "source": [
        "#If the file already exists, the operation fails.\n",
        "with open('example2.txt', 'x') as f:\n",
        "    f.write('This file is newly created.')"
      ]
    },
    {
      "cell_type": "code",
      "execution_count": null,
      "metadata": {},
      "outputs": [],
      "source": [
        "import os\n",
        "\n",
        "# Define the path you want to check\n",
        "path = 'example3.txt'\n",
        "\n",
        "# Check if the path exists\n",
        "if os.path.exists(path):\n",
        "    print(f\"The file '{path}' exists.\")\n",
        "else:\n",
        "    print(f\"The file '{path}' does not exist.\")"
      ]
    },
    {
      "cell_type": "code",
      "execution_count": 8,
      "metadata": {
        "id": "v4a3SHscmWKN"
      },
      "outputs": [],
      "source": [
        "# Creates a new file if it does not exist.\n",
        "# Appends if the file already exists.\n",
        "with open('example3.txt', 'a') as f:\n",
        "    f.write('Appending this text.')\n",
        "    f.write('\\nAppending a new line.')\n",
        "    f.write('\\tAppending with a space.')"
      ]
    },
    {
      "cell_type": "code",
      "execution_count": 9,
      "metadata": {
        "id": "RHBhMN5byqqe"
      },
      "outputs": [],
      "source": [
        "# Step 1: Read the contents of example.txt\n",
        "with open('example.txt', 'r') as f:\n",
        "    content = f.read()\n",
        "\n",
        "# Step 2: Convert the string to upper case and write to example2.txt\n",
        "upper_content = content.upper()\n",
        "with open('example2.txt', 'w') as f:\n",
        "    f.write(upper_content)\n",
        "\n",
        "# Step 3: Convert the string to title case and append to file1.txt\n",
        "title_content = content.title()\n",
        "with open('example.txt', 'a') as f:\n",
        "    f.write(title_content)"
      ]
    },
    {
      "cell_type": "markdown",
      "metadata": {
        "id": "qOHho_XctpGi"
      },
      "source": [
        "## two modes"
      ]
    },
    {
      "cell_type": "code",
      "execution_count": null,
      "metadata": {
        "colab": {
          "base_uri": "https://localhost:8080/"
        },
        "id": "BlwpkUIMmr8-",
        "outputId": "cd3ce3db-bff7-4163-8983-3d1f3c681423"
      },
      "outputs": [],
      "source": [
        "with open('example.txt', 'r+') as f:\n",
        "    content = f.read()\n",
        "    print(content)\n",
        "    f.write('Additional text.')"
      ]
    },
    {
      "cell_type": "code",
      "execution_count": null,
      "metadata": {
        "colab": {
          "base_uri": "https://localhost:8080/"
        },
        "id": "tYxGsW6MnU61",
        "outputId": "11861ebe-b536-4d7e-826c-43a6de5d8637"
      },
      "outputs": [],
      "source": [
        "with open('example.txt', 'w+') as f:\n",
        "    f.write('Writing and reading.')\n",
        "    f.seek(0) # Move the file pointer to the beginning of the file.\n",
        "    content = f.read()\n",
        "    print(content)"
      ]
    },
    {
      "cell_type": "code",
      "execution_count": null,
      "metadata": {
        "colab": {
          "base_uri": "https://localhost:8080/"
        },
        "id": "4Xyhfm0WnW0J",
        "outputId": "a287f79b-29e5-4fb8-fac3-0f571a936ced"
      },
      "outputs": [],
      "source": [
        "with open('example.txt', 'x+') as f:\n",
        "    f.write('Exclusive write and read.')\n",
        "    f.seek(0)\n",
        "    content = f.read()\n",
        "    print(content)"
      ]
    },
    {
      "cell_type": "code",
      "execution_count": null,
      "metadata": {
        "colab": {
          "base_uri": "https://localhost:8080/"
        },
        "id": "FtUDBuu0nYcp",
        "outputId": "175070ff-c00b-4207-ee72-5f05c5e2aa39"
      },
      "outputs": [],
      "source": [
        "with open('example.txt', 'a+') as f:\n",
        "    f.write('Appending and reading.')\n",
        "    f.seek(0)\n",
        "    content = f.read()\n",
        "    print(content)"
      ]
    },
    {
      "cell_type": "markdown",
      "metadata": {
        "id": "JB9XiI2Dt0Sb"
      },
      "source": [
        "## absolute & relative path"
      ]
    },
    {
      "cell_type": "code",
      "execution_count": null,
      "metadata": {
        "colab": {
          "base_uri": "https://localhost:8080/"
        },
        "id": "4qSp-gjAt6t4",
        "outputId": "9e05ee10-426a-4e40-c196-20c02cd28f53"
      },
      "outputs": [],
      "source": [
        "with open('./example.txt', 'r') as f:\n",
        "    content = f.read()\n",
        "    print(content)"
      ]
    },
    {
      "cell_type": "code",
      "execution_count": null,
      "metadata": {
        "colab": {
          "base_uri": "https://localhost:8080/"
        },
        "id": "zQJkTRTTuEvU",
        "outputId": "6c7a7d6a-501c-4180-9e8e-55148efc32cc"
      },
      "outputs": [],
      "source": [
        "with open('/Users/lipin/Documents/phd/pythonB/B2T4/example.txt', 'r') as f:\n",
        "    content = f.read()\n",
        "    print(content)"
      ]
    },
    {
      "cell_type": "code",
      "execution_count": null,
      "metadata": {},
      "outputs": [],
      "source": [
        "# Define the directory path and filename\n",
        "directory_path = '/Users/lipin/Documents/phd/pythonB/B2T4'\n",
        "filename = 'example.txt'\n",
        "\n",
        "# Join the directory path and filename\n",
        "full_path = os.path.join(directory_path, filename)\n",
        "\n",
        "# Check if the path exists\n",
        "if os.path.exists(full_path):\n",
        "    print(f\"The file '{full_path}' exists.\")\n",
        "else:\n",
        "    print(f\"The file '{full_path}' does not exist.\")"
      ]
    },
    {
      "cell_type": "markdown",
      "metadata": {
        "id": "3iEAnQMjk5Qv"
      },
      "source": [
        "# Comma-separated values file (.csv)"
      ]
    },
    {
      "cell_type": "code",
      "execution_count": 4,
      "metadata": {
        "id": "xLUFhG6x1tJk"
      },
      "outputs": [],
      "source": [
        "import csv\n",
        "\n",
        "data = [\n",
        "    ['Name', 'Email','Phone'],\n",
        "    ['Alice', 'alice@example.com', '123-456-7890'],\n",
        "    ['Bob', 'bob@example.com', '234-567-8901'],\n",
        "    ['Charlie', 'charlie@example.com', '345-678-9012'],\n",
        "    ['Catherine',]\n",
        "]\n",
        "\n",
        "#with open('customers.csv', 'w',encoding='utf-8') as file:\n",
        "with open('customers.csv', 'w', encoding='utf-8-sig') as file:\n",
        "    writer = csv.writer(file)\n",
        "    writer.writerows(data)"
      ]
    },
    {
      "cell_type": "code",
      "execution_count": null,
      "metadata": {
        "colab": {
          "base_uri": "https://localhost:8080/"
        },
        "id": "HgQOzR4g2Hb3",
        "outputId": "bbd79d74-9de6-4b9d-e06c-37c090a5dd46"
      },
      "outputs": [],
      "source": [
        "#import csv\n",
        "#with open('customers.csv', 'r') as f:\n",
        "with open('customers.csv', 'r', encoding='utf-8-sig') as f:\n",
        "    reader = csv.reader(f)\n",
        "    for row in reader:\n",
        "         print(row)\n",
        "\n",
        "# how to get a specific row from csv file \n",
        "print(reader[0])"
      ]
    },
    {
      "cell_type": "code",
      "execution_count": null,
      "metadata": {},
      "outputs": [],
      "source": [
        "# Read the CSV file and save the output to a list\n",
        "csv_data = []\n",
        "\n",
        "with open('customers.csv', 'r', encoding='utf-8-sig') as f:\n",
        "    reader = csv.reader(f)\n",
        "    for row in reader:\n",
        "        csv_data.append(row)\n",
        "\n",
        "# Print the csv_data list to verify the content\n",
        "print(\"CSV Reader Output:\")\n",
        "print(csv_data)\n",
        "print(csv_data[0])"
      ]
    },
    {
      "cell_type": "code",
      "execution_count": 2,
      "metadata": {},
      "outputs": [],
      "source": [
        "# Data to be appended to the CSV file\n",
        "new_row = ['David', 'david@example.com', '456-789-0123']\n",
        "\n",
        "# Open the CSV file for appending and write the new row\n",
        "with open('customers.csv', 'a') as f:\n",
        "    writer = csv.writer(f)\n",
        "    #writer.writerows(new_row)\n",
        "    writer.writerow(new_row)"
      ]
    },
    {
      "cell_type": "markdown",
      "metadata": {
        "id": "V2ZuSxvmk5qj"
      },
      "source": [
        "# JavaScript Object Notation file (.json)"
      ]
    },
    {
      "cell_type": "code",
      "execution_count": 12,
      "metadata": {},
      "outputs": [],
      "source": [
        "import json\n",
        "\n",
        "# Data to be written to the JSON file\n",
        "data_dic = {\n",
        "  \"company\": {\n",
        "    \"name\": \"Tech Innovators Inc.\",\n",
        "    \"location\": \"San Francisco, CA\",\n",
        "    \"employees\": [\n",
        "      {\n",
        "        \"name\": \"John Doe\",\n",
        "        \"position\": \"CEO\",\n",
        "        \"department\": \"Executive\",\n",
        "        \"contact\": {\n",
        "          \"email\": \"john.doe@techinnovators.com\",\n",
        "          \"phone\": \"123-456-7890\"\n",
        "        }\n",
        "      },\n",
        "      {\n",
        "        \"name\": \"Jane Smith\",\n",
        "        \"position\": \"CTO\",\n",
        "        \"department\": \"Technology\",\n",
        "        \"contact\": {\n",
        "          \"email\": \"jane.smith@techinnovators.com\",\n",
        "          \"phone\": \"123-456-7891\"\n",
        "        }\n",
        "      },\n",
        "    ]\n",
        "  }\n",
        "}\n",
        "\n",
        "# Write data to customers.json\n",
        "with open('company.json', 'w') as f:\n",
        "    json.dump(data_dic, f, indent=8)"
      ]
    },
    {
      "cell_type": "code",
      "execution_count": null,
      "metadata": {},
      "outputs": [],
      "source": [
        "# Read data from customers.json\n",
        "with open('company.json', 'r') as f:\n",
        "    data = json.load(f)\n",
        "\n",
        "# Print the data read from the JSON file\n",
        "print(data)"
      ]
    },
    {
      "cell_type": "code",
      "execution_count": null,
      "metadata": {},
      "outputs": [],
      "source": [
        "# get the name of the company\n",
        "data['company']['name']"
      ]
    },
    {
      "cell_type": "code",
      "execution_count": null,
      "metadata": {},
      "outputs": [],
      "source": [
        "# get the list of employees\n",
        "data['company'].get('employees')"
      ]
    },
    {
      "cell_type": "code",
      "execution_count": null,
      "metadata": {},
      "outputs": [],
      "source": [
        "# Traverse the JSON data to find John Doe's contact phone\n",
        "for employee in data['company']['employees']:\n",
        "    if employee['name'] == 'John Doe':\n",
        "        john_doe_phone = employee['contact']['phone']\n",
        "        break\n",
        "\n",
        "# Print John Doe's contact phone\n",
        "print(\"John Doe's contact phone:\", john_doe_phone)"
      ]
    }
  ],
  "metadata": {
    "colab": {
      "collapsed_sections": [
        "qOHho_XctpGi"
      ],
      "provenance": []
    },
    "kernelspec": {
      "display_name": "Python 3",
      "name": "python3"
    },
    "language_info": {
      "codemirror_mode": {
        "name": "ipython",
        "version": 3
      },
      "file_extension": ".py",
      "mimetype": "text/x-python",
      "name": "python",
      "nbconvert_exporter": "python",
      "pygments_lexer": "ipython3",
      "version": "3.12.4"
    }
  },
  "nbformat": 4,
  "nbformat_minor": 0
}
