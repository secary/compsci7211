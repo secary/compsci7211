{
 "cells": [
  {
   "cell_type": "markdown",
   "metadata": {},
   "source": [
    "### Instructions:\n",
    "\n",
    "- You can attempt any number of questions and in any order.  \n",
    "  See the assignment page for a description of the hurdle requirement for this assessment.\n",
    "- You may submit your practical for autograding as many times as you like to check on progress, however you will save time by checking and testing your own code before submitting.\n",
    "- Develop and check your answers in the spaces provided.\n",
    "- **Replace** the code `raise NotImplementedError()` with your solution to the question.\n",
    "- Do **NOT** remove any variables other provided markings already provided in the answer spaces.\n",
    "- Do **NOT** make any changes to this notebook outside of the spaces indicated.  \n",
    "  (If you do this, the submission system might not accept your work)\n",
    "\n",
    "### Submitting:\n",
    "\n",
    "1. Before you turn this problem in, make sure everything runs as expected by resetting this notebook.    \n",
    "   (You can do this from the menubar above by selecting `Kernel`&#8594;`Restart Kernel and Run All Cells...`)\n",
    "1. Don't forget to save your notebook after this step.\n",
    "1. Submit your .ipynb file to Gradescope via file upload or GitHub repository.\n",
    "1. You can submit as many times as needed.\n",
    "\n"
   ]
  },
  {
   "cell_type": "markdown",
   "metadata": {},
   "source": [
    "---"
   ]
  },
  {
   "cell_type": "markdown",
   "metadata": {
    "tags": []
   },
   "source": [
    "# <mark style=\"background: #801010; color: #ffffff;\" >B2</mark> Topic 4: Working with Structured Data"
   ]
  },
  {
   "cell_type": "code",
   "execution_count": null,
   "metadata": {},
   "outputs": [],
   "source": [
    "# These are useful imports for the practical.\n",
    "import csv\n",
    "import json\n",
    "import xml.dom.minidom as xml\n",
    "# You may have to install this library with \"pip install requests\"\n",
    "import requests"
   ]
  },
  {
   "cell_type": "markdown",
   "metadata": {},
   "source": [
    "#### Question 01 &nbsp;&nbsp;&nbsp;&nbsp;&nbsp;&nbsp;(5 Points)\n",
    "\n",
    "In the file `username.csv`, find the header row (the first line of the file) and assign the list of column names to the variable `header`.\n",
    "\n",
    "\n",
    "---\n",
    "<details>\n",
    "  <summary><span style=\"color:blue\">Hints for viewing data</span></summary>\n",
    "   JupyterLab provides a good facility to view some types of data such as CSV. It can be a better alternative to Microsoft Excel or Google Sheets to provide a lightweight overview of data and allows a delimiter to be set when opening files.\n",
    "</details>"
   ]
  },
  {
   "cell_type": "code",
   "execution_count": null,
   "metadata": {
    "deletable": false,
    "nbgrader": {
     "cell_type": "code",
     "checksum": "59ea011245cce71c48c31e4c91f86ce1",
     "grade": false,
     "grade_id": "q1",
     "locked": false,
     "schema_version": 3,
     "solution": true,
     "task": false
    },
    "tags": []
   },
   "outputs": [],
   "source": [
    "# Write your solution here\n",
    "\n",
    "# YOUR CODE HERE\n",
    "raise NotImplementedError()"
   ]
  },
  {
   "cell_type": "code",
   "execution_count": null,
   "metadata": {
    "deletable": false,
    "editable": false,
    "nbgrader": {
     "cell_type": "code",
     "checksum": "ade7aff9a74f269dc0a14e19361148d9",
     "grade": true,
     "grade_id": "q1-1-header",
     "locked": true,
     "points": 5,
     "schema_version": 3,
     "solution": false,
     "task": false
    },
    "tags": []
   },
   "outputs": [],
   "source": [
    "# Testing Cell (Do NOT modify this cell)"
   ]
  },
  {
   "cell_type": "markdown",
   "metadata": {},
   "source": [
    "#### Question 02 &nbsp;&nbsp;&nbsp;&nbsp;&nbsp;&nbsp;(5 Points)\n",
    "\n",
    "Open the file `username.csv` and remove the 'Identifier' column of data. Assign the remaining three columns to the variable `no_id_data` like:\n",
    "```python\n",
    "[['Username', 'First name', 'Last name'],\n",
    " ['booker12', 'Rachel', 'Booker'],\n",
    " ...\n",
    "```"
   ]
  },
  {
   "cell_type": "code",
   "execution_count": null,
   "metadata": {
    "deletable": false,
    "nbgrader": {
     "cell_type": "code",
     "checksum": "43e7c08b2bba22f2290b849253be95d8",
     "grade": false,
     "grade_id": "q2",
     "locked": false,
     "schema_version": 3,
     "solution": true,
     "task": false
    },
    "tags": []
   },
   "outputs": [],
   "source": [
    "# Write your solution here\n",
    "\n",
    "# YOUR CODE HERE\n",
    "raise NotImplementedError()"
   ]
  },
  {
   "cell_type": "code",
   "execution_count": null,
   "metadata": {
    "deletable": false,
    "editable": false,
    "nbgrader": {
     "cell_type": "code",
     "checksum": "95d21b129e5fc9b4732d1236a97c94c5",
     "grade": true,
     "grade_id": "q2-1-change-columns",
     "locked": true,
     "points": 5,
     "schema_version": 3,
     "solution": false,
     "task": false
    },
    "tags": []
   },
   "outputs": [],
   "source": [
    "# Testing Cell (Do NOT modify this cell)"
   ]
  },
  {
   "cell_type": "markdown",
   "metadata": {},
   "source": [
    "#### Question 03 &nbsp;&nbsp;&nbsp;&nbsp;&nbsp;&nbsp;(5 Points)\n",
    "\n",
    "Open the file `email-password-recovery-code.csv` and remove all rows where the user is located in London. Save the result to the file `email-password-manchester-only.csv`."
   ]
  },
  {
   "cell_type": "code",
   "execution_count": null,
   "metadata": {
    "deletable": false,
    "nbgrader": {
     "cell_type": "code",
     "checksum": "47e3c47f174a3538a2caaf1d19e4f575",
     "grade": false,
     "grade_id": "q3",
     "locked": false,
     "schema_version": 3,
     "solution": true,
     "task": false
    },
    "tags": []
   },
   "outputs": [],
   "source": [
    "# Write your solution here\n",
    "\n",
    "# YOUR CODE HERE\n",
    "raise NotImplementedError()"
   ]
  },
  {
   "cell_type": "code",
   "execution_count": null,
   "metadata": {
    "deletable": false,
    "editable": false,
    "nbgrader": {
     "cell_type": "code",
     "checksum": "519a38f2da5b88574c95a52814928552",
     "grade": true,
     "grade_id": "q3-1-remove-rows",
     "locked": true,
     "points": 5,
     "schema_version": 3,
     "solution": false,
     "task": false
    },
    "tags": []
   },
   "outputs": [],
   "source": [
    "# Testing Cell (Do NOT modify this cell)\n"
   ]
  },
  {
   "cell_type": "markdown",
   "metadata": {},
   "source": [
    "#### Question 04 &nbsp;&nbsp;&nbsp;&nbsp;&nbsp;&nbsp;(5 Points)\n",
    "\n",
    "The file `weather.csv` has iso-8859-1 encoding. Open this file while ensuring the correct encoding is specified. Find the highest maximum temperature and the lowest minimum temperature and assign them to the tuple `extremes` like `(max, min)`."
   ]
  },
  {
   "cell_type": "code",
   "execution_count": null,
   "metadata": {
    "deletable": false,
    "nbgrader": {
     "cell_type": "code",
     "checksum": "8e44eec03aea1735226d35be43969550",
     "grade": false,
     "grade_id": "q4",
     "locked": false,
     "schema_version": 3,
     "solution": true,
     "task": false
    },
    "tags": []
   },
   "outputs": [],
   "source": [
    "# Write your solution here\n",
    "\n",
    "# YOUR CODE HERE\n",
    "raise NotImplementedError()"
   ]
  },
  {
   "cell_type": "code",
   "execution_count": null,
   "metadata": {
    "deletable": false,
    "editable": false,
    "nbgrader": {
     "cell_type": "code",
     "checksum": "6ef126b1f45b38d8efe13dad66c5423f",
     "grade": true,
     "grade_id": "q4-1-encoding",
     "locked": true,
     "points": 5,
     "schema_version": 3,
     "solution": false,
     "task": false
    },
    "tags": []
   },
   "outputs": [],
   "source": [
    "# Testing Cell (Do NOT modify this cell)"
   ]
  },
  {
   "cell_type": "markdown",
   "metadata": {},
   "source": [
    "#### Question 05 &nbsp;&nbsp;&nbsp;&nbsp;&nbsp;&nbsp;(5 Points)\n",
    "\n",
    "Open the same file `weather.csv` and remove the header line (which contains the problematic character for the degree symbol encoded as iso-8859-1. Write the rest of the file data to a new file called `weather-utf-8.csv` with `utf-8` encoding.\n",
    "\n",
    "---\n",
    "<details>\n",
    "  <summary><span style=\"color:blue\">Opening two files at a time</span></summary>\n",
    "   One solution to the problem is to open two files in the same with-as context manager like:<br /><br />\n",
    "    <pre>\n",
    "    with open(\"in.csv\", \"r\") as infile, open(\"out.csv\", \"w\") as outfile:\n",
    "        reader = csv.reader(infile)\n",
    "        writer = csv.writer(outfile)\n",
    "    </pre>\n",
    "    Then as you iterate through the input file, you can simultaneously be writing to the output file.\n",
    "</details>"
   ]
  },
  {
   "cell_type": "code",
   "execution_count": null,
   "metadata": {
    "deletable": false,
    "nbgrader": {
     "cell_type": "code",
     "checksum": "a709818024c3ba51e1637274fbd1a6b5",
     "grade": false,
     "grade_id": "q5",
     "locked": false,
     "schema_version": 3,
     "solution": true,
     "task": false
    },
    "tags": []
   },
   "outputs": [],
   "source": [
    "# Write your solution here\n",
    "\n",
    "# YOUR CODE HERE\n",
    "raise NotImplementedError()"
   ]
  },
  {
   "cell_type": "code",
   "execution_count": null,
   "metadata": {
    "deletable": false,
    "editable": false,
    "nbgrader": {
     "cell_type": "code",
     "checksum": "cafcb874b58fd9fa3bd013563c726319",
     "grade": true,
     "grade_id": "q5-1-utf-8",
     "locked": true,
     "points": 5,
     "schema_version": 3,
     "solution": false,
     "task": false
    },
    "tags": []
   },
   "outputs": [],
   "source": [
    "# Testing Cell (Do NOT modify this cell)"
   ]
  },
  {
   "cell_type": "markdown",
   "metadata": {
    "tags": []
   },
   "source": [
    "#### Question 06 &nbsp;&nbsp;&nbsp;&nbsp;&nbsp;&nbsp;(5 Points)\n",
    "\n",
    "Create your own CSV file `random-dice.csv` with five columns and a header as follows:\n",
    "```python\n",
    "   'Roll #', 'D1', 'D2', 'D3', '3D6'\n",
    "```\n",
    "The first column shall be a counter from 1 to 10. Column 1 through 3 will contain random numbers between 1 and 6 generated to simulate the rolling of three six sided dice. The final column will contain the sum of the three dice in the range 3 .. 18. There shall be NUM_ROWS rows of dice data (where NUM_ROWS is a constant defined below).\n",
    "\n",
    "Thus, the seventh row of data might look like:\n",
    "```python\n",
    "   7,3,3,4,10\n",
    "```    "
   ]
  },
  {
   "cell_type": "code",
   "execution_count": null,
   "metadata": {},
   "outputs": [],
   "source": [
    "# Test data. Do not alter.\n",
    "NUM_ROWS = 100"
   ]
  },
  {
   "cell_type": "code",
   "execution_count": null,
   "metadata": {
    "deletable": false,
    "nbgrader": {
     "cell_type": "code",
     "checksum": "b40b2c4991f14fdc188af4f3b985832f",
     "grade": false,
     "grade_id": "q6",
     "locked": false,
     "schema_version": 3,
     "solution": true,
     "task": false
    },
    "tags": []
   },
   "outputs": [],
   "source": [
    "import random\n",
    "random.seed(42)\n",
    "\n",
    "# Write your solution here\n",
    "\n",
    "# YOUR CODE HERE\n",
    "raise NotImplementedError()"
   ]
  },
  {
   "cell_type": "code",
   "execution_count": null,
   "metadata": {
    "deletable": false,
    "editable": false,
    "nbgrader": {
     "cell_type": "code",
     "checksum": "e2892b4182ed899f2052d37b49789d85",
     "grade": true,
     "grade_id": "q6-1-random-dice",
     "locked": true,
     "points": 5,
     "schema_version": 3,
     "solution": false,
     "task": false
    },
    "tags": []
   },
   "outputs": [],
   "source": [
    "# Testing Cell (Do NOT modify this cell)"
   ]
  },
  {
   "cell_type": "markdown",
   "metadata": {},
   "source": [
    "#### Question 07 &nbsp;&nbsp;&nbsp;&nbsp;&nbsp;&nbsp;(5 Points)\n",
    "\n",
    "Various characters are used to delimit CSV-style files such as colons, semicolons and tabs in addition to commas. Open the file `semi-delimited.csv` delimited with semicolons (\";\") and rewrite the file to `tab-delimited.csv` setting the delimiter to the tab character. "
   ]
  },
  {
   "cell_type": "code",
   "execution_count": null,
   "metadata": {
    "deletable": false,
    "nbgrader": {
     "cell_type": "code",
     "checksum": "3feeed91deeb296138f9c269c2611025",
     "grade": false,
     "grade_id": "q7",
     "locked": false,
     "schema_version": 3,
     "solution": true,
     "task": false
    },
    "tags": []
   },
   "outputs": [],
   "source": [
    "# Write your solution here\n",
    "\n",
    "# YOUR CODE HERE\n",
    "raise NotImplementedError()"
   ]
  },
  {
   "cell_type": "code",
   "execution_count": null,
   "metadata": {
    "deletable": false,
    "editable": false,
    "nbgrader": {
     "cell_type": "code",
     "checksum": "fe1236fb364a530a80df9ece041de4a2",
     "grade": true,
     "grade_id": "q7-1-delimiter",
     "locked": true,
     "points": 5,
     "schema_version": 3,
     "solution": false,
     "task": false
    },
    "tags": []
   },
   "outputs": [],
   "source": [
    "# Testing Cell (Do NOT modify this cell)"
   ]
  },
  {
   "cell_type": "markdown",
   "metadata": {},
   "source": [
    "#### Question 08 &nbsp;&nbsp;&nbsp;&nbsp;&nbsp;&nbsp;(5 Points)\n",
    "\n",
    "Another approach to dealing with CSV files in Python is to use `DictReader` to form an *ordered dictionary* with keys based on the header. Use DictReader to open the file `username.csv` and assign the first row of data as a dictionary to the variable `dict_row_first` and the last row of data to the variable `dict_row_last`."
   ]
  },
  {
   "cell_type": "code",
   "execution_count": null,
   "metadata": {
    "deletable": false,
    "nbgrader": {
     "cell_type": "code",
     "checksum": "0c1737153f68ce6f0b255313e2fce108",
     "grade": false,
     "grade_id": "q8",
     "locked": false,
     "schema_version": 3,
     "solution": true,
     "task": false
    },
    "tags": []
   },
   "outputs": [],
   "source": [
    "# Write your solution here\n",
    "\n",
    "# YOUR CODE HERE\n",
    "raise NotImplementedError()"
   ]
  },
  {
   "cell_type": "code",
   "execution_count": null,
   "metadata": {
    "deletable": false,
    "editable": false,
    "nbgrader": {
     "cell_type": "code",
     "checksum": "a0609322add57861ac271d7b0cd209d0",
     "grade": true,
     "grade_id": "q8-1-dictreader",
     "locked": true,
     "points": 5,
     "schema_version": 3,
     "solution": false,
     "task": false
    }
   },
   "outputs": [],
   "source": [
    "# Testing Cell (Do NOT modify this cell)"
   ]
  },
  {
   "cell_type": "markdown",
   "metadata": {},
   "source": [
    "#### Question 09 &nbsp;&nbsp;&nbsp;&nbsp;&nbsp;&nbsp;(10 Points)\n",
    "\n",
    "Provided with three dictionaries for employee data (below), write a CSV file `employee.csv` that captures the three employee records and include a header row (matching the dictionary keys) at the beginning of the file. "
   ]
  },
  {
   "cell_type": "code",
   "execution_count": null,
   "metadata": {
    "deletable": false,
    "editable": false,
    "nbgrader": {
     "cell_type": "code",
     "checksum": "9fc2558000f53cca8484f2a04068263e",
     "grade": false,
     "grade_id": "cell-9e9f1f087abae63e",
     "locked": true,
     "schema_version": 3,
     "solution": false,
     "task": false
    },
    "tags": []
   },
   "outputs": [],
   "source": [
    "# Test data. Do not alter.\n",
    "employee_data_1 = {\n",
    "\"Name\": \"Graham Chapman\",\n",
    "\"Hire Date\": \"03/15/14\",\n",
    "\"Salary\": 50000,\n",
    "\"Sick Days\": 10}\n",
    "\n",
    "employee_data_2 = {\n",
    "\"Name\": \"John Cleese\",\n",
    "\"Hire Date\": \"06/01/14\",\n",
    "\"Salary\": 55000,\n",
    "\"Sick Days\": 11}\n",
    "\n",
    "employee_data_3 = {\n",
    "\"Name\": \"Eric Idle\",\n",
    "\"Hire Date\": \"not employed\",\n",
    "\"Salary\": 0,\n",
    "\"Sick Days\": 0}"
   ]
  },
  {
   "cell_type": "code",
   "execution_count": null,
   "metadata": {
    "deletable": false,
    "nbgrader": {
     "cell_type": "code",
     "checksum": "b10ea41487c46513420a20c142b6c9f1",
     "grade": false,
     "grade_id": "q9",
     "locked": false,
     "schema_version": 3,
     "solution": true,
     "task": false
    },
    "tags": []
   },
   "outputs": [],
   "source": [
    "# Write your solution here\n",
    "\n",
    "# YOUR CODE HERE\n",
    "raise NotImplementedError()"
   ]
  },
  {
   "cell_type": "code",
   "execution_count": null,
   "metadata": {
    "deletable": false,
    "editable": false,
    "nbgrader": {
     "cell_type": "code",
     "checksum": "094aeb58f0c38ef2b14347ab99968332",
     "grade": true,
     "grade_id": "q9-1-employee-records",
     "locked": true,
     "points": 10,
     "schema_version": 3,
     "solution": false,
     "task": false
    }
   },
   "outputs": [],
   "source": [
    "# Testing Cell (Do NOT modify this cell)"
   ]
  },
  {
   "cell_type": "markdown",
   "metadata": {},
   "source": [
    "#### Question 10 &nbsp;&nbsp;&nbsp;&nbsp;&nbsp;&nbsp;(5 Points)\n",
    "\n",
    "Given the dictionary `DATASET` below, write this to a JSON formatted file called `nap.json`."
   ]
  },
  {
   "cell_type": "code",
   "execution_count": null,
   "metadata": {
    "deletable": false,
    "editable": false,
    "nbgrader": {
     "cell_type": "code",
     "checksum": "cc025e0bf2106731291b8a92f16ac165",
     "grade": false,
     "grade_id": "cell-84daeecc0cc4e422",
     "locked": true,
     "schema_version": 3,
     "solution": false,
     "task": false
    },
    "tags": []
   },
   "outputs": [],
   "source": [
    "# Test data. Do not alter.\n",
    "DATASET = [\n",
    "    {'name': \"John\", 'age': 52, 'postcode': 5002},  \n",
    "    {'name':\"Ye\", 'age': 18, 'postcode': 3005},  \n",
    "    {'name':\"Siobhan\", 'age': 34, 'postcode': 2356}\n",
    "]"
   ]
  },
  {
   "cell_type": "code",
   "execution_count": null,
   "metadata": {
    "deletable": false,
    "nbgrader": {
     "cell_type": "code",
     "checksum": "668b6122126f0cffdabdd0840b974a9e",
     "grade": false,
     "grade_id": "q10",
     "locked": false,
     "schema_version": 3,
     "solution": true,
     "task": false
    },
    "tags": []
   },
   "outputs": [],
   "source": [
    "# Write your solution here\n",
    "\n",
    "# YOUR CODE HERE\n",
    "raise NotImplementedError()"
   ]
  },
  {
   "cell_type": "code",
   "execution_count": null,
   "metadata": {
    "deletable": false,
    "editable": false,
    "nbgrader": {
     "cell_type": "code",
     "checksum": "0228e1036bf022e04d52af9d21258a1a",
     "grade": true,
     "grade_id": "q10-1-json",
     "locked": true,
     "points": 5,
     "schema_version": 3,
     "solution": false,
     "task": false
    }
   },
   "outputs": [],
   "source": [
    "# Testing Cell (Do NOT modify this cell)"
   ]
  },
  {
   "cell_type": "markdown",
   "metadata": {},
   "source": [
    "#### Question 11 &nbsp;&nbsp;&nbsp;&nbsp;&nbsp;&nbsp;(5 Points)\n",
    "\n",
    "The `MENU_DEF` dictionary represents multi-lingual labels for a menu in a file system application. Save this data to a JSON file `menu.json` in `utf-16` encoding."
   ]
  },
  {
   "cell_type": "code",
   "execution_count": null,
   "metadata": {
    "deletable": false,
    "editable": false,
    "nbgrader": {
     "cell_type": "code",
     "checksum": "498c69367d754cceafb8c947acc6a8f3",
     "grade": false,
     "grade_id": "cell-9e2ea4902ac33840",
     "locked": true,
     "schema_version": 3,
     "solution": false,
     "task": false
    },
    "tags": []
   },
   "outputs": [],
   "source": [
    "# Test data. Do not alter.\n",
    "MENU_DEF = {'menu': {'id': 'file',\n",
    "          'popups': [{'language': 'English',\n",
    "                      'menuitem': [{'onclick': 'CreateNewDoc()',\n",
    "                                    'value': 'New'},\n",
    "                                   {'onclick': 'OpenDoc()', 'value': 'Open'},\n",
    "                                   {'onclick': 'CloseDoc()',\n",
    "                                    'value': 'Close'}]},\n",
    "                     {'language': 'Deutsch',\n",
    "                      'menuitem': [{'onclick': 'CreateNewDoc()',\n",
    "                                    'value': 'Neu'},\n",
    "                                   {'onclick': 'OpenDoc()', 'value': 'Offen'},\n",
    "                                   {'onclick': 'CloseDoc()',\n",
    "                                    'value': 'Schließen'}]}]}}\n"
   ]
  },
  {
   "cell_type": "code",
   "execution_count": null,
   "metadata": {
    "deletable": false,
    "nbgrader": {
     "cell_type": "code",
     "checksum": "513f2ed7a7c9ae7f79e817a8ae143a89",
     "grade": false,
     "grade_id": "cell-3q11a03d040b9e6cfd1",
     "locked": false,
     "schema_version": 3,
     "solution": true,
     "task": false
    },
    "tags": []
   },
   "outputs": [],
   "source": [
    "# Write your solution here\n",
    "\n",
    "# YOUR CODE HERE\n",
    "raise NotImplementedError()"
   ]
  },
  {
   "cell_type": "code",
   "execution_count": null,
   "metadata": {
    "deletable": false,
    "editable": false,
    "nbgrader": {
     "cell_type": "code",
     "checksum": "6db35bb7a9e354b9b403d0e67b3b487c",
     "grade": true,
     "grade_id": "q11-1-menu-def",
     "locked": true,
     "points": 5,
     "schema_version": 3,
     "solution": false,
     "task": false
    }
   },
   "outputs": [],
   "source": [
    "# Testing Cell (Do NOT modify this cell)"
   ]
  },
  {
   "cell_type": "markdown",
   "metadata": {},
   "source": [
    "#### Question 12 &nbsp;&nbsp;&nbsp;&nbsp;&nbsp;&nbsp;(10 Points)\n",
    "\n",
    "You are provided with the JSON file `glossary.json`. Deserialise the file and navigate the created representation of the JSON file to find the value of the name:value pair with key `\"GlossSeeAlso\"`. Assign this list to the Python variable `see_also_list`.\n",
    "\n",
    "For example, to find the value for the key `\"GlossDiv\"` it would be necessary to open the file, deserialise it to a Python object (say `glossary`) and then navigate the mix of dictionaries and lists to find:\n",
    "\n",
    "```python\n",
    "    # deserialise to 'glossary'\n",
    "    div = glossary['glossary']['GlossDiv']\n",
    "    print (div)\n",
    "    ...\n",
    "    {'GlossList': {'GlossEntry': {'Abbrev': 'ISO 8879:1986',\n",
    "                              'Acronym': 'SGML',\n",
    "                               ...   \n",
    "```      \n",
    "\n",
    "In this case we are accessing the nested dictionaries using `glossary['glossary']['GlossDiv']`.\n",
    "\n",
    "---\n",
    "<details>\n",
    "  <summary><span style=\"color:blue\">Navigating a JSON representation</span></summary>\n",
    "    After deserialisation, we know that Python's representation of a JSON file is a mix of dictionaries and lists. Once you deserialise a file, it is often helpful to print or pretty print (from the library <code>pprint</code>) the variable and compare the name:value pairs with the original file. Alternately, open the JSON file in Jupyter Notebook - this does a great job of allowing traversal of nested dictionaries that are the hallmark of complex JSON representations.\n",
    "</details>"
   ]
  },
  {
   "cell_type": "code",
   "execution_count": null,
   "metadata": {
    "deletable": false,
    "nbgrader": {
     "cell_type": "code",
     "checksum": "7ff4f3d0e5518e75e1b917674b7a63b7",
     "grade": false,
     "grade_id": "q12",
     "locked": false,
     "schema_version": 3,
     "solution": true,
     "task": false
    },
    "tags": []
   },
   "outputs": [],
   "source": [
    "# Write your solution here\n",
    "# YOUR CODE HERE\n",
    "raise NotImplementedError()"
   ]
  },
  {
   "cell_type": "code",
   "execution_count": null,
   "metadata": {
    "deletable": false,
    "editable": false,
    "nbgrader": {
     "cell_type": "code",
     "checksum": "cdb545705ae399cb1e0c0f56a73a8147",
     "grade": true,
     "grade_id": "q12-1-glossary",
     "locked": true,
     "points": 10,
     "schema_version": 3,
     "solution": false,
     "task": false
    }
   },
   "outputs": [],
   "source": [
    "# Testing Cell (Do NOT modify this cell)"
   ]
  },
  {
   "cell_type": "markdown",
   "metadata": {},
   "source": [
    "#### Question 13 &nbsp;&nbsp;&nbsp;&nbsp;&nbsp;&nbsp;(10 Points)\n",
    "\n",
    "Let's append 'JSON' to the \"See also\" entry of the glossary item on SGML. In the list identified by the key/name `GlossSeeAlso`, append `'JSON'` to the list of `['GML', 'XML']` and write the amended glossary to the file `json-glossary.json`."
   ]
  },
  {
   "cell_type": "code",
   "execution_count": null,
   "metadata": {
    "deletable": false,
    "nbgrader": {
     "cell_type": "code",
     "checksum": "6b61bd2cde810d6e3f8f01d0650ac9b5",
     "grade": false,
     "grade_id": "q13",
     "locked": false,
     "schema_version": 3,
     "solution": true,
     "task": false
    },
    "tags": []
   },
   "outputs": [],
   "source": [
    "# Write your solution here\n",
    "\n",
    "# YOUR CODE HERE\n",
    "raise NotImplementedError()"
   ]
  },
  {
   "cell_type": "code",
   "execution_count": null,
   "metadata": {
    "deletable": false,
    "editable": false,
    "nbgrader": {
     "cell_type": "code",
     "checksum": "250a1d10735c07ef80f5457009f3e066",
     "grade": true,
     "grade_id": "q13-1-append-glossary",
     "locked": true,
     "points": 10,
     "schema_version": 3,
     "solution": false,
     "task": false
    }
   },
   "outputs": [],
   "source": [
    "# Testing Cell (Do NOT modify this cell)"
   ]
  },
  {
   "cell_type": "markdown",
   "metadata": {},
   "source": [
    "#### Question 14 &nbsp;&nbsp;&nbsp;&nbsp;&nbsp;&nbsp;(5 Points)\n",
    "\n",
    "Given the string of JSON data in the cell below, convert this into a Python representation and add a new person's details as:\n",
    "  - **name**: Menasha, \n",
    "  - **age**: 21 and \n",
    "  - **postcode**: 5000.  \n",
    " \n",
    "You should now have a Python list with four elements all having identical dictionary keys. Serialise your list to a new file `json-string.json`. "
   ]
  },
  {
   "cell_type": "code",
   "execution_count": null,
   "metadata": {
    "deletable": false,
    "editable": false,
    "nbgrader": {
     "cell_type": "code",
     "checksum": "ca789e9f8f19a3efe334dd475079bdd8",
     "grade": false,
     "grade_id": "cell-3051ec784a8799a9",
     "locked": true,
     "schema_version": 3,
     "solution": false,
     "task": false
    },
    "tags": []
   },
   "outputs": [],
   "source": [
    "# Test data. Do not alter.\n",
    "JSON_STRING = '''[ {\"name\": \"Ali\",   \"age\": 52, \"postcode\": 5002},\n",
    "                   {\"name\": \"Ye\",    \"age\": 18, \"postcode\": 3005},\n",
    "                   {\"name\": \"Matty\", \"age\": 97, \"postcode\": 6061}\n",
    "              ]'''"
   ]
  },
  {
   "cell_type": "code",
   "execution_count": null,
   "metadata": {
    "deletable": false,
    "nbgrader": {
     "cell_type": "code",
     "checksum": "d6064ecb74eb083f743b3efe54286047",
     "grade": false,
     "grade_id": "q14",
     "locked": false,
     "schema_version": 3,
     "solution": true,
     "task": false
    },
    "tags": []
   },
   "outputs": [],
   "source": [
    "# Write your solution here\n",
    "\n",
    "# YOUR CODE HERE\n",
    "raise NotImplementedError()"
   ]
  },
  {
   "cell_type": "code",
   "execution_count": null,
   "metadata": {
    "deletable": false,
    "editable": false,
    "nbgrader": {
     "cell_type": "code",
     "checksum": "ff96d4cab24548f928ece3326248e031",
     "grade": true,
     "grade_id": "q14-1-convert-json",
     "locked": true,
     "points": 5,
     "schema_version": 3,
     "solution": false,
     "task": false
    }
   },
   "outputs": [],
   "source": [
    "# Testing Cell (Do NOT modify this cell)"
   ]
  },
  {
   "cell_type": "markdown",
   "metadata": {},
   "source": [
    "#### Question 15 &nbsp;&nbsp;&nbsp;&nbsp;&nbsp;&nbsp;(5 Points)\n",
    "\n",
    "Write a Python program to create a JSON file `encode-decode.json` that stores a list of the following Python values:\n",
    "\n",
    "- None\n",
    "- True\n",
    "- False\n",
    "- an empty list\n",
    "- an empty string\n",
    "- an empty dict\n",
    "- integer 0\n",
    "- float 1.0\n",
    "\n",
    "Open the file in a text editor and observe the transcoding between Python values and their representation in JSON - in particular the handling of essentially empty objects."
   ]
  },
  {
   "cell_type": "code",
   "execution_count": null,
   "metadata": {
    "deletable": false,
    "nbgrader": {
     "cell_type": "code",
     "checksum": "73b0ff0627ecf48aaa61a46b5406b490",
     "grade": false,
     "grade_id": "q15",
     "locked": false,
     "schema_version": 3,
     "solution": true,
     "task": false
    },
    "tags": []
   },
   "outputs": [],
   "source": [
    "# Write your solution here\n",
    "\n",
    "# YOUR CODE HERE\n",
    "raise NotImplementedError()"
   ]
  },
  {
   "cell_type": "code",
   "execution_count": null,
   "metadata": {
    "deletable": false,
    "editable": false,
    "nbgrader": {
     "cell_type": "code",
     "checksum": "a07ea23d4b1db679a7d9d94b1d2daafb",
     "grade": true,
     "grade_id": "q15-1-encode-decode",
     "locked": true,
     "points": 5,
     "schema_version": 3,
     "solution": false,
     "task": false
    }
   },
   "outputs": [],
   "source": [
    "# Testing Cell (Do NOT modify this cell)"
   ]
  },
  {
   "cell_type": "markdown",
   "metadata": {},
   "source": [
    "#### Question 16 &nbsp;&nbsp;&nbsp;&nbsp;&nbsp;&nbsp;(10 Points)\n",
    "\n",
    "We can get a string of JSON text from a website or API using the `request` library. The function call to invoke a request is as follows:\n",
    "```python\n",
    "import requests\n",
    "web_request = requests.get(<some url>)\n",
    "json_string = web_request.text\n",
    "```\n",
    "We can then convert the JSON string into a Python object using `json.loads()` as we already know.\n",
    "\n",
    "Write a program that makes a web request to the URL:  \n",
    "&nbsp;&nbsp;&nbsp;&nbsp;   https://jsonplaceholder.typicode.com/todos <br />\n",
    "for a JSON string. Observe that this is a list of \"todo list\" items. \n",
    "\n",
    "Once you have this list of items (Python dictionaries), set the 'completed' field for each of the first four todo list item to `False` and save to the file `todo-list.json`. Discard the rest of the todo list."
   ]
  },
  {
   "cell_type": "code",
   "execution_count": null,
   "metadata": {
    "deletable": false,
    "nbgrader": {
     "cell_type": "code",
     "checksum": "59391aa47a9b966123901614cae70b1b",
     "grade": false,
     "grade_id": "q16",
     "locked": false,
     "schema_version": 3,
     "solution": true,
     "task": false
    },
    "tags": []
   },
   "outputs": [],
   "source": [
    "# Write your solution here\n",
    "\n",
    "# YOUR CODE HERE\n",
    "raise NotImplementedError()"
   ]
  },
  {
   "cell_type": "code",
   "execution_count": null,
   "metadata": {
    "deletable": false,
    "editable": false,
    "nbgrader": {
     "cell_type": "code",
     "checksum": "590476da188d5781562ccdc52df86ff3",
     "grade": true,
     "grade_id": "q16-1-request-api",
     "locked": true,
     "points": 10,
     "schema_version": 3,
     "solution": false,
     "task": false
    },
    "tags": []
   },
   "outputs": [],
   "source": [
    "# Testing Cell (Do NOT modify this cell)"
   ]
  }
 ],
 "metadata": {
  "kernelspec": {
   "display_name": "Python 3 (ipykernel)",
   "language": "python",
   "name": "python3"
  },
  "language_info": {
   "codemirror_mode": {
    "name": "ipython",
    "version": 3
   },
   "file_extension": ".py",
   "mimetype": "text/x-python",
   "name": "python",
   "nbconvert_exporter": "python",
   "pygments_lexer": "ipython3",
   "version": "3.9.13"
  },
  "varInspector": {
   "cols": {
    "lenName": 16,
    "lenType": 16,
    "lenVar": 40
   },
   "kernels_config": {
    "python": {
     "delete_cmd_postfix": "",
     "delete_cmd_prefix": "del ",
     "library": "var_list.py",
     "varRefreshCmd": "print(var_dic_list())"
    },
    "r": {
     "delete_cmd_postfix": ") ",
     "delete_cmd_prefix": "rm(",
     "library": "var_list.r",
     "varRefreshCmd": "cat(var_dic_list()) "
    }
   },
   "types_to_exclude": [
    "module",
    "function",
    "builtin_function_or_method",
    "instance",
    "_Feature"
   ],
   "window_display": false
  },
  "vscode": {
   "interpreter": {
    "hash": "0ac57d2eed93d1985c061356ac1b47099e5703f3945d87a36acb05b5379e5e68"
   }
  }
 },
 "nbformat": 4,
 "nbformat_minor": 4
}
