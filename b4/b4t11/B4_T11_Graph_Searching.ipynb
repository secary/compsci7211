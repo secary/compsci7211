{
 "cells": [
  {
   "cell_type": "markdown",
   "metadata": {},
   "source": [
    "### Instructions:\n",
    "\n",
    "- You can attempt any number of questions and in any order.  \n",
    "  See the assignment page for a description of the hurdle requirement for this assessment.\n",
    "- You may submit your practical for autograding as many times as you like to check on progress, however you will save time by checking and testing your own code before submitting.\n",
    "- Develop and check your answers in the spaces provided.\n",
    "- **Replace** the code `raise NotImplementedError()` with your solution to the question.\n",
    "- Do **NOT** remove any variables other provided markings already provided in the answer spaces.\n",
    "- Do **NOT** make any changes to this notebook outside of the spaces indicated.  \n",
    "  (If you do this, the submission system might not accept your work)\n",
    "\n",
    "### Submitting:\n",
    "\n",
    "1. Before you turn this problem in, make sure everything runs as expected by resetting this notebook.    \n",
    "   (You can do this from the menubar above by selecting `Kernel`&#8594;`Restart Kernel and Run All Cells...`)\n",
    "1. Don't forget to save your notebook after this step.\n",
    "1. Submit your .ipynb file to Gradescope via file upload or GitHub repository.\n",
    "1. You can submit as many times as needed.\n",
    "1. You **must** give your submitted file the **identical** filename to that which you downloaded without changing **any** aspects - spaces, underscores, capitalisation etc. If your operating system has changed the filename because you downloaded the file twice or more you **must** also fix this.  \n",
    "\n"
   ]
  },
  {
   "cell_type": "markdown",
   "metadata": {},
   "source": [
    "---"
   ]
  },
  {
   "cell_type": "markdown",
   "metadata": {
    "tags": []
   },
   "source": [
    "# <mark style=\"background: #843fa1; color: #ffffff;\" >&nbsp;B4&nbsp;</mark>&ensp;Topic 11: Graph Searching"
   ]
  },
  {
   "cell_type": "markdown",
   "metadata": {},
   "source": [
    "This practical assumes that you are familiar with the object-oriented sample implementation of graphs presented in the course. This reference code is provided to allow you to extend the provided classes using (single or multi-level) inheritance. Do not modify this base code (which the autograder also relies upon) but rather extend the classes in order to answer the questions below. If you prefer to create your own base classes, simply use different class names.\n",
    "\n",
    "You are not compelled to make use of the provided code and may answer the questions as you see fit."
   ]
  },
  {
   "cell_type": "code",
   "execution_count": 96,
   "metadata": {
    "deletable": false,
    "editable": false,
    "nbgrader": {
     "cell_type": "code",
     "checksum": "a62d2908118aeea7779ea30b81f144df",
     "grade": false,
     "grade_id": "cell-6a025028c7f743bf",
     "locked": true,
     "schema_version": 3,
     "solution": false,
     "task": false
    },
    "tags": []
   },
   "outputs": [],
   "source": [
    "# Do not modify this cell. \n",
    "from collections import deque\n",
    "\n",
    "class GraphVertex:\n",
    "\n",
    "    def __init__(self, vertex_id = None):\n",
    "        self._id = vertex_id\n",
    "        self._adjacent = dict()\n",
    "\n",
    "    def __str__(self):\n",
    "        return 'id: ' + str(self._id) + ', adjacent: ' + str([x._id for x in self._adjacent.values()])\n",
    "\n",
    "    def add_neighbour(self, neighbour):\n",
    "        self._adjacent[neighbour._id] = neighbour\n",
    "\n",
    "    def get_connections(self):\n",
    "        return self._adjacent.values()  \n",
    "\n",
    "    def set_id(self, vertex_id):\n",
    "        self._id = vertex_id\n",
    "\n",
    "    def get_id(self):\n",
    "        return self._id\n",
    "                \n",
    "class Graph:\n",
    "    \n",
    "    def __init__(self):\n",
    "        self._vertex_dict = dict()\n",
    "            \n",
    "    def print_graph(self):\n",
    "        for v in self._vertex_dict.values():\n",
    "            print (v)\n",
    "\n",
    "    def add_vertex(self, vertex_id):\n",
    "        v = GraphVertex(vertex_id)\n",
    "        self._vertex_dict[vertex_id] = v\n",
    "        return v\n",
    "    \n",
    "    def get_vertex(self, vertex_id):\n",
    "        return self._vertex_dict[vertex_id]\n",
    "\n",
    "    def get_vertex_dict (self):\n",
    "        return self._vertex_dict\n",
    "    \n",
    "    def add_edge (self, v1, v2):\n",
    "        v1.add_neighbour (v2)\n",
    "        v2.add_neighbour (v1)"
   ]
  },
  {
   "cell_type": "markdown",
   "metadata": {},
   "source": [
    "#### Question 01 &nbsp;&nbsp;&nbsp;&nbsp;&nbsp;&nbsp;(5 Points)\n",
    "\n",
    "Write a class `Q1Vertex` with protected instance variables `id` and `weight`. Add (or inherit) the following public methods:\n",
    "```python\n",
    "    def set_id (self, vertex_id):\n",
    "        ...\n",
    "    def get_id (self):\n",
    "        ...    \n",
    "    def set_weight (self, weight):\n",
    "        ...\n",
    "    def get_weight (self):\n",
    "        ...    \n",
    "```"
   ]
  },
  {
   "cell_type": "code",
   "execution_count": 97,
   "metadata": {
    "deletable": false,
    "nbgrader": {
     "cell_type": "code",
     "checksum": "c346d576aa7db04eb0e60b2a1d8c2d48",
     "grade": false,
     "grade_id": "q1",
     "locked": false,
     "schema_version": 3,
     "solution": true,
     "task": false
    },
    "tags": []
   },
   "outputs": [],
   "source": [
    "\n",
    "# YOUR CODE HERE\n",
    "class Q1Vertex(GraphVertex):\n",
    "    def __init__(self, vertex_id=None, weight=None):\n",
    "        super().__init__(vertex_id)\n",
    "        self._weight = weight\n",
    "        \n",
    "        \n",
    "    def set_id(self, vertex_id):\n",
    "        return super().set_id(vertex_id)\n",
    "    \n",
    "    def get_id(self):\n",
    "        return super().get_id()\n",
    "    \n",
    "    def set_weight(self, edge_weight):\n",
    "        self._weight = edge_weight\n",
    "        \n",
    "    def get_weight(self):\n",
    "        return self._weight"
   ]
  },
  {
   "cell_type": "code",
   "execution_count": 98,
   "metadata": {
    "deletable": false,
    "editable": false,
    "nbgrader": {
     "cell_type": "code",
     "checksum": "498a780c3b4f5e4414b16a4c969241e1",
     "grade": true,
     "grade_id": "q1-vertex",
     "locked": true,
     "points": 5,
     "schema_version": 3,
     "solution": false,
     "task": false
    },
    "tags": []
   },
   "outputs": [],
   "source": [
    "# Testing Cell (Do NOT modify this cell)"
   ]
  },
  {
   "cell_type": "markdown",
   "metadata": {},
   "source": [
    "#### Question 02 &nbsp;&nbsp;&nbsp;&nbsp;&nbsp;&nbsp;(5 Points)\n",
    "\n",
    "Extend `Q1Vertex` to create a class `Q2Vertex` to allow a neighbour to be added via an undirected, weighted edge as follows:\n",
    "```python\n",
    "class Q2Vertex(Q1Vertex):\n",
    "    ...\n",
    "    def add_undirected (self, vertex, edge_weight):\n",
    "        ''' Add a neighbouring vertex with the given edge weighting.'''\n",
    "        \n",
    "    def get_neighbours (self):\n",
    "        ''' Return a list of neighbours as tuples of (id, edge_weight). '''\n",
    "```\n",
    "For example, given three neighbouring vertices with id's '2', '3' & '4' and weightings to those vertices of '3.4', '4.7' & '1.4' respectively, `get_neighbours` would return a list `[('2', 3.4), ('3', 4.7), ('4', 1.4)]`. \n"
   ]
  },
  {
   "cell_type": "code",
   "execution_count": 99,
   "metadata": {
    "deletable": false,
    "nbgrader": {
     "cell_type": "code",
     "checksum": "3ea9f5bd835bcbbc2a8a834c6b36b539",
     "grade": false,
     "grade_id": "q2",
     "locked": false,
     "schema_version": 3,
     "solution": true,
     "task": false
    },
    "tags": []
   },
   "outputs": [],
   "source": [
    "\n",
    "# YOUR CODE HERE\n",
    "class Q2Vertex(Q1Vertex):\n",
    "    def __init__(self, vertex_id=None, weight=None):\n",
    "        super().__init__(vertex_id, weight)\n",
    "        \n",
    "    def add_undirected (self, vertex: Q1Vertex, edge_weight):\n",
    "        ''' Add a neighbouring vertex with the given edge weighting.'''\n",
    "        self.add_neighbour(vertex)\n",
    "        vertex.add_neighbour(self)\n",
    "        \n",
    "        self.set_weight(edge_weight)\n",
    "        vertex.set_weight(edge_weight)\n",
    "        \n",
    "        \n",
    "    def get_neighbours (self):\n",
    "        ''' Return a list of neighbours as tuples of (id, edge_weight). '''\n",
    "        return [(neighbour.get_id(), neighbour.get_weight()) for neighbour in self._adjacent.values()]"
   ]
  },
  {
   "cell_type": "code",
   "execution_count": 100,
   "metadata": {},
   "outputs": [],
   "source": [
    "# Sample test case\n",
    "\n",
    "v1 = Q2Vertex('1')\n",
    "v2 = Q2Vertex('2')\n",
    "v3 = Q2Vertex('3')\n",
    "v4 = Q2Vertex('4')\n",
    "v1.add_undirected (v2, 3.4)\n",
    "v1.add_undirected (v3, 4.7)\n",
    "v1.add_undirected (v4, 1.4)\n",
    "\n",
    "n = v1.get_neighbours()\n",
    "assert ('2', 3.4) in n and ('3', 4.7) in n and ('4', 1.4) in n"
   ]
  },
  {
   "cell_type": "code",
   "execution_count": 101,
   "metadata": {
    "deletable": false,
    "editable": false,
    "nbgrader": {
     "cell_type": "code",
     "checksum": "eb6686983de38b77378bb1b06f841725",
     "grade": true,
     "grade_id": "q2-neighbours",
     "locked": true,
     "points": 5,
     "schema_version": 3,
     "solution": false,
     "task": false
    },
    "tags": []
   },
   "outputs": [],
   "source": [
    "# Testing Cell (Do NOT modify this cell)"
   ]
  },
  {
   "cell_type": "markdown",
   "metadata": {},
   "source": [
    "#### Question 03 &nbsp;&nbsp;&nbsp;&nbsp;&nbsp;&nbsp;(10 Points)\n",
    "\n",
    "Extend `Q2Vertex` to create a class `Q3Vertex` with a function that returns the degree of the vertex:\n",
    "```python\n",
    "class Q3Vertex(Q2Vertex):\n",
    "    def degree(self):\n",
    "        ''' \n",
    "        Return the degree of this vertex as the number of edges\n",
    "        that connect this vertex to others.\n",
    "        '''\n",
    "```    "
   ]
  },
  {
   "cell_type": "code",
   "execution_count": 102,
   "metadata": {
    "deletable": false,
    "nbgrader": {
     "cell_type": "code",
     "checksum": "00c73fbaf299d5e83afc09d70d75ed8c",
     "grade": false,
     "grade_id": "q3",
     "locked": false,
     "schema_version": 3,
     "solution": true,
     "task": false
    },
    "tags": []
   },
   "outputs": [],
   "source": [
    "\n",
    "# YOUR CODE HERE\n",
    "class Q3Vertex(Q2Vertex):\n",
    "    def __init__(self, vertex_id=None, weight=None):\n",
    "        super().__init__(vertex_id, weight)\n",
    "        \n",
    "    def degree(self):\n",
    "        return len(self._adjacent)"
   ]
  },
  {
   "cell_type": "code",
   "execution_count": 103,
   "metadata": {},
   "outputs": [],
   "source": [
    "# Sample test case\n",
    "\n",
    "v1 = Q3Vertex('1')\n",
    "v2 = Q3Vertex('2')\n",
    "v3 = Q3Vertex('3')\n",
    "v4 = Q3Vertex('4')\n",
    "v1.add_undirected (v2, 3.4)\n",
    "v1.add_undirected (v3, 4.7)\n",
    "v1.add_undirected (v4, 1.4)\n",
    "\n",
    "assert v1.degree() == 3"
   ]
  },
  {
   "cell_type": "code",
   "execution_count": 104,
   "metadata": {
    "deletable": false,
    "editable": false,
    "nbgrader": {
     "cell_type": "code",
     "checksum": "6fd2c379be184beaaa62e30112baf678",
     "grade": true,
     "grade_id": "q3-degree",
     "locked": true,
     "points": 10,
     "schema_version": 3,
     "solution": false,
     "task": false
    }
   },
   "outputs": [],
   "source": [
    "# Testing Cell (Do NOT modify this cell)"
   ]
  },
  {
   "cell_type": "markdown",
   "metadata": {},
   "source": [
    "#### Question 04 &nbsp;&nbsp;&nbsp;&nbsp;&nbsp;&nbsp;(10 Points)\n",
    "\n",
    "Extend `Q3Vertex` to create a class `Q4Vertex` that supports a directed graph with the function `add_directed` that indicates with the flag `traversable` whether the edge can be traversed from `self` to `target_vertex`. Secondly, add a function that returns True when a vertex (**identified by id**) is adjacent and traversable. \n",
    "```python\n",
    "class Q4Vertex(Q3Vertex):\n",
    "    ...\n",
    "    def add_directed (self, target_vertex, edge_weight, traversable):\n",
    "        '''\n",
    "        Add a neighbouring vertex object with the given edge weighting that records if the edge is traversable.\n",
    "        '''\n",
    "    def is_adjacent (self, target_id):\n",
    "        '''\n",
    "        Returns True when the target_id identifies a vertex that is adjacent and traversable. Otherwise False.\n",
    "        '''\n",
    "```\n",
    "For example, given an edge-weighted directed graph:</br>\n",
    "<img src=\"https://i.stack.imgur.com/7C2kD.png\" alt=\"edge-weighted directed graph\" style=\"height: 307px; width: 503px; align: left\"></br>\n",
    "A call to `vertex_B.is_adjacent('C')` would return `True`."
   ]
  },
  {
   "cell_type": "code",
   "execution_count": 105,
   "metadata": {
    "deletable": false,
    "nbgrader": {
     "cell_type": "code",
     "checksum": "7cf99a9c0694c133362fc795dcd19521",
     "grade": false,
     "grade_id": "q4",
     "locked": false,
     "schema_version": 3,
     "solution": true,
     "task": false
    },
    "tags": []
   },
   "outputs": [],
   "source": [
    "\n",
    "# YOUR CODE HERE\n",
    "class Q4Vertex(Q3Vertex):\n",
    "    def __init__(self, vertex_id=None, weight=None):\n",
    "        super().__init__(vertex_id, weight)\n",
    "        self._edges = {}\n",
    "        \n",
    "    def add_directed(self, target_vertex: Q3Vertex, edge_weight, traversable: bool):\n",
    "        if traversable:\n",
    "            self.add_neighbour(target_vertex)\n",
    "            target_vertex.set_weight(edge_weight)\n",
    "            self._edges[target_vertex] = edge_weight\n",
    "            \n",
    "            \n",
    "    def is_adjacent(self, target_id):\n",
    "        vertecies = list(self._edges.keys())\n",
    "        return target_id in [vertex.get_id() for vertex in vertecies]\n",
    "    \n",
    "    def get_edges(self):\n",
    "        return self._edges"
   ]
  },
  {
   "cell_type": "code",
   "execution_count": 106,
   "metadata": {},
   "outputs": [],
   "source": [
    "# Sample test case\n",
    "\n",
    "vA = Q4Vertex('A')\n",
    "vB = Q4Vertex('B')\n",
    "vA.add_directed (vB, 1.2, True)\n",
    "assert vA.is_adjacent('B')"
   ]
  },
  {
   "cell_type": "code",
   "execution_count": 107,
   "metadata": {
    "deletable": false,
    "editable": false,
    "nbgrader": {
     "cell_type": "code",
     "checksum": "e5b09151608651cd96ffcf08c5208a77",
     "grade": true,
     "grade_id": "q4-directed",
     "locked": true,
     "points": 10,
     "schema_version": 3,
     "solution": false,
     "task": false
    }
   },
   "outputs": [],
   "source": [
    "# Testing Cell (Do NOT modify this cell)"
   ]
  },
  {
   "cell_type": "markdown",
   "metadata": {},
   "source": [
    "#### Question 05 &nbsp;&nbsp;&nbsp;&nbsp;&nbsp;&nbsp;(10 Points)\n",
    "\n",
    "Extend `Q4Vertex` to create a class `Q5Vertex` that produces an adjacency list for a directed graph in the form of a list of tuples with (id, edge_weight).\n",
    "```python\n",
    "        def get_adjacency_list (self):\n",
    "        ''' Return a list of traversable neighbours as tuples of\n",
    "        (id, edge_weight).'''\n",
    "```\n",
    "In the example directed graph above, a call to `vertex_B.get_adjacency_list()` would return `[('C', 3), ('D', 2), ('E', 1)]`."
   ]
  },
  {
   "cell_type": "code",
   "execution_count": 108,
   "metadata": {
    "deletable": false,
    "nbgrader": {
     "cell_type": "code",
     "checksum": "a5616b46e846e06de0743cb86a7e75bd",
     "grade": false,
     "grade_id": "q5",
     "locked": false,
     "schema_version": 3,
     "solution": true,
     "task": false
    },
    "tags": []
   },
   "outputs": [],
   "source": [
    "\n",
    "# YOUR CODE HERE\n",
    "class Q5Vertex(Q4Vertex):\n",
    "    def __init__(self, vertex_id=None, weight=None):\n",
    "        super().__init__(vertex_id, weight)\n",
    "        \n",
    "    def get_adjacency_list(self):\n",
    "        return self.get_neighbours()\n",
    "    \n",
    "    def get_edges(self):\n",
    "        return self._edges\n",
    "    \n",
    "    "
   ]
  },
  {
   "cell_type": "code",
   "execution_count": 109,
   "metadata": {},
   "outputs": [
    {
     "data": {
      "text/plain": [
       "{<__main__.Q5Vertex at 0x7f91a9ab0760>: 3,\n",
       " <__main__.Q5Vertex at 0x7f91a9aa2410>: 2,\n",
       " <__main__.Q5Vertex at 0x7f91a9cc1f60>: 1}"
      ]
     },
     "execution_count": 109,
     "metadata": {},
     "output_type": "execute_result"
    }
   ],
   "source": [
    "# Sample test case\n",
    "\n",
    "vvA = Q5Vertex('A')\n",
    "vvB = Q5Vertex('B')\n",
    "vvC = Q5Vertex('C')\n",
    "vvD = Q5Vertex('D')\n",
    "vvE = Q5Vertex('E')\n",
    "vvA.add_directed (vvB, 1, True)\n",
    "vvB.add_directed (vvA, 0, False)\n",
    "vvB.add_directed (vvC, 3, True)\n",
    "vvB.add_directed (vvD, 2, True)\n",
    "vvB.add_directed (vvE, 1, True)\n",
    "\n",
    "al = vvB.get_adjacency_list ()\n",
    "al\n",
    "assert ('C', 3) in al and ('D', 2) in al and ('E', 1) in al\n",
    "vvB.get_edges()"
   ]
  },
  {
   "cell_type": "code",
   "execution_count": 110,
   "metadata": {
    "deletable": false,
    "editable": false,
    "nbgrader": {
     "cell_type": "code",
     "checksum": "5aa1982da598fe4e39b0322b334ce9d5",
     "grade": true,
     "grade_id": "q5-adjacency-list",
     "locked": true,
     "points": 10,
     "schema_version": 3,
     "solution": false,
     "task": false
    }
   },
   "outputs": [],
   "source": [
    "# Testing Cell (Do NOT modify this cell)"
   ]
  },
  {
   "cell_type": "markdown",
   "metadata": {
    "tags": []
   },
   "source": [
    "#### Question 06 &nbsp;&nbsp;&nbsp;&nbsp;&nbsp;&nbsp;(10 Points)\n",
    "\n",
    "Create a class `Q6Graph` that represents a directed graph containing a set of edge-weighted vertices. Add methods that allow the addition of vertices and edges according to the function definitions below and a function `get_iterative_dfs_path_edge_weight` that finds **any** traversable path between a start and stop vertice using an **iterative** Depth First Search and returns the sum of the edge weights on the path traversed.\n",
    "```python\n",
    "class Q6Graph:\n",
    "\n",
    "    def add_vertex(self, vertex_id):\n",
    "        ''' \n",
    "        Returns a vertex to the graph with the given id. \n",
    "        '''\n",
    "    def add_directed_edge_with_weight(self, source_id, destination_id, weight):       \n",
    "        ''' \n",
    "        Add a directed edge from the vertex with id 'source_id' to the vertex \n",
    "        with id 'destination_id' and apply a weight.\n",
    "        '''\n",
    "    def get_iterative_dfs_path_edge_weight(self, start_id, stop_id):\n",
    "        ''' \n",
    "        Return the sum of edge weights between start and stop vertices\n",
    "        using DFS.\n",
    "        '''\n",
    "```\n",
    "\n",
    "For example, in the graph depicted above, a call:\n",
    "```python\n",
    "    my_graph.get_iterative_dfs_path_edge_weight('G', 'A') \n",
    "```\n",
    "would return the integer `3`."
   ]
  },
  {
   "cell_type": "code",
   "execution_count": 134,
   "metadata": {
    "deletable": false,
    "nbgrader": {
     "cell_type": "code",
     "checksum": "45d24ceb8b9b5ce730d79b978b5131c2",
     "grade": false,
     "grade_id": "q6",
     "locked": false,
     "schema_version": 3,
     "solution": true,
     "task": false
    },
    "tags": []
   },
   "outputs": [],
   "source": [
    "\n",
    "# YOUR CODE HERE\n",
    "class Q6Graph():\n",
    "    def __init__(self):\n",
    "        self._vertex_dict = {}\n",
    "        \n",
    "    def print_graph(self):\n",
    "        for v in self._vertex_dict.values():\n",
    "            print(v)\n",
    "        \n",
    "    def print_edges(self):\n",
    "        for v in self._vertex_dict.values():\n",
    "            print({v.get_id(): v.get_edges()})\n",
    "            \n",
    "    def get_vertex(self, vertex_id):\n",
    "        return self._vertex_dict[vertex_id]\n",
    "    \n",
    "    def get_vertex_dict(self):\n",
    "        return self._vertex_dict\n",
    "    \n",
    "    def add_vertex(self, vertex_id):\n",
    "        if vertex_id not in self._vertex_dict:\n",
    "            v = Q5Vertex(vertex_id)\n",
    "            self._vertex_dict[vertex_id] = v\n",
    "        return self._vertex_dict[vertex_id]\n",
    "\n",
    "    def add_directed_edge_with_weight(self, source_id, destination_id, weight):       \n",
    "        ''' \n",
    "        Add a directed edge from the vertex with id 'source_id' to the vertex \n",
    "        with id 'destination_id' and apply a weight.\n",
    "        '''\n",
    "        source = self.add_vertex(source_id)\n",
    "        destination = self.add_vertex(destination_id)\n",
    "        source.add_directed(destination, weight, True)\n",
    "        \n",
    "    def get_iterative_dfs_path_edge_weight(self, start_id, stop_id):\n",
    "        ''' \n",
    "        Return the sum of edge weights between start and stop vertices\n",
    "        using DFS.\n",
    "        '''\n",
    "        if start_id not in self._vertex_dict or stop_id not in self._vertex_dict:\n",
    "            return None\n",
    "        \n",
    "        stack = [(start_id, 0)]\n",
    "        visit = set()\n",
    "        \n",
    "        while stack:\n",
    "            current, weight_sum = stack.pop()\n",
    "            \n",
    "            if current == stop_id:\n",
    "                return weight_sum\n",
    "            \n",
    "            if current not in visit:\n",
    "                visit.add(current)\n",
    "                for neighbor, weight in self._vertex_dict[current].get_edges().items():\n",
    "                    neighbor_id = neighbor.get_id()\n",
    "                    if neighbor_id not in visit:\n",
    "                        stack.append((neighbor_id, weight_sum + weight))\n",
    "                        \n",
    "        return None"
   ]
  },
  {
   "cell_type": "code",
   "execution_count": 135,
   "metadata": {},
   "outputs": [],
   "source": [
    "# Sample test case\n",
    "\n",
    "g = Q6Graph()\n",
    "vA = g.add_vertex('A')\n",
    "vB = g.add_vertex('B')\n",
    "vC = g.add_vertex('C')\n",
    "vD = g.add_vertex('D')\n",
    "vE = g.add_vertex('E')\n",
    "vF = g.add_vertex('F')\n",
    "vG = g.add_vertex('G')\n",
    "g.add_directed_edge_with_weight ('A', 'B', 1)\n",
    "g.add_directed_edge_with_weight ('B', 'C', 3)\n",
    "g.add_directed_edge_with_weight ('B', 'D', 2)\n",
    "g.add_directed_edge_with_weight ('B', 'E', 1)\n",
    "g.add_directed_edge_with_weight ('C', 'E', 4)\n",
    "g.add_directed_edge_with_weight ('C', 'D', 1)\n",
    "g.add_directed_edge_with_weight ('E', 'F', 3)\n",
    "g.add_directed_edge_with_weight ('D', 'A', 2)\n",
    "g.add_directed_edge_with_weight ('D', 'E', 2)\n",
    "g.add_directed_edge_with_weight ('G', 'D', 1)\n",
    "\n",
    "dfs_edge_weight = g.get_iterative_dfs_path_edge_weight('A', 'D')\n",
    "assert dfs_edge_weight in [3, 5]"
   ]
  },
  {
   "cell_type": "code",
   "execution_count": null,
   "metadata": {
    "deletable": false,
    "editable": false,
    "nbgrader": {
     "cell_type": "code",
     "checksum": "5e95cf0b515a90a7f618bdcd6c5f6bc2",
     "grade": true,
     "grade_id": "q6-iterative-dfs",
     "locked": true,
     "points": 10,
     "schema_version": 3,
     "solution": false,
     "task": false
    }
   },
   "outputs": [],
   "source": [
    "# Testing Cell (Do NOT modify this cell)"
   ]
  },
  {
   "cell_type": "markdown",
   "metadata": {
    "tags": []
   },
   "source": [
    "#### Question 07 &nbsp;&nbsp;&nbsp;&nbsp;&nbsp;&nbsp;(10 Points)\n",
    "\n",
    "Create a class `Q7Graph` that extends `Q6Graph` to add a method to do the same DFS as Question 6 using recursion:\n",
    "```python\n",
    "class Q7Graph:\n",
    "\n",
    "    def get_recursive_dfs_path_edge_weight(self, start_id, stop_id):\n",
    "        ''' Return the sum of edge weights between start and stop \n",
    "        vertices using a recursive DFS.'''\n",
    "```\n",
    "In a section test, you may be asked to demonstrate your mastery of both iterative and recursive solutions to these search algorithms. "
   ]
  },
  {
   "cell_type": "code",
   "execution_count": 138,
   "metadata": {
    "deletable": false,
    "nbgrader": {
     "cell_type": "code",
     "checksum": "eea9ad5cfaecfbb927ea1157f48c0faf",
     "grade": false,
     "grade_id": "q7",
     "locked": false,
     "schema_version": 3,
     "solution": true,
     "task": false
    },
    "tags": []
   },
   "outputs": [],
   "source": [
    "\n",
    "# YOUR CODE HERE\n",
    "class Q7Graph(Q6Graph):\n",
    "    def __init__(self):\n",
    "        super().__init__()\n",
    "\n",
    "    def get_recursive_dfs_path_edge_weight(self, start_id, stop_id):\n",
    "        ''' Return the sum of edge weights between start and stop \n",
    "        vertices using a recursive DFS.'''\n",
    "        def dfs(current, goal, visited=set()):\n",
    "            if current == goal:\n",
    "                return 0\n",
    "            \n",
    "            visited.add(current)\n",
    "            current_vertex = self.get_vertex(current)\n",
    "            \n",
    "            for neighbour, weight in current_vertex.get_edges().items():\n",
    "                neighbour_id = neighbour.get_id()\n",
    "                if neighbour_id not in visited:\n",
    "                    result = dfs(neighbour_id, goal, visited)\n",
    "                    if result is not None:\n",
    "                        return weight + result\n",
    "\n",
    "            return None\n",
    "        \n",
    "        weigh_sum = dfs(start_id, stop_id)\n",
    "        return weigh_sum if weigh_sum is not None else 0"
   ]
  },
  {
   "cell_type": "code",
   "execution_count": 139,
   "metadata": {},
   "outputs": [],
   "source": [
    "# Sample test case\n",
    "\n",
    "g = Q7Graph()\n",
    "va = g.add_vertex('A')\n",
    "vb = g.add_vertex('B')\n",
    "vc = g.add_vertex('C')\n",
    "vd = g.add_vertex('D')\n",
    "ve = g.add_vertex('E')\n",
    "vf = g.add_vertex('F')\n",
    "vg = g.add_vertex('G')\n",
    "g.add_directed_edge_with_weight ('A', 'B', 1)\n",
    "g.add_directed_edge_with_weight ('B', 'C', 3)\n",
    "g.add_directed_edge_with_weight ('B', 'D', 2)\n",
    "g.add_directed_edge_with_weight ('B', 'E', 1)\n",
    "g.add_directed_edge_with_weight ('C', 'E', 4)\n",
    "g.add_directed_edge_with_weight ('C', 'D', 1)\n",
    "g.add_directed_edge_with_weight ('E', 'F', 3)\n",
    "g.add_directed_edge_with_weight ('D', 'A', 2)\n",
    "g.add_directed_edge_with_weight ('D', 'E', 2)\n",
    "g.add_directed_edge_with_weight ('G', 'D', 1)\n",
    "\n",
    "assert g.get_recursive_dfs_path_edge_weight('D', 'C') == 6"
   ]
  },
  {
   "cell_type": "code",
   "execution_count": null,
   "metadata": {
    "deletable": false,
    "editable": false,
    "nbgrader": {
     "cell_type": "code",
     "checksum": "2364eddaa56a0acfde60240b95486c6f",
     "grade": true,
     "grade_id": "q7-recursive-dfs",
     "locked": true,
     "points": 15,
     "schema_version": 3,
     "solution": false,
     "task": false
    },
    "tags": []
   },
   "outputs": [],
   "source": [
    "# Testing Cell (Do NOT modify this cell)"
   ]
  },
  {
   "cell_type": "markdown",
   "metadata": {
    "tags": []
   },
   "source": [
    "#### Question 08 &nbsp;&nbsp;&nbsp;&nbsp;&nbsp;&nbsp;(10 Points)\n",
    "\n",
    "Extend the class `Q7Graph` to create `Q8Graph` with a method:\n",
    "```python\n",
    "    def add_undirected (self, v1, v2):\n",
    "```\n",
    "to add undirected edges between vertices and a function:\n",
    "```python\n",
    "    def iterative_bfs_path_exists (self, v1, v2):\n",
    "```\n",
    "that searches an undirected graph using an **iterative** Breadth First Search from the vertex `v1` to `v2` and returns `True` if a traversible path from the start and stop vertices.\n",
    "\n",
    "For example, in the graph:</br>\n",
    "<img src=\"https://www.log2base2.com/images/ds/undirected-graph.png\" alt=\"udirected graph\"></br>\n",
    "a call:\n",
    "```python\n",
    "    my_graph.iterative_bfs_path_exists(vertex_0, vertex_4)\n",
    "```\n",
    "would return `True`. But searching for an unconnected vertex would return `False`."
   ]
  },
  {
   "cell_type": "code",
   "execution_count": null,
   "metadata": {
    "deletable": false,
    "nbgrader": {
     "cell_type": "code",
     "checksum": "0e2e3051fae2564fefe9cb623de6e09d",
     "grade": false,
     "grade_id": "q8",
     "locked": false,
     "schema_version": 3,
     "solution": true,
     "task": false
    },
    "tags": []
   },
   "outputs": [],
   "source": [
    "\n",
    "# YOUR CODE HERE\n",
    "from collections import deque\n",
    "\n",
    "class Q8Graph(Q6Graph):\n",
    "    def __init__(self):\n",
    "        super().__init__()\n",
    "        \n",
    "    def add_undirected(self, v1, v2):\n",
    "        v1.add_neighbour (v2)\n",
    "        v2.add_neighbour (v1)\n",
    "        \n",
    "    def iterative_bfs_path_exists (self, v1, v2):\n",
    "        visited = set()\n",
    "        queue = deque()\n",
    "        found = False\n",
    "        \n",
    "        visited.add(v1)\n",
    "        queue.append(v1)\n",
    "        \n",
    "        while queue and not found:\n",
    "            current = queue.popleft()\n",
    "            \n",
    "            if current == v2:\n",
    "                found = True\n",
    "            \n",
    "            else:\n",
    "                for neighbour in current.get_connections():\n",
    "                    if neighbour not in visited:\n",
    "                        visited.add(neighbour)\n",
    "                        queue.append(neighbour)\n",
    "                        \n",
    "        return found"
   ]
  },
  {
   "cell_type": "code",
   "execution_count": null,
   "metadata": {},
   "outputs": [],
   "source": [
    "# Sample test case\n",
    "\n",
    "g = Q8Graph()\n",
    "v0 = g.add_vertex('0')\n",
    "v1 = g.add_vertex('1')\n",
    "v2 = g.add_vertex('2')\n",
    "v3 = g.add_vertex('3')\n",
    "v4 = g.add_vertex('4')\n",
    "g.add_undirected(v0, v1)\n",
    "g.add_undirected(v0, v2)\n",
    "g.add_undirected(v0, v3)\n",
    "g.add_undirected(v1, v3)\n",
    "g.add_undirected(v1, v4)\n",
    "g.add_undirected(v4, v3)\n",
    "g.add_undirected(v2, v3)\n",
    "\n",
    "assert g.iterative_bfs_path_exists(v0, v4)"
   ]
  },
  {
   "cell_type": "code",
   "execution_count": null,
   "metadata": {
    "deletable": false,
    "editable": false,
    "nbgrader": {
     "cell_type": "code",
     "checksum": "0621805b2289745e57b0b468f9b95e18",
     "grade": true,
     "grade_id": "q8-iterative-bfs",
     "locked": true,
     "points": 15,
     "schema_version": 3,
     "solution": false,
     "task": false
    },
    "tags": []
   },
   "outputs": [],
   "source": [
    "# Testing Cell (Do NOT modify this cell)"
   ]
  },
  {
   "cell_type": "markdown",
   "metadata": {},
   "source": [
    "#### Question 09 &nbsp;&nbsp;&nbsp;&nbsp;&nbsp;&nbsp;(20 Points)\n",
    "\n",
    "Extend the class `Q6Graph` which supports weighted, directed graphs and add a function:\n",
    "```python\n",
    "def get_bfs_weighted_path(self, vstart, vstop):\n",
    "    ''' \n",
    "    Returns a tuple: \n",
    "        found: True when the path exists otherwise False\n",
    "        path: being a list of vertex ids traversed from vstart to vstop, and\n",
    "        weight: the sum of all edge weights on the path from vstart to vstop\n",
    "    '''\n",
    "``` \n",
    "that searches for a path between `vstart` and `vstop` and returns the tuple:\n",
    "```python\n",
    "    found, path, weight\n",
    "```\n",
    "such that a graph:<br />\n",
    "<img src=\"https://i.stack.imgur.com/7C2kD.png\" alt=\"edge-weighted directed graph\" style=\"height: 307px; width: 503px; align: left\"></br>\n",
    "will return:\n",
    "```python\n",
    "(True, ['G', 'D', 'E', 'F'], 6)\n",
    "```\n",
    "when using BFS to find the path between vertex `G` and vertex `F`."
   ]
  },
  {
   "cell_type": "code",
   "execution_count": null,
   "metadata": {
    "deletable": false,
    "nbgrader": {
     "cell_type": "code",
     "checksum": "64d19beb4e0b34b39b28938c28e9bf5a",
     "grade": false,
     "grade_id": "q9",
     "locked": false,
     "schema_version": 3,
     "solution": true,
     "task": false
    },
    "tags": []
   },
   "outputs": [],
   "source": [
    "\n",
    "# YOUR CODE HERE\n",
    "from collections import deque\n",
    "class Q9Graph(Q6Graph):\n",
    "    def __init__(self):\n",
    "        super().__init__()\n",
    "        \n",
    "    def get_bfs_weighted_path(self, vstart, vstop):\n",
    "        ''' \n",
    "        Returns a tuple: \n",
    "            found: True when the path exists otherwise False\n",
    "            path: being a list of vertex ids traversed from vstart to vstop, and\n",
    "            weight: the sum of all edge weights on the path from vstart to vstop\n",
    "        '''\n",
    "\n",
    "        visited = set()\n",
    "        queue = deque()\n",
    "        queue.append((vstart, [vstart.get_id()], 0))\n",
    "        visited.add(vstart)\n",
    "        # current, path, weight_sum = queue.popleft()\n",
    "        # for neighbour, weight in current.get_edges().items():\n",
    "        #     return neighbour.get_id(), weight\n",
    "         \n",
    "        while queue:\n",
    "            current, path, weight_sum = queue.popleft()\n",
    "            \n",
    "            if current == vstop:\n",
    "                return (True, path, weight_sum)\n",
    "            \n",
    "            for neighbour, weight in current.get_edges().items():\n",
    "                if neighbour not in visited:\n",
    "                    visited.add(neighbour)\n",
    "                    queue.append((neighbour, path + [neighbour.get_id()], weight_sum + weight))\n",
    "        \n",
    "        return (False, [], 0)\n",
    "    "
   ]
  },
  {
   "cell_type": "code",
   "execution_count": 132,
   "metadata": {},
   "outputs": [],
   "source": [
    "# Sample test case\n",
    "\n",
    "g = Q9Graph()\n",
    "va = g.add_vertex('A')\n",
    "vb = g.add_vertex('B')\n",
    "vc = g.add_vertex('C')\n",
    "vd = g.add_vertex('D')\n",
    "ve = g.add_vertex('E')\n",
    "vf = g.add_vertex('F')\n",
    "vg = g.add_vertex('G')\n",
    "g.add_directed_edge_with_weight ('A', 'B', 1)\n",
    "g.add_directed_edge_with_weight ('B', 'C', 3)\n",
    "g.add_directed_edge_with_weight ('B', 'D', 2)\n",
    "g.add_directed_edge_with_weight ('B', 'E', 1)\n",
    "g.add_directed_edge_with_weight ('C', 'E', 4)\n",
    "g.add_directed_edge_with_weight ('C', 'D', 1)\n",
    "g.add_directed_edge_with_weight ('E', 'F', 3)\n",
    "g.add_directed_edge_with_weight ('D', 'A', 2)\n",
    "g.add_directed_edge_with_weight ('D', 'E', 2)\n",
    "g.add_directed_edge_with_weight ('G', 'D', 1)\n",
    "\n",
    "\n",
    "found, path, weight = g.get_bfs_weighted_path(va, ve)\n",
    "assert found and path == ['A', 'B', 'E'] and weight == 2"
   ]
  },
  {
   "cell_type": "code",
   "execution_count": null,
   "metadata": {
    "deletable": false,
    "editable": false,
    "nbgrader": {
     "cell_type": "code",
     "checksum": "b15e1fdd51fcbbe8d3d7d558545789d8",
     "grade": true,
     "grade_id": "q9-bfs-weighted-path",
     "locked": true,
     "points": 20,
     "schema_version": 3,
     "solution": false,
     "task": false
    },
    "tags": []
   },
   "outputs": [],
   "source": [
    "# Testing Cell (Do NOT modify this cell)"
   ]
  }
 ],
 "metadata": {
  "kernelspec": {
   "display_name": "Python 3",
   "language": "python",
   "name": "python3"
  },
  "language_info": {
   "codemirror_mode": {
    "name": "ipython",
    "version": 3
   },
   "file_extension": ".py",
   "mimetype": "text/x-python",
   "name": "python",
   "nbconvert_exporter": "python",
   "pygments_lexer": "ipython3",
   "version": "3.10.12"
  },
  "otter": {
   "tests": {
    "q1": {
     "name": "q1",
     "points": 1,
     "suites": [
      {
       "cases": [],
       "scored": true,
       "setup": "",
       "teardown": "",
       "type": "doctest"
      }
     ]
    },
    "q10": {
     "name": "q10",
     "points": 4,
     "suites": [
      {
       "cases": [],
       "scored": true,
       "setup": "",
       "teardown": "",
       "type": "doctest"
      }
     ]
    },
    "q11": {
     "name": "q11",
     "points": 6,
     "suites": [
      {
       "cases": [],
       "scored": true,
       "setup": "",
       "teardown": "",
       "type": "doctest"
      }
     ]
    },
    "q12": {
     "name": "q12",
     "points": 6,
     "suites": [
      {
       "cases": [],
       "scored": true,
       "setup": "",
       "teardown": "",
       "type": "doctest"
      }
     ]
    },
    "q13": {
     "name": "q13",
     "points": 6,
     "suites": [
      {
       "cases": [],
       "scored": true,
       "setup": "",
       "teardown": "",
       "type": "doctest"
      }
     ]
    },
    "q14": {
     "name": "q14",
     "points": 6,
     "suites": [
      {
       "cases": [],
       "scored": true,
       "setup": "",
       "teardown": "",
       "type": "doctest"
      }
     ]
    },
    "q15": {
     "name": "q15",
     "points": 6,
     "suites": [
      {
       "cases": [],
       "scored": true,
       "setup": "",
       "teardown": "",
       "type": "doctest"
      }
     ]
    },
    "q16": {
     "name": "q16",
     "points": 6,
     "suites": [
      {
       "cases": [],
       "scored": true,
       "setup": "",
       "teardown": "",
       "type": "doctest"
      }
     ]
    },
    "q17": {
     "name": "q17",
     "points": 8,
     "suites": [
      {
       "cases": [],
       "scored": true,
       "setup": "",
       "teardown": "",
       "type": "doctest"
      }
     ]
    },
    "q18": {
     "name": "q18",
     "points": 8,
     "suites": [
      {
       "cases": [],
       "scored": true,
       "setup": "",
       "teardown": "",
       "type": "doctest"
      }
     ]
    },
    "q19": {
     "name": "q19",
     "points": 12,
     "suites": [
      {
       "cases": [],
       "scored": true,
       "setup": "",
       "teardown": "",
       "type": "doctest"
      }
     ]
    },
    "q2": {
     "name": "q2",
     "points": 1,
     "suites": [
      {
       "cases": [],
       "scored": true,
       "setup": "",
       "teardown": "",
       "type": "doctest"
      }
     ]
    },
    "q20": {
     "name": "q20",
     "points": 12,
     "suites": [
      {
       "cases": [],
       "scored": true,
       "setup": "",
       "teardown": "",
       "type": "doctest"
      }
     ]
    },
    "q3": {
     "name": "q3",
     "points": 1,
     "suites": [
      {
       "cases": [],
       "scored": true,
       "setup": "",
       "teardown": "",
       "type": "doctest"
      }
     ]
    },
    "q4": {
     "name": "q4",
     "points": 1,
     "suites": [
      {
       "cases": [],
       "scored": true,
       "setup": "",
       "teardown": "",
       "type": "doctest"
      }
     ]
    },
    "q5": {
     "name": "q5",
     "points": 2,
     "suites": [
      {
       "cases": [],
       "scored": true,
       "setup": "",
       "teardown": "",
       "type": "doctest"
      }
     ]
    },
    "q6": {
     "name": "q6",
     "points": 2,
     "suites": [
      {
       "cases": [],
       "scored": true,
       "setup": "",
       "teardown": "",
       "type": "doctest"
      }
     ]
    },
    "q7": {
     "name": "q7",
     "points": 4,
     "suites": [
      {
       "cases": [],
       "scored": true,
       "setup": "",
       "teardown": "",
       "type": "doctest"
      }
     ]
    },
    "q8": {
     "name": "q8",
     "points": 4,
     "suites": [
      {
       "cases": [],
       "scored": true,
       "setup": "",
       "teardown": "",
       "type": "doctest"
      }
     ]
    },
    "q9": {
     "name": "q9",
     "points": 4,
     "suites": [
      {
       "cases": [],
       "scored": true,
       "setup": "",
       "teardown": "",
       "type": "doctest"
      }
     ]
    }
   }
  },
  "varInspector": {
   "cols": {
    "lenName": 16,
    "lenType": 16,
    "lenVar": 40
   },
   "kernels_config": {
    "python": {
     "delete_cmd_postfix": "",
     "delete_cmd_prefix": "del ",
     "library": "var_list.py",
     "varRefreshCmd": "print(var_dic_list())"
    },
    "r": {
     "delete_cmd_postfix": ") ",
     "delete_cmd_prefix": "rm(",
     "library": "var_list.r",
     "varRefreshCmd": "cat(var_dic_list()) "
    }
   },
   "types_to_exclude": [
    "module",
    "function",
    "builtin_function_or_method",
    "instance",
    "_Feature"
   ],
   "window_display": false
  }
 },
 "nbformat": 4,
 "nbformat_minor": 4
}
