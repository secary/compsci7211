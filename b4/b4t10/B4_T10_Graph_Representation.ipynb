{
 "cells": [
  {
   "cell_type": "markdown",
   "metadata": {},
   "source": [
    "### Instructions:\n",
    "\n",
    "- You can attempt any number of questions and in any order.  \n",
    "  See the assignment page for a description of the hurdle requirement for this assessment.\n",
    "- You may submit your practical for autograding as many times as you like to check on progress, however you will save time by checking and testing your own code before submitting.\n",
    "- Develop and check your answers in the spaces provided.\n",
    "- **Replace** the code `raise NotImplementedError()` with your solution to the question.\n",
    "- Do **NOT** remove any variables other provided markings already provided in the answer spaces.\n",
    "- Do **NOT** make any changes to this notebook outside of the spaces indicated.  \n",
    "  (If you do this, the submission system might not accept your work)\n",
    "\n",
    "### Submitting:\n",
    "\n",
    "1. Before you turn this problem in, make sure everything runs as expected by resetting this notebook.    \n",
    "   (You can do this from the menubar above by selecting `Kernel`&#8594;`Restart Kernel and Run All Cells...`)\n",
    "1. Don't forget to save your notebook after this step.\n",
    "1. Submit your .ipynb file to Gradescope via file upload or GitHub repository.\n",
    "1. You can submit as many times as needed.\n",
    "1. You **must** give your submitted file the **identical** filename to that which you downloaded without changing **any** aspects - spaces, underscores, capitalisation etc. If your operating system has changed the filename because you downloaded the file twice or more you **must** also fix this.  \n",
    "\n"
   ]
  },
  {
   "cell_type": "markdown",
   "metadata": {},
   "source": [
    "---"
   ]
  },
  {
   "cell_type": "markdown",
   "metadata": {
    "tags": []
   },
   "source": [
    "# <mark style=\"background: #843fa1; color: #ffffff;\" >&nbsp;B4</mark>&nbsp;Topic 10: Working with Graphs "
   ]
  },
  {
   "cell_type": "code",
   "execution_count": null,
   "metadata": {},
   "outputs": [],
   "source": [
    "import pandas as pd\n",
    "import numpy as np\n",
    "from numpy import nan"
   ]
  },
  {
   "cell_type": "markdown",
   "metadata": {},
   "source": []
  },
  {
   "cell_type": "markdown",
   "metadata": {},
   "source": [
    "#### Question 01 &nbsp;&nbsp;&nbsp;&nbsp;&nbsp;&nbsp;(5 Points)\n",
    "\n",
    "Given the following undirected, unweighted graph:<br />\n",
    "![unweighted undirected graph](https://zschub.github.io/img/unweighted-undirected.png)<br />\n",
    "Write a function defined as:\n",
    "```python\n",
    "def edge_list():\n",
    "```\n",
    "that returns a list of edges where each edge is a set of two strings for the endpoint vertices of the edge. For example:\n",
    "```python\n",
    "def edge_list():\n",
    "    return [{'0', '4'}, ...]\n",
    "```\n",
    "---\n",
    "<details>\n",
    "  <summary><span style=\"color:blue\">What do I do?</span></summary>\n",
    "   This is a manual task to record and return a set of edges from a graph image and serves as useful test data for following questions.\n",
    "</details>"
   ]
  },
  {
   "cell_type": "code",
   "execution_count": 11,
   "metadata": {
    "deletable": false,
    "nbgrader": {
     "cell_type": "code",
     "checksum": "8be8343983734856f97f3d10b17d8916",
     "grade": false,
     "grade_id": "q1",
     "locked": false,
     "schema_version": 3,
     "solution": true,
     "task": false
    },
    "tags": []
   },
   "outputs": [
    {
     "data": {
      "text/plain": [
       "[{'0', '1'}, {'1', '2'}, {'0', '4'}, {'0', '3'}, {'2', '3'}]"
      ]
     },
     "execution_count": 11,
     "metadata": {},
     "output_type": "execute_result"
    }
   ],
   "source": [
    "def edge_list():\n",
    "    \n",
    "    # YOUR CODE HERE\n",
    "    graph = {'0': {'1', '3', '4'},\n",
    "             '1': {'0', '2'},\n",
    "             '2': {'1', '3'},\n",
    "             '3': {'0', '2'},\n",
    "             '4': {'0'}}\n",
    "    \n",
    "    edges = set()\n",
    "    for vertix in graph.keys():\n",
    "        for neighbor in graph[vertix]:\n",
    "            vertix = int(vertix)\n",
    "            neighbor = int(neighbor)\n",
    "            edges.add((min(vertix, neighbor), max(vertix, neighbor)))\n",
    "    \n",
    "    edges = [{str(node) for node in edge} for edge in edges]\n",
    "    return edges\n",
    "elst = edge_list()\n",
    "elst"
   ]
  },
  {
   "cell_type": "code",
   "execution_count": null,
   "metadata": {
    "deletable": false,
    "editable": false,
    "nbgrader": {
     "cell_type": "code",
     "checksum": "6f7e0bbf45cd7f7acc86d6ec4e608ce6",
     "grade": true,
     "grade_id": "q1-edge-list",
     "locked": true,
     "points": 5,
     "schema_version": 3,
     "solution": false,
     "task": false
    },
    "tags": []
   },
   "outputs": [],
   "source": [
    "# Testing Cell (Do NOT modify this cell)"
   ]
  },
  {
   "cell_type": "markdown",
   "metadata": {},
   "source": [
    "#### Question 02 &nbsp;&nbsp;&nbsp;&nbsp;&nbsp;&nbsp;(5 Points)\n",
    "\n",
    "Write a function defined as:\n",
    "```python\n",
    "def vertex_list(edge_list):\n",
    "```\n",
    "that examines a list of edges in the format used in Question 1 and extracts all of the vertices returning them in a set or `None` if the `edge_list` is empty. For example, the graph above (Qn 1) would return: \n",
    "```python\n",
    "{'0', '1', '2', '3', '4'}\n",
    "```"
   ]
  },
  {
   "cell_type": "code",
   "execution_count": 10,
   "metadata": {
    "deletable": false,
    "nbgrader": {
     "cell_type": "code",
     "checksum": "f330addefedead97e7c977f2cd21d649",
     "grade": false,
     "grade_id": "q2",
     "locked": false,
     "schema_version": 3,
     "solution": true,
     "task": false
    },
    "tags": []
   },
   "outputs": [
    {
     "data": {
      "text/plain": [
       "{'0', '1', '2', '3', '4'}"
      ]
     },
     "execution_count": 10,
     "metadata": {},
     "output_type": "execute_result"
    }
   ],
   "source": [
    "def vertex_list(edge_list):\n",
    "\n",
    "    # YOUR CODE HERE\n",
    "    result = {vertex for edge in edge_list for vertex in edge}\n",
    "    return result if result else None\n",
    "\n",
    "vertex_list(elst)"
   ]
  },
  {
   "cell_type": "code",
   "execution_count": null,
   "metadata": {
    "deletable": false,
    "editable": false,
    "nbgrader": {
     "cell_type": "code",
     "checksum": "0bdf40df2a174cd2e2ae563de66616ca",
     "grade": true,
     "grade_id": "q2-vertex-list",
     "locked": true,
     "points": 5,
     "schema_version": 3,
     "solution": false,
     "task": false
    },
    "tags": []
   },
   "outputs": [],
   "source": [
    "# Testing Cell (Do NOT modify this cell)"
   ]
  },
  {
   "cell_type": "markdown",
   "metadata": {
    "tags": []
   },
   "source": [
    "#### Question 03 &nbsp;&nbsp;&nbsp;&nbsp;&nbsp;&nbsp;(10 Points)\n",
    "\n",
    "Write a function defined as:\n",
    "```python\n",
    "def adjacency_list_as_dict (vertex_list, edge_list):\n",
    "```\n",
    "that accepts a list of vertices and list of edges in the format defined in Question 1 (list of sets of adjacent vertices) and returns an adjacency list in the form of a dictionary where the key defines the vertex and the values contain a list of adjacent vertices.\n",
    "\n",
    "For example, given the graph shown in Question 1, the function would return a dict as follows:\n",
    "```python\n",
    "{'0': ['4', '1', '3'],\n",
    " '1': ['0', '2'],\n",
    " '2': ['1', '3'],\n",
    " '3': ['2', '0'],\n",
    " '4': ['0']}\n",
    "```"
   ]
  },
  {
   "cell_type": "code",
   "execution_count": 19,
   "metadata": {
    "deletable": false,
    "nbgrader": {
     "cell_type": "code",
     "checksum": "263eb2c93207d8dc3c9819a529fa0056",
     "grade": false,
     "grade_id": "q3",
     "locked": false,
     "schema_version": 3,
     "solution": true,
     "task": false
    },
    "tags": []
   },
   "outputs": [
    {
     "data": {
      "text/plain": [
       "{'0': ['3', '1', '4'],\n",
       " '3': ['2', '0'],\n",
       " '1': ['2', '0'],\n",
       " '4': ['0'],\n",
       " '2': ['1', '3']}"
      ]
     },
     "execution_count": 19,
     "metadata": {},
     "output_type": "execute_result"
    }
   ],
   "source": [
    "def adjacency_list_as_dict (vertex_list, edge_list):\n",
    "    \n",
    "    # YOUR CODE HERE\n",
    "    result = {}\n",
    "    for vertex in vertex_list:\n",
    "        neighbour = list({vertices for edge in edge_list for vertices in edge if vertex in edge})\n",
    "        neighbour.remove(vertex)\n",
    "        result[vertex] = neighbour\n",
    "    \n",
    "    return result\n",
    "\n",
    "adjacency_list_as_dict(vertex_list(elst), elst)"
   ]
  },
  {
   "cell_type": "code",
   "execution_count": null,
   "metadata": {
    "deletable": false,
    "editable": false,
    "nbgrader": {
     "cell_type": "code",
     "checksum": "76114223945c318623815488f7e60267",
     "grade": true,
     "grade_id": "q3-adj-dict",
     "locked": true,
     "points": 10,
     "schema_version": 3,
     "solution": false,
     "task": false
    },
    "tags": []
   },
   "outputs": [],
   "source": [
    "# Testing Cell (Do NOT modify this cell)"
   ]
  },
  {
   "cell_type": "markdown",
   "metadata": {},
   "source": [
    "#### Question 04 &nbsp;&nbsp;&nbsp;&nbsp;&nbsp;&nbsp;(5 Points)\n",
    "\n",
    "Given the following undirected, edge-weighted graph:<br />\n",
    "![edge weighted undirected graph](https://zschub.github.io/img/undirected-edge-weighted.png)<br />\n",
    "Write a function defined as:\n",
    "```python\n",
    "def edge_weighted_list():\n",
    "```\n",
    "that returns a list of edges where each edge is:\n",
    "- a tuple containing two elements,\n",
    "- firstly, a set of two strings for the endpoint vertices of the edge, and\n",
    "- secondly, the weight of the edge.\n",
    "For example:\n",
    "```python\n",
    "return [({'0', '4'}, 1), ...]\n",
    "```\n",
    "As for Question 1, this is a manual task of inspecting a graph and representing the edges and weights as a list and returning this from a function call."
   ]
  },
  {
   "cell_type": "code",
   "execution_count": 25,
   "metadata": {
    "deletable": false,
    "nbgrader": {
     "cell_type": "code",
     "checksum": "e5f37f715f2bcb48968a4e9c6d3e2c77",
     "grade": false,
     "grade_id": "q4",
     "locked": false,
     "schema_version": 3,
     "solution": true,
     "task": false
    },
    "tags": []
   },
   "outputs": [
    {
     "data": {
      "text/plain": [
       "[({'0', '4'}, 1),\n",
       " ({'0', '3'}, 5),\n",
       " ({'0', '1'}, 2),\n",
       " ({'1', '2'}, 2),\n",
       " ({'2', '3'}, 4)]"
      ]
     },
     "execution_count": 25,
     "metadata": {},
     "output_type": "execute_result"
    }
   ],
   "source": [
    "def edge_weighted_list():\n",
    "\n",
    "    # YOUR CODE HERE\n",
    "    return [({'0', '4'}, 1), ({'0', '3'}, 5), ({'0', '1'}, 2), ({'1', '2'}, 2), ({'2', '3'}, 4)]\n",
    "\n",
    "elst_1 = edge_weighted_list()\n",
    "elst_1"
   ]
  },
  {
   "cell_type": "code",
   "execution_count": null,
   "metadata": {
    "deletable": false,
    "editable": false,
    "nbgrader": {
     "cell_type": "code",
     "checksum": "c567ee337d36adac6da7b15daa3e97d8",
     "grade": true,
     "grade_id": "q4-edge-weighted-list",
     "locked": true,
     "points": 10,
     "schema_version": 3,
     "solution": false,
     "task": false
    },
    "tags": []
   },
   "outputs": [],
   "source": [
    "# Testing Cell (Do NOT modify this cell)"
   ]
  },
  {
   "cell_type": "markdown",
   "metadata": {},
   "source": [
    "#### Question 05 &nbsp;&nbsp;&nbsp;&nbsp;&nbsp;&nbsp;(10 Points)\n",
    "\n",
    "Write a function defined as:\n",
    "```Python\n",
    "def adjacency_list_with_weights (vertex_list, edge_list):\n",
    "```\n",
    "that returns an adjacency list where:\n",
    "- keys represent vertices,\n",
    "- values represent a list of adjacent vertices,\n",
    "- for each adjacent vertex, a two value tuple is provided with `(adjacent vertex, weight of edge)`.\n",
    "\n",
    "For example, given the graph above, the function would return:\n",
    "```python\n",
    "{'0': [('4', 1), ('1', 2), ('3', 5)],\n",
    " '1': [('0', 2), ('2', 2)],\n",
    " '2': [('1', 2), ('3', 4)],\n",
    " '3': [('0', 5), ('2', 4)],\n",
    " '4': [('0', 1)]}\n",
    "```\n",
    "although key and values ordering may be different."
   ]
  },
  {
   "cell_type": "code",
   "execution_count": null,
   "metadata": {
    "deletable": false,
    "nbgrader": {
     "cell_type": "code",
     "checksum": "02ba897e6ebcc28f9fc8fd807f5fd06c",
     "grade": false,
     "grade_id": "q5",
     "locked": false,
     "schema_version": 3,
     "solution": true,
     "task": false
    },
    "tags": []
   },
   "outputs": [
    {
     "data": {
      "text/plain": [
       "{'0': [({'0', '4'}, 1), ({'0', '3'}, 5), ({'0', '1'}, 2)],\n",
       " '1': [({'0', '1'}, 2), ({'1', '2'}, 2)],\n",
       " '2': [({'1', '2'}, 2), ({'2', '3'}, 4)],\n",
       " '3': [({'0', '3'}, 5), ({'2', '3'}, 4)],\n",
       " '4': [({'0', '4'}, 1)]}"
      ]
     },
     "execution_count": 35,
     "metadata": {},
     "output_type": "execute_result"
    }
   ],
   "source": [
    "def adjacency_list_with_weights (vertex_list, edge_list):\n",
    "\n",
    "    # YOUR CODE HERE\n",
    "    result = {}\n",
    "    for vertex in vertex_list:\n",
    "        neighbor_list = [edge for edge in edge_list if vertex in edge[0]]\n",
    "        for neighbor in neighbor_list:\n",
    "            neighbor = (,neighbor[1])\n",
    "        result[vertex] = neighbor_list\n",
    "        \n",
    "    return result\n",
    "\n",
    "adjacency_list_with_weights(['0', '1', '2', '3', '4'], elst_1)"
   ]
  },
  {
   "cell_type": "code",
   "execution_count": null,
   "metadata": {
    "deletable": false,
    "editable": false,
    "nbgrader": {
     "cell_type": "code",
     "checksum": "ab40cf188c11877edb95e66411c039f5",
     "grade": true,
     "grade_id": "q5-adj_list_weights",
     "locked": true,
     "points": 10,
     "schema_version": 3,
     "solution": false,
     "task": false
    },
    "tags": []
   },
   "outputs": [],
   "source": [
    "# Testing Cell (Do NOT modify this cell)"
   ]
  },
  {
   "cell_type": "markdown",
   "metadata": {
    "tags": []
   },
   "source": [
    "#### Question 06 &nbsp;&nbsp;&nbsp;&nbsp;&nbsp;&nbsp;(10 Points)\n",
    "\n",
    "For a directed, unweighted graph such as this:<br />\n",
    "![directed unweighted](https://zschub.github.io/img/directed-unweighted.jpg)<br />\n",
    "Write a function defined as:\n",
    "```python\n",
    "def adjacency_list_directed (edge_list):\n",
    "```\n",
    "that accepts an adjacency list of a graph defined as list of directed edges in the form of tuples:\n",
    "```python\n",
    "[(origin, destination), ...]\n",
    "```\n",
    "and returns a dictionary whose keys are the vertex id's and whose values are a list of the adjacent verticies.\n",
    "For example:\n",
    "```python\n",
    "{'0': ['1'], \n",
    " '1': ['2'], \n",
    " '2': ['3'], \n",
    " '3': ['4', '0'], \n",
    " '4': ['0']\n",
    "}\n",
    "```"
   ]
  },
  {
   "cell_type": "code",
   "execution_count": null,
   "metadata": {
    "deletable": false,
    "nbgrader": {
     "cell_type": "code",
     "checksum": "f4b725568c93cc61083468fc961d197f",
     "grade": false,
     "grade_id": "q6",
     "locked": false,
     "schema_version": 3,
     "solution": true,
     "task": false
    },
    "tags": []
   },
   "outputs": [],
   "source": [
    "def adjacency_list_directed (edge_list):\n",
    "    \n",
    "    # YOUR CODE HERE\n",
    "    raise NotImplementedError()"
   ]
  },
  {
   "cell_type": "code",
   "execution_count": null,
   "metadata": {
    "deletable": false,
    "editable": false,
    "nbgrader": {
     "cell_type": "code",
     "checksum": "dac42091483e3a5eb9f4d8091050a181",
     "grade": true,
     "grade_id": "q6-adj_list_directed",
     "locked": true,
     "points": 10,
     "schema_version": 3,
     "solution": false,
     "task": false
    },
    "tags": []
   },
   "outputs": [],
   "source": [
    "# Testing Cell (Do NOT modify this cell)"
   ]
  },
  {
   "cell_type": "markdown",
   "metadata": {},
   "source": [
    "#### Question 07 &nbsp;&nbsp;&nbsp;&nbsp;&nbsp;&nbsp;(10 Points)\n",
    "\n",
    "Write a function defined as:\n",
    "```python\n",
    "def adjacency_matrix_weighted_directed (edge_list):\n",
    "```    \n",
    "that accepts a list of weighted, directed edges in the form of tuples:\n",
    "```python\n",
    "(origin, destination, weight)\n",
    "```\n",
    "for a graph of the form:<br />\n",
    "![directed unweighted](https://zschub.github.io/img/directed-weighted.jpg)<br />\n",
    "and returns an Adjacency Matrix as a pandas `DataFrame` with the following features:\n",
    "- diagonal (identity) values are represented with the weight '0',\n",
    "- non traversable edges are represented by `NumPy.nan`,\n",
    "- column and index values match the vertex labels and are in ascending order, and\n",
    "- otherwise the matrix value represents the numeric weight of traversing the edge as a float value with index (row) as the origin and the column as the destination."
   ]
  },
  {
   "cell_type": "code",
   "execution_count": null,
   "metadata": {
    "deletable": false,
    "nbgrader": {
     "cell_type": "code",
     "checksum": "9b1349cc8c21ddd79fdb7360c40d4226",
     "grade": false,
     "grade_id": "q7",
     "locked": false,
     "schema_version": 3,
     "solution": true,
     "task": false
    },
    "tags": []
   },
   "outputs": [],
   "source": [
    "def adjacency_matrix_weighted_directed (edge_list):\n",
    "\n",
    "    # YOUR CODE HERE\n",
    "    raise NotImplementedError()"
   ]
  },
  {
   "cell_type": "code",
   "execution_count": null,
   "metadata": {
    "deletable": false,
    "editable": false,
    "nbgrader": {
     "cell_type": "code",
     "checksum": "9a781e955ab37aa9747a0450c2fdf774",
     "grade": true,
     "grade_id": "q7-weighted-directed",
     "locked": true,
     "points": 10,
     "schema_version": 3,
     "solution": false,
     "task": false
    }
   },
   "outputs": [],
   "source": [
    "# Testing Cell (Do NOT modify this cell)"
   ]
  },
  {
   "cell_type": "markdown",
   "metadata": {},
   "source": [
    "#### Question 08 &nbsp;&nbsp;&nbsp;&nbsp;&nbsp;&nbsp;(10 Points)\n",
    "\n",
    "Write a function defined as:\n",
    "```python\n",
    "def adjacency_matrix_unweighted_undirected (edge_list):\n",
    "```\n",
    "that returns a NumPy array with the adjacency matrix of a list of edges in the Question 1 format (a list of sets of adjacent vertices). \n",
    "- the axes of the array should reflect the sorted vertex values (so `'A', 'B', 'C'` rather than `'C', 'A', 'B'`.\n",
    "- non adjacent vertices should be marked with 0,\n",
    "- adjacent vertices should be marled with 1,\n",
    "- looped vertices should be marked with 1, otherwise diagonal (identity) locations should be marked with 0.\n",
    "\n",
    "Thus, a graph of the form:<br />\n",
    "![directed unweighted](https://zschub.github.io/img/graph-basic.png)<br />should return:\n",
    "```python\n",
    "array([[0, 1, 0, 0, 1],\n",
    "       [1, 0, 1, 1, 0],\n",
    "       [0, 1, 0, 1, 0],\n",
    "       [0, 1, 1, 1, 1],\n",
    "       [1, 0, 0, 1, 0]])\n",
    "```"
   ]
  },
  {
   "cell_type": "code",
   "execution_count": null,
   "metadata": {
    "deletable": false,
    "nbgrader": {
     "cell_type": "code",
     "checksum": "89e6e4732d4ee640c9c89b5ae9871e1a",
     "grade": false,
     "grade_id": "q8",
     "locked": false,
     "schema_version": 3,
     "solution": true,
     "task": false
    },
    "tags": []
   },
   "outputs": [],
   "source": [
    "def adjacency_matrix_unweighted_undirected (edge_list):\n",
    "\n",
    "    # YOUR CODE HERE\n",
    "    raise NotImplementedError()"
   ]
  },
  {
   "cell_type": "code",
   "execution_count": null,
   "metadata": {
    "deletable": false,
    "editable": false,
    "nbgrader": {
     "cell_type": "code",
     "checksum": "9a9a7b2c756e20b48d93e2a3e8159ffb",
     "grade": true,
     "grade_id": "q8-unweighted-undirected",
     "locked": true,
     "points": 10,
     "schema_version": 3,
     "solution": false,
     "task": false
    },
    "tags": []
   },
   "outputs": [],
   "source": [
    "# Testing Cell (Do NOT modify this cell)"
   ]
  },
  {
   "cell_type": "markdown",
   "metadata": {},
   "source": [
    "#### Question 09 &nbsp;&nbsp;&nbsp;&nbsp;&nbsp;&nbsp;(10 Points)\n",
    "\n",
    "Write a function defined as:\n",
    "```python\n",
    "def degree_from_edges (edge_list, vertex):\n",
    "```\n",
    "that accepts a list of edges in the form of a list of sets (`[{'A', 'B'}, ...]`) and returns the degree of a vertex in the graph passed as a second parameter."
   ]
  },
  {
   "cell_type": "code",
   "execution_count": null,
   "metadata": {
    "deletable": false,
    "nbgrader": {
     "cell_type": "code",
     "checksum": "9f588e93e612165edd374e07d0ebe4e5",
     "grade": false,
     "grade_id": "q9",
     "locked": false,
     "schema_version": 3,
     "solution": true,
     "task": false
    },
    "tags": []
   },
   "outputs": [],
   "source": [
    "def degree_from_edges (edge_list, vertex):\n",
    "    \n",
    "    # YOUR CODE HERE\n",
    "    raise NotImplementedError()"
   ]
  },
  {
   "cell_type": "code",
   "execution_count": null,
   "metadata": {
    "deletable": false,
    "editable": false,
    "nbgrader": {
     "cell_type": "code",
     "checksum": "52a558e616cdcdbeb13801ea58a337ae",
     "grade": true,
     "grade_id": "q9-degree-from-edges",
     "locked": true,
     "points": 10,
     "schema_version": 3,
     "solution": false,
     "task": false
    },
    "tags": []
   },
   "outputs": [],
   "source": [
    "# Testing Cell (Do NOT modify this cell)"
   ]
  },
  {
   "cell_type": "markdown",
   "metadata": {
    "tags": []
   },
   "source": [
    "#### Question 10 &nbsp;&nbsp;&nbsp;&nbsp;&nbsp;&nbsp;(10 Points)\n",
    "\n",
    "Write a function defined as:\n",
    "```python\n",
    "def degrees_from_adjacency_matrix (adj_matrix):\n",
    "```\n",
    "that accepts a binary adjacency matrix formatted as per Question 8 (a NumPy array with adjacent vertices marked with 1 and otherwise 0) and returns a 1D `np.array` of integers being the degree of each vertex in the same sort order as the original indexing.\n",
    "\n",
    "Thus, for the graph:<br /> ![unweighted undirected graph](https://zschub.github.io/img/unweighted-undirected.png)<br />\n",
    "an input adjacency matrix:\n",
    "```python\n",
    "      [[0, 1, 0, 1, 1],\n",
    "       [1, 0, 1, 0, 0],\n",
    "       [0, 1, 0, 1, 0],\n",
    "       [1, 0, 1, 0, 0],\n",
    "       [1, 0, 0, 0, 0]]\n",
    "```\n",
    "would return:\n",
    "```python\n",
    "array([3, 2, 2, 2, 1])\n",
    "```"
   ]
  },
  {
   "cell_type": "code",
   "execution_count": null,
   "metadata": {
    "deletable": false,
    "nbgrader": {
     "cell_type": "code",
     "checksum": "57063b87dc208624dffc2a4a9a9c9763",
     "grade": false,
     "grade_id": "q10",
     "locked": false,
     "schema_version": 3,
     "solution": true,
     "task": false
    },
    "tags": []
   },
   "outputs": [],
   "source": [
    "def degrees_from_adjacency_matrix (adj_matrix):\n",
    "\n",
    "    # YOUR CODE HERE\n",
    "    raise NotImplementedError()"
   ]
  },
  {
   "cell_type": "code",
   "execution_count": null,
   "metadata": {
    "deletable": false,
    "editable": false,
    "nbgrader": {
     "cell_type": "code",
     "checksum": "d45bac5249d9624ce2e95a2530e3abda",
     "grade": true,
     "grade_id": "q10-degree-from-adjacency",
     "locked": true,
     "points": 10,
     "schema_version": 3,
     "solution": false,
     "task": false
    }
   },
   "outputs": [],
   "source": [
    "# Testing Cell (Do NOT modify this cell)"
   ]
  },
  {
   "cell_type": "markdown",
   "metadata": {},
   "source": [
    "#### Question 11 &nbsp;&nbsp;&nbsp;&nbsp;&nbsp;&nbsp;(10 Points)\n",
    "\n",
    "Write a function defined as:\n",
    "```python\n",
    "def transform_list_to_matrix (adjacency_list):\n",
    "```\n",
    "that transforms an adjacency list for a directed graph (per Question 6 format: a dictionary where keys indicate vertex lables and values contain a list of adjacent (directed) vertices.\n",
    "\n",
    "The function should construct a pandas `DataFrame` with the following features:\n",
    "- diagonal (identity) values are represented with the value `0.0`,\n",
    "- non traversable edges are represented by NumPy.nan,\n",
    "- column and index values match the vertex labels, and\n",
    "- traversable edges are indicated with the value `1.0` reading the directed adjacency matrix horizontally (the row shows the origin vertex and the column the destination).\n",
    "\n",
    "Thus for the graph:<br />\n",
    "![directed unweighted](https://zschub.github.io/img/directed-unweighted.jpg)<br />\n",
    "represented by an adjacency list:\n",
    "```python\n",
    "{'0': ['1'], '1': ['2'], '2': ['3'], '3': ['4', '0'], '4': ['0']}\n",
    "```\n",
    "the `DataFrame` returned would have values:<br /><br />\n",
    "![directed unweighted](https://zschub.github.io/img/adj-matrix.png)"
   ]
  },
  {
   "cell_type": "code",
   "execution_count": null,
   "metadata": {
    "deletable": false,
    "nbgrader": {
     "cell_type": "code",
     "checksum": "c8eb8cf1a662dde4560f61cbcbdc33ce",
     "grade": false,
     "grade_id": "q11",
     "locked": false,
     "schema_version": 3,
     "solution": true,
     "task": false
    },
    "tags": []
   },
   "outputs": [],
   "source": [
    "def transform_list_to_matrix (adjacency_list):\n",
    "\n",
    "    # YOUR CODE HERE\n",
    "    raise NotImplementedError()"
   ]
  },
  {
   "cell_type": "code",
   "execution_count": null,
   "metadata": {
    "deletable": false,
    "editable": false,
    "nbgrader": {
     "cell_type": "code",
     "checksum": "2f4a90b055d0c589e61ce624d8c3296a",
     "grade": true,
     "grade_id": "q11-list-to-matrix",
     "locked": true,
     "points": 10,
     "schema_version": 3,
     "solution": false,
     "task": false
    },
    "tags": []
   },
   "outputs": [],
   "source": [
    "# Testing Cell (Do NOT modify this cell)"
   ]
  }
 ],
 "metadata": {
  "kernelspec": {
   "display_name": "Python 3",
   "language": "python",
   "name": "python3"
  },
  "language_info": {
   "codemirror_mode": {
    "name": "ipython",
    "version": 3
   },
   "file_extension": ".py",
   "mimetype": "text/x-python",
   "name": "python",
   "nbconvert_exporter": "python",
   "pygments_lexer": "ipython3",
   "version": "3.10.12"
  },
  "varInspector": {
   "cols": {
    "lenName": 16,
    "lenType": 16,
    "lenVar": 40
   },
   "kernels_config": {
    "python": {
     "delete_cmd_postfix": "",
     "delete_cmd_prefix": "del ",
     "library": "var_list.py",
     "varRefreshCmd": "print(var_dic_list())"
    },
    "r": {
     "delete_cmd_postfix": ") ",
     "delete_cmd_prefix": "rm(",
     "library": "var_list.r",
     "varRefreshCmd": "cat(var_dic_list()) "
    }
   },
   "types_to_exclude": [
    "module",
    "function",
    "builtin_function_or_method",
    "instance",
    "_Feature"
   ],
   "window_display": false
  }
 },
 "nbformat": 4,
 "nbformat_minor": 4
}
