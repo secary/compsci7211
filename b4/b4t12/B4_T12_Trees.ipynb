{
 "cells": [
  {
   "cell_type": "markdown",
   "metadata": {},
   "source": [
    "### Instructions:\n",
    "\n",
    "- You can attempt any number of questions and in any order.  \n",
    "  See the assignment page for a description of the hurdle requirement for this assessment.\n",
    "- You may submit your practical for autograding as many times as you like to check on progress, however you will save time by checking and testing your own code before submitting.\n",
    "- Develop and check your answers in the spaces provided.\n",
    "- **Replace** the code `raise NotImplementedError()` with your solution to the question.\n",
    "- Do **NOT** remove any variables other provided markings already provided in the answer spaces.\n",
    "- Do **NOT** make any changes to this notebook outside of the spaces indicated.  \n",
    "  (If you do this, the submission system might not accept your work)\n",
    "\n",
    "### Submitting:\n",
    "\n",
    "1. Before you turn this problem in, make sure everything runs as expected by resetting this notebook.    \n",
    "   (You can do this from the menubar above by selecting `Kernel`&#8594;`Restart Kernel and Run All Cells...`)\n",
    "1. Don't forget to save your notebook after this step.\n",
    "1. Submit your .ipynb file to Gradescope via file upload or GitHub repository.\n",
    "1. You can submit as many times as needed.\n",
    "1. You **must** give your submitted file the **identical** filename to that which you downloaded without changing **any** aspects - spaces, underscores, capitalisation etc. If your operating system has changed the filename because you downloaded the file twice or more you **must** also fix this.  \n",
    "\n"
   ]
  },
  {
   "cell_type": "markdown",
   "metadata": {},
   "source": [
    "---"
   ]
  },
  {
   "cell_type": "markdown",
   "metadata": {
    "tags": []
   },
   "source": [
    "# <mark style=\"background: #843fa1; color: #ffffff;\" >&nbsp;G&nbsp;</mark>&ensp;Topic 12: Graphs & Trees"
   ]
  },
  {
   "cell_type": "markdown",
   "metadata": {},
   "source": [
    "## Shortest Path First\n",
    "\n",
    "This practical assumes that you are familiar with the object-oriented sample implementation of graphs presented in the course. This reference code is provided to allow you to extend the provided classes using (single or multi-level) inheritance. Do **not** modify this base code as it is used by the autograder but rather extend the classes in order to answer the questions below. You are not compelled to make use of the provided code and may answer the questions as you see fit."
   ]
  },
  {
   "cell_type": "code",
   "execution_count": null,
   "metadata": {
    "deletable": false,
    "editable": false,
    "nbgrader": {
     "cell_type": "code",
     "checksum": "2c513a91118d722355db0103de2dfd45",
     "grade": false,
     "grade_id": "cell-625e4cbf06599666",
     "locked": true,
     "schema_version": 3,
     "solution": false,
     "task": false
    },
    "tags": []
   },
   "outputs": [],
   "source": [
    "# Do NOT modify - please extend or ignore.\n",
    "\n",
    "import math\n",
    "import heapq\n",
    "\n",
    "class DijkstraVertex:\n",
    "    \n",
    "    def __init__(self, node):\n",
    "        self._id = node\n",
    "        self._adjacent = dict()\n",
    "        # Set distance to infinity for all nodes\n",
    "        self._distance = math.inf\n",
    "        # Mark all nodes unvisited        \n",
    "        self._visited = False  \n",
    "        # Predecessor\n",
    "        self._previous = None\n",
    "\n",
    "    def add_neighbour(self, neighbour, weight = 0):\n",
    "        self._adjacent[neighbour] = weight\n",
    "\n",
    "    def get_adjacent(self):\n",
    "        return self._adjacent  \n",
    "        \n",
    "    def get_connections(self):\n",
    "        return self._adjacent.keys()  \n",
    "\n",
    "    def get_id(self):\n",
    "        return self._id\n",
    "\n",
    "    def get_weight(self, neighbour):\n",
    "        return self._adjacent[neighbour]\n",
    "\n",
    "    def set_distance(self, dist):\n",
    "        self._distance = dist\n",
    "\n",
    "    def get_distance(self):\n",
    "        return self._distance\n",
    "\n",
    "    def set_previous(self, prev):\n",
    "        self._previous = prev\n",
    "\n",
    "    def get_previous(self):\n",
    "        return self._previous\n",
    "\n",
    "    def set_visited(self):\n",
    "        self._visited = True\n",
    "\n",
    "    def is_visited(self):\n",
    "        return self._visited\n",
    "\n",
    "    def __str__(self):\n",
    "        return str(self._id) + ' adjacent: ' + str([x.id for x in self._adjacent])\n",
    "    \n",
    "    def __lt__(self, other):\n",
    "        return self._distance < other.get_distance()\n",
    "\n",
    "class DijkstraGraph:\n",
    "    \n",
    "    def __init__(self):\n",
    "        self._vertices = dict()\n",
    "\n",
    "    def __iter__(self):\n",
    "        return iter(self._vertices.values())\n",
    "\n",
    "    def add_vertex(self, node):\n",
    "        new_vertex = DijkstraVertex(node)\n",
    "        self._vertices[node] = new_vertex\n",
    "        return new_vertex\n",
    "\n",
    "    def get_vertex(self, n):\n",
    "        if n in self._vertices:\n",
    "            return self._vertices[n]\n",
    "        else:\n",
    "            return None\n",
    "\n",
    "    def add_edge(self, frm, to, cost = 0):\n",
    "        if frm not in self._vertices:\n",
    "            self.add_vertex(frm)\n",
    "        if to not in self._vertices:\n",
    "            self.add_vertex(to)\n",
    "\n",
    "        self._vertices[frm].add_neighbour(self._vertices[to], cost)\n",
    "        self._vertices[to].add_neighbour(self._vertices[frm], cost)\n",
    "\n",
    "    def get_vertices(self):\n",
    "        return list(self._vertices.values())\n",
    "    \n",
    "    def dijkstra_spf (self, start):\n",
    "    \n",
    "        # Set the distance for the start node to zero \n",
    "        start.set_distance(0)\n",
    "\n",
    "        # Put the vertices into the priority queue\n",
    "        unvisited_queue = list(self._vertices.values())\n",
    "        heapq.heapify(unvisited_queue)\n",
    "\n",
    "        while unvisited_queue:\n",
    "            # Pops a vertex with the smallest distance \n",
    "            current = heapq.heappop(unvisited_queue)\n",
    "            current.set_visited()\n",
    "\n",
    "            #for next in v.adjacent:\n",
    "            for next in current.get_adjacent():\n",
    "                # if visited, skip\n",
    "                if next.is_visited():\n",
    "                    continue\n",
    "                new_dist = current.get_distance() + current.get_weight(next)\n",
    "            \n",
    "                if new_dist < next.get_distance():\n",
    "                    next.set_distance(new_dist)\n",
    "                    next.set_previous(current)\n",
    "                    #print ('updated : current = %s next = %s new_dist = %s' \\\n",
    "                    #    %(current.get_id(), next.get_id(), next.get_distance()))\n",
    "                else:\n",
    "                    #print ('not updated : current = %s next = %s new_dist = %s' \\\n",
    "                    #    %(current.get_id(), next.get_id(), next.get_distance()))\n",
    "                    pass\n",
    "\n",
    "            # Rebuild heap\n",
    "            # 1. Pop every item\n",
    "            while unvisited_queue:\n",
    "                heapq.heappop(unvisited_queue)\n",
    "            # 2. Put all vertices not visited into the queue\n",
    "            unvisited_queue = [v for v in list(self._vertices.values()) if not v.is_visited()]\n",
    "            heapq.heapify(unvisited_queue)                       "
   ]
  },
  {
   "cell_type": "markdown",
   "metadata": {},
   "source": [
    "#### Question 01 &nbsp;&nbsp;&nbsp;&nbsp;&nbsp;&nbsp;(10 Points)\n",
    "\n",
    "Given an undirected, edge-weighted graph:</br>\n",
    "<img src=\"https://zschub.github.io/img/edge_weighted_graph.png\" alt=\"edge-weighted graph\" style=\"align: left\"></br>\n",
    "write a function defined as:\n",
    "```python\n",
    "def undirected_shortest_path (edges, vstart, vfinish):\n",
    "    ...\n",
    "``` \n",
    "that:\n",
    "* accepts a list of `edges` in the form of tuples `(vertex1, vertex2, weight)`,\n",
    "* accepts `vstart` and `vfinish` as the IDs of start and stop vertices,\n",
    "* returns a tuple `(path, weight)` that provides a list of vertex id's along the shortest path from start to finish and the summed weight of edges along the path using Dijkstra's Shortest Path First algorithm, and\n",
    "* where no path exists, returns an empty list and an infinite distance.\n",
    "\n",
    "For example, assuming the graph above, the call:\n",
    "```python\n",
    "path, distance = directed_shortest_path (edges, '4', '3')\n",
    "```\n",
    "would return:\n",
    "```python\n",
    "(['4', '0', '2', '3'], 0.81)\n",
    "```"
   ]
  },
  {
   "cell_type": "code",
   "execution_count": null,
   "metadata": {
    "deletable": false,
    "editable": false,
    "nbgrader": {
     "cell_type": "code",
     "checksum": "72c928620677763c2eaa452a51e4daba",
     "grade": false,
     "grade_id": "cell-9146366223c48aea",
     "locked": true,
     "schema_version": 3,
     "solution": false,
     "task": false
    },
    "tags": []
   },
   "outputs": [],
   "source": [
    "# Sample test data, do not modify.\n",
    "# List of undirected edges in the form of (v1, v2, weight):\n",
    "\n",
    "edges = [\n",
    "    ('5', '1', 0.32),\n",
    "    ('5', '7', 0.28),\n",
    "    ('5', '4', 0.35),\n",
    "    ('1', '3', 0.29),\n",
    "    ('1', '2', 0.36),\n",
    "    ('1', '7', 0.19),\n",
    "    ('7', '2', 0.34),\n",
    "    ('7', '0', 0.16),\n",
    "    ('7', '4', 0.37),\n",
    "    ('0', '4', 0.38),\n",
    "    ('0', '2', 0.26),\n",
    "    ('0', '6', 0.58),\n",
    "    ('4', '6', 0.93),\n",
    "    ('3', '2', 0.17),\n",
    "    ('3', '6', 0.52),\n",
    "    ('2', '6', 0.40)\n",
    "]"
   ]
  },
  {
   "cell_type": "code",
   "execution_count": null,
   "metadata": {
    "deletable": false,
    "nbgrader": {
     "cell_type": "code",
     "checksum": "1284672debf082ff349097a1b8635f52",
     "grade": false,
     "grade_id": "q1",
     "locked": false,
     "schema_version": 3,
     "solution": true,
     "task": false
    },
    "tags": []
   },
   "outputs": [],
   "source": [
    "def undirected_shortest_path (edges, vstart, vfinish):\n",
    "    ...\n",
    "    # YOUR CODE HERE\n",
    "    raise NotImplementedError()"
   ]
  },
  {
   "cell_type": "code",
   "execution_count": null,
   "metadata": {},
   "outputs": [],
   "source": [
    "# Sample test cases\n",
    "\n",
    "p, d = undirected_shortest_path (edges, '5', '1')\n",
    "assert p == ['5', '1'] and d == 0.32\n",
    "\n",
    "p, d = undirected_shortest_path (edges, '5', '6')\n",
    "assert p == ['5', '7', '0', '6'] and d == 1.02"
   ]
  },
  {
   "cell_type": "code",
   "execution_count": null,
   "metadata": {
    "deletable": false,
    "editable": false,
    "nbgrader": {
     "cell_type": "code",
     "checksum": "c36545ca8e2829d5f4c4582efb5625eb",
     "grade": true,
     "grade_id": "q1-undirected-spf",
     "locked": true,
     "points": 10,
     "schema_version": 3,
     "solution": false,
     "task": false
    },
    "tags": []
   },
   "outputs": [],
   "source": [
    "# Testing Cell (Do NOT modify this cell)"
   ]
  },
  {
   "cell_type": "markdown",
   "metadata": {},
   "source": [
    "#### Question 02 &nbsp;&nbsp;&nbsp;&nbsp;&nbsp;&nbsp;(15 Points)\n",
    "\n",
    "Given a directed, edge-weighted graph:</br>\n",
    "<img src=\"https://zschub.github.io/img/directed-edge-weighted.png\" alt=\"edge-weighted directed graph\" style=\"height: 307px; width: 503px; align: left\"></br>\n",
    "write a function defined as:\n",
    "```python\n",
    "def directed_shortest_path (dedges, vstart, vfinish):\n",
    "    ...\n",
    "``` \n",
    "that:\n",
    "* accepts a list of directed edges in the form of tuples `(vertex1, vertex2, weight)`,\n",
    "* accepts `vstart` and `vfinish` as the IDs of start and stop vertices, and\n",
    "* returns a tuple `(path, weight)` that provides a list of vertex id's along the directed path from start to finish and the summed weight of edges along the path using Dijkstra's Shortest Path First algorithm.\n",
    "\n",
    "For example, the call:\n",
    "```python\n",
    "path, distance = directed_shortest_path (directed_edges, 'G', 'C')\n",
    "```\n",
    "would return:\n",
    "```python\n",
    "(['G', 'D', 'A', 'B', 'C'], 7)\n",
    "```\n",
    "If no path exists, the function must return an empty list and a distance (edge-weight) of `math.inf`."
   ]
  },
  {
   "cell_type": "code",
   "execution_count": null,
   "metadata": {
    "deletable": false,
    "editable": false,
    "nbgrader": {
     "cell_type": "code",
     "checksum": "a4cc4744c18be91e6154365d5a24f154",
     "grade": false,
     "grade_id": "cell-35d49ccd113ed184",
     "locked": true,
     "schema_version": 3,
     "solution": false,
     "task": false
    },
    "tags": []
   },
   "outputs": [],
   "source": [
    "# Sample test data, do not modify.\n",
    "\n",
    "directed_edges = [\n",
    "    ('A', 'B', 1),\n",
    "    ('B', 'C', 3),\n",
    "    ('B', 'D', 2),\n",
    "    ('B', 'E', 1),\n",
    "    ('C', 'E', 4),\n",
    "    ('C', 'D', 1),\n",
    "    ('E', 'F', 3),\n",
    "    ('D', 'A', 2),\n",
    "    ('D', 'E', 2),\n",
    "    ('G', 'D', 1)\n",
    "]"
   ]
  },
  {
   "cell_type": "code",
   "execution_count": null,
   "metadata": {
    "deletable": false,
    "nbgrader": {
     "cell_type": "code",
     "checksum": "4bc1fe19aca61040f0dddafc9779800d",
     "grade": false,
     "grade_id": "q2",
     "locked": false,
     "schema_version": 3,
     "solution": true,
     "task": false
    },
    "tags": []
   },
   "outputs": [],
   "source": [
    "def directed_shortest_path (dedges, vstart, vfinish):\n",
    "\n",
    "    ...\n",
    "    # YOUR CODE HERE\n",
    "    raise NotImplementedError()"
   ]
  },
  {
   "cell_type": "code",
   "execution_count": null,
   "metadata": {},
   "outputs": [],
   "source": [
    "# Test cases based on the list directed_edges\n",
    "\n",
    "p, d = directed_shortest_path (directed_edges, 'G', 'C')\n",
    "assert p == ['G', 'D', 'A', 'B', 'C'] and d == 7\n",
    "\n",
    "p, d = directed_shortest_path (directed_edges, 'F', 'E')\n",
    "assert p == [] and d == math.inf\n"
   ]
  },
  {
   "cell_type": "code",
   "execution_count": null,
   "metadata": {
    "deletable": false,
    "editable": false,
    "nbgrader": {
     "cell_type": "code",
     "checksum": "8768288b435c56285952859c0ae5215f",
     "grade": true,
     "grade_id": "q2-directed-spf",
     "locked": true,
     "points": 15,
     "schema_version": 3,
     "solution": false,
     "task": false
    },
    "tags": []
   },
   "outputs": [],
   "source": [
    "# Testing Cell (Do NOT modify this cell)"
   ]
  },
  {
   "cell_type": "markdown",
   "metadata": {},
   "source": [
    "## Trees\n",
    "\n",
    "As for graphs, this reference code is provided to allow you to extend the classes using (single or multi-level) inheritance. Do **not** modify this base code as it is used by the autograder but rather extend the classes in order to answer the questions below. You are not compelled to make use of the provided code and may answer the questions as you see fit."
   ]
  },
  {
   "cell_type": "code",
   "execution_count": null,
   "metadata": {
    "deletable": false,
    "editable": false,
    "nbgrader": {
     "cell_type": "code",
     "checksum": "c180898c32e55a074aa994be94a6c7c6",
     "grade": false,
     "grade_id": "cell-787b72914fafa14a",
     "locked": true,
     "schema_version": 3,
     "solution": false,
     "task": false
    },
    "tags": []
   },
   "outputs": [],
   "source": [
    "# Do NOT modify - please extend or ignore.\n",
    "\n",
    "class TreeVertex:\n",
    "\n",
    "    def __init__ (self, _value = None):\n",
    "        # User domain payload of the TreeVertex\n",
    "        self._value = _value\n",
    "        \n",
    "        # Left and right sided children\n",
    "        self._left = None\n",
    "        self._right = None\n",
    "        \n",
    "    def get_value (self):\n",
    "        return self._value\n",
    "    \n",
    "    def set_value (self, _value):\n",
    "        self._value = _value\n",
    "        \n",
    "    def get_left (self):\n",
    "        return self._left\n",
    "\n",
    "    def set_left (self, new_left):\n",
    "        self._left = new_left\n",
    "        \n",
    "    def get_right (self):\n",
    "        return self._right\n",
    "    \n",
    "    def set_right (self, new_right):\n",
    "        self._right = new_right\n",
    "\n",
    "\n",
    "class BinarySearchTree:\n",
    "         \n",
    "    def __init__(self):\n",
    "        self._root = None        "
   ]
  },
  {
   "cell_type": "markdown",
   "metadata": {},
   "source": [
    "#### Question 03 &nbsp;&nbsp;&nbsp;&nbsp;&nbsp;&nbsp;(10 Points)\n",
    "\n",
    "Write a class `Q3Vertex` as a subclass of `TreeVertex` whose constructor accepts a word as a mixed case string containing only the letters of the alphabet such as `'Hidden'` or `'valley'` and stores this as a protected instance variable. Add an `insert_word` function that positions an inserted word in a leaf vertex sorted alphabetically ignoring case.\n",
    "```python\n",
    "class Q3Vertex(TreeVertex):\n",
    "\n",
    "    def __init__ (self, word = \"\"):\n",
    "        self._value = word\n",
    "\n",
    "    def insert_word (self, word):\n",
    "        '''\n",
    "        Insert a word as a leaf vertex in either left or right subtree with in-order position\n",
    "        determined alphabetically ignoring case.\n",
    "        '''\n",
    "```\n",
    "For example:\n",
    "```python\n",
    "vertex = Q3Vertex(\"Hidden\")\n",
    "vertex.insert_word(\"a\")\n",
    "vertex.insert_word(\"valley\")\n",
    "```\n",
    "would result in a `Q3Vertex` with \"Hidden\" having left lead node \"a\" and right leaf node \"valley\". The in-order description of the tree would be \"a\", \"Hidden\", \"valley\"."
   ]
  },
  {
   "cell_type": "code",
   "execution_count": null,
   "metadata": {
    "deletable": false,
    "nbgrader": {
     "cell_type": "code",
     "checksum": "bae070af5f796521ba035654268e5411",
     "grade": false,
     "grade_id": "q3",
     "locked": false,
     "schema_version": 3,
     "solution": true,
     "task": false
    },
    "tags": []
   },
   "outputs": [],
   "source": [
    "class Q3Vertex(TreeVertex):\n",
    "\n",
    "    def __init__ (self, word = \"\"):\n",
    "        self._value = word\n",
    "\n",
    "    def insert_word (self, word):\n",
    "        '''\n",
    "        Insert a word as a leaf vertex in either left or right subtree with in-order position\n",
    "        determined alphabetically ignoring case.\n",
    "        '''\n",
    "\n",
    "    # YOUR CODE HERE\n",
    "    raise NotImplementedError()"
   ]
  },
  {
   "cell_type": "code",
   "execution_count": null,
   "metadata": {},
   "outputs": [],
   "source": [
    "# Sample test case\n",
    "\n",
    "vertex = Q3Vertex(\"Hidden\")\n",
    "vertex.insert_word(\"a\")\n",
    "vertex.insert_word(\"valley\")\n",
    "assert vertex.get_left().get_value() == 'a'\n",
    "assert vertex.get_right().get_value() == 'valley'"
   ]
  },
  {
   "cell_type": "code",
   "execution_count": null,
   "metadata": {
    "deletable": false,
    "editable": false,
    "nbgrader": {
     "cell_type": "code",
     "checksum": "fde203d9a623d56ee2536c43488e14d9",
     "grade": true,
     "grade_id": "q3-vertex",
     "locked": true,
     "points": 10,
     "schema_version": 3,
     "solution": false,
     "task": false
    },
    "tags": []
   },
   "outputs": [],
   "source": [
    "# Testing Cell (Do NOT modify this cell)"
   ]
  },
  {
   "cell_type": "markdown",
   "metadata": {},
   "source": [
    "#### Question 04 &nbsp;&nbsp;&nbsp;&nbsp;&nbsp;&nbsp;(15 Points)\n",
    "\n",
    "Extend `Q3Vertex` in a class `Q4Vertex` and add the function:\n",
    "```python\n",
    "    def the_last_word (self):\n",
    "```\n",
    "that returns the last word of an in-order traversal of vertices from the root of any tree or subtree. For example, in the in-order example used above \"a\", \"Hidden\", \"valley\", `vertex.the_last_word()` would return `\"valley\"`."
   ]
  },
  {
   "cell_type": "code",
   "execution_count": null,
   "metadata": {
    "deletable": false,
    "nbgrader": {
     "cell_type": "code",
     "checksum": "5e1402364d96aed07d7c9f606b8731f1",
     "grade": false,
     "grade_id": "q4",
     "locked": false,
     "schema_version": 3,
     "solution": true,
     "task": false
    },
    "tags": []
   },
   "outputs": [],
   "source": [
    "class Q4Vertex(Q3Vertex):\n",
    "    def the_last_word (self):\n",
    "        \"\"\" Returns the last word of an in-order traversal. \"\"\"\n",
    "        ...\n",
    "# YOUR CODE HERE\n",
    "raise NotImplementedError()"
   ]
  },
  {
   "cell_type": "code",
   "execution_count": null,
   "metadata": {
    "tags": []
   },
   "outputs": [],
   "source": [
    "# Sample test case\n",
    "\n",
    "vv = Q4Vertex(\"Hidden\")\n",
    "vv.insert_word(\"a\")\n",
    "vv.insert_word(\"valley\")\n",
    "assert vv.the_last_word() == 'valley'"
   ]
  },
  {
   "cell_type": "code",
   "execution_count": null,
   "metadata": {
    "deletable": false,
    "editable": false,
    "nbgrader": {
     "cell_type": "code",
     "checksum": "a26a4cd1f78c75379f780ef9660bfa43",
     "grade": true,
     "grade_id": "q4-last-word",
     "locked": true,
     "points": 15,
     "schema_version": 3,
     "solution": false,
     "task": false
    },
    "tags": []
   },
   "outputs": [],
   "source": [
    "# Testing Cell (Do NOT modify this cell)"
   ]
  },
  {
   "cell_type": "markdown",
   "metadata": {},
   "source": [
    "#### Question 5 &nbsp;&nbsp;&nbsp;&nbsp;&nbsp;&nbsp;(15 Points)\n",
    "\n",
    "Extend `Q4Vertex` in a class `Q5Vertex` that adds a function:\n",
    "```python\n",
    "    def in_order_upper_case (self):\n",
    "```\n",
    "that returns the in-order traversal of the tree and returns the words as a string which concatenates each word separated by a space into a single string.\n",
    "\n",
    "For example:\n",
    "```python\n",
    "    vertex.in_order_upper_case()\n",
    "```\n",
    "would return a string: `'A HIDDEN VALLEY'`."
   ]
  },
  {
   "cell_type": "code",
   "execution_count": null,
   "metadata": {
    "deletable": false,
    "nbgrader": {
     "cell_type": "code",
     "checksum": "9e2433668a0b0ac514f13b590823be99",
     "grade": false,
     "grade_id": "q5",
     "locked": false,
     "schema_version": 3,
     "solution": true,
     "task": false
    },
    "tags": []
   },
   "outputs": [],
   "source": [
    "class Q5Vertex(Q4Vertex):\n",
    "\n",
    "    def in_order_upper_case (self):\n",
    "        \"\"\" Returns the last word of an in-order traversal of the tree.\"\"\"\n",
    "        ...\n",
    "        \n",
    "# YOUR CODE HERE\n",
    "raise NotImplementedError()"
   ]
  },
  {
   "cell_type": "code",
   "execution_count": null,
   "metadata": {},
   "outputs": [],
   "source": [
    "# Sample test case\n",
    "\n",
    "vv = Q5Vertex(\"Hidden\")\n",
    "vv.insert_word(\"a\")\n",
    "vv.insert_word(\"valley\")\n",
    "assert vv.in_order_upper_case() == 'A HIDDEN VALLEY'"
   ]
  },
  {
   "cell_type": "code",
   "execution_count": null,
   "metadata": {
    "deletable": false,
    "editable": false,
    "nbgrader": {
     "cell_type": "code",
     "checksum": "851c52d42cf86638862fb66dbec66ee2",
     "grade": true,
     "grade_id": "q5-in-order-traversal",
     "locked": true,
     "points": 15,
     "schema_version": 3,
     "solution": false,
     "task": false
    }
   },
   "outputs": [],
   "source": [
    "# Testing Cell (Do NOT modify this cell)"
   ]
  },
  {
   "cell_type": "markdown",
   "metadata": {},
   "source": [
    "#### Question 6 &nbsp;&nbsp;&nbsp;&nbsp;&nbsp;&nbsp;(15 Points)\n",
    "\n",
    "Create a class Q6BinarySearchTree that implements a binary search tree for words in a sentence and sorts them alphabetically ignoring case. The constructor should take a sentence such as:\n",
    "`\"Loveliest of trees the cherry now Is hung with bloom along the bough\"` and separate individual words before adding them to the contained BST.\n",
    "\n",
    "```python\n",
    "class Q6BinarySearchTree(): \n",
    "    def __init__(self, sentence):\n",
    "```   \n",
    "The tree should have a method:\n",
    "```python\n",
    "    def contains(self, word):\n",
    "```   \n",
    "that searches the BST for a word and returns `True` when the word appears in the sentence **ignoring case**. For example, given the sentence above:\n",
    "```python\n",
    "    tree = Q6BinarySearchTree(\"Loveliest of trees the cherry now ...\")\n",
    "    tree.contains(\"the\") == True\n",
    "    tree.contains(\"THE\") == True # Because case ignored\n",
    "    tree.contains(\"python\") == False\n",
    "```"
   ]
  },
  {
   "cell_type": "code",
   "execution_count": null,
   "metadata": {
    "deletable": false,
    "nbgrader": {
     "cell_type": "code",
     "checksum": "1e3c3880be063e0e9505c9faba3e330d",
     "grade": false,
     "grade_id": "q6",
     "locked": false,
     "schema_version": 3,
     "solution": true,
     "task": false
    },
    "tags": []
   },
   "outputs": [],
   "source": [
    "class Q6BinarySearchTree(BinarySearchTree): \n",
    "    def __init__(self, sentence):\n",
    "        ...\n",
    "    def contains(self, word):\n",
    "        \"\"\" Returns True when word is found in the tree ignoring case. \"\"\"\n",
    "        ...\n",
    "        \n",
    "# YOUR CODE HERE\n",
    "raise NotImplementedError()"
   ]
  },
  {
   "cell_type": "code",
   "execution_count": null,
   "metadata": {},
   "outputs": [],
   "source": [
    "# Sample test cases\n",
    "\n",
    "tree = Q6BinarySearchTree(\"Loveliest of trees the cherry now ...\")\n",
    "assert tree.contains(\"the\")\n",
    "assert tree.contains(\"THE\") # Because case ignored\n",
    "assert not tree.contains(\"python\")"
   ]
  },
  {
   "cell_type": "code",
   "execution_count": null,
   "metadata": {
    "deletable": false,
    "editable": false,
    "nbgrader": {
     "cell_type": "code",
     "checksum": "b212f12f748c913aee9c5853acea9708",
     "grade": true,
     "grade_id": "q6-bst",
     "locked": true,
     "points": 15,
     "schema_version": 3,
     "solution": false,
     "task": false
    }
   },
   "outputs": [],
   "source": [
    "# Testing Cell (Do NOT modify this cell)"
   ]
  },
  {
   "cell_type": "markdown",
   "metadata": {},
   "source": [
    "#### Question 7 &nbsp;&nbsp;&nbsp;&nbsp;&nbsp;&nbsp;(15 Points)\n",
    "\n",
    "Extend `Q6BinarySearchTree` in a class `Q7BinarySearchTree` that is capable of storing at each vertex of the BST both the word and the number of times it occurs in the sentence passed to the constructor. To do this, you will need to create a new vertex class that extends a tree vertex class from a previous question. Words are added to the tree alphabetically in **lower case**. \n",
    "\n",
    "Your class must include a method `frequency` that traverses the tree in order and returns a list of tuples where each tuple consists of the (word, occurrences) - where occurrences is the number of times the word occurs in the sentence.\n",
    "```python\n",
    "class Q7BinarySearchTree(Q6BinarySearchTree):\n",
    "    def __init__(self, sentence):\n",
    "        ''' \n",
    "        Accepts an input sentence, converts it to lowercase and splits into\n",
    "        words which are stored in the BST alphabetically ignoring case.\n",
    "        '''\n",
    "        \n",
    "    def frequency(self):    \n",
    "        '''\n",
    "        Returns a list of tuples containing the in-order traversal of the  \n",
    "        tree and the number of times the word appears in the sentence.\n",
    "        Returned values are in lower case.\n",
    "        '''\n",
    "```\n",
    "For example, given a sentence `\"a A tree repeats\"` the function `frequency` would return a list: </br>\n",
    "`[('a', 2), ('repeats', 1), ('tree', 1)]`</br>\n",
    "because the sentence contains two instances of 'a' when converted to lower case.\n"
   ]
  },
  {
   "cell_type": "code",
   "execution_count": null,
   "metadata": {
    "deletable": false,
    "nbgrader": {
     "cell_type": "code",
     "checksum": "2037e5e054247efa5e53ce8e5291152a",
     "grade": false,
     "grade_id": "q7",
     "locked": false,
     "schema_version": 3,
     "solution": true,
     "task": false
    },
    "tags": []
   },
   "outputs": [],
   "source": [
    "class Q7BinarySearchTree(Q6BinarySearchTree):\n",
    "    def __init__(self, sentence):\n",
    "        ...\n",
    "        \n",
    "    def frequency(self):    \n",
    "        ...\n",
    "        \n",
    "# YOUR CODE HERE\n",
    "raise NotImplementedError()"
   ]
  },
  {
   "cell_type": "code",
   "execution_count": null,
   "metadata": {},
   "outputs": [],
   "source": [
    "# Sample test case\n",
    "\n",
    "q7 = Q7BinarySearchTree(\"a A tree repeats\")\n",
    "# This list is ordered by in-order traversal\n",
    "assert q7.frequency() == [('a', 2), ('repeats', 1), ('tree', 1)]\n"
   ]
  },
  {
   "cell_type": "code",
   "execution_count": null,
   "metadata": {
    "deletable": false,
    "editable": false,
    "nbgrader": {
     "cell_type": "code",
     "checksum": "d6379090480cddde175194bfd85f976f",
     "grade": true,
     "grade_id": "q7-bst-frequency",
     "locked": true,
     "points": 20,
     "schema_version": 3,
     "solution": false,
     "task": false
    },
    "tags": []
   },
   "outputs": [],
   "source": [
    "# Testing Cell (Do NOT modify this cell)"
   ]
  }
 ],
 "metadata": {
  "kernelspec": {
   "display_name": "Python 3 (ipykernel)",
   "language": "python",
   "name": "python3"
  },
  "language_info": {
   "codemirror_mode": {
    "name": "ipython",
    "version": 3
   },
   "file_extension": ".py",
   "mimetype": "text/x-python",
   "name": "python",
   "nbconvert_exporter": "python",
   "pygments_lexer": "ipython3",
   "version": "3.9.13"
  },
  "otter": {
   "tests": {
    "q1": {
     "name": "q1",
     "points": 1,
     "suites": [
      {
       "cases": [],
       "scored": true,
       "setup": "",
       "teardown": "",
       "type": "doctest"
      }
     ]
    },
    "q10": {
     "name": "q10",
     "points": 4,
     "suites": [
      {
       "cases": [],
       "scored": true,
       "setup": "",
       "teardown": "",
       "type": "doctest"
      }
     ]
    },
    "q11": {
     "name": "q11",
     "points": 6,
     "suites": [
      {
       "cases": [],
       "scored": true,
       "setup": "",
       "teardown": "",
       "type": "doctest"
      }
     ]
    },
    "q12": {
     "name": "q12",
     "points": 6,
     "suites": [
      {
       "cases": [],
       "scored": true,
       "setup": "",
       "teardown": "",
       "type": "doctest"
      }
     ]
    },
    "q13": {
     "name": "q13",
     "points": 6,
     "suites": [
      {
       "cases": [],
       "scored": true,
       "setup": "",
       "teardown": "",
       "type": "doctest"
      }
     ]
    },
    "q14": {
     "name": "q14",
     "points": 6,
     "suites": [
      {
       "cases": [],
       "scored": true,
       "setup": "",
       "teardown": "",
       "type": "doctest"
      }
     ]
    },
    "q15": {
     "name": "q15",
     "points": 6,
     "suites": [
      {
       "cases": [],
       "scored": true,
       "setup": "",
       "teardown": "",
       "type": "doctest"
      }
     ]
    },
    "q16": {
     "name": "q16",
     "points": 6,
     "suites": [
      {
       "cases": [],
       "scored": true,
       "setup": "",
       "teardown": "",
       "type": "doctest"
      }
     ]
    },
    "q17": {
     "name": "q17",
     "points": 8,
     "suites": [
      {
       "cases": [],
       "scored": true,
       "setup": "",
       "teardown": "",
       "type": "doctest"
      }
     ]
    },
    "q18": {
     "name": "q18",
     "points": 8,
     "suites": [
      {
       "cases": [],
       "scored": true,
       "setup": "",
       "teardown": "",
       "type": "doctest"
      }
     ]
    },
    "q19": {
     "name": "q19",
     "points": 12,
     "suites": [
      {
       "cases": [],
       "scored": true,
       "setup": "",
       "teardown": "",
       "type": "doctest"
      }
     ]
    },
    "q2": {
     "name": "q2",
     "points": 1,
     "suites": [
      {
       "cases": [],
       "scored": true,
       "setup": "",
       "teardown": "",
       "type": "doctest"
      }
     ]
    },
    "q20": {
     "name": "q20",
     "points": 12,
     "suites": [
      {
       "cases": [],
       "scored": true,
       "setup": "",
       "teardown": "",
       "type": "doctest"
      }
     ]
    },
    "q3": {
     "name": "q3",
     "points": 1,
     "suites": [
      {
       "cases": [],
       "scored": true,
       "setup": "",
       "teardown": "",
       "type": "doctest"
      }
     ]
    },
    "q4": {
     "name": "q4",
     "points": 1,
     "suites": [
      {
       "cases": [],
       "scored": true,
       "setup": "",
       "teardown": "",
       "type": "doctest"
      }
     ]
    },
    "q5": {
     "name": "q5",
     "points": 2,
     "suites": [
      {
       "cases": [],
       "scored": true,
       "setup": "",
       "teardown": "",
       "type": "doctest"
      }
     ]
    },
    "q6": {
     "name": "q6",
     "points": 2,
     "suites": [
      {
       "cases": [],
       "scored": true,
       "setup": "",
       "teardown": "",
       "type": "doctest"
      }
     ]
    },
    "q7": {
     "name": "q7",
     "points": 4,
     "suites": [
      {
       "cases": [],
       "scored": true,
       "setup": "",
       "teardown": "",
       "type": "doctest"
      }
     ]
    },
    "q8": {
     "name": "q8",
     "points": 4,
     "suites": [
      {
       "cases": [],
       "scored": true,
       "setup": "",
       "teardown": "",
       "type": "doctest"
      }
     ]
    },
    "q9": {
     "name": "q9",
     "points": 4,
     "suites": [
      {
       "cases": [],
       "scored": true,
       "setup": "",
       "teardown": "",
       "type": "doctest"
      }
     ]
    }
   }
  },
  "varInspector": {
   "cols": {
    "lenName": 16,
    "lenType": 16,
    "lenVar": 40
   },
   "kernels_config": {
    "python": {
     "delete_cmd_postfix": "",
     "delete_cmd_prefix": "del ",
     "library": "var_list.py",
     "varRefreshCmd": "print(var_dic_list())"
    },
    "r": {
     "delete_cmd_postfix": ") ",
     "delete_cmd_prefix": "rm(",
     "library": "var_list.r",
     "varRefreshCmd": "cat(var_dic_list()) "
    }
   },
   "types_to_exclude": [
    "module",
    "function",
    "builtin_function_or_method",
    "instance",
    "_Feature"
   ],
   "window_display": false
  }
 },
 "nbformat": 4,
 "nbformat_minor": 4
}
