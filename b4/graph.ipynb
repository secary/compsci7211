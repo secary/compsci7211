{
 "cells": [
  {
   "cell_type": "markdown",
   "metadata": {},
   "source": [
    "# Instructions\n",
    "This is a graph coding based on oop, with `dfs method` and `bfs method`"
   ]
  },
  {
   "cell_type": "markdown",
   "metadata": {},
   "source": [
    "## Moudles needed"
   ]
  },
  {
   "cell_type": "code",
   "execution_count": 1,
   "metadata": {},
   "outputs": [],
   "source": [
    "from collections import deque"
   ]
  },
  {
   "cell_type": "markdown",
   "metadata": {},
   "source": [
    "## Vertex Class\n",
    "The Vertex class contains id and edges, and could be represented as `id: {adjacent}`"
   ]
  },
  {
   "cell_type": "code",
   "execution_count": 2,
   "metadata": {},
   "outputs": [],
   "source": [
    "class Vertex:\n",
    "    def __init__(self, id: str) -> None:\n",
    "        self._id = id\n",
    "        self._edges = {}\n",
    "        \n",
    "    def __str__(self) -> str:\n",
    "        return f'id: {self._id}, adjacent: {[x._id for x in self._edges]}'\n",
    "    \n",
    "    @property\n",
    "    def id(self):\n",
    "        return self._id\n",
    "    \n",
    "    @property\n",
    "    def edges(self):\n",
    "        return self._edges\n",
    "    \n",
    "    def add_neighbour(self, v, weight=0):\n",
    "        self._edges[v.id] = weight"
   ]
  },
  {
   "cell_type": "markdown",
   "metadata": {},
   "source": [
    "## Graph Class\n",
    "The Graph class contains vertex dictionary, and have built-in methods like `add_vertex`, `add_edge`.  \n",
    "Which also can be searched by `dfs` or `bfs`"
   ]
  },
  {
   "cell_type": "code",
   "execution_count": 47,
   "metadata": {},
   "outputs": [],
   "source": [
    "class Graph:\n",
    "    def __init__(self) -> None:\n",
    "        self._vertex = {}\n",
    "\n",
    "    def __repr__(self):\n",
    "        result = ''\n",
    "        for v in self._vertex.keys():\n",
    "            result += f'id:{v}, edges: {self._vertex[v].edges}\\n'\n",
    "        return result.strip()\n",
    "    \n",
    "    def add_vertex(self, v_id):\n",
    "        if v_id not in self._vertex:\n",
    "            v = Vertex(v_id)\n",
    "            self._vertex[v_id] = v\n",
    "        return self._vertex[v_id]\n",
    "    \n",
    "    def add_edge(self, v1, v2, weight=0, directed=True):\n",
    "        v1 = self.add_vertex(v1) if not isinstance(v1, Vertex) else v1\n",
    "        v2 = self.add_vertex(v2) if not isinstance(v2, Vertex) else v2\n",
    "        \n",
    "        v1.add_neighbour(v2, weight)\n",
    "        if not directed:\n",
    "            v2.add_neighbour(v1, weight)\n",
    "        \n",
    "    def get_vertex(self, vertex_id):\n",
    "        return self._vertex[vertex_id]\n",
    "\n",
    "    def get_vertex_dict (self):\n",
    "        return self._vertex\n",
    "    \n",
    "    def print_graph(self):\n",
    "        return {v.id: v.edges for v in self.get_vertex_dict().values()}\n",
    "    \n",
    "    def dfs(self, start, stop):\n",
    "        if start not in self._vertex or stop not in self._vertex:\n",
    "            return None\n",
    "        \n",
    "        stack = [(start, 0)]\n",
    "        visited = set()\n",
    "        \n",
    "        while stack:\n",
    "            current, weight_sum = stack.pop()\n",
    "            \n",
    "            if current == stop:\n",
    "                return weight_sum\n",
    "            \n",
    "            else:\n",
    "                for neighbour, weight in self._vertex[current].edges.items():\n",
    "                    if neighbour not in visited:\n",
    "                        stack.append((neighbour, weight + weight_sum))\n",
    "                        \n",
    "    def bfs(self, start, stop):\n",
    "        start = start.id if isinstance(start, Vertex) else start\n",
    "        stop = stop.id if isinstance(stop, Vertex) else stop\n",
    "        visited = set()\n",
    "        queue = deque([(start, [start], 0)])\n",
    "        visited.add(start)\n",
    "        \n",
    "        while queue:\n",
    "            current, path, weight_sum = queue.popleft()\n",
    "            \n",
    "            if current == stop:\n",
    "                return (True, path, weight_sum)\n",
    "            \n",
    "            for neighbour, weight in self._vertex[current].edges.items():\n",
    "                if neighbour not in visited:\n",
    "                    visited.add(neighbour)\n",
    "                    queue.append((neighbour, path + [neighbour], weight_sum + weight))\n",
    "        \n",
    "        return (False, [], 0)"
   ]
  },
  {
   "cell_type": "code",
   "execution_count": 50,
   "metadata": {},
   "outputs": [
    {
     "data": {
      "text/plain": [
       "id:A, edges: {'B': 1}\n",
       "id:B, edges: {'C': 3, 'D': 2, 'E': 1}\n",
       "id:C, edges: {'E': 4, 'D': 1}\n",
       "id:D, edges: {'A': 2, 'E': 2}\n",
       "id:E, edges: {'F': 3}\n",
       "id:F, edges: {}\n",
       "id:G, edges: {'D': 1}"
      ]
     },
     "execution_count": 50,
     "metadata": {},
     "output_type": "execute_result"
    }
   ],
   "source": [
    "g = Graph()\n",
    "vA = g.add_vertex('A')\n",
    "vB = g.add_vertex('B')\n",
    "vC = g.add_vertex('C')\n",
    "vD = g.add_vertex('D')\n",
    "vE = g.add_vertex('E')\n",
    "vF = g.add_vertex('F')\n",
    "vG = g.add_vertex('G')\n",
    "g.add_edge ('A', 'B', 1)\n",
    "g.add_edge ('B', 'C', 3)\n",
    "g.add_edge ('B', 'D', 2)\n",
    "g.add_edge ('B', 'E', 1)\n",
    "g.add_edge ('C', 'E', 4)\n",
    "g.add_edge ('C', 'D', 1)\n",
    "g.add_edge ('E', 'F', 3)\n",
    "g.add_edge ('D', 'A', 2)\n",
    "g.add_edge ('D', 'E', 2)\n",
    "g.add_edge ('G', 'D', 1)\n",
    "\n",
    "g"
   ]
  },
  {
   "cell_type": "code",
   "execution_count": 35,
   "metadata": {},
   "outputs": [
    {
     "data": {
      "text/plain": [
       "3"
      ]
     },
     "execution_count": 35,
     "metadata": {},
     "output_type": "execute_result"
    }
   ],
   "source": [
    "g.dfs('A', 'D')"
   ]
  },
  {
   "cell_type": "code",
   "execution_count": 36,
   "metadata": {},
   "outputs": [
    {
     "data": {
      "text/plain": [
       "(True, ['A', 'B', 'E'], 2)"
      ]
     },
     "execution_count": 36,
     "metadata": {},
     "output_type": "execute_result"
    }
   ],
   "source": [
    "g.bfs('A', 'E')"
   ]
  }
 ],
 "metadata": {
  "kernelspec": {
   "display_name": "Python 3",
   "language": "python",
   "name": "python3"
  },
  "language_info": {
   "codemirror_mode": {
    "name": "ipython",
    "version": 3
   },
   "file_extension": ".py",
   "mimetype": "text/x-python",
   "name": "python",
   "nbconvert_exporter": "python",
   "pygments_lexer": "ipython3",
   "version": "3.10.12"
  }
 },
 "nbformat": 4,
 "nbformat_minor": 2
}
