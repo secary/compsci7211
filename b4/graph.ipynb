{
 "cells": [
  {
   "cell_type": "markdown",
   "metadata": {},
   "source": [
    "# Instructions\n",
    "This is a graph coding based on oop, with `dfs method` and `bfs method`"
   ]
  },
  {
   "cell_type": "markdown",
   "metadata": {},
   "source": [
    "## Moudles needed"
   ]
  },
  {
   "cell_type": "code",
   "execution_count": 27,
   "metadata": {},
   "outputs": [],
   "source": [
    "from collections import deque"
   ]
  },
  {
   "cell_type": "markdown",
   "metadata": {},
   "source": [
    "## Vertex Class\n",
    "The Vertex class contains id and edges, and could be represented as `id: {adjacent}`"
   ]
  },
  {
   "cell_type": "code",
   "execution_count": 28,
   "metadata": {},
   "outputs": [],
   "source": [
    "class Vertex:\n",
    "    def __init__(self, id: str) -> None:\n",
    "        self._id = id\n",
    "        self._edges = {}\n",
    "        \n",
    "    def __str__(self) -> str:\n",
    "        return f'id: {self._id}, adjacent: {[x._id for x in self._edges]}'\n",
    "    \n",
    "    @property\n",
    "    def id(self):\n",
    "        return self._id\n",
    "    \n",
    "    @property\n",
    "    def edges(self):\n",
    "        return self._edges\n",
    "    \n",
    "    def add_neighbour(self, v, weight=0):\n",
    "        self._edges[v.id] = weight"
   ]
  },
  {
   "cell_type": "markdown",
   "metadata": {},
   "source": [
    "## Graph Class\n",
    "The Graph class contains vertex dictionary, and have built-in methods like `add_vertex`, `add_edge`.  \n",
    "Which also can be searched by `dfs` or `bfs`"
   ]
  },
  {
   "cell_type": "code",
   "execution_count": 29,
   "metadata": {},
   "outputs": [],
   "source": [
    "class Graph:\n",
    "    def __init__(self) -> None:\n",
    "        self._vertex = {}\n",
    "\n",
    "    def __repr__(self):\n",
    "        result = ''\n",
    "        for v in self._vertex.keys():\n",
    "            result += f'id:{v}, edges: {self._vertex[v].edges}\\n'\n",
    "        return result.strip()\n",
    "    \n",
    "    def add_vertex(self, v_id):\n",
    "        if v_id not in self._vertex:\n",
    "            self._vertex[v_id] = Vertex(v_id)\n",
    "        return self._vertex[v_id]\n",
    "    \n",
    "    def add_edge(self, v1, v2, weight=0, directed=True):\n",
    "        v1 = self.add_vertex(v1) if not isinstance(v1, Vertex) else v1\n",
    "        v2 = self.add_vertex(v2) if not isinstance(v2, Vertex) else v2\n",
    "        \n",
    "        v1.add_neighbour(v2, weight)\n",
    "        if not directed:\n",
    "            v2.add_neighbour(v1, weight)\n",
    "        \n",
    "    def get_vertex(self, vertex_id):\n",
    "        return self._vertex[vertex_id]\n",
    "\n",
    "    def get_vertex_dict (self):\n",
    "        return self._vertex\n",
    "    \n",
    "    def print_graph(self):\n",
    "        return {v.id: v.edges for v in self.get_vertex_dict().values()}\n",
    "    \n",
    "    def dfs(self, start, stop):\n",
    "        if start not in self._vertex or stop not in self._vertex:\n",
    "            return None\n",
    "        \n",
    "        stack = [(start, 0)]\n",
    "        visited = set()\n",
    "        \n",
    "        while stack:\n",
    "            current, weight_sum = stack.pop()\n",
    "            \n",
    "            if current == stop:\n",
    "                return weight_sum\n",
    "            \n",
    "            else:\n",
    "                for neighbour, weight in self._vertex[current].edges.items():\n",
    "                    if neighbour not in visited:\n",
    "                        stack.append((neighbour, weight + weight_sum))\n",
    "                        \n",
    "    def bfs(self, start, stop):\n",
    "        start = start.id if isinstance(start, Vertex) else start\n",
    "        stop = stop.id if isinstance(stop, Vertex) else stop\n",
    "        visited = set()\n",
    "        queue = deque([(start, [start], 0)])\n",
    "        visited.add(start)\n",
    "        \n",
    "        while queue:\n",
    "            current, path, weight_sum = queue.popleft()\n",
    "            \n",
    "            if current == stop:\n",
    "                return (True, path, weight_sum)\n",
    "            \n",
    "            for neighbour, weight in self._vertex[current].edges.items():\n",
    "                if neighbour not in visited:\n",
    "                    visited.add(neighbour)\n",
    "                    queue.append((neighbour, path + [neighbour], weight_sum + weight))\n",
    "        \n",
    "        return (False, [], 0)"
   ]
  },
  {
   "cell_type": "code",
   "execution_count": 30,
   "metadata": {},
   "outputs": [
    {
     "data": {
      "text/plain": [
       "id:A, edges: {'B': 1}\n",
       "id:B, edges: {'C': 3, 'D': 2, 'E': 1}\n",
       "id:C, edges: {'E': 4, 'D': 1}\n",
       "id:D, edges: {'A': 2, 'E': 2}\n",
       "id:E, edges: {'F': 3}\n",
       "id:F, edges: {}\n",
       "id:G, edges: {'D': 1}"
      ]
     },
     "execution_count": 30,
     "metadata": {},
     "output_type": "execute_result"
    }
   ],
   "source": [
    "g = Graph()\n",
    "vA = g.add_vertex('A')\n",
    "vB = g.add_vertex('B')\n",
    "vC = g.add_vertex('C')\n",
    "vD = g.add_vertex('D')\n",
    "vE = g.add_vertex('E')\n",
    "vF = g.add_vertex('F')\n",
    "vG = g.add_vertex('G')\n",
    "g.add_edge ('A', 'B', 1)\n",
    "g.add_edge ('B', 'C', 3)\n",
    "g.add_edge ('B', 'D', 2)\n",
    "g.add_edge ('B', 'E', 1)\n",
    "g.add_edge ('C', 'E', 4)\n",
    "g.add_edge ('C', 'D', 1)\n",
    "g.add_edge ('E', 'F', 3)\n",
    "g.add_edge ('D', 'A', 2)\n",
    "g.add_edge ('D', 'E', 2)\n",
    "g.add_edge ('G', 'D', 1)\n",
    "\n",
    "g"
   ]
  },
  {
   "cell_type": "code",
   "execution_count": 31,
   "metadata": {},
   "outputs": [
    {
     "data": {
      "text/plain": [
       "3"
      ]
     },
     "execution_count": 31,
     "metadata": {},
     "output_type": "execute_result"
    }
   ],
   "source": [
    "g.dfs('A', 'D')"
   ]
  },
  {
   "cell_type": "code",
   "execution_count": 32,
   "metadata": {},
   "outputs": [
    {
     "data": {
      "text/plain": [
       "(True, ['A', 'B', 'E'], 2)"
      ]
     },
     "execution_count": 32,
     "metadata": {},
     "output_type": "execute_result"
    }
   ],
   "source": [
    "g.bfs('A', 'E')"
   ]
  },
  {
   "cell_type": "code",
   "execution_count": 38,
   "metadata": {},
   "outputs": [
    {
     "name": "stdout",
     "output_type": "stream",
     "text": [
      "updated : current = 5 next = 1 new_dist = 0.32\n",
      "updated : current = 5 next = 7 new_dist = 0.28\n",
      "updated : current = 5 next = 4 new_dist = 0.35\n",
      "not updated : current = 7 next = 1 new_dist = 0.32\n",
      "updated : current = 7 next = 2 new_dist = 0.6200000000000001\n",
      "updated : current = 7 next = 0 new_dist = 0.44000000000000006\n",
      "not updated : current = 7 next = 4 new_dist = 0.35\n",
      "updated : current = 1 next = 3 new_dist = 0.61\n",
      "not updated : current = 1 next = 2 new_dist = 0.6200000000000001\n",
      "not updated : current = 4 next = 0 new_dist = 0.44000000000000006\n",
      "updated : current = 4 next = 6 new_dist = 1.28\n",
      "not updated : current = 0 next = 2 new_dist = 0.6200000000000001\n",
      "updated : current = 0 next = 6 new_dist = 1.02\n",
      "not updated : current = 3 next = 2 new_dist = 0.6200000000000001\n",
      "not updated : current = 3 next = 6 new_dist = 1.02\n",
      "not updated : current = 2 next = 6 new_dist = 1.02\n"
     ]
    }
   ],
   "source": [
    "\n",
    "import math\n",
    "import heapq\n",
    "\n",
    "class DijkstraVertex:\n",
    "    \n",
    "    def __init__(self, node):\n",
    "        self._id = node\n",
    "        self._adjacent = dict()\n",
    "        # Set distance to infinity for all nodes\n",
    "        self._distance = math.inf\n",
    "        # Mark all nodes unvisited        \n",
    "        self._visited = False  \n",
    "        # Predecessor\n",
    "        self._previous = None\n",
    "\n",
    "    def add_neighbour(self, neighbour, weight = 0):\n",
    "        self._adjacent[neighbour] = weight\n",
    "\n",
    "    def get_adjacent(self):\n",
    "        return self._adjacent  \n",
    "        \n",
    "    def get_connections(self):\n",
    "        return self._adjacent.keys()  \n",
    "\n",
    "    def get_id(self):\n",
    "        return self._id\n",
    "\n",
    "    def get_weight(self, neighbour):\n",
    "        return self._adjacent[neighbour]\n",
    "\n",
    "    def set_distance(self, dist):\n",
    "        self._distance = dist\n",
    "\n",
    "    def get_distance(self):\n",
    "        return self._distance\n",
    "\n",
    "    def set_previous(self, prev):\n",
    "        self._previous = prev\n",
    "\n",
    "    def get_previous(self):\n",
    "        return self._previous\n",
    "\n",
    "    def set_visited(self):\n",
    "        self._visited = True\n",
    "\n",
    "    def is_visited(self):\n",
    "        return self._visited\n",
    "\n",
    "    def __str__(self):\n",
    "        return str(self._id) + ' adjacent: ' + str([x.id for x in self._adjacent])\n",
    "    \n",
    "    def __lt__(self, other):\n",
    "        return self._distance < other.get_distance()\n",
    "\n",
    "class DijkstraGraph:\n",
    "    \n",
    "    def __init__(self):\n",
    "        self._vertices = dict()\n",
    "\n",
    "    def __iter__(self):\n",
    "        return iter(self._vertices.values())\n",
    "\n",
    "    def add_vertex(self, node):\n",
    "        new_vertex = DijkstraVertex(node)\n",
    "        self._vertices[node] = new_vertex\n",
    "        return new_vertex\n",
    "\n",
    "    def get_vertex(self, n):\n",
    "        if n in self._vertices:\n",
    "            return self._vertices[n]\n",
    "        else:\n",
    "            return None\n",
    "\n",
    "    def add_edge(self, frm, to, cost = 0):\n",
    "        if frm not in self._vertices:\n",
    "            self.add_vertex(frm)\n",
    "        if to not in self._vertices:\n",
    "            self.add_vertex(to)\n",
    "\n",
    "        self._vertices[frm].add_neighbour(self._vertices[to], cost)\n",
    "        self._vertices[to].add_neighbour(self._vertices[frm], cost)\n",
    "\n",
    "    def get_vertices(self):\n",
    "        return list(self._vertices.values())\n",
    "    \n",
    "    def dijkstra_spf (self, start):\n",
    "    \n",
    "        # Set the distance for the start node to zero \n",
    "        start.set_distance(0)\n",
    "\n",
    "        # Put the vertices into the priority queue\n",
    "        unvisited_queue = list(self._vertices.values())\n",
    "        heapq.heapify(unvisited_queue)\n",
    "\n",
    "        while unvisited_queue:\n",
    "            # Pops a vertex with the smallest distance \n",
    "            current = heapq.heappop(unvisited_queue)\n",
    "            current.set_visited()\n",
    "\n",
    "            #for next in v.adjacent:\n",
    "            for next in current.get_adjacent():\n",
    "                # if visited, skip\n",
    "                if next.is_visited():\n",
    "                    continue\n",
    "                new_dist = current.get_distance() + current.get_weight(next)\n",
    "            \n",
    "                if new_dist < next.get_distance():\n",
    "                    next.set_distance(new_dist)\n",
    "                    next.set_previous(current)\n",
    "                    print ('updated : current = %s next = %s new_dist = %s' \\\n",
    "                       %(current.get_id(), next.get_id(), next.get_distance()))\n",
    "                else:\n",
    "                    print ('not updated : current = %s next = %s new_dist = %s' \\\n",
    "                       %(current.get_id(), next.get_id(), next.get_distance()))\n",
    "                    pass\n",
    "\n",
    "            # Rebuild heap\n",
    "            # 1. Pop every item\n",
    "            while unvisited_queue:\n",
    "                heapq.heappop(unvisited_queue)\n",
    "            # 2. Put all vertices not visited into the queue\n",
    "            unvisited_queue = [v for v in list(self._vertices.values()) if not v.is_visited()]\n",
    "            heapq.heapify(unvisited_queue)\n",
    "\n",
    "g = DijkstraGraph()\n",
    "edges = [\n",
    "    ('5', '1', 0.32),\n",
    "    ('5', '7', 0.28),\n",
    "    ('5', '4', 0.35),\n",
    "    ('1', '3', 0.29),\n",
    "    ('1', '2', 0.36),\n",
    "    ('1', '7', 0.19),\n",
    "    ('7', '2', 0.34),\n",
    "    ('7', '0', 0.16),\n",
    "    ('7', '4', 0.37),\n",
    "    ('0', '4', 0.38),\n",
    "    ('0', '2', 0.26),\n",
    "    ('0', '6', 0.58),\n",
    "    ('4', '6', 0.93),\n",
    "    ('3', '2', 0.17),\n",
    "    ('3', '6', 0.52),\n",
    "    ('2', '6', 0.40)\n",
    "]\n",
    "\n",
    "for frm, to, cost in edges:\n",
    "    g.add_edge(frm, to, cost) \n",
    "vs = g.get_vertex('5')\n",
    "g.dijkstra_spf(vs)"
   ]
  }
 ],
 "metadata": {
  "kernelspec": {
   "display_name": "Python 3",
   "language": "python",
   "name": "python3"
  },
  "language_info": {
   "codemirror_mode": {
    "name": "ipython",
    "version": 3
   },
   "file_extension": ".py",
   "mimetype": "text/x-python",
   "name": "python",
   "nbconvert_exporter": "python",
   "pygments_lexer": "ipython3",
   "version": "3.10.12"
  }
 },
 "nbformat": 4,
 "nbformat_minor": 2
}
