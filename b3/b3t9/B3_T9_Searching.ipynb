{
 "cells": [
  {
   "cell_type": "markdown",
   "metadata": {},
   "source": [
    "### Instructions:\n",
    "\n",
    "- You can attempt any number of questions and in any order.  \n",
    "  See the assignment page for a description of the hurdle requirement for this assessment.\n",
    "- You may submit your practical for autograding as many times as you like to check on progress, however you will save time by checking and testing your own code before submitting.\n",
    "- Develop and check your answers in the spaces provided.\n",
    "- **Replace** the code `raise NotImplementedError()` with your solution to the question.\n",
    "- Do **NOT** remove any variables other provided markings already provided in the answer spaces.\n",
    "- Do **NOT** make any changes to this notebook outside of the spaces indicated.  \n",
    "  (If you do this, the submission system might not accept your work)\n",
    "\n",
    "### Submitting:\n",
    "\n",
    "1. Before you turn this problem in, make sure everything runs as expected by resetting this notebook.    \n",
    "   (You can do this from the menubar above by selecting `Kernel`&#8594;`Restart Kernel and Run All Cells...`)\n",
    "1. Don't forget to save your notebook after this step.\n",
    "1. Submit your .ipynb file to Gradescope via file upload or GitHub repository.\n",
    "1. You can submit as many times as needed.\n",
    "1. You **must** give your submitted file the **identical** filename to that which you downloaded without changing **any** aspects - spaces, underscores, capitalisation etc. If your operating system has changed the filename because you downloaded the file twice or more you **must** also fix this.  \n",
    "\n"
   ]
  },
  {
   "cell_type": "markdown",
   "metadata": {},
   "source": [
    "---"
   ]
  },
  {
   "cell_type": "markdown",
   "metadata": {
    "tags": []
   },
   "source": [
    "# <mark style=\"background: #2dc26b; color: #ffffff;\" >&nbsp;B3&nbsp;</mark>&ensp;Topic 9: Searching\n"
   ]
  },
  {
   "cell_type": "code",
   "execution_count": 98,
   "metadata": {},
   "outputs": [],
   "source": [
    "from string import ascii_uppercase\n",
    "\n",
    "def quicksort(arr, first, last):\n",
    "    if first >= last:\n",
    "        return arr\n",
    "    \n",
    "    pivot = arr[first]\n",
    "    low, high = first, last\n",
    "    \n",
    "    while low <= high:\n",
    "        while arr[low] < pivot:\n",
    "            low += 1\n",
    "        while arr[high] > pivot:\n",
    "            high -= 1\n",
    "            \n",
    "        if low <= high:\n",
    "            arr[low], arr[high] = arr[high], arr[low]\n",
    "            low += 1\n",
    "            high -= 1\n",
    "            \n",
    "    quicksort(arr, first, high)\n",
    "    quicksort(arr, low, last)\n",
    "    \n",
    "    return arr"
   ]
  },
  {
   "cell_type": "markdown",
   "metadata": {},
   "source": [
    "#### Question 01 &nbsp;&nbsp;&nbsp;&nbsp;&nbsp;&nbsp;(5 Points)\n",
    "\n",
    "Write a function defined as:\n",
    "```python\n",
    "def reverse_linear (un_list, match):\n",
    "```\n",
    "that performs a linear search on the list from the last element to the first returning the index of the first matching element as a tuple `(True, index)` or `(False, -1)` if not found.\n",
    "\n",
    "For example:\n",
    "```python\n",
    "reverse_linear ([7, 7], 7) # returns (True, 1)\n",
    "```"
   ]
  },
  {
   "cell_type": "code",
   "execution_count": 99,
   "metadata": {
    "deletable": false,
    "nbgrader": {
     "cell_type": "code",
     "checksum": "d9033e05da7eb91727253d5a2299257e",
     "grade": false,
     "grade_id": "q1",
     "locked": false,
     "schema_version": 3,
     "solution": true,
     "task": false
    },
    "tags": []
   },
   "outputs": [
    {
     "data": {
      "text/plain": [
       "(True, 0)"
      ]
     },
     "execution_count": 99,
     "metadata": {},
     "output_type": "execute_result"
    }
   ],
   "source": [
    "def reverse_linear (un_list, match):\n",
    "    \n",
    "    # YOUR CODE HERE\n",
    "    for i, v in enumerate(reversed(un_list)):\n",
    "        if match == v:\n",
    "            return(True, len(un_list) - 1 - i)\n",
    "    return (False, -1)\n",
    "    \n",
    "reverse_linear ([7, 1], 7)"
   ]
  },
  {
   "cell_type": "code",
   "execution_count": 100,
   "metadata": {
    "deletable": false,
    "editable": false,
    "nbgrader": {
     "cell_type": "code",
     "checksum": "bc699076e9c694f950ae7c014b30f6e1",
     "grade": true,
     "grade_id": "q1-reverse-linea",
     "locked": true,
     "points": 5,
     "schema_version": 3,
     "solution": false,
     "task": false
    },
    "tags": []
   },
   "outputs": [],
   "source": [
    "# Testing Cell (Do NOT modify this cell)"
   ]
  },
  {
   "cell_type": "markdown",
   "metadata": {},
   "source": [
    "#### Question 02 &nbsp;&nbsp;&nbsp;&nbsp;&nbsp;&nbsp;(5 Points)\n",
    "\n",
    "Write a function defined as:\n",
    "```python\n",
    "def weighted_binary_search (or_list, match):\n",
    "```\n",
    "that performs a **iterative binary search** on an ordered list of ints that returns the `index x value` (index multiplied by value) or `False` if the element is not found.\n",
    "\n",
    "For example:\n",
    "```python\n",
    "weighted_binary_search ([0, 3, 6], 6) == 12 # because (value) = 6 * (index) 2\n",
    "```"
   ]
  },
  {
   "cell_type": "code",
   "execution_count": null,
   "metadata": {
    "deletable": false,
    "nbgrader": {
     "cell_type": "code",
     "checksum": "f4def7ca9d085c3f6c30536594ece005",
     "grade": false,
     "grade_id": "q2",
     "locked": false,
     "schema_version": 3,
     "solution": true,
     "task": false
    },
    "tags": []
   },
   "outputs": [
    {
     "data": {
      "text/plain": [
       "0"
      ]
     },
     "execution_count": 101,
     "metadata": {},
     "output_type": "execute_result"
    }
   ],
   "source": [
    "def weighted_binary_search (or_list, match):\n",
    " \n",
    "    # YOUR CODE HERE\n",
    "        \n",
    "    quicksort(or_list, 0, len(or_list) - 1)\n",
    "    low, high = 0, len(or_list) - 1\n",
    "    while low <= high:\n",
    "        mid = (low + high) // 2\n",
    "        if or_list[mid] == match:\n",
    "            return mid * match\n",
    "        elif or_list[mid] < match:\n",
    "            low = mid + 1\n",
    "        else:\n",
    "            high = mid - 1\n",
    "            \n",
    "    else:\n",
    "        return False\n",
    "            \n",
    "weighted_binary_search ([0, 3, 4, 6], 0) \n",
    "        "
   ]
  },
  {
   "cell_type": "code",
   "execution_count": 102,
   "metadata": {
    "deletable": false,
    "editable": false,
    "nbgrader": {
     "cell_type": "code",
     "checksum": "d9d9d27cb3776888c72e14d91b093209",
     "grade": true,
     "grade_id": "q2-weighted-binary",
     "locked": true,
     "points": 5,
     "schema_version": 3,
     "solution": false,
     "task": false
    },
    "tags": []
   },
   "outputs": [],
   "source": [
    "# Testing Cell (Do NOT modify this cell)"
   ]
  },
  {
   "cell_type": "markdown",
   "metadata": {},
   "source": [
    "#### Question 03 &nbsp;&nbsp;&nbsp;&nbsp;&nbsp;&nbsp;(10 Points)\n",
    "\n",
    "Write a function defined as:\n",
    "```python\n",
    "def num_matches_jump_search (or_list, match, jump = 1):\n",
    "```\n",
    "\n",
    "that implements a **jump search** that takes the size of the jump (`jump >= 1`) as an input parameter to find the value `match`. If that value is found, the function should then use linear search to discover all adjacent values that also match to the `match` parameter. The search should return the number of items in the ordered list that match the search value (rather than the index) or `False` if the item was not found.\n",
    "\n",
    "For example:\n",
    "```python\n",
    "num_matches_jump_search ([0, 2, 3, 5, 5, 6, 8, 11, 12, 12, 12], 5, 2) == 2\n",
    "```"
   ]
  },
  {
   "cell_type": "code",
   "execution_count": 131,
   "metadata": {
    "deletable": false,
    "nbgrader": {
     "cell_type": "code",
     "checksum": "8f301466336ea10ada1001b1aaa81e4f",
     "grade": false,
     "grade_id": "q3",
     "locked": false,
     "schema_version": 3,
     "solution": true,
     "task": false
    },
    "tags": []
   },
   "outputs": [
    {
     "data": {
      "text/plain": [
       "1"
      ]
     },
     "execution_count": 131,
     "metadata": {},
     "output_type": "execute_result"
    }
   ],
   "source": [
    "def num_matches_jump_search (or_list, match, jump = 1):\n",
    "    \n",
    "    # YOUR CODE HERE\n",
    "    for i in range(0,  len(or_list) - 1, jump):\n",
    "        if or_list[i] == match or (or_list[i] > match and i != 0):\n",
    "            # Step 2: Perform a linear search within the identified block\n",
    "            start = max(i - jump, 0)\n",
    "            end = min(i + jump, len(or_list) - 1)\n",
    "            \n",
    "            count = 0\n",
    "            for j in range(start, end):\n",
    "                if or_list[j] == match:\n",
    "                    count += 1\n",
    "            \n",
    "            return count if count > 0 else False\n",
    "\n",
    "    return False\n",
    "\n",
    "num_matches_jump_search ([0, 1, 2, 3, 5, 5, 6, 8, 10, 11, 12, 12, 12], 5) "
   ]
  },
  {
   "cell_type": "code",
   "execution_count": 104,
   "metadata": {
    "deletable": false,
    "editable": false,
    "nbgrader": {
     "cell_type": "code",
     "checksum": "2cf033d94797c764a1bc48310ccc38b2",
     "grade": true,
     "grade_id": "q3-jump",
     "locked": true,
     "points": 10,
     "schema_version": 3,
     "solution": false,
     "task": false
    },
    "tags": []
   },
   "outputs": [],
   "source": [
    "# Testing Cell (Do NOT modify this cell)"
   ]
  },
  {
   "cell_type": "markdown",
   "metadata": {},
   "source": [
    "#### Question 04 &nbsp;&nbsp;&nbsp;&nbsp;&nbsp;&nbsp;(10 Points)\n",
    "\n",
    "Write a function defined as:\n",
    "```python\n",
    "def binary_search_tuples_by_second_value (tu_list,  match):\n",
    "```\n",
    "that implements a binary search to find the second element in a list of tuples sorted by the second value in the tuple returning the tuple found at the index of the first match or `False` when the match is not found.\n",
    "\n",
    "For example:\n",
    "```python\n",
    "# because the tuple (1,2) has '2' in the second position.\n",
    "binary_search_tuples_by_second_value ([(1,2),(1,4),(3,5),(5,7)], 2) == (1, 2)\n",
    "```"
   ]
  },
  {
   "cell_type": "code",
   "execution_count": 105,
   "metadata": {
    "deletable": false,
    "nbgrader": {
     "cell_type": "code",
     "checksum": "5ecefc6747e5b4c592e4ce57d69972de",
     "grade": false,
     "grade_id": "q4",
     "locked": false,
     "schema_version": 3,
     "solution": true,
     "task": false
    },
    "tags": []
   },
   "outputs": [
    {
     "data": {
      "text/plain": [
       "(3, 1668)"
      ]
     },
     "execution_count": 105,
     "metadata": {},
     "output_type": "execute_result"
    }
   ],
   "source": [
    "def binary_search_tuples_by_second_value (tu_list,  match):\n",
    " \n",
    "    # YOUR CODE HERE\n",
    "    def quicksort_tuple(arr, first, last):\n",
    "        if first >= last:\n",
    "            return\n",
    "        \n",
    "        low, high = first, last\n",
    "        pivot = arr[first][1]\n",
    "        while low <= high:\n",
    "            while arr[low][1] < pivot:\n",
    "                low += 1\n",
    "            while arr[high][1] > pivot:\n",
    "                high -= 1\n",
    "                \n",
    "            if low <= high:\n",
    "                arr[low], arr[high] = arr[high], arr[low]\n",
    "                low += 1\n",
    "                high -= 1\n",
    "                \n",
    "        quicksort_tuple(arr, first, high)\n",
    "        quicksort_tuple(arr, low, last)\n",
    "        \n",
    "    quicksort_tuple(tu_list, 0, len(tu_list) - 1)\n",
    "    low, high = 0, len(tu_list) - 1\n",
    "    while low <= high:\n",
    "        mid = (low + high) // 2\n",
    "        if tu_list[mid][1] == match:\n",
    "            return tu_list[mid]\n",
    "        elif tu_list[mid][1] > match:\n",
    "            high = mid - 1\n",
    "        else:\n",
    "            low = mid + 1\n",
    "    else:\n",
    "        return False\n",
    "        \n",
    "binary_search_tuples_by_second_value ([(1,2),(2,2),(3,1668),(1,4),(3,5),(5,7)], 1668)"
   ]
  },
  {
   "cell_type": "code",
   "execution_count": 106,
   "metadata": {
    "deletable": false,
    "editable": false,
    "nbgrader": {
     "cell_type": "code",
     "checksum": "327dc6a1b2fea1e465c06253b576b4b6",
     "grade": true,
     "grade_id": "q4-binary-tuples",
     "locked": true,
     "points": 10,
     "schema_version": 3,
     "solution": false,
     "task": false
    }
   },
   "outputs": [],
   "source": [
    "# Testing Cell (Do NOT modify this cell)"
   ]
  },
  {
   "cell_type": "markdown",
   "metadata": {},
   "source": [
    "#### Question 05 &nbsp;&nbsp;&nbsp;&nbsp;&nbsp;&nbsp;(10 Points)\n",
    "\n",
    "Write a function defined as: \n",
    "```python\n",
    "def search_float_with_tolerance (or_list, match, tolerance = 0.5):\n",
    "```\n",
    "that will accepts an ordered list of floats and a tolerance that performs a search of any type for a float and returns the first of any values that matches plus or minus the tolerance or returns `False` if no value is found within that tolerance such that:\n",
    "```python\n",
    "(match - tolerance) <= match <= (match + tolerance)\n",
    "````    "
   ]
  },
  {
   "cell_type": "code",
   "execution_count": 124,
   "metadata": {
    "deletable": false,
    "nbgrader": {
     "cell_type": "code",
     "checksum": "a663c2473284e39ae0b45b3a676ce2d5",
     "grade": false,
     "grade_id": "q5",
     "locked": false,
     "schema_version": 3,
     "solution": true,
     "task": false
    },
    "tags": []
   },
   "outputs": [],
   "source": [
    "def search_float_with_tolerance (or_list, match, tolerance = 0.5):\n",
    "    \n",
    "    # YOUR CODE HERE\n",
    "    or_list = quicksort(or_list, 0, len(or_list) - 1)\n",
    "    left, right = 0, len(or_list) - 1\n",
    "    while left <= right:\n",
    "        mid = (left + right) // 2\n",
    "        if (match - tolerance) <= or_list[mid] <= (match + tolerance):\n",
    "            return or_list[mid]\n",
    "        elif or_list[mid] > (match + tolerance):\n",
    "            right = mid - 1\n",
    "        else:\n",
    "            left = mid + 1\n",
    "            \n",
    "    return False\n",
    "\n"
   ]
  },
  {
   "cell_type": "code",
   "execution_count": 108,
   "metadata": {
    "deletable": false,
    "editable": false,
    "nbgrader": {
     "cell_type": "code",
     "checksum": "f17b1b982b44a59a1aa48e82144033fd",
     "grade": true,
     "grade_id": "q5-float-with-tolerance",
     "locked": true,
     "points": 10,
     "schema_version": 3,
     "solution": false,
     "task": false
    }
   },
   "outputs": [],
   "source": [
    "# Testing Cell (Do NOT modify this cell)"
   ]
  },
  {
   "cell_type": "markdown",
   "metadata": {},
   "source": [
    "#### Question 06 &nbsp;&nbsp;&nbsp;&nbsp;&nbsp;&nbsp;(10 Points)\n",
    "\n",
    "Write a function defined as:\n",
    "```python\n",
    "def search_num_matches (or_list, match):\n",
    "```\n",
    "that implements a search of any type on ordered data and returns the number of elements that match a value or False if no match is found. For a non-linear search, attempt to find a first match and then search linearly forwards and backwards in the list from the initial match or adopt your own hybrid approach.\n"
   ]
  },
  {
   "cell_type": "code",
   "execution_count": 125,
   "metadata": {
    "deletable": false,
    "nbgrader": {
     "cell_type": "code",
     "checksum": "169c01de6c7d320cb5e06d09d7357ae3",
     "grade": false,
     "grade_id": "q6",
     "locked": false,
     "schema_version": 3,
     "solution": true,
     "task": false
    },
    "tags": []
   },
   "outputs": [],
   "source": [
    "def search_num_matches (or_list, match):\n",
    "    \n",
    "    # YOUR CODE HERE\n",
    "    or_list = quicksort(or_list, 0, len(or_list) - 1)\n",
    "    left, right = 0, len(or_list) - 1\n",
    "    mid = (left + right) // 2\n",
    "    match_index = -1\n",
    "    \n",
    "    while left <= right:\n",
    "        if or_list[mid] == match:\n",
    "            match_index = mid\n",
    "            break\n",
    "        elif or_list[mid] > match:\n",
    "            right = mid - 1\n",
    "        else:\n",
    "            left = mid + 1\n",
    "            \n",
    "    if match_index == -1:\n",
    "        return -1\n",
    "    \n",
    "    count = 1\n",
    "    \n",
    "    low = match_index - 1\n",
    "    while low >= 0 and or_list[low] == match:\n",
    "        count += 1\n",
    "        low -= 1\n",
    "        \n",
    "    high = match_index + 1\n",
    "    while high < len(or_list) and or_list[high] == match:\n",
    "        count += 1\n",
    "        high += 1\n",
    "        \n",
    "    return count\n",
    "    \n"
   ]
  },
  {
   "cell_type": "code",
   "execution_count": 110,
   "metadata": {
    "deletable": false,
    "editable": false,
    "nbgrader": {
     "cell_type": "code",
     "checksum": "9667713ffcfd32ce4bc254f129e3e492",
     "grade": true,
     "grade_id": "q6-num-matches",
     "locked": true,
     "points": 10,
     "schema_version": 3,
     "solution": false,
     "task": false
    },
    "tags": []
   },
   "outputs": [],
   "source": [
    "# Testing Cell (Do NOT modify this cell)"
   ]
  },
  {
   "cell_type": "markdown",
   "metadata": {},
   "source": [
    "#### Question 07 &nbsp;&nbsp;&nbsp;&nbsp;&nbsp;&nbsp;(10 Points)\n",
    "\n",
    "Write a function defined as:\n",
    "```python\n",
    "def binary_search_for_string (filename, match):\n",
    "```\n",
    "that reads a file consisting of an ordered list of fruit and vegetables (one per line, including some space separated values) and uses a **binary search** to return a tuple `(True, line_number)` if the `match` string exactly matches one line (excluding EOL) and `(False, -1)` otherwise. A file of test data, `fruit-and-veg.txt` is available from the MyUni assignment page for this practical."
   ]
  },
  {
   "cell_type": "code",
   "execution_count": 127,
   "metadata": {
    "deletable": false,
    "nbgrader": {
     "cell_type": "code",
     "checksum": "d6cb851dd0a979be002cfde30ff3bca8",
     "grade": false,
     "grade_id": "q7",
     "locked": false,
     "schema_version": 3,
     "solution": true,
     "task": false
    },
    "tags": []
   },
   "outputs": [
    {
     "data": {
      "text/plain": [
       "(True, 34)"
      ]
     },
     "execution_count": 127,
     "metadata": {},
     "output_type": "execute_result"
    }
   ],
   "source": [
    "def binary_search_for_string (filename, match):\n",
    "    \n",
    "    # YOUR CODE HERE\n",
    "    with open(filename) as f:\n",
    "        lines = [line.strip() for line in f]\n",
    "    \n",
    "    quicksort(lines, 0, len(lines) - 1)\n",
    "\n",
    "    left, right = 0, len(lines) - 1\n",
    "    while left <= right:\n",
    "        mid = (left + right) // 2\n",
    "        if lines[mid].lower() == match.lower():\n",
    "            return (True, mid)\n",
    "        elif lines[mid].lower() > match.lower():\n",
    "            right = mid - 1\n",
    "        else:\n",
    "            left = mid + 1\n",
    "            \n",
    "    return (False, -1)\n",
    "\n",
    "binary_search_for_string('fruit-and-veg.txt', 'Cherries')"
   ]
  },
  {
   "cell_type": "code",
   "execution_count": 112,
   "metadata": {
    "deletable": false,
    "editable": false,
    "nbgrader": {
     "cell_type": "code",
     "checksum": "591305cab19e5226c24686a56aade7e6",
     "grade": true,
     "grade_id": "q7-binary-for-string",
     "locked": true,
     "points": 10,
     "schema_version": 3,
     "solution": false,
     "task": false
    }
   },
   "outputs": [],
   "source": [
    "# Testing Cell (Do NOT modify this cell)"
   ]
  },
  {
   "cell_type": "markdown",
   "metadata": {},
   "source": [
    "#### Question 08 &nbsp;&nbsp;&nbsp;&nbsp;&nbsp;&nbsp;(10 Points)\n",
    "\n",
    "Write a function defined as:\n",
    "```python\n",
    "def linear_interpolate_index (slist, match_value, low_index, high_index):\n",
    "```\n",
    "that takes an ordered list of ascending numbers and a desired 'match'  value to search for in the list. \n",
    "\n",
    "The partition of interest in the list is defined by the index of the low and high values in the list. The function uses linear interpolation between `slist[high]` and `slist[low]` to return the index to try interpolation searching for the match value or `None` if the desired match falls outside the range `slist[low]` to `slist[high-1)]`.\n",
    "\n",
    "For example, a call to `linear_interpolate_index(list(range(0, 20, 2)), 6, 0, 9)` would return an index value of `3`."
   ]
  },
  {
   "cell_type": "code",
   "execution_count": 113,
   "metadata": {
    "deletable": false,
    "nbgrader": {
     "cell_type": "code",
     "checksum": "4a808879b1bfa21f76407e41cc3af64d",
     "grade": false,
     "grade_id": "q8",
     "locked": false,
     "schema_version": 3,
     "solution": true,
     "task": false
    },
    "tags": []
   },
   "outputs": [
    {
     "data": {
      "text/plain": [
       "3"
      ]
     },
     "execution_count": 113,
     "metadata": {},
     "output_type": "execute_result"
    }
   ],
   "source": [
    "def linear_interpolate_index (slist, match_value, low_index, high_index):\n",
    "    \n",
    "    # YOUR CODE HERE\n",
    "    while low_index <= high_index and slist[low_index] <= match_value <= slist[high_index]:\n",
    "        pos = low_index + ((high_index - low_index) * (match_value - slist[low_index])) // (slist[high_index] - slist[low_index])\n",
    "\n",
    "        if slist[pos] == match_value:\n",
    "            return pos\n",
    "        elif slist[pos] > match_value:\n",
    "            high_index = pos - 1\n",
    "        else:\n",
    "            low_index = pos + 1\n",
    "    \n",
    "    return -1\n",
    "\n",
    "linear_interpolate_index(list(range(0, 20, 2)), 6, 0, 9)\n"
   ]
  },
  {
   "cell_type": "code",
   "execution_count": 114,
   "metadata": {
    "deletable": false,
    "editable": false,
    "nbgrader": {
     "cell_type": "code",
     "checksum": "bc329668d29993130aac97355d31e2f0",
     "grade": true,
     "grade_id": "q8-interpolate",
     "locked": true,
     "points": 10,
     "schema_version": 3,
     "solution": false,
     "task": false
    }
   },
   "outputs": [],
   "source": [
    "# Testing Cell (Do NOT modify this cell)"
   ]
  },
  {
   "cell_type": "markdown",
   "metadata": {
    "tags": []
   },
   "source": [
    "#### Question 09 &nbsp;&nbsp;&nbsp;&nbsp;&nbsp;&nbsp;(15 Points)\n",
    "\n",
    "Write a function defined as:\n",
    "```python\n",
    "def interpolate_sort_and_search (filename, integer_match):\n",
    "```\n",
    "that loads a file of unordered floats and:\n",
    "- sorts the file contents using a quicksort with random partition scheme,\n",
    "- uses the function `linear_interpolate_index` in Question 8 to perform an interpolation search (or any other linear interpolation approach if you have not yet completed Question 8),\n",
    "- searches the contents of the file for a number where the whole number portion of the float matches the parameter `integer_match`,\n",
    "- returns a tuple `(True, line_number)` where `line_number` is the line number of the match in the file *prior to sorting* or `(False, -1)` depending if the search was unsuccessful.\n",
    "Sample test data is available as a text file, `random-floats.txt` from the MyUni assignment page for this practical."
   ]
  },
  {
   "cell_type": "code",
   "execution_count": null,
   "metadata": {
    "deletable": false,
    "nbgrader": {
     "cell_type": "code",
     "checksum": "0b0341bf87fe1946fa5825abf98854fd",
     "grade": false,
     "grade_id": "q9",
     "locked": false,
     "schema_version": 3,
     "solution": true,
     "task": false
    },
    "tags": []
   },
   "outputs": [
    {
     "data": {
      "text/plain": [
       "(True, 9)"
      ]
     },
     "execution_count": 120,
     "metadata": {},
     "output_type": "execute_result"
    }
   ],
   "source": [
    "def interpolate_sort_and_search (filename, integer_match):\n",
    "    \n",
    "    # YOUR CODE HERE\n",
    "    with open(filename) as f:\n",
    "        lines = [(float(line.strip()), i) for i, line in enumerate(f.readlines())]\n",
    "        floats = [item[0] for item in lines]\n",
    "        \n",
    "    quicksort(floats, 0, len(floats) - 1)\n",
    "    ints = [int(flt) for flt in floats]\n",
    "    id = linear_interpolate_index(ints, integer_match, 0, len(ints) - 1)\n",
    "    \n",
    "    if id >= 0:\n",
    "        float_match = floats[id]\n",
    "        for value, index in lines:\n",
    "            if value == float_match:\n",
    "                return (True, index)\n",
    "  \n",
    "    return (False, -1)\n",
    "\n",
    "interpolate_sort_and_search('random-floats.txt', 0)"
   ]
  },
  {
   "cell_type": "code",
   "execution_count": 117,
   "metadata": {
    "deletable": false,
    "editable": false,
    "nbgrader": {
     "cell_type": "code",
     "checksum": "db294c4cb3ff7eef7bff10a702c57d0a",
     "grade": true,
     "grade_id": "q9-sort-and-search",
     "locked": true,
     "points": 15,
     "schema_version": 3,
     "solution": false,
     "task": false
    }
   },
   "outputs": [],
   "source": [
    "# Testing Cell (Do NOT modify this cell)"
   ]
  },
  {
   "cell_type": "markdown",
   "metadata": {},
   "source": [
    "#### Question 10 &nbsp;&nbsp;&nbsp;&nbsp;&nbsp;&nbsp;(15 Points)\n",
    "\n",
    "Following on from Question 09, write a function defined as:\n",
    "```python\n",
    "def binary_sort_and_search (filename, integer_match):\n",
    "```\n",
    "that loads the same file of unordered floats and:\n",
    "- sorts the file contents using a bubble scheme,\n",
    "- uses a binary search for a number where the whole number portion of the float matches the parameter `integer_match`,\n",
    "- returns a tuple `(True, line_number)` where `line_number` is the line number of the match in the file *prior to sorting* or `(False, -1)` depending if the search was unsuccessful."
   ]
  },
  {
   "cell_type": "code",
   "execution_count": null,
   "metadata": {
    "deletable": false,
    "nbgrader": {
     "cell_type": "code",
     "checksum": "6855c48ed383741c6dfc96cbc4eec405",
     "grade": false,
     "grade_id": "q10",
     "locked": false,
     "schema_version": 3,
     "solution": true,
     "task": false
    },
    "tags": []
   },
   "outputs": [
    {
     "data": {
      "text/plain": [
       "(True, 40)"
      ]
     },
     "execution_count": 118,
     "metadata": {},
     "output_type": "execute_result"
    }
   ],
   "source": [
    "def binary_sort_and_search (filename, integer_match):\n",
    "    \n",
    "    # YOUR CODE HERE\n",
    "    with open(filename) as f:\n",
    "        lines = [(float(line.strip()), i) for i, line in enumerate(f.readlines())]\n",
    "        floats = [item[0] for item in lines]\n",
    "        \n",
    "    for i in range(len(floats) - 1):\n",
    "        for j in range(len(floats) - 1 - i):\n",
    "            if floats[j] > floats[j + 1]:\n",
    "                floats[j], floats[j + 1] = floats[j + 1], floats[j]\n",
    "                                \n",
    "    ints = [int(flt) for flt in floats]\n",
    "    \n",
    "    left, right = 0, len(ints) - 1\n",
    "    id = -1\n",
    "    while left <= right:\n",
    "        mid = (left + right) // 2\n",
    "        if ints[mid] == integer_match:\n",
    "            id = mid\n",
    "            break\n",
    "        elif ints[mid] > integer_match:\n",
    "            right = mid - 1\n",
    "        else:\n",
    "            left = mid + 1\n",
    "            \n",
    "    if id >= 0:\n",
    "        float_match = floats[id]\n",
    "        for value, index in lines:\n",
    "            if value == float_match:\n",
    "                return (True, index)\n",
    "  \n",
    "    return (False, -1)\n",
    "\n",
    "binary_sort_and_search('random-floats.txt', -1)"
   ]
  },
  {
   "cell_type": "code",
   "execution_count": 119,
   "metadata": {
    "deletable": false,
    "editable": false,
    "nbgrader": {
     "cell_type": "code",
     "checksum": "a69eec620ac762584bd81579dcfb7cf8",
     "grade": true,
     "grade_id": "q10-binary-sort-and-search",
     "locked": true,
     "points": 15,
     "schema_version": 3,
     "solution": false,
     "task": false
    },
    "tags": []
   },
   "outputs": [],
   "source": [
    "# Testing Cell (Do NOT modify this cell)"
   ]
  }
 ],
 "metadata": {
  "kernelspec": {
   "display_name": "Python 3",
   "language": "python",
   "name": "python3"
  },
  "language_info": {
   "codemirror_mode": {
    "name": "ipython",
    "version": 3
   },
   "file_extension": ".py",
   "mimetype": "text/x-python",
   "name": "python",
   "nbconvert_exporter": "python",
   "pygments_lexer": "ipython3",
   "version": "3.10.12"
  },
  "otter": {
   "tests": {
    "q1": {
     "name": "q1",
     "points": 1,
     "suites": [
      {
       "cases": [],
       "scored": true,
       "setup": "",
       "teardown": "",
       "type": "doctest"
      }
     ]
    },
    "q10": {
     "name": "q10",
     "points": 4,
     "suites": [
      {
       "cases": [],
       "scored": true,
       "setup": "",
       "teardown": "",
       "type": "doctest"
      }
     ]
    },
    "q11": {
     "name": "q11",
     "points": 6,
     "suites": [
      {
       "cases": [],
       "scored": true,
       "setup": "",
       "teardown": "",
       "type": "doctest"
      }
     ]
    },
    "q12": {
     "name": "q12",
     "points": 6,
     "suites": [
      {
       "cases": [],
       "scored": true,
       "setup": "",
       "teardown": "",
       "type": "doctest"
      }
     ]
    },
    "q13": {
     "name": "q13",
     "points": 6,
     "suites": [
      {
       "cases": [],
       "scored": true,
       "setup": "",
       "teardown": "",
       "type": "doctest"
      }
     ]
    },
    "q14": {
     "name": "q14",
     "points": 6,
     "suites": [
      {
       "cases": [],
       "scored": true,
       "setup": "",
       "teardown": "",
       "type": "doctest"
      }
     ]
    },
    "q15": {
     "name": "q15",
     "points": 6,
     "suites": [
      {
       "cases": [],
       "scored": true,
       "setup": "",
       "teardown": "",
       "type": "doctest"
      }
     ]
    },
    "q16": {
     "name": "q16",
     "points": 6,
     "suites": [
      {
       "cases": [],
       "scored": true,
       "setup": "",
       "teardown": "",
       "type": "doctest"
      }
     ]
    },
    "q17": {
     "name": "q17",
     "points": 8,
     "suites": [
      {
       "cases": [],
       "scored": true,
       "setup": "",
       "teardown": "",
       "type": "doctest"
      }
     ]
    },
    "q18": {
     "name": "q18",
     "points": 8,
     "suites": [
      {
       "cases": [],
       "scored": true,
       "setup": "",
       "teardown": "",
       "type": "doctest"
      }
     ]
    },
    "q19": {
     "name": "q19",
     "points": 12,
     "suites": [
      {
       "cases": [],
       "scored": true,
       "setup": "",
       "teardown": "",
       "type": "doctest"
      }
     ]
    },
    "q2": {
     "name": "q2",
     "points": 1,
     "suites": [
      {
       "cases": [],
       "scored": true,
       "setup": "",
       "teardown": "",
       "type": "doctest"
      }
     ]
    },
    "q20": {
     "name": "q20",
     "points": 12,
     "suites": [
      {
       "cases": [],
       "scored": true,
       "setup": "",
       "teardown": "",
       "type": "doctest"
      }
     ]
    },
    "q3": {
     "name": "q3",
     "points": 1,
     "suites": [
      {
       "cases": [],
       "scored": true,
       "setup": "",
       "teardown": "",
       "type": "doctest"
      }
     ]
    },
    "q4": {
     "name": "q4",
     "points": 1,
     "suites": [
      {
       "cases": [],
       "scored": true,
       "setup": "",
       "teardown": "",
       "type": "doctest"
      }
     ]
    },
    "q5": {
     "name": "q5",
     "points": 2,
     "suites": [
      {
       "cases": [],
       "scored": true,
       "setup": "",
       "teardown": "",
       "type": "doctest"
      }
     ]
    },
    "q6": {
     "name": "q6",
     "points": 2,
     "suites": [
      {
       "cases": [],
       "scored": true,
       "setup": "",
       "teardown": "",
       "type": "doctest"
      }
     ]
    },
    "q7": {
     "name": "q7",
     "points": 4,
     "suites": [
      {
       "cases": [],
       "scored": true,
       "setup": "",
       "teardown": "",
       "type": "doctest"
      }
     ]
    },
    "q8": {
     "name": "q8",
     "points": 4,
     "suites": [
      {
       "cases": [],
       "scored": true,
       "setup": "",
       "teardown": "",
       "type": "doctest"
      }
     ]
    },
    "q9": {
     "name": "q9",
     "points": 4,
     "suites": [
      {
       "cases": [],
       "scored": true,
       "setup": "",
       "teardown": "",
       "type": "doctest"
      }
     ]
    }
   }
  },
  "varInspector": {
   "cols": {
    "lenName": 16,
    "lenType": 16,
    "lenVar": 40
   },
   "kernels_config": {
    "python": {
     "delete_cmd_postfix": "",
     "delete_cmd_prefix": "del ",
     "library": "var_list.py",
     "varRefreshCmd": "print(var_dic_list())"
    },
    "r": {
     "delete_cmd_postfix": ") ",
     "delete_cmd_prefix": "rm(",
     "library": "var_list.r",
     "varRefreshCmd": "cat(var_dic_list()) "
    }
   },
   "types_to_exclude": [
    "module",
    "function",
    "builtin_function_or_method",
    "instance",
    "_Feature"
   ],
   "window_display": false
  }
 },
 "nbformat": 4,
 "nbformat_minor": 4
}
