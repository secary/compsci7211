{
 "cells": [
  {
   "cell_type": "markdown",
   "metadata": {},
   "source": [
    "### Instructions:\n",
    "\n",
    "- You can attempt any number of questions and in any order.  \n",
    "  See the assignment page for a description of the hurdle requirement for this assessment.\n",
    "- You may submit your practical for autograding as many times as you like to check on progress, however you will save time by checking and testing your own code before submitting.\n",
    "- Develop and check your answers in the spaces provided.\n",
    "- **Replace** the code `raise NotImplementedError()` with your solution to the question.\n",
    "- Do **NOT** remove any variables other provided markings already provided in the answer spaces.\n",
    "- Do **NOT** make any changes to this notebook outside of the spaces indicated.  \n",
    "  (If you do this, the submission system might not accept your work)\n",
    "\n",
    "### Submitting:\n",
    "\n",
    "1. Before you turn this problem in, make sure everything runs as expected by resetting this notebook.    \n",
    "   (You can do this from the menubar above by selecting `Kernel`&#8594;`Restart Kernel and Run All Cells...`)\n",
    "1. Don't forget to save your notebook after this step.\n",
    "1. Submit your .ipynb file to Gradescope via file upload or GitHub repository.\n",
    "1. You can submit as many times as needed.\n",
    "1. You **must** give your submitted file the **identical** filename to that which you downloaded without changing **any** aspects - spaces, underscores, capitalisation etc. If your operating system has changed the filename because you downloaded the file twice or more you **must** also fix this.  \n",
    "\n"
   ]
  },
  {
   "cell_type": "markdown",
   "metadata": {},
   "source": [
    "---"
   ]
  },
  {
   "cell_type": "markdown",
   "metadata": {
    "tags": []
   },
   "source": [
    "# <mark style=\"background: #2dc26b; color: #ffffff;\" >&nbsp;B3&nbsp;</mark>&ensp;Topic 7: Recursion"
   ]
  },
  {
   "cell_type": "code",
   "execution_count": null,
   "metadata": {},
   "outputs": [],
   "source": [
    "import math"
   ]
  },
  {
   "cell_type": "markdown",
   "metadata": {},
   "source": [
    "#### Question 01 &nbsp;&nbsp;&nbsp;&nbsp;&nbsp;&nbsp;(4 Points)\n",
    "\n",
    "Create a python function defined as:  \n",
    "```python\n",
    "    def sum_list (numbers):\n",
    "```    \n",
    "that uses recursion to calculate the sum of a list of numbers. For this purpose, the sum of an empty list is zero.\n"
   ]
  },
  {
   "cell_type": "code",
   "execution_count": null,
   "metadata": {
    "deletable": false,
    "nbgrader": {
     "cell_type": "code",
     "checksum": "b8a09937618e3f0ace4478723cf323d3",
     "grade": false,
     "grade_id": "q1",
     "locked": false,
     "schema_version": 3,
     "solution": true,
     "task": false
    },
    "tags": []
   },
   "outputs": [],
   "source": [
    "def sum_list (numbers):\n",
    "    \n",
    "    # YOUR CODE HERE\n",
    "    raise NotImplementedError()"
   ]
  },
  {
   "cell_type": "code",
   "execution_count": null,
   "metadata": {
    "deletable": false,
    "editable": false,
    "nbgrader": {
     "cell_type": "code",
     "checksum": "b6034714f54fe84b4f4baf4f971d1692",
     "grade": true,
     "grade_id": "q1-sum-list",
     "locked": true,
     "points": 4,
     "schema_version": 3,
     "solution": false,
     "task": false
    },
    "tags": []
   },
   "outputs": [],
   "source": [
    "# Testing Cell (Do NOT modify this cell)"
   ]
  },
  {
   "cell_type": "markdown",
   "metadata": {},
   "source": [
    "#### Question 02 &nbsp;&nbsp;&nbsp;&nbsp;&nbsp;&nbsp;(4 Points)\n",
    "\n",
    "Create a python function defined as:\n",
    "```python\n",
    "    def append_to_list(n, list_):\n",
    "```    \n",
    "that uses recursion to build and return an ordered list of numbers from n to 0 (inclusive) where `n >= 0`.\n"
   ]
  },
  {
   "cell_type": "code",
   "execution_count": null,
   "metadata": {
    "deletable": false,
    "nbgrader": {
     "cell_type": "code",
     "checksum": "84e97a5f832f8b5c0cdc45b80b0a0e3d",
     "grade": false,
     "grade_id": "q2",
     "locked": false,
     "schema_version": 3,
     "solution": true,
     "task": false
    },
    "tags": []
   },
   "outputs": [],
   "source": [
    "def append_to_list(n, list_):\n",
    "\n",
    "    # YOUR CODE HERE\n",
    "    raise NotImplementedError()"
   ]
  },
  {
   "cell_type": "code",
   "execution_count": null,
   "metadata": {
    "deletable": false,
    "editable": false,
    "nbgrader": {
     "cell_type": "code",
     "checksum": "7ab9be88ecb0c50343718ca99875f7d8",
     "grade": true,
     "grade_id": "q2-append-list",
     "locked": true,
     "points": 4,
     "schema_version": 3,
     "solution": false,
     "task": false
    },
    "tags": []
   },
   "outputs": [],
   "source": [
    "# Testing Cell (Do NOT modify this cell)"
   ]
  },
  {
   "cell_type": "markdown",
   "metadata": {
    "tags": []
   },
   "source": [
    "#### Question 03 &nbsp;&nbsp;&nbsp;&nbsp;&nbsp;&nbsp;(4 Points)\n",
    "\n",
    "Create a python function defined as:  \n",
    "```python\n",
    "    def rev_append_to_list(n):\n",
    "```  \n",
    "that uses recursion to return an ordered list of numbers from 0 to n. In this case, `list_` is not passed as a parameter to the function. You should be able to trivially modify your approach to Question 2 and use this as a *helper function* that contains parameters and return statements that support recursion whilst the external wrapper function that invokes the helper does not itself recurse. \n"
   ]
  },
  {
   "cell_type": "code",
   "execution_count": null,
   "metadata": {
    "deletable": false,
    "nbgrader": {
     "cell_type": "code",
     "checksum": "e97723c2e6cc2e0907c8b41e0f398831",
     "grade": false,
     "grade_id": "q3",
     "locked": false,
     "schema_version": 3,
     "solution": true,
     "task": false
    },
    "tags": []
   },
   "outputs": [],
   "source": [
    "def rev_append_to_list(n):\n",
    "\n",
    "    # YOUR CODE HERE\n",
    "    raise NotImplementedError()"
   ]
  },
  {
   "cell_type": "code",
   "execution_count": null,
   "metadata": {
    "deletable": false,
    "editable": false,
    "nbgrader": {
     "cell_type": "code",
     "checksum": "9aeb9884ea6e4b97e2568fc6451c4d28",
     "grade": true,
     "grade_id": "q3-reverse",
     "locked": true,
     "points": 4,
     "schema_version": 3,
     "solution": false,
     "task": false
    },
    "tags": []
   },
   "outputs": [],
   "source": [
    "# Testing Cell (Do NOT modify this cell)"
   ]
  },
  {
   "cell_type": "markdown",
   "metadata": {},
   "source": [
    "#### Question 04 &nbsp;&nbsp;&nbsp;&nbsp;&nbsp;&nbsp;(4 Points)\n",
    "Create a python function defined as:  \n",
    "```python\n",
    "    def ladder_word_dict(word):\n",
    "```\n",
    "that uses recursion to return a dictionary with keys `1 to len(word)` and values set as a slice of the input word from `1 to len(word)`. Use a helper function if required.\n",
    "\n",
    "For example:  \n",
    "```python\n",
    "    word = \"Recursion\"  \n",
    "    output = {  \n",
    "        1: \"R\",  \n",
    "        2: \"Re\",  \n",
    "        3: \"Rec\",  \n",
    "        4: \"Recu\",  \n",
    "        ...  \n",
    "        9: \"Recursion\"  \n",
    "    }  \n",
    "```"
   ]
  },
  {
   "cell_type": "code",
   "execution_count": null,
   "metadata": {
    "deletable": false,
    "nbgrader": {
     "cell_type": "code",
     "checksum": "4a978f5c6592df774d96e9d17805cb40",
     "grade": false,
     "grade_id": "q4",
     "locked": false,
     "schema_version": 3,
     "solution": true,
     "task": false
    },
    "tags": []
   },
   "outputs": [],
   "source": [
    "def ladder_word_dict(word):\n",
    "\n",
    "    # YOUR CODE HERE\n",
    "    raise NotImplementedError()"
   ]
  },
  {
   "cell_type": "code",
   "execution_count": null,
   "metadata": {
    "deletable": false,
    "editable": false,
    "nbgrader": {
     "cell_type": "code",
     "checksum": "a83148696d00c3fecac43fe294bc24a2",
     "grade": true,
     "grade_id": "q4-ladder-dict",
     "locked": true,
     "points": 4,
     "schema_version": 3,
     "solution": false,
     "task": false
    },
    "tags": []
   },
   "outputs": [],
   "source": [
    "# Testing Cell (Do NOT modify this cell)"
   ]
  },
  {
   "cell_type": "markdown",
   "metadata": {},
   "source": [
    "#### Question 05 &nbsp;&nbsp;&nbsp;&nbsp;&nbsp;&nbsp;(4 Points)\n",
    "\n",
    "Write a function defined as:\n",
    "```python\n",
    "    def reverse_string(string):\n",
    "```\n",
    "that uses recursion to return a reversed copy of the string. Where the return value is the same type as the parameter, you can simply attempt this without a helper function."
   ]
  },
  {
   "cell_type": "code",
   "execution_count": null,
   "metadata": {
    "deletable": false,
    "nbgrader": {
     "cell_type": "code",
     "checksum": "e46f0ad00b5ffbbe560bea8b804fb74c",
     "grade": false,
     "grade_id": "q5",
     "locked": false,
     "schema_version": 3,
     "solution": true,
     "task": false
    },
    "tags": []
   },
   "outputs": [],
   "source": [
    "def reverse_string(string):\n",
    "    \n",
    "    # YOUR CODE HERE\n",
    "    raise NotImplementedError()"
   ]
  },
  {
   "cell_type": "code",
   "execution_count": null,
   "metadata": {
    "deletable": false,
    "editable": false,
    "nbgrader": {
     "cell_type": "code",
     "checksum": "18bb45b86acb9b57d1d23362186164d0",
     "grade": true,
     "grade_id": "q5-reverse-string",
     "locked": true,
     "points": 4,
     "schema_version": 3,
     "solution": false,
     "task": false
    },
    "tags": []
   },
   "outputs": [],
   "source": [
    "# Testing Cell (Do NOT modify this cell)"
   ]
  },
  {
   "cell_type": "markdown",
   "metadata": {},
   "source": [
    "#### Question 06 &nbsp;&nbsp;&nbsp;&nbsp;&nbsp;&nbsp;(5 Points)\n",
    "\n",
    "Write a function defined as:\n",
    "```python\n",
    "    def raise_to_power (base, exp):\n",
    "```        \n",
    "that takes a base and an exponent as parameters and recursively computes base<sup>exp</sup>. Recall that base<sup>0</sup> == 1. Both `base` and `exp` are `>= 0'.\n"
   ]
  },
  {
   "cell_type": "code",
   "execution_count": null,
   "metadata": {
    "deletable": false,
    "nbgrader": {
     "cell_type": "code",
     "checksum": "80727626affa5a72f333cd8a6429cff2",
     "grade": false,
     "grade_id": "q6",
     "locked": false,
     "schema_version": 3,
     "solution": true,
     "task": false
    },
    "tags": []
   },
   "outputs": [],
   "source": [
    "def raise_to_power (base, exp):\n",
    "\n",
    "    # YOUR CODE HERE\n",
    "    raise NotImplementedError()"
   ]
  },
  {
   "cell_type": "code",
   "execution_count": null,
   "metadata": {
    "deletable": false,
    "editable": false,
    "nbgrader": {
     "cell_type": "code",
     "checksum": "802797acac3e82eb5cf076318807a0c7",
     "grade": true,
     "grade_id": "q6-to-power",
     "locked": true,
     "points": 5,
     "schema_version": 3,
     "solution": false,
     "task": false
    },
    "tags": []
   },
   "outputs": [],
   "source": [
    "# Testing Cell (Do NOT modify this cell)"
   ]
  },
  {
   "cell_type": "markdown",
   "metadata": {},
   "source": [
    "#### Question 07 &nbsp;&nbsp;&nbsp;&nbsp;&nbsp;&nbsp;(5 Points)\n",
    "\n",
    "Write a function defined as:\n",
    "```python\n",
    "    def factorial(n):\n",
    "```\n",
    "\n",
    "that recursively computes and returns the factorial of a non-negative integer. Recall that 0! = 1.<br/>\n",
    "<details>\n",
    "  <summary><span style=\"color:blue\">Click to see hint</span></summary>\n",
    "  <br/>\n",
    "  Python includes the function <code>math.factorial(n)</code> that returns n!. Please <em>don't</em> use that - implement your own recursive algorithm.   \n",
    "</details>\n",
    "<br/>"
   ]
  },
  {
   "cell_type": "code",
   "execution_count": null,
   "metadata": {
    "deletable": false,
    "nbgrader": {
     "cell_type": "code",
     "checksum": "3f637a3f6ce10127262ad97bdeeff25c",
     "grade": false,
     "grade_id": "q7",
     "locked": false,
     "schema_version": 3,
     "solution": true,
     "task": false
    },
    "tags": []
   },
   "outputs": [],
   "source": [
    "def factorial(n):\n",
    "\n",
    "    # YOUR CODE HERE\n",
    "    raise NotImplementedError()"
   ]
  },
  {
   "cell_type": "code",
   "execution_count": null,
   "metadata": {
    "deletable": false,
    "editable": false,
    "nbgrader": {
     "cell_type": "code",
     "checksum": "f900fbd1322792c5a4a0565071eed85d",
     "grade": true,
     "grade_id": "q7-factorial",
     "locked": true,
     "points": 5,
     "schema_version": 3,
     "solution": false,
     "task": false
    }
   },
   "outputs": [],
   "source": [
    "# Testing Cell (Do NOT modify this cell)"
   ]
  },
  {
   "cell_type": "markdown",
   "metadata": {},
   "source": [
    "#### Question 08 &nbsp;&nbsp;&nbsp;&nbsp;&nbsp;&nbsp;(5 Points)\n",
    "\n",
    "Given a non-negative integer such as `3422`, write a function defined as:\n",
    "```python\n",
    "    def sum_digits(n):\n",
    "```   \n",
    "that uses recursion to return the integer sum of each of the digits of the input number.\n",
    "\n",
    "For example:\n",
    "```\n",
    "    sum_digits(3422) == 11\n",
    "    sum_digits(345) == 12\n",
    "    sum_digits(45) == 9\n",
    "```"
   ]
  },
  {
   "cell_type": "code",
   "execution_count": null,
   "metadata": {
    "deletable": false,
    "nbgrader": {
     "cell_type": "code",
     "checksum": "aa68a7b37e0d6f57931935ff1309d1e5",
     "grade": false,
     "grade_id": "q8",
     "locked": false,
     "schema_version": 3,
     "solution": true,
     "task": false
    },
    "tags": []
   },
   "outputs": [],
   "source": [
    "def sum_digits(n):\n",
    "\n",
    "    # YOUR CODE HERE\n",
    "    raise NotImplementedError()"
   ]
  },
  {
   "cell_type": "code",
   "execution_count": null,
   "metadata": {
    "deletable": false,
    "editable": false,
    "nbgrader": {
     "cell_type": "code",
     "checksum": "e74a06f7b3544ce8cde1e239a1d95a02",
     "grade": true,
     "grade_id": "q8-sum-digits",
     "locked": true,
     "points": 5,
     "schema_version": 3,
     "solution": false,
     "task": false
    },
    "tags": []
   },
   "outputs": [],
   "source": [
    "# Testing Cell (Do NOT modify this cell)"
   ]
  },
  {
   "cell_type": "markdown",
   "metadata": {},
   "source": [
    "#### Question 09 &nbsp;&nbsp;&nbsp;&nbsp;&nbsp;&nbsp;(10 Points)\n",
    "\n",
    "Write a function defined as:\n",
    "```python\n",
    "    def harmonic(n):\n",
    "```\n",
    "that recursively calculates the harmonic sum of `n - 1`. \n",
    "\n",
    "The \"harmonic sum\" is the sum of the reciprocals of the positive integers like: \n",
    "  \n",
    "$$1 + \\frac{1}{2} + \\frac{1}{3} + \\frac{1}{4} + \\frac{1}{5} + \\ldots$$\n",
    "\n",
    "for example:\n",
    "\n",
    "    harmonic (1) == 1\n",
    "    harmonic (2) == 1.5\n",
    "    harmonic (6) == 2.45\n"
   ]
  },
  {
   "cell_type": "code",
   "execution_count": null,
   "metadata": {
    "deletable": false,
    "nbgrader": {
     "cell_type": "code",
     "checksum": "cdc5960a6fa0cbc5871e48005d36e069",
     "grade": false,
     "grade_id": "q9",
     "locked": false,
     "schema_version": 3,
     "solution": true,
     "task": false
    },
    "tags": []
   },
   "outputs": [],
   "source": [
    "def harmonic(n):\n",
    "\n",
    "    # YOUR CODE HERE\n",
    "    raise NotImplementedError()"
   ]
  },
  {
   "cell_type": "code",
   "execution_count": null,
   "metadata": {
    "deletable": false,
    "editable": false,
    "nbgrader": {
     "cell_type": "code",
     "checksum": "2778bec0fbf82e7ee8746b1edff2e03b",
     "grade": true,
     "grade_id": "q9-harmonic",
     "locked": true,
     "points": 10,
     "schema_version": 3,
     "solution": false,
     "task": false
    },
    "tags": []
   },
   "outputs": [],
   "source": [
    "# Testing Cell (Do NOT modify this cell)"
   ]
  },
  {
   "cell_type": "markdown",
   "metadata": {},
   "source": [
    "#### Question 10 &nbsp;&nbsp;&nbsp;&nbsp;&nbsp;&nbsp;(10 Points)\n",
    "\n",
    "Write a function defined as:\n",
    "```python\n",
    "    def gcd(i1, i2):\n",
    "```\n",
    "that recursively computes and returns the greatest common divisor of two integers.<br/>\n",
    "<details>\n",
    "  <summary><span style=\"color:blue\">Click to see hint</span></summary>\n",
    "  <br/>\n",
    "  Python includes the function <code>math.gcd(x, y)</code> that finds the greatest common divisor. Please <em>don't</em> use that - implement your own recursive algorithm.   \n",
    "</details>\n",
    "<br/>"
   ]
  },
  {
   "cell_type": "code",
   "execution_count": null,
   "metadata": {
    "deletable": false,
    "nbgrader": {
     "cell_type": "code",
     "checksum": "af782d556dc2f67539597fb9e83f8545",
     "grade": false,
     "grade_id": "q10",
     "locked": false,
     "schema_version": 3,
     "solution": true,
     "task": false
    },
    "tags": []
   },
   "outputs": [],
   "source": [
    "def gcd(i1, i2):\n",
    "\n",
    "    # YOUR CODE HERE\n",
    "    raise NotImplementedError()"
   ]
  },
  {
   "cell_type": "code",
   "execution_count": null,
   "metadata": {
    "deletable": false,
    "editable": false,
    "nbgrader": {
     "cell_type": "code",
     "checksum": "dcd420c961b4175de25120b915087270",
     "grade": true,
     "grade_id": "q10-gcd",
     "locked": true,
     "points": 10,
     "schema_version": 3,
     "solution": false,
     "task": false
    },
    "tags": []
   },
   "outputs": [],
   "source": [
    "# Testing Cell (Do NOT modify this cell)"
   ]
  },
  {
   "cell_type": "markdown",
   "metadata": {},
   "source": [
    "#### Question 11 &nbsp;&nbsp;&nbsp;&nbsp;&nbsp;&nbsp;(15 Points)\n",
    "\n",
    "Write a recursive function defined as: \n",
    "```python\n",
    "def nth_fibonacci (n):\n",
    "```\n",
    "that takes in one argument n and computes F<sub>n</sub>, the n'th value of the Fibonacci sequence. \n",
    "\n",
    "Recall that the Fibonacci sequence is defined by the relation:  \n",
    "&ensp;F<sub>n</sub> = F<sub>n−1</sub> + F<sub>n−2</sub> where F<sub>0</sub> = 0 and F<sub>1</sub> = 1. \n",
    "\n",
    "Thus, in the sequence:`0, 1, 1, 2, 3, 5, 8, 13, 21, 34, 55, 89, 144, 233`, the 9th value of the sequence (F<sub>8</sub>) is 21.\n",
    "\n",
    "**Don't forget to test your code against F<sub>0</sub> = 0 and F<sub>1</sub> = 1!**\n"
   ]
  },
  {
   "cell_type": "code",
   "execution_count": null,
   "metadata": {
    "deletable": false,
    "nbgrader": {
     "cell_type": "code",
     "checksum": "559a383d09c51e4ffee76b53e6ab4abf",
     "grade": false,
     "grade_id": "q11",
     "locked": false,
     "schema_version": 3,
     "solution": true,
     "task": false
    },
    "tags": []
   },
   "outputs": [],
   "source": [
    "def nth_fibonacci (n):\n",
    "\n",
    "    # YOUR CODE HERE\n",
    "    raise NotImplementedError()"
   ]
  },
  {
   "cell_type": "code",
   "execution_count": null,
   "metadata": {
    "deletable": false,
    "editable": false,
    "nbgrader": {
     "cell_type": "code",
     "checksum": "d9e7dc72cea021502f754d30741e8f62",
     "grade": true,
     "grade_id": "q11-fibonacci",
     "locked": true,
     "points": 15,
     "schema_version": 3,
     "solution": false,
     "task": false
    },
    "tags": []
   },
   "outputs": [],
   "source": [
    "# Testing Cell (Do NOT modify this cell)"
   ]
  },
  {
   "cell_type": "markdown",
   "metadata": {},
   "source": [
    "#### Question 12 &nbsp;&nbsp;&nbsp;&nbsp;&nbsp;&nbsp;(15 Points)\n",
    "\n",
    "You have semi-sorted data that consists of a dictionary of student scores in a recent prac. In the dictionary, the key is always a student number in the form `a0000000` and the value is either:\n",
    "<ul><li>an integer representing the student's score from 0..100, or</li>\n",
    "    <li>a nested dictionary with further key:value pairs</li></ul>\n",
    "\n",
    "For example:\n",
    "```python\n",
    "{'a1000000': {'a1000002': 76, 'a1000351': 50, 'a1003202': 59},\n",
    " 'a2000000': {'a2002202': 56,\n",
    "              'a2002535': 57,\n",
    "              'a2005452': 79,\n",
    "              'a2200000': {'a2200354': 65,\n",
    "                           'a2201029': 80,\n",
    "                           'a2212332': 12,\n",
    "                           'a2240000': {'a2249834': 87}}}}\n",
    "```\n",
    "***\n",
    "<details>\n",
    "  <summary><span style=\"color:blue\">Click to see hint</span></summary>\n",
    "  This example dictionary was \"pretty printed\" with Python's <code>pprint</code> module. When reading complex data structures, <code>pprint.pprint()</code> can often do a good job of rendering a variable meaningfully.   \n",
    "</details>\n",
    "<br/>\n",
    "We wish to extract a \"flat\" list of tuples from this nested data structure where each tuple contains (student_id, score) for all elements of the source dictionary. Values of the dictionary which are themselves a dictionary are not added to the list. The list should be sorted by the first element of each tuple (the student number).</br>\n",
    "\n",
    "For example:</br>\n",
    "```python\n",
    "[('a1000002', 76),\n",
    " ('a1000351', 50),\n",
    " ('a1003202', 59),\n",
    " ('a2002202', 56),\n",
    " ('a2002535', 57),\n",
    " ('a2005452', 79),\n",
    " ('a2200354', 65),\n",
    " ('a2201029', 80),\n",
    " ('a2212332', 12),\n",
    " ('a2249834', 87)]\n",
    "```\n",
    "\n",
    "Write a function defined as: \n",
    "```python\n",
    "def flatten_nested_scores (student_id_score_dict):\n",
    "```\n",
    "that recursively traverses the nested dictionary and returns a list of tuples, sorted by student ID, each containing id and score.\n",
    "<br/>\n",
    "<details>\n",
    "  <summary><span style=\"color:blue\">Click to see hint</span></summary>\n",
    "  <ul><li>You can use the builtin function <code>sorted(my_list)</code> to order a list of tuples alphabetically using the first value of the tuple - in this case the student ID.</li>\n",
    "  <li>Two lists can be joined together - concatenated - with the <code>extend()</code> function like <code>my_list.extend(appended_list)</code></li></ul>     \n",
    "</details>\n",
    "<br/>"
   ]
  },
  {
   "cell_type": "code",
   "execution_count": null,
   "metadata": {
    "deletable": false,
    "nbgrader": {
     "cell_type": "code",
     "checksum": "1a1eba35b15d1ca506ee7771c5f4002f",
     "grade": false,
     "grade_id": "q12",
     "locked": false,
     "schema_version": 3,
     "solution": true,
     "task": false
    },
    "tags": []
   },
   "outputs": [],
   "source": [
    "def flatten_nested_scores (student_id_score_dict):\n",
    "\n",
    "    # YOUR CODE HERE\n",
    "    raise NotImplementedError()"
   ]
  },
  {
   "cell_type": "code",
   "execution_count": null,
   "metadata": {
    "deletable": false,
    "editable": false,
    "nbgrader": {
     "cell_type": "code",
     "checksum": "90e18ff200a7830025e1f4c9d61a53c7",
     "grade": true,
     "grade_id": "q12-flatten-scores",
     "locked": true,
     "points": 15,
     "schema_version": 3,
     "solution": false,
     "task": false
    },
    "tags": []
   },
   "outputs": [],
   "source": [
    "# Testing Cell (Do NOT modify this cell)"
   ]
  },
  {
   "cell_type": "markdown",
   "metadata": {},
   "source": [
    "#### Question 13 &nbsp;&nbsp;&nbsp;&nbsp;&nbsp;&nbsp;(15 Points)\n",
    "\n",
    "A palindrome is a word or phrase that reads the same backward as it does forward. Examples include the following:\n",
    "<ul><li>Glenelg</li>\n",
    "    <li>A nut for a jar of tuna</li>\n",
    "    <li>Taco cat</li>\n",
    "    <li>Murder for a jar of red rum</li></ul>\n",
    "\n",
    "You are to write a function that uses recursion to detect whether an input phrase is a palindrome (excluding whitespace and ignoring the case of each letter). You might consider a base case where an empty string or a single character is inherently \"palindromic\". \n",
    "\n",
    "Write a function defined as:\n",
    "```python\n",
    "def is_palindrome(phrase):\n",
    "```\n",
    "that returns True when the phrase is a palindrome (ignoring whitespace and case).\n",
    "<br/>\n",
    "<details>\n",
    "  <summary><span style=\"color:blue\">Click to see hint</span></summary>\n",
    "    <ul><li>You can use the builtin function <code>phrase.lower()</code> to find the lowercase version of a string.</li>\n",
    "  <li>You can use <code>phrase.replace(\" \", \"\")</code> to strip all spaces out of a string.</li>\n",
    "      <li>Finally, you can chain these two function calls together like <code>phrase.lower().replace(\" \", \"\")</code> to find the lower case version of a string excluding spaces.</li></ul>     \n",
    "</details>\n",
    "<br/>"
   ]
  },
  {
   "cell_type": "code",
   "execution_count": null,
   "metadata": {
    "deletable": false,
    "nbgrader": {
     "cell_type": "code",
     "checksum": "10fb2b8a6343050cf5d4c44546c8c0fd",
     "grade": false,
     "grade_id": "q13",
     "locked": false,
     "schema_version": 3,
     "solution": true,
     "task": false
    },
    "tags": []
   },
   "outputs": [],
   "source": [
    "def is_palindrome(phrase):\n",
    "    # Write your solution here\n",
    "\n",
    "    # YOUR CODE HERE\n",
    "    raise NotImplementedError()"
   ]
  },
  {
   "cell_type": "code",
   "execution_count": null,
   "metadata": {
    "deletable": false,
    "editable": false,
    "nbgrader": {
     "cell_type": "code",
     "checksum": "8e3e4e7497ee12d4b262a21c317b0b29",
     "grade": true,
     "grade_id": "q13-palindrome",
     "locked": true,
     "points": 15,
     "schema_version": 3,
     "solution": false,
     "task": false
    },
    "tags": []
   },
   "outputs": [],
   "source": [
    "# Testing Cell (Do NOT modify this cell)"
   ]
  },
  {
   "cell_type": "code",
   "execution_count": null,
   "metadata": {},
   "outputs": [],
   "source": []
  }
 ],
 "metadata": {
  "kernelspec": {
   "display_name": "Python 3 (ipykernel)",
   "language": "python",
   "name": "python3"
  },
  "language_info": {
   "codemirror_mode": {
    "name": "ipython",
    "version": 3
   },
   "file_extension": ".py",
   "mimetype": "text/x-python",
   "name": "python",
   "nbconvert_exporter": "python",
   "pygments_lexer": "ipython3",
   "version": "3.11.4"
  },
  "otter": {
   "tests": {
    "q1": {
     "name": "q1",
     "points": 1,
     "suites": [
      {
       "cases": [],
       "scored": true,
       "setup": "",
       "teardown": "",
       "type": "doctest"
      }
     ]
    },
    "q10": {
     "name": "q10",
     "points": 4,
     "suites": [
      {
       "cases": [],
       "scored": true,
       "setup": "",
       "teardown": "",
       "type": "doctest"
      }
     ]
    },
    "q11": {
     "name": "q11",
     "points": 6,
     "suites": [
      {
       "cases": [],
       "scored": true,
       "setup": "",
       "teardown": "",
       "type": "doctest"
      }
     ]
    },
    "q12": {
     "name": "q12",
     "points": 6,
     "suites": [
      {
       "cases": [],
       "scored": true,
       "setup": "",
       "teardown": "",
       "type": "doctest"
      }
     ]
    },
    "q13": {
     "name": "q13",
     "points": 6,
     "suites": [
      {
       "cases": [],
       "scored": true,
       "setup": "",
       "teardown": "",
       "type": "doctest"
      }
     ]
    },
    "q14": {
     "name": "q14",
     "points": 6,
     "suites": [
      {
       "cases": [],
       "scored": true,
       "setup": "",
       "teardown": "",
       "type": "doctest"
      }
     ]
    },
    "q15": {
     "name": "q15",
     "points": 6,
     "suites": [
      {
       "cases": [],
       "scored": true,
       "setup": "",
       "teardown": "",
       "type": "doctest"
      }
     ]
    },
    "q16": {
     "name": "q16",
     "points": 6,
     "suites": [
      {
       "cases": [],
       "scored": true,
       "setup": "",
       "teardown": "",
       "type": "doctest"
      }
     ]
    },
    "q17": {
     "name": "q17",
     "points": 8,
     "suites": [
      {
       "cases": [],
       "scored": true,
       "setup": "",
       "teardown": "",
       "type": "doctest"
      }
     ]
    },
    "q18": {
     "name": "q18",
     "points": 8,
     "suites": [
      {
       "cases": [],
       "scored": true,
       "setup": "",
       "teardown": "",
       "type": "doctest"
      }
     ]
    },
    "q19": {
     "name": "q19",
     "points": 12,
     "suites": [
      {
       "cases": [],
       "scored": true,
       "setup": "",
       "teardown": "",
       "type": "doctest"
      }
     ]
    },
    "q2": {
     "name": "q2",
     "points": 1,
     "suites": [
      {
       "cases": [],
       "scored": true,
       "setup": "",
       "teardown": "",
       "type": "doctest"
      }
     ]
    },
    "q20": {
     "name": "q20",
     "points": 12,
     "suites": [
      {
       "cases": [],
       "scored": true,
       "setup": "",
       "teardown": "",
       "type": "doctest"
      }
     ]
    },
    "q3": {
     "name": "q3",
     "points": 1,
     "suites": [
      {
       "cases": [],
       "scored": true,
       "setup": "",
       "teardown": "",
       "type": "doctest"
      }
     ]
    },
    "q4": {
     "name": "q4",
     "points": 1,
     "suites": [
      {
       "cases": [],
       "scored": true,
       "setup": "",
       "teardown": "",
       "type": "doctest"
      }
     ]
    },
    "q5": {
     "name": "q5",
     "points": 2,
     "suites": [
      {
       "cases": [],
       "scored": true,
       "setup": "",
       "teardown": "",
       "type": "doctest"
      }
     ]
    },
    "q6": {
     "name": "q6",
     "points": 2,
     "suites": [
      {
       "cases": [],
       "scored": true,
       "setup": "",
       "teardown": "",
       "type": "doctest"
      }
     ]
    },
    "q7": {
     "name": "q7",
     "points": 4,
     "suites": [
      {
       "cases": [],
       "scored": true,
       "setup": "",
       "teardown": "",
       "type": "doctest"
      }
     ]
    },
    "q8": {
     "name": "q8",
     "points": 4,
     "suites": [
      {
       "cases": [],
       "scored": true,
       "setup": "",
       "teardown": "",
       "type": "doctest"
      }
     ]
    },
    "q9": {
     "name": "q9",
     "points": 4,
     "suites": [
      {
       "cases": [],
       "scored": true,
       "setup": "",
       "teardown": "",
       "type": "doctest"
      }
     ]
    }
   }
  },
  "varInspector": {
   "cols": {
    "lenName": 16,
    "lenType": 16,
    "lenVar": 40
   },
   "kernels_config": {
    "python": {
     "delete_cmd_postfix": "",
     "delete_cmd_prefix": "del ",
     "library": "var_list.py",
     "varRefreshCmd": "print(var_dic_list())"
    },
    "r": {
     "delete_cmd_postfix": ") ",
     "delete_cmd_prefix": "rm(",
     "library": "var_list.r",
     "varRefreshCmd": "cat(var_dic_list()) "
    }
   },
   "types_to_exclude": [
    "module",
    "function",
    "builtin_function_or_method",
    "instance",
    "_Feature"
   ],
   "window_display": false
  }
 },
 "nbformat": 4,
 "nbformat_minor": 4
}
