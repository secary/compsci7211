{
 "cells": [
  {
   "cell_type": "markdown",
   "metadata": {},
   "source": [
    "### Instructions:\n",
    "\n",
    "- You can attempt any number of questions and in any order.  \n",
    "  See the assignment page for a description of the hurdle requirement for this assessment.\n",
    "- You may submit your practical for autograding as many times as you like to check on progress, however you will save time by checking and testing your own code before submitting.\n",
    "- Develop and check your answers in the spaces provided.\n",
    "- **Replace** the code `raise NotImplementedError()` with your solution to the question.\n",
    "- Do **NOT** remove any variables other provided markings already provided in the answer spaces.\n",
    "- Do **NOT** make any changes to this notebook outside of the spaces indicated.  \n",
    "  (If you do this, the submission system might not accept your work)\n",
    "\n",
    "### Submitting:\n",
    "\n",
    "1. Before you turn this problem in, make sure everything runs as expected by resetting this notebook.    \n",
    "   (You can do this from the menubar above by selecting `Kernel`&#8594;`Restart Kernel and Run All Cells...`)\n",
    "1. Don't forget to save your notebook after this step.\n",
    "1. Submit your .ipynb file to Gradescope via file upload or GitHub repository.\n",
    "1. You can submit as many times as needed.\n",
    "1. You **must** give your submitted file the **identical** filename to that which you downloaded without changing **any** aspects - spaces, underscores, capitalisation etc. If your operating system has changed the filename because you downloaded the file twice or more you **must** also fix this.  \n",
    "\n"
   ]
  },
  {
   "cell_type": "markdown",
   "metadata": {},
   "source": [
    "---"
   ]
  },
  {
   "cell_type": "markdown",
   "metadata": {
    "tags": []
   },
   "source": [
    "# <mark style=\"background: #2dc26b; color: #ffffff;\" >&nbsp;B3&nbsp;</mark>&nbsp;Topic 8: Practice Sorting (i)"
   ]
  },
  {
   "cell_type": "markdown",
   "metadata": {},
   "source": [
    "#### Question 01 &nbsp;&nbsp;&nbsp;&nbsp;&nbsp;&nbsp;(10 Points)\n",
    "\n",
    "Write a function defined as:\n",
    "```python\n",
    "    def sort_np.np.arrays_by_value (alist):\n",
    "```\n",
    "that performs an ascending, inplace bubble sort on a list of NumPy np.arrays `alist` based on the **sum of values** in each np.array. \n",
    "\n",
    "For example, give an input list of np.arrays like:\n",
    "```python\n",
    "[np.array([0, 1, 2, 3, 4, 5, 6, 7, 8]),\n",
    " np.array([0]),\n",
    " np.array([0, 1, 25]),\n",
    " np.array([0, 1, 2, 3, 4, 5, 6]),\n",
    " np.array([0, 1, 2, 3, 4])]\n",
    "```\n",
    "the function will sort `alist` in place like:\n",
    "```python\n",
    "[np.array([0]),\n",
    " np.array([0, 1, 2, 3, 4]),\n",
    " np.array([0, 1, 2, 3, 4, 5, 6]),\n",
    " np.array([0, 1, 25]),\n",
    " np.array([0, 1, 2, 3, 4, 5, 6, 7, 8])]\n",
    "```"
   ]
  },
  {
   "cell_type": "code",
   "execution_count": 2,
   "metadata": {
    "deletable": false,
    "nbgrader": {
     "cell_type": "code",
     "checksum": "7b1d14428cf8549a042ced6f63a0a0b4",
     "grade": false,
     "grade_id": "q1",
     "locked": false,
     "schema_version": 3,
     "solution": true,
     "task": false
    },
    "tags": []
   },
   "outputs": [
    {
     "data": {
      "text/plain": [
       "[array([0]),\n",
       " array([0, 1, 2, 3, 4]),\n",
       " array([0, 1, 2, 3, 4, 5, 6]),\n",
       " array([ 0,  1, 25]),\n",
       " array([0, 1, 2, 3, 4, 5, 6, 7, 8])]"
      ]
     },
     "execution_count": 2,
     "metadata": {},
     "output_type": "execute_result"
    }
   ],
   "source": [
    "import numpy as np\n",
    "\n",
    "def sort_arrays_by_value (alist):\n",
    "    # Write your solution here\n",
    "    ...\n",
    "    # YOUR CODE HERE\n",
    "    for j in range(len(alist) - 1):\n",
    "        for i in range(len(alist) - 1):\n",
    "            if np.sum(alist[i]) > np.sum(alist[i + 1]):\n",
    "                alist[i], alist[i + 1] = alist[i + 1], alist[i]\n",
    "            \n",
    "\n",
    "    return alist\n",
    "\n",
    "alist = [np.array(np.arange(9)),\n",
    "         np.array([0]),\n",
    "         np.array([0, 1, 25]),\n",
    "         np.array(np.arange(7)), \n",
    "         np.array(np.arange(5))]\n",
    "sort_arrays_by_value(alist)"
   ]
  },
  {
   "cell_type": "code",
   "execution_count": null,
   "metadata": {
    "deletable": false,
    "editable": false,
    "nbgrader": {
     "cell_type": "code",
     "checksum": "cac1fecfed513d4d9865d8a1d2e76e83",
     "grade": true,
     "grade_id": "q1-by-value",
     "locked": true,
     "points": 10,
     "schema_version": 3,
     "solution": false,
     "task": false
    },
    "tags": []
   },
   "outputs": [],
   "source": [
    "# Testing Cell (Do NOT modify this cell)"
   ]
  },
  {
   "cell_type": "markdown",
   "metadata": {},
   "source": [
    "#### Question 02 &nbsp;&nbsp;&nbsp;&nbsp;&nbsp;&nbsp;(10 Points)\n",
    "\n",
    "Write a function defined as:\n",
    "```python\n",
    "def selection_sort_n (un_list, n):\n",
    "```\n",
    "that uses **selection sort** to sort a list in-place ascending from `un_list[0]` and performs **exactly** ‘n’ swaps. i.e.: the function terminates when ‘n’ swaps have been performed and returns `None`. \n",
    "\n",
    "For example:\n",
    "```python\n",
    "my_list = [27, 12, 23, 1, 19, 14]\n",
    "selection_sort_n (my_list, 1)\n",
    "assert my_list == [14, 12, 23, 1, 19, 27]\n",
    "```\n",
    "\n",
    "---\n",
    "<details>\n",
    "  <summary><span style=\"color:blue\">Sorting in-place and return values</span></summary>\n",
    "  When a sort is performed in-place, the list (or variable) passed into the function is used to conduct the sort (rather than creating a new list of data which would add time and space complexity). Because of this, the function does not need to return the sorted list - since the caller of the list created it and retains access to it once sorted.\n",
    "    Every Python function returns a value once it completes unless it raises an exception. If there is no explicit return statement in the function, it returns the value None. In this question, therefore, there is no need to include a return statement. In fact, returning any value (except None implicitly) will be an error.\n",
    "</details>"
   ]
  },
  {
   "cell_type": "code",
   "execution_count": 55,
   "metadata": {
    "deletable": false,
    "nbgrader": {
     "cell_type": "code",
     "checksum": "c325c0a296d1fad991a10943bb42dc1c",
     "grade": false,
     "grade_id": "q2",
     "locked": false,
     "schema_version": 3,
     "solution": true,
     "task": false
    },
    "tags": []
   },
   "outputs": [
    {
     "data": {
      "text/plain": [
       "[1, 12, 14, 19, 23, 27]"
      ]
     },
     "execution_count": 55,
     "metadata": {},
     "output_type": "execute_result"
    }
   ],
   "source": [
    "def selection_sort_n (un_list, n):\n",
    "    # Write your solution here\n",
    "    ...\n",
    "    # YOUR CODE HERE\n",
    "    last_index = len(un_list) - 1\n",
    "    step = last_index - n\n",
    "    \n",
    "    for curr in range(last_index, step, -1):\n",
    "        max_index = 0\n",
    "        for  location in range(1, curr + 1):\n",
    "            if un_list[location] > un_list[max_index]:\n",
    "                max_index = location\n",
    "                \n",
    "        un_list[curr], un_list[max_index] = un_list[max_index], un_list[curr]\n",
    "\n",
    "    return un_list\n",
    "    "
   ]
  },
  {
   "cell_type": "code",
   "execution_count": null,
   "metadata": {
    "deletable": false,
    "editable": false,
    "nbgrader": {
     "cell_type": "code",
     "checksum": "8dfe40811c3824cf1779896167d5c793",
     "grade": true,
     "grade_id": "q2-selection",
     "locked": true,
     "points": 10,
     "schema_version": 3,
     "solution": false,
     "task": false
    },
    "tags": []
   },
   "outputs": [],
   "source": [
    "# Testing Cell (Do NOT modify this cell)"
   ]
  },
  {
   "cell_type": "markdown",
   "metadata": {
    "tags": []
   },
   "source": [
    "#### Question 03 &nbsp;&nbsp;&nbsp;&nbsp;&nbsp;&nbsp;(10 Points)\n",
    "\n",
    "Write a function defined as:\n",
    "```python\n",
    "def bubble_sort_n (un_list, n):\n",
    "```\n",
    "that applies an in-place **bubble sort** for exactly 'n' iterations. i.e.: the function terminates (returns) after the n'th iteration of the sort.\n",
    "\n",
    "For example:\n",
    "```python\n",
    "bubble_sort_n ([27, 13, 23, 1, 12, 14], 2) == [13, 1, 12, 14, 23, 27]\n",
    "```"
   ]
  },
  {
   "cell_type": "code",
   "execution_count": 49,
   "metadata": {
    "deletable": false,
    "nbgrader": {
     "cell_type": "code",
     "checksum": "e4d2c33e3eadbd2e7832a20db147a859",
     "grade": false,
     "grade_id": "q3",
     "locked": false,
     "schema_version": 3,
     "solution": true,
     "task": false
    },
    "tags": []
   },
   "outputs": [
    {
     "data": {
      "text/plain": [
       "[1, 12, 13, 14, 23, 27]"
      ]
     },
     "execution_count": 49,
     "metadata": {},
     "output_type": "execute_result"
    }
   ],
   "source": [
    "def bubble_sort_n (un_list, n):\n",
    "    # Write your solution here\n",
    "    ...\n",
    "    # YOUR CODE HERE\n",
    "    for i in range(0, n):\n",
    "        for j in range(0, len(un_list)- i - 1):\n",
    "            if un_list[j] > un_list[j + 1]:\n",
    "                un_list[j], un_list[j + 1] = un_list[j + 1], un_list[j]\n",
    "    \n",
    "    return un_list\n",
    "\n",
    "bubble_sort_n ([27, 13, 23, 1, 12, 14], 12)"
   ]
  },
  {
   "cell_type": "code",
   "execution_count": null,
   "metadata": {
    "deletable": false,
    "editable": false,
    "nbgrader": {
     "cell_type": "code",
     "checksum": "999cdb89e60e7ede7f1c494c06ea31f1",
     "grade": true,
     "grade_id": "q3-in-place-bubble",
     "locked": true,
     "points": 10,
     "schema_version": 3,
     "solution": false,
     "task": false
    },
    "tags": []
   },
   "outputs": [],
   "source": [
    "# Testing Cell (Do NOT modify this cell)"
   ]
  },
  {
   "cell_type": "code",
   "execution_count": null,
   "metadata": {},
   "outputs": [],
   "source": []
  },
  {
   "cell_type": "markdown",
   "metadata": {},
   "source": [
    "#### Question 04 &nbsp;&nbsp;&nbsp;&nbsp;&nbsp;&nbsp;(10 Points)\n",
    "\n",
    "Write a function defined as:\n",
    "```python\n",
    "def sort_dict_by_value (un_dict):\n",
    "```\n",
    "that performs a sort of any type that sorts the ascending values of a dictionary in-place while retaining identical keys.\n",
    "\n",
    "For example, given a dictionary:\n",
    "```python\n",
    "d = {\n",
    "    1: 101,\n",
    "    2: 2,\n",
    "    8: -1,\n",
    "}\n",
    "```\n",
    "would be sorted as:\n",
    "```python\n",
    "d = {\n",
    "    1: -1,\n",
    "    2: 2,\n",
    "    8: 101,\n",
    "}\n",
    "```"
   ]
  },
  {
   "cell_type": "code",
   "execution_count": 52,
   "metadata": {
    "deletable": false,
    "nbgrader": {
     "cell_type": "code",
     "checksum": "abd1b6aa536b44459a1a6bb5358cc6fe",
     "grade": false,
     "grade_id": "q4",
     "locked": false,
     "schema_version": 3,
     "solution": true,
     "task": false
    },
    "tags": []
   },
   "outputs": [],
   "source": [
    "def sort_dict_by_value (un_dict):\n",
    "    # Write your solution here\n",
    "    ...\n",
    "    # YOUR CODE HERE\n",
    "    list_ = [list(item) for item in un_dict.items()]\n",
    "    for curr in range(len(list_) - 1, 0, -1):\n",
    "        max_idx = 0\n",
    "        for location in range(1, curr + 1):\n",
    "            if list_[location][1] > list_[max_idx][1]:\n",
    "                max_idx = location\n",
    "                \n",
    "        list_[curr][1], list_[max_idx][1] = list_[max_idx][1], list_[curr][1]\n",
    "    \n",
    "    result = dict(list_)\n",
    "    return result"
   ]
  },
  {
   "cell_type": "code",
   "execution_count": null,
   "metadata": {},
   "outputs": [],
   "source": [
    "d = {1: 101, 2: 2, 8: -1, 3: 3}\n",
    "sort_dict_by_value(d)"
   ]
  },
  {
   "cell_type": "code",
   "execution_count": null,
   "metadata": {
    "deletable": false,
    "editable": false,
    "nbgrader": {
     "cell_type": "code",
     "checksum": "6ecee3a0fe2c610b9cddc17317af369d",
     "grade": true,
     "grade_id": "q4-dict-by-value",
     "locked": true,
     "points": 10,
     "schema_version": 3,
     "solution": false,
     "task": false
    },
    "tags": []
   },
   "outputs": [],
   "source": [
    "# Testing Cell (Do NOT modify this cell)"
   ]
  },
  {
   "cell_type": "markdown",
   "metadata": {},
   "source": [
    "#### Question 05 &nbsp;&nbsp;&nbsp;&nbsp;&nbsp;&nbsp;(10 Points)\n",
    "\n",
    "Write a function defined as:\n",
    "```python\n",
    "def recursive_selection_sort_by_string_length (str_list):\n",
    "```   \n",
    "\n",
    "that implements a **recursive** selection_sort that sorts a list of capitalised names by length. \n",
    "\n",
    "Thus, in a list like:\n",
    "```python\n",
    "[\"Majid\", \"Victoria\", \"Tashreque\", \"Xiefeng\", \"Fu\", \"Biao\", \"Rui\"]\n",
    "```\n",
    "when sorted in-place, the `str_list` is:\n",
    "```python\n",
    "['Fu', 'Rui', 'Biao', 'Majid', 'Xiefeng', 'Victoria', 'Tashreque']\n",
    "```"
   ]
  },
  {
   "cell_type": "code",
   "execution_count": 21,
   "metadata": {
    "deletable": false,
    "nbgrader": {
     "cell_type": "code",
     "checksum": "f4bb07201cb3ef65d96ce3a594d9c873",
     "grade": false,
     "grade_id": "q5",
     "locked": false,
     "schema_version": 3,
     "solution": true,
     "task": false
    },
    "tags": []
   },
   "outputs": [
    {
     "data": {
      "text/plain": [
       "['Fu', 'Rui', 'Biao', 'Majid', 'Xiefeng', 'Victoria', 'Tashreque']"
      ]
     },
     "execution_count": 21,
     "metadata": {},
     "output_type": "execute_result"
    }
   ],
   "source": [
    "def recursive_selection_sort_by_string_length (str_list):\n",
    "    # Write your solution here\n",
    "    ...\n",
    "    # YOUR CODE HERE\n",
    "    def recursive_selection_sort(lst, n=None):\n",
    "        if n == None:\n",
    "            n = len(lst)\n",
    "        \n",
    "        if n <= 1:\n",
    "            return lst\n",
    "        \n",
    "        max_idx = 0\n",
    "        for i in range(1, n):\n",
    "            if len(lst[i]) > len(lst[max_idx]):\n",
    "                max_idx = i\n",
    "                \n",
    "        lst[max_idx], lst[n - 1] = lst[n - 1], lst[max_idx]\n",
    "            \n",
    "        return recursive_selection_sort(lst, n - 1)\n",
    "    \n",
    "    return recursive_selection_sort(str_list)\n",
    "\n",
    "str_list = [\"Majid\", \"Victoria\", \"Tashreque\", \"Xiefeng\", \"Fu\", \"Biao\", \"Rui\"]\n",
    "recursive_selection_sort_by_string_length(str_list)"
   ]
  },
  {
   "cell_type": "code",
   "execution_count": null,
   "metadata": {
    "deletable": false,
    "editable": false,
    "nbgrader": {
     "cell_type": "code",
     "checksum": "04a25b31d402206a483417662efe2417",
     "grade": true,
     "grade_id": "q5-recurisve-selection",
     "locked": true,
     "points": 10,
     "schema_version": 3,
     "solution": false,
     "task": false
    },
    "tags": []
   },
   "outputs": [],
   "source": [
    "# Testing Cell (Do NOT modify this cell)"
   ]
  },
  {
   "cell_type": "markdown",
   "metadata": {},
   "source": [
    "#### Question 06 &nbsp;&nbsp;&nbsp;&nbsp;&nbsp;&nbsp;(10 Points)\n",
    "\n",
    "Write a function defined as:\n",
    "```python\n",
    "def iterative_selection_sort_by_string_length (str_list):\n",
    "```   \n",
    "\n",
    "that implements an **iterative** selection_sort identical in requirements to Question 05. "
   ]
  },
  {
   "cell_type": "code",
   "execution_count": 56,
   "metadata": {
    "deletable": false,
    "nbgrader": {
     "cell_type": "code",
     "checksum": "311a5e18bf1a41b99e3447a7d0db35f5",
     "grade": false,
     "grade_id": "q6",
     "locked": false,
     "schema_version": 3,
     "solution": true,
     "task": false
    },
    "tags": []
   },
   "outputs": [],
   "source": [
    "def iterative_selection_sort_by_string_length (str_list):\n",
    "    # Write your solution here\n",
    "    ...\n",
    "    # YOUR CODE HERE\n",
    "    for curr in range(len(str_list) - 1, 0, -1):\n",
    "        max_idx = 0\n",
    "        \n",
    "        for i in range(1, curr + 1):\n",
    "            if len(str_list[i]) > len(str_list[max_idx]):\n",
    "                max_idx = i\n",
    "        \n",
    "        str_list[max_idx], str_list[curr] = str_list[curr], str_list[max_idx]\n",
    "    \n",
    "    return str_list"
   ]
  },
  {
   "cell_type": "code",
   "execution_count": 57,
   "metadata": {},
   "outputs": [
    {
     "data": {
      "text/plain": [
       "['Fu', 'Rui', 'Biao', 'Majid', 'Xiefeng', 'Victoria', 'Tashreque']"
      ]
     },
     "execution_count": 57,
     "metadata": {},
     "output_type": "execute_result"
    }
   ],
   "source": [
    "\n",
    "str_list = [\"Majid\", \"Victoria\", \"Tashreque\", \"Xiefeng\", \"Fu\", \"Biao\", \"Rui\"]\n",
    "iterative_selection_sort_by_string_length(str_list)\n",
    "# assert recursive_selection_sort_by_string_length(str_list) == iterative_selection_sort_by_string_length(str_list)"
   ]
  },
  {
   "cell_type": "code",
   "execution_count": null,
   "metadata": {
    "deletable": false,
    "editable": false,
    "nbgrader": {
     "cell_type": "code",
     "checksum": "f7fc94358ae4dcd03a0f0355340f51df",
     "grade": true,
     "grade_id": "q6-iterative-selection",
     "locked": true,
     "points": 10,
     "schema_version": 3,
     "solution": false,
     "task": false
    },
    "tags": []
   },
   "outputs": [],
   "source": [
    "# Testing Cell (Do NOT modify this cell)"
   ]
  },
  {
   "cell_type": "markdown",
   "metadata": {},
   "source": [
    "#### Question 07 &nbsp;&nbsp;&nbsp;&nbsp;&nbsp;&nbsp;(10 Points)\n",
    "\n",
    "Using the function definition:\n",
    "```python\n",
    "    def selection_sort_to_dest (source, destination = []):\n",
    "```\n",
    "write a recursive implementation of a selection sort that accepts a list of unsorted ints called `source` and sorts these values into a list called `destination` in descending order of value. \n",
    "\n",
    "For example, given a source list like:\n",
    "```python\n",
    "[3, 6, 1, -1, 99]\n",
    "```\n",
    "the function should remove the largest element from source and add it to the destination as follows:\n",
    "```python\n",
    "source            destination \n",
    "[3, 6, 1, -1, 99] []\n",
    "[3, 6, 1, -1]     [99]\n",
    "[3, 1, -1]        [99, 6]\n",
    "[1, -1]           [99, 6, 3]\n",
    "[-1]              [99, 6, 3, 1]\n",
    "[]                [99, 6, 3, 1, -1]\n",
    "```"
   ]
  },
  {
   "cell_type": "code",
   "execution_count": 62,
   "metadata": {
    "deletable": false,
    "nbgrader": {
     "cell_type": "code",
     "checksum": "31b10644a9541948dd8dc4375ddd46c5",
     "grade": false,
     "grade_id": "q7",
     "locked": false,
     "schema_version": 3,
     "solution": true,
     "task": false
    },
    "tags": []
   },
   "outputs": [
    {
     "data": {
      "text/plain": [
       "[99, 6, 3, 1, -1]"
      ]
     },
     "execution_count": 62,
     "metadata": {},
     "output_type": "execute_result"
    }
   ],
   "source": [
    "def selection_sort_to_dest (source, destination = []):\n",
    "    # Write your solution here\n",
    "    ...\n",
    "    # YOUR CODE HERE\n",
    "    def recursive(lst: list, n=None):\n",
    "        if n == None:\n",
    "            n = len(lst)\n",
    "        \n",
    "        if n == 0:\n",
    "            return \n",
    "        \n",
    "        max_idx = 0\n",
    "        for i in range(1, n):\n",
    "            if lst[i] > lst[max_idx]:\n",
    "                max_idx = i\n",
    "        \n",
    "        destination.append(lst[max_idx])\n",
    "        lst.pop(max_idx)\n",
    "        \n",
    "        return recursive(lst, n - 1)\n",
    "    \n",
    "    recursive(source)\n",
    "    return destination\n",
    "\n",
    "selection_sort_to_dest([3, 6, 1, -1, 99])"
   ]
  },
  {
   "cell_type": "code",
   "execution_count": null,
   "metadata": {
    "deletable": false,
    "editable": false,
    "nbgrader": {
     "cell_type": "code",
     "checksum": "189eb0faef4f9c0a3e0e4c646102e3e5",
     "grade": true,
     "grade_id": "q7-recursive-selection",
     "locked": true,
     "points": 10,
     "schema_version": 3,
     "solution": false,
     "task": false
    },
    "tags": []
   },
   "outputs": [],
   "source": [
    "# Testing Cell (Do NOT modify this cell)"
   ]
  },
  {
   "cell_type": "markdown",
   "metadata": {},
   "source": [
    "#### Question 08 &nbsp;&nbsp;&nbsp;&nbsp;&nbsp;&nbsp;(10 Points)\n",
    "\n",
    "Write a function defined as: \n",
    "```python\n",
    "def sort_floats_to_list (source):\n",
    "```\n",
    "that performs a sort of any type on a source list of unsorted floats and returns a destination list that will contain the sorted data in ascending order. An in place sort may not be used and the source list must remain unchanged.\n",
    "\n",
    "For example:\n",
    "```python\n",
    "in_list = [19.8, 1.1, 16.9, 0.1, -7.6]\n",
    "out_list = sort_floats_to_list (in_list)\n",
    "```\n",
    "returns:\n",
    "```python\n",
    "[-7.6, 0.1, 1.1, 16.9, 19.8]\n",
    "```\n",
    "while the source in_list is unchanged."
   ]
  },
  {
   "cell_type": "code",
   "execution_count": 67,
   "metadata": {
    "deletable": false,
    "nbgrader": {
     "cell_type": "code",
     "checksum": "b9ccb3962bfce8c0fa06de908333e0b0",
     "grade": false,
     "grade_id": "q8",
     "locked": false,
     "schema_version": 3,
     "solution": true,
     "task": false
    },
    "tags": []
   },
   "outputs": [
    {
     "data": {
      "text/plain": [
       "[-7.6, 0.1, 1.1, 16.9, 19.8]"
      ]
     },
     "execution_count": 67,
     "metadata": {},
     "output_type": "execute_result"
    }
   ],
   "source": [
    "def sort_floats_to_list (source):\n",
    "    # Write your solution here\n",
    "    ...\n",
    "    # YOUR CODE HERE\n",
    "    destination = source.copy()\n",
    "    \n",
    "    for curr in range(len(source) - 1, 0, -1):\n",
    "        max_idx = 0\n",
    "        \n",
    "        for i in range(1, curr + 1):\n",
    "            if destination[i] > destination[max_idx]:\n",
    "                max_idx = i\n",
    "        \n",
    "        destination[curr], destination[max_idx] = destination[max_idx], destination[curr]\n",
    "        \n",
    "    return destination\n",
    "\n",
    "sort_floats_to_list ([19.8, 1.1, 16.9, 0.1, -7.6])"
   ]
  },
  {
   "cell_type": "code",
   "execution_count": null,
   "metadata": {
    "deletable": false,
    "editable": false,
    "nbgrader": {
     "cell_type": "code",
     "checksum": "c06bc6d6c18b16c31b9c766e5ecc8981",
     "grade": true,
     "grade_id": "q8-sort-floats",
     "locked": true,
     "points": 10,
     "schema_version": 3,
     "solution": false,
     "task": false
    },
    "tags": []
   },
   "outputs": [],
   "source": [
    "# Testing Cell (Do NOT modify this cell)"
   ]
  },
  {
   "cell_type": "markdown",
   "metadata": {},
   "source": [
    "#### Question 09 &nbsp;&nbsp;&nbsp;&nbsp;&nbsp;&nbsp;(10 Points)\n",
    "\n",
    "Writing a recursive bubble sort is more difficult than an iterative approach. However, if we consider the bubble sort algorithm, after one pass of the sort, we have fixed one value in place: the last element of our input. For example if we consider a first pass over a list of ints, we are certain that the last value of the list is now in place.\n",
    "```python\n",
    "[5, 1, 4, 2, 8] –> [1, 5, 4, 2, 8] \n",
    "[1, 5, 4, 2, 8] –> [1, 4, 5, 2, 8] \n",
    "[1, 4, 5, 2, 8] –> [1, 4, 2, 5, 8] \n",
    "[1, 4, 2, 5, 8] –> [1, 4, 2, 5, 8]\n",
    "```\n",
    "Hence, we could now recurse over the unsorted portion of the list excluding the last element. We also have two terminating conditions:\n",
    "- a pass has made no swaps, or\n",
    "- we have done sufficient swaps to guarantee that all the data is now sorted.\n",
    "\n",
    "Write a function defined as:\n",
    "```python\n",
    "    def recursive_bubble_sort (intlist):\n",
    "```\n",
    "that completes an inplace, **recursive** bubble sort of an input list."
   ]
  },
  {
   "cell_type": "code",
   "execution_count": 37,
   "metadata": {
    "deletable": false,
    "nbgrader": {
     "cell_type": "code",
     "checksum": "ce947a9390891e7cfcbe83624ceba834",
     "grade": false,
     "grade_id": "q9",
     "locked": false,
     "schema_version": 3,
     "solution": true,
     "task": false
    },
    "tags": []
   },
   "outputs": [
    {
     "data": {
      "text/plain": [
       "[1, 2, 4, 5, 8]"
      ]
     },
     "execution_count": 37,
     "metadata": {},
     "output_type": "execute_result"
    }
   ],
   "source": [
    "def recursive_bubble_sort (intlist):\n",
    "    # Write your solution here\n",
    "    ...\n",
    "    # YOUR CODE HERE\n",
    "    def recursive(lst, n=None):\n",
    "        if n == None:\n",
    "            n = len(lst)\n",
    "            \n",
    "        if n <= 1:\n",
    "            return lst\n",
    "        \n",
    "        for i in range(n - 1):\n",
    "            if lst[i] > lst[i + 1]:\n",
    "                lst[i], lst[i + 1] = lst[i + 1], lst[i]\n",
    "                \n",
    "        return recursive(lst, n -1)\n",
    "        \n",
    "    return recursive(intlist)\n",
    "\n",
    "recursive_bubble_sort([5, 1, 4, 2, 8])"
   ]
  },
  {
   "cell_type": "code",
   "execution_count": null,
   "metadata": {
    "deletable": false,
    "editable": false,
    "nbgrader": {
     "cell_type": "code",
     "checksum": "454dbe9bd07015d61c782c3f7ebd2a4f",
     "grade": true,
     "grade_id": "q9-recursive-bubble",
     "locked": true,
     "points": 10,
     "schema_version": 3,
     "solution": false,
     "task": false
    },
    "tags": []
   },
   "outputs": [],
   "source": [
    "# Testing Cell (Do NOT modify this cell)"
   ]
  },
  {
   "cell_type": "markdown",
   "metadata": {
    "tags": []
   },
   "source": [
    "#### Question 10 &nbsp;&nbsp;&nbsp;&nbsp;&nbsp;&nbsp;(10 Points)\n",
    "\n",
    "Write a function defined as:\n",
    "```python\n",
    "def sinking_sort_list_by_value (un_list):\n",
    "```\n",
    "that performs a **bubble sort** to sort a list by **descending value** (aka: *sinking sort*) and returns a list of ```(original_location, value)``` tuples with the 1st item reflecting the original position of the value in the list and the second item being the value itself.\n",
    "\n",
    "For example, a list like:\n",
    "```python\n",
    "[6, 2, 1, 5, 4]\n",
    "```\n",
    "is sorted like:\n",
    "```python\n",
    "[6, 5, 4, 2, 1]\n",
    "```\n",
    "and the function constructs a list of tuples mapping the values to their original positions and returns:\n",
    "```python\n",
    "[(0, 6), (3, 5), (4, 4), (1, 2), (2, 1)]\n",
    "```\n",
    "i.e.: a list of ```(i, v)``` tuples sorted in descending order of ```v```, where ```i``` is the index in the original list. "
   ]
  },
  {
   "cell_type": "code",
   "execution_count": 28,
   "metadata": {
    "deletable": false,
    "nbgrader": {
     "cell_type": "code",
     "checksum": "fbf48ded9bb4c7fdf97253ff27b2ac2b",
     "grade": false,
     "grade_id": "q10",
     "locked": false,
     "schema_version": 3,
     "solution": true,
     "task": false
    },
    "tags": []
   },
   "outputs": [
    {
     "data": {
      "text/plain": [
       "[(0, 6), (3, 5), (4, 4), (1, 2), (2, 1)]"
      ]
     },
     "execution_count": 28,
     "metadata": {},
     "output_type": "execute_result"
    }
   ],
   "source": [
    "def sinking_sort_list_by_value (un_list):\n",
    "    # Write your solution here\n",
    "    ...\n",
    "    # YOUR CODE HERE\n",
    "    destination = list(zip(range(len(un_list)), un_list))\n",
    "    \n",
    "    for i in range(0, len(destination) - 1):\n",
    "        for j in range(0, len(destination) - 1 - i):\n",
    "            if destination[j][1] <  destination[j + 1][1]:\n",
    "                destination[j], destination[j + 1] = destination[j + 1], destination[j]\n",
    "                \n",
    "    return destination\n",
    "sinking_sort_list_by_value([6, 2, 1, 5, 4])"
   ]
  },
  {
   "cell_type": "code",
   "execution_count": null,
   "metadata": {
    "deletable": false,
    "editable": false,
    "nbgrader": {
     "cell_type": "code",
     "checksum": "03ffa36654c32e460d187f6e449552ae",
     "grade": true,
     "grade_id": "q10-sinking-bubble",
     "locked": true,
     "points": 10,
     "schema_version": 3,
     "solution": false,
     "task": false
    }
   },
   "outputs": [],
   "source": [
    "# Testing Cell (Do NOT modify this cell)"
   ]
  }
 ],
 "metadata": {
  "kernelspec": {
   "display_name": "Python 3",
   "language": "python",
   "name": "python3"
  },
  "language_info": {
   "codemirror_mode": {
    "name": "ipython",
    "version": 3
   },
   "file_extension": ".py",
   "mimetype": "text/x-python",
   "name": "python",
   "nbconvert_exporter": "python",
   "pygments_lexer": "ipython3",
   "version": "3.10.12"
  },
  "otter": {
   "tests": {
    "q1": {
     "name": "q1",
     "points": 1,
     "suites": [
      {
       "cases": [],
       "scored": true,
       "setup": "",
       "teardown": "",
       "type": "doctest"
      }
     ]
    },
    "q10": {
     "name": "q10",
     "points": 4,
     "suites": [
      {
       "cases": [],
       "scored": true,
       "setup": "",
       "teardown": "",
       "type": "doctest"
      }
     ]
    },
    "q11": {
     "name": "q11",
     "points": 6,
     "suites": [
      {
       "cases": [],
       "scored": true,
       "setup": "",
       "teardown": "",
       "type": "doctest"
      }
     ]
    },
    "q12": {
     "name": "q12",
     "points": 6,
     "suites": [
      {
       "cases": [],
       "scored": true,
       "setup": "",
       "teardown": "",
       "type": "doctest"
      }
     ]
    },
    "q13": {
     "name": "q13",
     "points": 6,
     "suites": [
      {
       "cases": [],
       "scored": true,
       "setup": "",
       "teardown": "",
       "type": "doctest"
      }
     ]
    },
    "q14": {
     "name": "q14",
     "points": 6,
     "suites": [
      {
       "cases": [],
       "scored": true,
       "setup": "",
       "teardown": "",
       "type": "doctest"
      }
     ]
    },
    "q15": {
     "name": "q15",
     "points": 6,
     "suites": [
      {
       "cases": [],
       "scored": true,
       "setup": "",
       "teardown": "",
       "type": "doctest"
      }
     ]
    },
    "q16": {
     "name": "q16",
     "points": 6,
     "suites": [
      {
       "cases": [],
       "scored": true,
       "setup": "",
       "teardown": "",
       "type": "doctest"
      }
     ]
    },
    "q17": {
     "name": "q17",
     "points": 8,
     "suites": [
      {
       "cases": [],
       "scored": true,
       "setup": "",
       "teardown": "",
       "type": "doctest"
      }
     ]
    },
    "q18": {
     "name": "q18",
     "points": 8,
     "suites": [
      {
       "cases": [],
       "scored": true,
       "setup": "",
       "teardown": "",
       "type": "doctest"
      }
     ]
    },
    "q19": {
     "name": "q19",
     "points": 12,
     "suites": [
      {
       "cases": [],
       "scored": true,
       "setup": "",
       "teardown": "",
       "type": "doctest"
      }
     ]
    },
    "q2": {
     "name": "q2",
     "points": 1,
     "suites": [
      {
       "cases": [],
       "scored": true,
       "setup": "",
       "teardown": "",
       "type": "doctest"
      }
     ]
    },
    "q20": {
     "name": "q20",
     "points": 12,
     "suites": [
      {
       "cases": [],
       "scored": true,
       "setup": "",
       "teardown": "",
       "type": "doctest"
      }
     ]
    },
    "q3": {
     "name": "q3",
     "points": 1,
     "suites": [
      {
       "cases": [],
       "scored": true,
       "setup": "",
       "teardown": "",
       "type": "doctest"
      }
     ]
    },
    "q4": {
     "name": "q4",
     "points": 1,
     "suites": [
      {
       "cases": [],
       "scored": true,
       "setup": "",
       "teardown": "",
       "type": "doctest"
      }
     ]
    },
    "q5": {
     "name": "q5",
     "points": 2,
     "suites": [
      {
       "cases": [],
       "scored": true,
       "setup": "",
       "teardown": "",
       "type": "doctest"
      }
     ]
    },
    "q6": {
     "name": "q6",
     "points": 2,
     "suites": [
      {
       "cases": [],
       "scored": true,
       "setup": "",
       "teardown": "",
       "type": "doctest"
      }
     ]
    },
    "q7": {
     "name": "q7",
     "points": 4,
     "suites": [
      {
       "cases": [],
       "scored": true,
       "setup": "",
       "teardown": "",
       "type": "doctest"
      }
     ]
    },
    "q8": {
     "name": "q8",
     "points": 4,
     "suites": [
      {
       "cases": [],
       "scored": true,
       "setup": "",
       "teardown": "",
       "type": "doctest"
      }
     ]
    },
    "q9": {
     "name": "q9",
     "points": 4,
     "suites": [
      {
       "cases": [],
       "scored": true,
       "setup": "",
       "teardown": "",
       "type": "doctest"
      }
     ]
    }
   }
  },
  "varInspector": {
   "cols": {
    "lenName": 16,
    "lenType": 16,
    "lenVar": 40
   },
   "kernels_config": {
    "python": {
     "delete_cmd_postfix": "",
     "delete_cmd_prefix": "del ",
     "library": "var_list.py",
     "varRefreshCmd": "print(var_dic_list())"
    },
    "r": {
     "delete_cmd_postfix": ") ",
     "delete_cmd_prefix": "rm(",
     "library": "var_list.r",
     "varRefreshCmd": "cat(var_dic_list()) "
    }
   },
   "types_to_exclude": [
    "module",
    "function",
    "builtin_function_or_method",
    "instance",
    "_Feature"
   ],
   "window_display": false
  }
 },
 "nbformat": 4,
 "nbformat_minor": 4
}
