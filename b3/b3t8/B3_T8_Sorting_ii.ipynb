{
 "cells": [
  {
   "cell_type": "markdown",
   "metadata": {},
   "source": [
    "### Instructions:\n",
    "\n",
    "- You can attempt any number of questions and in any order.  \n",
    "  See the assignment page for a description of the hurdle requirement for this assessment.\n",
    "- You may submit your practical for autograding as many times as you like to check on progress, however you will save time by checking and testing your own code before submitting.\n",
    "- Develop and check your answers in the spaces provided.\n",
    "- **Replace** the code `raise NotImplementedError()` with your solution to the question.\n",
    "- Do **NOT** remove any variables other provided markings already provided in the answer spaces.\n",
    "- Do **NOT** make any changes to this notebook outside of the spaces indicated.  \n",
    "  (If you do this, the submission system might not accept your work)\n",
    "\n",
    "### Submitting:\n",
    "\n",
    "1. Before you turn this problem in, make sure everything runs as expected by resetting this notebook.    \n",
    "   (You can do this from the menubar above by selecting `Kernel`&#8594;`Restart Kernel and Run All Cells...`)\n",
    "1. Don't forget to save your notebook after this step.\n",
    "1. Submit your .ipynb file to Gradescope via file upload or GitHub repository.\n",
    "1. You can submit as many times as needed.\n",
    "1. You **must** give your submitted file the **identical** filename to that which you downloaded without changing **any** aspects - spaces, underscores, capitalisation etc. If your operating system has changed the filename because you downloaded the file twice or more you **must** also fix this.  \n",
    "\n"
   ]
  },
  {
   "cell_type": "markdown",
   "metadata": {},
   "source": [
    "---"
   ]
  },
  {
   "cell_type": "markdown",
   "metadata": {
    "tags": []
   },
   "source": [
    "# <mark style=\"background: #2dc26b; color: #ffffff;\" >&nbsp;B3&nbsp;</mark>&ensp;Topic 8: Sorting (ii)"
   ]
  },
  {
   "cell_type": "code",
   "execution_count": 73,
   "metadata": {},
   "outputs": [],
   "source": [
    "import numpy as np\n",
    "from string import ascii_uppercase, ascii_lowercase\n",
    "from random import shuffle"
   ]
  },
  {
   "cell_type": "markdown",
   "metadata": {},
   "source": [
    "#### Question 01 &nbsp;&nbsp;&nbsp;&nbsp;&nbsp;&nbsp;(5 Points)\n",
    "\n",
    "Write a function defined as:\n",
    "```python\n",
    "def lomuto_partition_pivot(arr, low, high):\n",
    "```\n",
    "that accepts a list to be sorted and the low and high range of indexes forming the partition to be conisdered for sorting and returns the quicksort pivot value using a Lomuto partition scheme or `None` for a zero length input array. The value of `high` is the actual list index considered.\n",
    "\n",
    "For example:\n",
    "```python\n",
    "lomuto_partition_pivot([10, 9, 5, 2, 6, 4, 7, 1], 0, 7)\n",
    "```\n",
    "considers the whole list and returns the value `1` as the pivot value."
   ]
  },
  {
   "cell_type": "code",
   "execution_count": 74,
   "metadata": {
    "deletable": false,
    "nbgrader": {
     "cell_type": "code",
     "checksum": "ebf853dc74ac414dd41020a6b1e418ba",
     "grade": false,
     "grade_id": "q1",
     "locked": false,
     "schema_version": 3,
     "solution": true,
     "task": false
    },
    "tags": []
   },
   "outputs": [
    {
     "data": {
      "text/plain": [
       "1"
      ]
     },
     "execution_count": 74,
     "metadata": {},
     "output_type": "execute_result"
    }
   ],
   "source": [
    "def lomuto_partition_pivot(arr, low, high):\n",
    "    \n",
    "    # YOUR CODE HERE\n",
    "    if len(arr) == 0 or low >= high:\n",
    "        return None\n",
    "    \n",
    "    pivot = arr[high]\n",
    "    i = low - 1\n",
    "    \n",
    "    for j in range(low, high):\n",
    "        if arr[j] <= pivot:\n",
    "            i += 1\n",
    "            \n",
    "            arr[i], arr[j] = arr[j], arr[i]\n",
    "            \n",
    "    arr[i + 1], arr[high] = arr[high], arr[i + 1]\n",
    "    return arr[i + 1]\n",
    "lomuto_partition_pivot([10, 9, 5, 2, 6, 4, 7, 1], 0, 7)\n"
   ]
  },
  {
   "cell_type": "code",
   "execution_count": 75,
   "metadata": {
    "deletable": false,
    "editable": false,
    "nbgrader": {
     "cell_type": "code",
     "checksum": "f3ced0c3b4d111a46a294db0df6553bf",
     "grade": true,
     "grade_id": "q1-lomoto",
     "locked": true,
     "points": 5,
     "schema_version": 3,
     "solution": false,
     "task": false
    },
    "tags": []
   },
   "outputs": [],
   "source": [
    "# Testing Cell (Do NOT modify this cell)"
   ]
  },
  {
   "cell_type": "markdown",
   "metadata": {},
   "source": [
    "#### Question 02 &nbsp;&nbsp;&nbsp;&nbsp;&nbsp;&nbsp;(5 Points)\n",
    "\n",
    "Write a function defined as:\n",
    "```python\n",
    "def median_of_three_pivot(arr, low, high):\n",
    "```\n",
    "that accepts a list to be sorted and the low and high indexes of the partition to be conisdered for sorting and returns the quicksort pivot value using a median partition scheme or `None` for a zero length input array.\n",
    "\n",
    "For example:\n",
    "```python\n",
    "median_of_three_pivot([10, 9, 5, 2, 6, 4, 7], 0, 6)\n",
    "```\n",
    "considers the whole list and returns the value `7` being the middle value in `10`, `2` and `7`."
   ]
  },
  {
   "cell_type": "code",
   "execution_count": 76,
   "metadata": {
    "deletable": false,
    "nbgrader": {
     "cell_type": "code",
     "checksum": "60f2c8fbbcdb492cf9c2afac510d4631",
     "grade": false,
     "grade_id": "q2",
     "locked": false,
     "schema_version": 3,
     "solution": true,
     "task": false
    },
    "tags": []
   },
   "outputs": [
    {
     "data": {
      "text/plain": [
       "7"
      ]
     },
     "execution_count": 76,
     "metadata": {},
     "output_type": "execute_result"
    }
   ],
   "source": [
    "def median_of_three_pivot(arr, low, high):\n",
    "    \n",
    "    # YOUR CODE HERE\n",
    "    if len(arr) == 0 or low >= high:\n",
    "        return None\n",
    "    \n",
    "    mid = (low + high) // 2\n",
    "    \n",
    "    if arr[low] <= arr[mid] <= arr[high] or arr[high] <= arr[mid] <= arr[low]:\n",
    "        return arr[mid]\n",
    "    \n",
    "    elif arr[mid] <= arr[low] <= arr[high] or arr[high] <= arr[low] <= arr[mid]:\n",
    "        return arr[low]\n",
    "    \n",
    "    else:\n",
    "        return arr[high]\n",
    "    \n",
    "median_of_three_pivot([10, 9, 5, 2, 6, 4, 7], 0, 6)"
   ]
  },
  {
   "cell_type": "code",
   "execution_count": 77,
   "metadata": {
    "deletable": false,
    "editable": false,
    "nbgrader": {
     "cell_type": "code",
     "checksum": "fd450a890da1204a1815467467a7c905",
     "grade": true,
     "grade_id": "q2-median-of-three",
     "locked": true,
     "points": 5,
     "schema_version": 3,
     "solution": false,
     "task": false
    },
    "tags": []
   },
   "outputs": [],
   "source": [
    "# Testing Cell (Do NOT modify this cell)"
   ]
  },
  {
   "cell_type": "markdown",
   "metadata": {},
   "source": [
    "#### Question 03 &nbsp;&nbsp;&nbsp;&nbsp;&nbsp;&nbsp;(10 Points)\n",
    "\n",
    "Write a function defined as:\n",
    "```python\n",
    "def median_quicksort(arr, reverse = False):\n",
    "```\n",
    "that uses a quicksort with median partition scheme to sort a list of floats in-place. The parameter `reverse` selects the direction of the sort order where `reverse == True` indicates a descending sort."
   ]
  },
  {
   "cell_type": "code",
   "execution_count": 184,
   "metadata": {
    "deletable": false,
    "nbgrader": {
     "cell_type": "code",
     "checksum": "7bda55d5086ffa9008deef05dced4976",
     "grade": false,
     "grade_id": "q3",
     "locked": false,
     "schema_version": 3,
     "solution": true,
     "task": false
    },
    "tags": []
   },
   "outputs": [
    {
     "data": {
      "text/plain": [
       "[10, 9, 7, 6, 5, 4, 2]"
      ]
     },
     "execution_count": 184,
     "metadata": {},
     "output_type": "execute_result"
    }
   ],
   "source": [
    "def median_quicksort(arr, reverse = False):\n",
    "    if len(arr) == 0:\n",
    "            return \n",
    "    \n",
    "    # YOUR CODE HERE\n",
    "    \n",
    "    def quicksort(lst, first=0, last=None):\n",
    "        if last is None:\n",
    "            last = len(lst) - 1\n",
    "        \n",
    "        if first >= last:\n",
    "            return\n",
    "        \n",
    "        pivot = median_of_three_pivot(lst, first, last)\n",
    "        i, j = first, last\n",
    "        while i <= j:\n",
    "            if not reverse:\n",
    "                while lst[i] < pivot:\n",
    "                    i += 1\n",
    "                while lst[j] > pivot:\n",
    "                    j -= 1\n",
    "            \n",
    "            else:\n",
    "                while lst[i] > pivot:\n",
    "                    i += 1\n",
    "                while lst[j] < pivot:\n",
    "                    j -= 1\n",
    "                    \n",
    "            if i <= j:\n",
    "                lst[i], lst[j] = lst[j], lst[i]\n",
    "                i += 1\n",
    "                j -= 1\n",
    "                \n",
    "        quicksort(lst, first, j)\n",
    "        quicksort(lst, i, last)\n",
    "        \n",
    "        return lst\n",
    "    return quicksort(arr)\n",
    "median_quicksort([10, 9, 5, 2, 6, 4, 7], reverse=True)"
   ]
  },
  {
   "cell_type": "code",
   "execution_count": 79,
   "metadata": {
    "deletable": false,
    "editable": false,
    "nbgrader": {
     "cell_type": "code",
     "checksum": "82f9f052693af68d5d3b92d6358f80e5",
     "grade": true,
     "grade_id": "q3-median-quicksort",
     "locked": true,
     "points": 10,
     "schema_version": 3,
     "solution": false,
     "task": false
    },
    "tags": []
   },
   "outputs": [],
   "source": [
    "# Testing Cell (Do NOT modify this cell)"
   ]
  },
  {
   "cell_type": "markdown",
   "metadata": {},
   "source": [
    "#### Question 04 &nbsp;&nbsp;&nbsp;&nbsp;&nbsp;&nbsp;(10 Points)\n",
    "\n",
    "Write a function defined as:\n",
    "```python\n",
    "    def quicksort_numpy_arrays (alist, reverse = False):\n",
    "```\n",
    "that performs an ascending, inplace quicksort with a partition scheme of your choice on a list of NumPy arrays (`alist`) based on the sum of values in the array. The parameter `reverse` selects the direction of the sort order where `reverse == True` indicates a descending sort.\n",
    "\n",
    "For example, give an input list of arrays like:\n",
    "```python\n",
    "[array([0, 1, 2, 3, 4, 5, 6, 7, 8]),\n",
    " array([0]),\n",
    " array([0, 1, 2]),\n",
    " array([0, 1, 2, 3, 4, 5, 6]),\n",
    " array([0, 1, 2, 3, 4])]\n",
    "```\n",
    "the function will sort alist in place like:\n",
    "```python\n",
    "[array([0]),\n",
    " array([0, 1, 2]),\n",
    " array([0, 1, 2, 3, 4]),\n",
    " array([0, 1, 2, 3, 4, 5, 6]),\n",
    " array([0, 1, 2, 3, 4, 5, 6, 7, 8])]\n",
    "```"
   ]
  },
  {
   "cell_type": "code",
   "execution_count": 80,
   "metadata": {
    "deletable": false,
    "nbgrader": {
     "cell_type": "code",
     "checksum": "7cdb9959bd6eeb7583471e7b936c5f75",
     "grade": false,
     "grade_id": "q4",
     "locked": false,
     "schema_version": 3,
     "solution": true,
     "task": false
    },
    "tags": []
   },
   "outputs": [],
   "source": [
    "def quicksort_numpy_arrays (alist, reverse = False):\n",
    "    \n",
    "    # YOUR CODE HERE\n",
    "    def quicksort(arr, first=0, last=None):\n",
    "        if last == None:\n",
    "            last = len(arr) - 1\n",
    "            \n",
    "        if first >= last:\n",
    "            return arr\n",
    "        \n",
    "        i, j = first, last\n",
    "        pivot = arr[first]\n",
    "        \n",
    "        while i <= j:\n",
    "            if not reverse:\n",
    "                while np.sum(arr[i]) < np.sum(pivot):\n",
    "                    i += 1\n",
    "                while np.sum(arr[j]) > np.sum(pivot):\n",
    "                    j -= 1\n",
    "            else:\n",
    "                while np.sum(arr[i]) > np.sum(pivot):\n",
    "                    i += 1\n",
    "                while np.sum(arr[j]) < np.sum(pivot):\n",
    "                    j -= 1\n",
    "                \n",
    "            if  i <= j:\n",
    "                arr[i], arr[j] = arr[j], arr[i]\n",
    "                i += 1\n",
    "                j -= 1\n",
    "        \n",
    "        quicksort(arr, first, j)\n",
    "        quicksort(arr, i, last)\n",
    "\n",
    "        return arr\n",
    "\n",
    "    return quicksort(alist)"
   ]
  },
  {
   "cell_type": "code",
   "execution_count": 81,
   "metadata": {},
   "outputs": [
    {
     "data": {
      "text/plain": [
       "[array([0]),\n",
       " array([0, 1, 2, 3, 4]),\n",
       " array([0, 1, 2, 3, 4, 5, 6]),\n",
       " array([ 0,  1, 25]),\n",
       " array([0, 1, 2, 3, 4, 5, 6, 7, 8])]"
      ]
     },
     "execution_count": 81,
     "metadata": {},
     "output_type": "execute_result"
    }
   ],
   "source": [
    "alist = [np.array(np.arange(9)),\n",
    "         np.array([0]),\n",
    "         np.array([0, 1, 25]),\n",
    "         np.array(np.arange(7)), \n",
    "         np.array(np.arange(5))]\n",
    "\n",
    "quicksort_numpy_arrays(alist)"
   ]
  },
  {
   "cell_type": "code",
   "execution_count": 82,
   "metadata": {
    "deletable": false,
    "editable": false,
    "nbgrader": {
     "cell_type": "code",
     "checksum": "e1864828a18cce80819973af4d541735",
     "grade": true,
     "grade_id": "q4-arrays",
     "locked": true,
     "points": 10,
     "schema_version": 3,
     "solution": false,
     "task": false
    },
    "tags": []
   },
   "outputs": [],
   "source": [
    "# Testing Cell (Do NOT modify this cell)"
   ]
  },
  {
   "cell_type": "markdown",
   "metadata": {},
   "source": [
    "#### Question 05 &nbsp;&nbsp;&nbsp;&nbsp;&nbsp;&nbsp;(10 Points)\n",
    "\n",
    "Write a function defined as:\n",
    "```python\n",
    "def quicksort_alphabetical (arr, ignorecase = False):\n",
    " ```\n",
    "that sorts a list of characters (single letter strings) in-place according to alphabetical order. When `ignorecase == True`, the case of letters in the list should be ignored.  When `ignorecase == False`, the sort should respect the case of the list according to Python's default behaviour: uppercase characters sort in preference to lowercase characters. "
   ]
  },
  {
   "cell_type": "code",
   "execution_count": 83,
   "metadata": {
    "deletable": false,
    "nbgrader": {
     "cell_type": "code",
     "checksum": "e3529bf000751f8300dfe76a014265cf",
     "grade": false,
     "grade_id": "q5",
     "locked": false,
     "schema_version": 3,
     "solution": true,
     "task": false
    },
    "tags": []
   },
   "outputs": [],
   "source": [
    "def quicksort_alphabetical (arr, ignorecase = False):\n",
    "    \n",
    "    # YOUR CODE HERE\n",
    "    def quicksort(arr,first=0, last=None):\n",
    "        if last is None:\n",
    "            last = len(arr) - 1\n",
    "            \n",
    "        if first >= last:\n",
    "            return arr\n",
    "        \n",
    "        i, j = first, last\n",
    "        pivot = arr[first]\n",
    "        \n",
    "        while i <= j:\n",
    "            if ignorecase:\n",
    "                while arr[i].lower() < pivot.lower():\n",
    "                    i += 1\n",
    "                while arr[j].lower() > pivot.lower():\n",
    "                    j -= 1\n",
    "                    \n",
    "            else:\n",
    "                while arr[i] < pivot:\n",
    "                    i += 1\n",
    "                while arr[j] > pivot:\n",
    "                    j -= 1\n",
    "                    \n",
    "            if i <= j:\n",
    "                arr[i], arr[j] = arr[j], arr[i]\n",
    "                i += 1\n",
    "                j -= 1\n",
    "                    \n",
    "        quicksort(arr, first, j)\n",
    "        quicksort(arr, i, last)\n",
    "        \n",
    "        return arr\n",
    "    \n",
    "    return quicksort(arr)\n",
    "\n"
   ]
  },
  {
   "cell_type": "code",
   "execution_count": 84,
   "metadata": {
    "deletable": false,
    "editable": false,
    "nbgrader": {
     "cell_type": "code",
     "checksum": "ef2cab5e8e302237c6eaccb5d1dd693a",
     "grade": true,
     "grade_id": "q5-quicksort-alpha",
     "locked": true,
     "points": 10,
     "schema_version": 3,
     "solution": false,
     "task": false
    },
    "tags": []
   },
   "outputs": [],
   "source": [
    "# Testing Cell (Do NOT modify this cell)"
   ]
  },
  {
   "cell_type": "markdown",
   "metadata": {
    "tags": []
   },
   "source": [
    "#### Question 06 &nbsp;&nbsp;&nbsp;&nbsp;&nbsp;&nbsp;(10 Points)\n",
    "\n",
    "Write a function defined as:\n",
    "```Python\n",
    "def insertion_sort_string (un_list):\n",
    "```\n",
    "that sorts a list of strings in-place in descending order of their length using an insertion sort."
   ]
  },
  {
   "cell_type": "code",
   "execution_count": 185,
   "metadata": {
    "deletable": false,
    "nbgrader": {
     "cell_type": "code",
     "checksum": "2e402720a448dc33f39a0e152409e2be",
     "grade": false,
     "grade_id": "q6",
     "locked": false,
     "schema_version": 3,
     "solution": true,
     "task": false
    },
    "tags": []
   },
   "outputs": [
    {
     "data": {
      "text/plain": [
       "['Tashreque', 'Victoria', 'Xiefeng', 'Majid', 'Biao', 'Rui', 'Fu']"
      ]
     },
     "execution_count": 185,
     "metadata": {},
     "output_type": "execute_result"
    }
   ],
   "source": [
    "def insertion_sort_string (un_list):\n",
    "    \n",
    "    # YOUR CODE HERE\n",
    "    for i, v in enumerate(un_list):\n",
    "        j = i - 1\n",
    "        \n",
    "        while j >= 0 and len(un_list[j]) < len(v):\n",
    "            un_list[j + 1] = un_list[j]\n",
    "            j -= 1\n",
    "            \n",
    "        un_list[j + 1] = v\n",
    "    \n",
    "    return un_list\n",
    "\n",
    "insertion_sort_string([\"Majid\", \"Victoria\", \"Tashreque\", \"Xiefeng\", \"Fu\", \"Biao\", \"Rui\"])"
   ]
  },
  {
   "cell_type": "code",
   "execution_count": 86,
   "metadata": {
    "deletable": false,
    "editable": false,
    "nbgrader": {
     "cell_type": "code",
     "checksum": "7c119c2cd10b6b7dfb1e139857940d76",
     "grade": true,
     "grade_id": "q6-insertion-sort-string",
     "locked": true,
     "points": 10,
     "schema_version": 3,
     "solution": false,
     "task": false
    },
    "tags": []
   },
   "outputs": [],
   "source": [
    "# Testing Cell (Do NOT modify this cell)"
   ]
  },
  {
   "cell_type": "markdown",
   "metadata": {},
   "source": [
    "#### Question 07 &nbsp;&nbsp;&nbsp;&nbsp;&nbsp;&nbsp;(10 Points)\n",
    "\n",
    "Write a function defined as:\n",
    "```python\n",
    "def insertion_sort_dict_by_key (un_dict):\n",
    "```\n",
    "that performs an insertion sort that sorts a dict by ascending values in-place while retaining identical keys.\n",
    "\n",
    "For example, given a dictionary:\n",
    "```python\n",
    "d = {\n",
    "    1: 101,\n",
    "    2: 2,\n",
    "    8: -1,\n",
    "}\n",
    "```\n",
    "would be sorted as:\n",
    "```python\n",
    "d = {\n",
    "    1: -1,\n",
    "    2: 2,\n",
    "    8: 101,\n",
    "}\n",
    "```"
   ]
  },
  {
   "cell_type": "code",
   "execution_count": 195,
   "metadata": {
    "deletable": false,
    "nbgrader": {
     "cell_type": "code",
     "checksum": "9075b9e9a179a28e501a74763f19854c",
     "grade": false,
     "grade_id": "q7",
     "locked": false,
     "schema_version": 3,
     "solution": true,
     "task": false
    },
    "tags": []
   },
   "outputs": [
    {
     "name": "stdout",
     "output_type": "stream",
     "text": [
      "{8: -1, 2: 2, 1: 101}\n"
     ]
    }
   ],
   "source": [
    "def insertion_sort_dict_by_key(un_dict):\n",
    "    # 获取字典的所有键\n",
    "    keys = list(un_dict.keys())\n",
    "\n",
    "    # 遍历每个键，从第二个键开始\n",
    "    for i in range(1, len(keys)):\n",
    "        current_key = keys[i]          # 当前键\n",
    "        current_value = un_dict[current_key]  # 当前值\n",
    "        j = i - 1\n",
    "        \n",
    "        # 在已经排序的部分找到合适的位置\n",
    "        while j >= 0 and un_dict[keys[j]] > current_value:\n",
    "            keys[j + 1] = keys[j]  # 移动较大的键\n",
    "            j -= 1\n",
    "        \n",
    "        # 将当前键放到合适的位置\n",
    "        keys[j + 1] = current_key\n",
    "    \n",
    "    # 根据排序后的键构建新的字典\n",
    "    sorted_dict = {key: un_dict[key] for key in keys}\n",
    "    \n",
    "    # 将原字典替换为排序后的字典\n",
    "    un_dict.clear()  # 清空原字典\n",
    "    un_dict.update(sorted_dict)  # 更新原字典\n",
    "\n",
    "    return un_dict\n",
    "\n",
    "# 示例字典\n",
    "d = {\n",
    "    1: 101,\n",
    "    2: 2,\n",
    "    8: -1,\n",
    "}\n",
    "\n",
    "# 对字典按值进行排序\n",
    "sorted_dict = insertion_sort_dict_by_key(d)\n",
    "print(sorted_dict)\n"
   ]
  },
  {
   "cell_type": "code",
   "execution_count": null,
   "metadata": {
    "deletable": false,
    "editable": false,
    "nbgrader": {
     "cell_type": "code",
     "checksum": "ac5ae134393f3de973ef3e72b0c70757",
     "grade": true,
     "grade_id": "q7-insert-sort-dict",
     "locked": true,
     "points": 10,
     "schema_version": 3,
     "solution": false,
     "task": false
    },
    "tags": []
   },
   "outputs": [],
   "source": [
    "# Testing Cell (Do NOT modify this cell)"
   ]
  },
  {
   "cell_type": "markdown",
   "metadata": {},
   "source": [
    "#### Question 08 &nbsp;&nbsp;&nbsp;&nbsp;&nbsp;&nbsp;(10 Points)\n",
    "\n",
    "Write a function defined as:\n",
    "```python\n",
    "def recursive_insertion_sort (arr, index, reverse):\n",
    "```\n",
    "that performs a recursive insertion sort in-place on a list of floats taking a `reverse` parameter to signal whether the floats are to be in ascending on descending order."
   ]
  },
  {
   "cell_type": "code",
   "execution_count": 191,
   "metadata": {
    "deletable": false,
    "nbgrader": {
     "cell_type": "code",
     "checksum": "40c77111cd6567c76a64f51a725968fa",
     "grade": false,
     "grade_id": "q8",
     "locked": false,
     "schema_version": 3,
     "solution": true,
     "task": false
    },
    "tags": []
   },
   "outputs": [
    {
     "data": {
      "text/plain": [
       "[1]"
      ]
     },
     "execution_count": 191,
     "metadata": {},
     "output_type": "execute_result"
    }
   ],
   "source": [
    "def recursive_insertion_sort (arr, index, reverse = False):\n",
    "    \n",
    "    # YOUR CODE HERE\n",
    "    if index <= 0:\n",
    "        return arr\n",
    "    \n",
    "    recursive_insertion_sort(arr, index - 1, reverse)\n",
    "    key = arr[index]\n",
    "    j = index - 1\n",
    "    \n",
    "    if not reverse:\n",
    "        while j >= 0 and arr[j] > key:\n",
    "            arr[j + 1] = arr[j]\n",
    "            j -= 1\n",
    "            \n",
    "    else:\n",
    "        while j >= 0 and arr[j] < key:\n",
    "            arr[j + 1] = arr[j]\n",
    "            j -= 1\n",
    "    \n",
    "    arr[j + 1] = key\n",
    "\n",
    "    return arr\n",
    "    \n",
    "lst = [1]\n",
    "recursive_insertion_sort(lst, len(lst) - 1, reverse=True)\n"
   ]
  },
  {
   "cell_type": "code",
   "execution_count": null,
   "metadata": {
    "deletable": false,
    "editable": false,
    "nbgrader": {
     "cell_type": "code",
     "checksum": "267f08fd25b1d44d0514624ebc3ddad4",
     "grade": true,
     "grade_id": "q8-recursive-insert",
     "locked": true,
     "points": 10,
     "schema_version": 3,
     "solution": false,
     "task": false
    },
    "tags": []
   },
   "outputs": [],
   "source": [
    "# Testing Cell (Do NOT modify this cell)"
   ]
  },
  {
   "cell_type": "markdown",
   "metadata": {
    "tags": []
   },
   "source": [
    "#### Question 09 &nbsp;&nbsp;&nbsp;&nbsp;&nbsp;&nbsp;(10 Points)\n",
    "\n",
    "Write a function defined as:\n",
    "```python\n",
    "def median_alpha_pivot(str_list, low, high):\n",
    "```\n",
    "that accepts a list of capitalised names, the index of the start and end of the partition in the list and returns a 'median of three' pivot value using a median partition scheme or `None` for a zero length input array. \n",
    "\n",
    "In calculating the pivot, the first letter of each string is given a weighting according to its index in `list(string.ascii_uppercase)` and the value returned is that index. \n",
    "\n",
    "Thus, in a list like:\n",
    "```python\n",
    "[\"Majid\", \"Victoria\", \"Tashreque\", \"Xiefeng\", \"Fu\", \"Biao\", \"Rui\"]\n",
    "```\n",
    "in calculating the pivot for the whole of the list, we consider the values:\n",
    "- 12 (the index of 'M' in string.ascii_uppercase), \n",
    "- 23 (the index of 'X' in string.ascii_uppercase), and \n",
    "- 17 (the index of 'R' in string.ascii_uppercase)   \n",
    "returning `17` as our first pivot value.\n"
   ]
  },
  {
   "cell_type": "code",
   "execution_count": 160,
   "metadata": {
    "deletable": false,
    "nbgrader": {
     "cell_type": "code",
     "checksum": "941c4dd9c20f450f7d31d872c7ed1612",
     "grade": false,
     "grade_id": "q9",
     "locked": false,
     "schema_version": 3,
     "solution": true,
     "task": false
    },
    "tags": []
   },
   "outputs": [
    {
     "data": {
      "text/plain": [
       "17"
      ]
     },
     "execution_count": 160,
     "metadata": {},
     "output_type": "execute_result"
    }
   ],
   "source": [
    "def median_alpha_pivot(str_list, low, high):\n",
    "    \n",
    "    # YOUR CODE HERE\n",
    "    index = {}\n",
    "    for i, v in enumerate(list(ascii_uppercase)):\n",
    "        index[v] = i\n",
    "    \n",
    "    if low >= high:\n",
    "        return\n",
    "    \n",
    "    mid = (low + high) // 2\n",
    "    pivot_lst = sorted([index[str_list[low][0]], index[str_list[mid][0]], index[str_list[high][0]]])\n",
    "    \n",
    "    return pivot_lst[1]\n",
    "\n",
    "lst = [\"Majid\", \"Victoria\", \"Tashreque\", \"Xiefeng\", \"Fu\", \"Biao\", \"Rui\"]\n",
    "median_alpha_pivot(lst, 0, len(lst) - 1)"
   ]
  },
  {
   "cell_type": "code",
   "execution_count": null,
   "metadata": {
    "deletable": false,
    "editable": false,
    "nbgrader": {
     "cell_type": "code",
     "checksum": "863fa15ff01a4f50ba12a2bd68c4902a",
     "grade": true,
     "grade_id": "q9-median-alpha-pivot",
     "locked": true,
     "points": 10,
     "schema_version": 3,
     "solution": false,
     "task": false
    },
    "tags": []
   },
   "outputs": [],
   "source": [
    "# Testing Cell (Do NOT modify this cell)"
   ]
  },
  {
   "cell_type": "markdown",
   "metadata": {},
   "source": [
    "#### Question 10 &nbsp;&nbsp;&nbsp;&nbsp;&nbsp;&nbsp;(10 Points)\n",
    "\n",
    "Write a function defined as:\n",
    "```python\n",
    "def median_quicksort_by_first_letter (str_list):\n",
    "```   \n",
    "\n",
    "that implements a **recursive** quicksort that sorts a list of capitalised names according to their first letter using the median partition scheme per the details expressed in Question 09. \n",
    "\n",
    "Thus, given a list like:\n",
    "```python\n",
    "[\"Majid\", \"Victoria\", \"Tashreque\", \"Xiefeng\", \"Fu\", \"Biao\", \"Rui\"]\n",
    "```\n",
    "when sorted in-place, the list is:\n",
    "```python\n",
    "['Fu', 'Rui', 'Biao', 'Majid', 'Xiefeng', 'Victoria', 'Tashreque']\n",
    "```"
   ]
  },
  {
   "cell_type": "code",
   "execution_count": 169,
   "metadata": {
    "deletable": false,
    "nbgrader": {
     "cell_type": "code",
     "checksum": "ccb9eca7ec76bbd104c4ff36cd60901e",
     "grade": false,
     "grade_id": "q10",
     "locked": false,
     "schema_version": 3,
     "solution": true,
     "task": false
    },
    "tags": []
   },
   "outputs": [
    {
     "data": {
      "text/plain": [
       "['Biao', 'Fu', 'Majid', 'Rui', 'Tashreque', 'Victoria', 'Xiefeng']"
      ]
     },
     "execution_count": 169,
     "metadata": {},
     "output_type": "execute_result"
    }
   ],
   "source": [
    "def median_alpha_pivot(str_list, low, high):\n",
    "    \n",
    "    # YOUR CODE HERE\n",
    "    index = {}\n",
    "    for i, v in enumerate(list(ascii_uppercase)):\n",
    "        index[v] = i\n",
    "    \n",
    "    if low >= high:\n",
    "        return\n",
    "    \n",
    "    mid = (low + high) // 2\n",
    "    pivot_lst = sorted([index[str_list[low][0]], index[str_list[mid][0]], index[str_list[high][0]]])\n",
    "    \n",
    "    return pivot_lst[1]\n",
    "\n",
    "def median_quicksort_by_first_letter (str_list):\n",
    "\n",
    "    # YOUR CODE HERE\n",
    "    index = {letter: i for i, letter in enumerate(ascii_uppercase)}\n",
    "    \n",
    "    def recursive(lst, first=0, last=None):\n",
    "        if last is None:\n",
    "            last =  len(lst) - 1\n",
    "        \n",
    "        if first >= last:\n",
    "            return lst\n",
    "        \n",
    "        i, j = first, last\n",
    "        pivot = median_alpha_pivot(lst, first, last)\n",
    "        \n",
    "        while i <= j:\n",
    "            while index[lst[i][0]] < pivot:\n",
    "                i += 1\n",
    "                \n",
    "            while index[lst[j][0]] > pivot:\n",
    "                j -= 1\n",
    "                \n",
    "            if i <= j:\n",
    "                lst[i], lst[j] = lst[j], lst[i]\n",
    "                i += 1\n",
    "                j -= 1\n",
    "        \n",
    "        recursive(lst, first, j)\n",
    "        recursive(lst, i, last)\n",
    "        \n",
    "        return lst\n",
    "\n",
    "    return recursive(str_list)\n",
    "\n",
    "str_list = [\"Majid\", \"Victoria\", \"Tashreque\", \"Xiefeng\", \"Fu\", \"Biao\", \"Rui\"]\n",
    "median_quicksort_by_first_letter(str_list)"
   ]
  },
  {
   "cell_type": "code",
   "execution_count": null,
   "metadata": {
    "deletable": false,
    "editable": false,
    "nbgrader": {
     "cell_type": "code",
     "checksum": "9806f79786e4942abab8a8f1ee394968",
     "grade": true,
     "grade_id": "q10-median-quicksort",
     "locked": true,
     "points": 10,
     "schema_version": 3,
     "solution": false,
     "task": false
    },
    "tags": []
   },
   "outputs": [],
   "source": [
    "# Testing Cell (Do NOT modify this cell)"
   ]
  },
  {
   "cell_type": "markdown",
   "metadata": {},
   "source": [
    "#### Question 11 &nbsp;&nbsp;&nbsp;&nbsp;&nbsp;&nbsp;(10 Points)\n",
    "\n",
    "Write a function defined as:\n",
    "```python\n",
    "def insertion_sort_by_tuple_sum (ulist, reverse = False):\n",
    "```\n",
    "that sorts a list of numerical tuples in-place by the sum of all values in the tuple. The parameter `reverse` indicates an ascending or descending sort. "
   ]
  },
  {
   "cell_type": "code",
   "execution_count": 176,
   "metadata": {
    "deletable": false,
    "nbgrader": {
     "cell_type": "code",
     "checksum": "106c2535188a83e431c5559233796f1d",
     "grade": false,
     "grade_id": "q11",
     "locked": false,
     "schema_version": 3,
     "solution": true,
     "task": false
    },
    "tags": []
   },
   "outputs": [
    {
     "data": {
      "text/plain": [
       "[(6, 7, 8, 9), (4, 5), (1, 2, 3)]"
      ]
     },
     "execution_count": 176,
     "metadata": {},
     "output_type": "execute_result"
    }
   ],
   "source": [
    "def insertion_sort_by_tuple_sum (ulist, reverse = False):\n",
    "     \n",
    "    # YOUR CODE HERE\n",
    "    for i, v in enumerate(ulist):\n",
    "        j = i - 1\n",
    "        key = sum(v)\n",
    "        \n",
    "        if not reverse:\n",
    "            while j >= 0 and sum(ulist[j]) > key:\n",
    "                ulist[j + 1] = ulist[j]\n",
    "                j -= 1\n",
    "        else:\n",
    "            while j >= 0 and sum(ulist[j]) < key:\n",
    "                ulist[j + 1] = ulist[j]\n",
    "                j -= 1\n",
    "                \n",
    "        ulist[j + 1] = v\n",
    "        \n",
    "    return ulist\n",
    "\n",
    "lst = [(1, 2, 3), (6, 7, 8, 9),(4, 5)]\n",
    "insertion_sort_by_tuple_sum(lst, reverse=True)"
   ]
  },
  {
   "cell_type": "code",
   "execution_count": null,
   "metadata": {
    "deletable": false,
    "editable": false,
    "nbgrader": {
     "cell_type": "code",
     "checksum": "03b7987944b15ae0f858504ca5a01b0b",
     "grade": true,
     "grade_id": "q11-insert-by-tuple-sum",
     "locked": true,
     "points": 10,
     "schema_version": 3,
     "solution": false,
     "task": false
    },
    "tags": []
   },
   "outputs": [],
   "source": [
    "# Testing Cell (Do NOT modify this cell)"
   ]
  }
 ],
 "metadata": {
  "kernelspec": {
   "display_name": "Python 3",
   "language": "python",
   "name": "python3"
  },
  "language_info": {
   "codemirror_mode": {
    "name": "ipython",
    "version": 3
   },
   "file_extension": ".py",
   "mimetype": "text/x-python",
   "name": "python",
   "nbconvert_exporter": "python",
   "pygments_lexer": "ipython3",
   "version": "3.10.12"
  },
  "otter": {
   "tests": {
    "q1": {
     "name": "q1",
     "points": 1,
     "suites": [
      {
       "cases": [],
       "scored": true,
       "setup": "",
       "teardown": "",
       "type": "doctest"
      }
     ]
    },
    "q10": {
     "name": "q10",
     "points": 4,
     "suites": [
      {
       "cases": [],
       "scored": true,
       "setup": "",
       "teardown": "",
       "type": "doctest"
      }
     ]
    },
    "q11": {
     "name": "q11",
     "points": 6,
     "suites": [
      {
       "cases": [],
       "scored": true,
       "setup": "",
       "teardown": "",
       "type": "doctest"
      }
     ]
    },
    "q12": {
     "name": "q12",
     "points": 6,
     "suites": [
      {
       "cases": [],
       "scored": true,
       "setup": "",
       "teardown": "",
       "type": "doctest"
      }
     ]
    },
    "q13": {
     "name": "q13",
     "points": 6,
     "suites": [
      {
       "cases": [],
       "scored": true,
       "setup": "",
       "teardown": "",
       "type": "doctest"
      }
     ]
    },
    "q14": {
     "name": "q14",
     "points": 6,
     "suites": [
      {
       "cases": [],
       "scored": true,
       "setup": "",
       "teardown": "",
       "type": "doctest"
      }
     ]
    },
    "q15": {
     "name": "q15",
     "points": 6,
     "suites": [
      {
       "cases": [],
       "scored": true,
       "setup": "",
       "teardown": "",
       "type": "doctest"
      }
     ]
    },
    "q16": {
     "name": "q16",
     "points": 6,
     "suites": [
      {
       "cases": [],
       "scored": true,
       "setup": "",
       "teardown": "",
       "type": "doctest"
      }
     ]
    },
    "q17": {
     "name": "q17",
     "points": 8,
     "suites": [
      {
       "cases": [],
       "scored": true,
       "setup": "",
       "teardown": "",
       "type": "doctest"
      }
     ]
    },
    "q18": {
     "name": "q18",
     "points": 8,
     "suites": [
      {
       "cases": [],
       "scored": true,
       "setup": "",
       "teardown": "",
       "type": "doctest"
      }
     ]
    },
    "q19": {
     "name": "q19",
     "points": 12,
     "suites": [
      {
       "cases": [],
       "scored": true,
       "setup": "",
       "teardown": "",
       "type": "doctest"
      }
     ]
    },
    "q2": {
     "name": "q2",
     "points": 1,
     "suites": [
      {
       "cases": [],
       "scored": true,
       "setup": "",
       "teardown": "",
       "type": "doctest"
      }
     ]
    },
    "q20": {
     "name": "q20",
     "points": 12,
     "suites": [
      {
       "cases": [],
       "scored": true,
       "setup": "",
       "teardown": "",
       "type": "doctest"
      }
     ]
    },
    "q3": {
     "name": "q3",
     "points": 1,
     "suites": [
      {
       "cases": [],
       "scored": true,
       "setup": "",
       "teardown": "",
       "type": "doctest"
      }
     ]
    },
    "q4": {
     "name": "q4",
     "points": 1,
     "suites": [
      {
       "cases": [],
       "scored": true,
       "setup": "",
       "teardown": "",
       "type": "doctest"
      }
     ]
    },
    "q5": {
     "name": "q5",
     "points": 2,
     "suites": [
      {
       "cases": [],
       "scored": true,
       "setup": "",
       "teardown": "",
       "type": "doctest"
      }
     ]
    },
    "q6": {
     "name": "q6",
     "points": 2,
     "suites": [
      {
       "cases": [],
       "scored": true,
       "setup": "",
       "teardown": "",
       "type": "doctest"
      }
     ]
    },
    "q7": {
     "name": "q7",
     "points": 4,
     "suites": [
      {
       "cases": [],
       "scored": true,
       "setup": "",
       "teardown": "",
       "type": "doctest"
      }
     ]
    },
    "q8": {
     "name": "q8",
     "points": 4,
     "suites": [
      {
       "cases": [],
       "scored": true,
       "setup": "",
       "teardown": "",
       "type": "doctest"
      }
     ]
    },
    "q9": {
     "name": "q9",
     "points": 4,
     "suites": [
      {
       "cases": [],
       "scored": true,
       "setup": "",
       "teardown": "",
       "type": "doctest"
      }
     ]
    }
   }
  },
  "varInspector": {
   "cols": {
    "lenName": 16,
    "lenType": 16,
    "lenVar": 40
   },
   "kernels_config": {
    "python": {
     "delete_cmd_postfix": "",
     "delete_cmd_prefix": "del ",
     "library": "var_list.py",
     "varRefreshCmd": "print(var_dic_list())"
    },
    "r": {
     "delete_cmd_postfix": ") ",
     "delete_cmd_prefix": "rm(",
     "library": "var_list.r",
     "varRefreshCmd": "cat(var_dic_list()) "
    }
   },
   "types_to_exclude": [
    "module",
    "function",
    "builtin_function_or_method",
    "instance",
    "_Feature"
   ],
   "window_display": false
  }
 },
 "nbformat": 4,
 "nbformat_minor": 4
}
