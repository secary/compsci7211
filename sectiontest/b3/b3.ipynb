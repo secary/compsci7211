{
 "cells": [
  {
   "cell_type": "markdown",
   "metadata": {},
   "source": [
    "Write a recursive function with the following signature:\n",
    "```python\n",
    "def sum_even_numbers(nums):\n",
    "    ...\n",
    "```\n",
    "that, given a list of integers, returns the sum of all even integers in the list. Your solution must be recursive and must not use iteration or rely on any global variable.  \n",
    "\n",
    "You must test your solution with the following test cases:  \n",
    "\n",
    "```python\n",
    "assert sum_even_numbers([1,2,3,4,5,6]) == 12\n",
    "assert sum_even_numbers([]) == 0\n",
    "assert sum_even_numbers([1,3,5,7]) == 0 \n",
    "```"
   ]
  },
  {
   "cell_type": "code",
   "execution_count": 6,
   "metadata": {},
   "outputs": [],
   "source": [
    "def sum_even_numbers(nums):\n",
    "    if not nums:\n",
    "        return 0\n",
    "    \n",
    "    if nums[0] % 2 == 0:\n",
    "        return nums[0] + sum_even_numbers(nums[1:])\n",
    "    else:\n",
    "        return sum_even_numbers(nums[1:])"
   ]
  },
  {
   "cell_type": "code",
   "execution_count": 5,
   "metadata": {},
   "outputs": [],
   "source": [
    "assert sum_even_numbers([1,2,3,4,5,6]) == 12\n",
    "assert sum_even_numbers([]) == 0\n",
    "assert sum_even_numbers([1,3,5,7]) == 0 "
   ]
  },
  {
   "cell_type": "markdown",
   "metadata": {},
   "source": [
    "Synthesis of Concepts\n",
    "At the International College of Tears, student id numbers take the form of an alphanumeric string like:\n",
    "```python\n",
    "   'x00000000'\n",
    "```\n",
    "where 'x' is the lower case letter of the student's first name and the '0's represents a 7 digit number. For example:\n",
    "```python\n",
    "    'u1721175', \n",
    "    's4025016', \n",
    "    'r4428714', \n",
    "    'i1930086'\n",
    "```\n",
    "Given a list of student ids, write a function that uses a bubble sort algorithm to sort based only on the numeric digits in the ids:\n",
    "\n",
    "```python\n",
    "def bubble_sort(ids):\n",
    "    '''\n",
    "    Sorts a list of 8 character student ids using a bubble sort\n",
    "    algorithm that sorts the ids according to the 7 digits in the\n",
    "    id (ignoring the alphabetic character at the start).\n",
    "    '''\n",
    "```\n",
    "Write a second function that uses a recursive binary search to find a stated id in the list of sorted ids:\n",
    "\n",
    "```python\n",
    "def binary_search(ids, low, high, id):\n",
    "    '''\n",
    "    Recursively search a list of ids (sorted by the numeric \n",
    "    component) for a matching id.\n",
    "    \n",
    "        ids: input data to search.\n",
    "        low: the index of the lowest element in this search.\n",
    "        high: the index of the highest element in this search.\n",
    "        match: the element to match against.\n",
    "    \n",
    "    Returns True when the item is found and otherwise False.\n",
    "    '''\n",
    "```\n",
    "Note that your binary search should consider only the numeric portion of the id since that is the sort order of the list.\n",
    "\n",
    "Given a list of unsorted student ids like:\n",
    "```python\n",
    "['u1721175', 's4025016', 'r4428714', 'i1930086', 'z0419026']\n",
    "```\n",
    "your sort will return:\n",
    "```python\n",
    "['z0419026', 'u1721175', 'i1930086', 's4025016', 'r4428714']\n",
    "```\n",
    "You must test your code with the following test cases:\n",
    "```python\n",
    "assert binary_search (ids, 0, len(ids) - 1, 'i1930086')\n",
    "assert not binary_search (ids, 0, len(ids) - 1, 'i6666666')\n",
    "```"
   ]
  },
  {
   "cell_type": "code",
   "execution_count": 8,
   "metadata": {},
   "outputs": [
    {
     "data": {
      "text/plain": [
       "['z0419026', 'u1721175', 'i1930086', 's4025016', 'r4428714']"
      ]
     },
     "execution_count": 8,
     "metadata": {},
     "output_type": "execute_result"
    }
   ],
   "source": [
    "def bubble_sort(ids):\n",
    "    '''\n",
    "    Sorts a list of 8 character student ids using a bubble sort\n",
    "    algorithm that sorts the ids according to the 7 digits in the\n",
    "    id (ignoring the alphabetic character at the start).\n",
    "    '''\n",
    "    for i in range(len(ids) - 1):\n",
    "        for j in range(len(ids) - 1 - i):\n",
    "            if int(ids[j][1:]) > int(ids[j + 1][1:]):\n",
    "                ids[j], ids[j + 1] = ids[j + 1], ids[j]\n",
    "    \n",
    "    return ids\n",
    "\n",
    "bubble_sort(['u1721175', 's4025016', 'r4428714', 'i1930086', 'z0419026'])"
   ]
  },
  {
   "cell_type": "code",
   "execution_count": 20,
   "metadata": {},
   "outputs": [],
   "source": [
    "def binary_search(ids, low, high, id):\n",
    "    '''\n",
    "    Recursively search a list of ids (sorted by the numeric \n",
    "    component) for a matching id.\n",
    "    \n",
    "        ids: input data to search.\n",
    "        low: the index of the lowest element in this search.\n",
    "        high: the index of the highest element in this search.\n",
    "        match: the element to match against.\n",
    "    \n",
    "    Returns True when the item is found and otherwise False.\n",
    "    '''\n",
    "    def quicksort(arr=ids, first=0, last=len(ids) - 1):\n",
    "        if first >= last:\n",
    "            return\n",
    "        \n",
    "        low, high = first, last\n",
    "        pivot = arr[low]\n",
    "        while low <= high:\n",
    "            while arr[low][1:] < pivot[1:]:\n",
    "                low += 1\n",
    "            while arr[high][1:] > pivot[1:]:\n",
    "                high -= 1\n",
    "                \n",
    "            if low <= high:\n",
    "                arr[low], arr[high] = arr[high], arr[low]\n",
    "                low += 1\n",
    "                high -= 1\n",
    "        \n",
    "        quicksort(arr, first, high)\n",
    "        quicksort(arr, low, last)\n",
    "        \n",
    "    \n",
    "    quicksort()            \n",
    "        \n",
    "    if low > high:\n",
    "        return False\n",
    "    \n",
    "    mid = (low + high) // 2\n",
    "    if ids[mid][1:] == id[1:]:\n",
    "        return True\n",
    "    elif ids[mid][1:] > id[1:]:\n",
    "        return binary_search(ids, low, mid - 1, id)\n",
    "    else:\n",
    "        return binary_search(ids, mid + 1, high, id)\n"
   ]
  },
  {
   "cell_type": "code",
   "execution_count": 21,
   "metadata": {},
   "outputs": [],
   "source": [
    "ids = ['u1721175', 's4025016', 'r4428714', 'i1930086', 'z0419026']\n",
    "assert binary_search (ids, 0, len(ids) - 1, 'i1930086')\n",
    "assert not binary_search (ids, 0, len(ids) - 1, 'i6666666')"
   ]
  }
 ],
 "metadata": {
  "kernelspec": {
   "display_name": "Python 3",
   "language": "python",
   "name": "python3"
  },
  "language_info": {
   "codemirror_mode": {
    "name": "ipython",
    "version": 3
   },
   "file_extension": ".py",
   "mimetype": "text/x-python",
   "name": "python",
   "nbconvert_exporter": "python",
   "pygments_lexer": "ipython3",
   "version": "3.10.12"
  }
 },
 "nbformat": 4,
 "nbformat_minor": 2
}
