{
 "cells": [
  {
   "cell_type": "markdown",
   "metadata": {},
   "source": [
    "# Files\n",
    "\n",
    "Given a list of files from the downloaded archive:\n",
    "\n",
    "`['b2-1.txt', 'b2-2.txt', 'b2-3.txt', 'b2-4.txt']`  \n",
    "that contain fragments of PEP 20 - The Zen of PythonLinks to an external site. such as:\n",
    "\n",
    "`PEP 20 – The Zen of Python`  \n",
    "`Beautiful is better than ugly.`  \n",
    "`Explicit is better than implicit.`  \n",
    "`Simple is better than complex.`  \n",
    "`Complex is better than complicated.`  \n",
    "create a new file 'zen-utf16.txt` that concatenates all of the contents of the files into one text file with the following requirements:\n",
    "\n",
    "the first line of each file (a header line that reads \"PEP 20 – The Zen of Python\" is removed, and\n",
    "the new file is saved with 'utf-16' encoding.\n",
    "To test your work, you must read the file and print its contents. You must close all files after use - in particular the written file."
   ]
  },
  {
   "cell_type": "code",
   "execution_count": 25,
   "metadata": {},
   "outputs": [
    {
     "name": "stdout",
     "output_type": "stream",
     "text": [
      "Beautiful is better than ugly.\n",
      "Explicit is better than implicit.\n",
      "Simple is better than complex.\n",
      "Complex is better than complicated.\n",
      "Flat is better than nested.Sparse is better than dense.\n",
      "Readability counts.\n",
      "Special cases aren't special enough to break the rules.\n",
      "Although practicality beats purity.\n",
      "Errors should never pass silently.\n",
      "Unless explicitly silenced.In the face of ambiguity, refuse the temptation to guess.\n",
      "There should be one-- and preferably only one --obvious way to do it.\n",
      "Although that way may not be obvious at first unless you're Dutch.\n",
      "Now is better than never.Although never is often better than *right* now.\n",
      "If the implementation is hard to explain, it's a bad idea.\n",
      "If the implementation is easy to explain, it may be a good idea.\n",
      "Namespaces are one honking great idea -- let's do more of those!\n"
     ]
    }
   ],
   "source": [
    "files = ['b2-1.txt', 'b2-2.txt', 'b2-3.txt', 'b2-4.txt']\n",
    "lines_ = []\n",
    "for file in files:\n",
    "    with open (f'files/{file}','r' ,encoding='utf-8') as f:\n",
    "        lines_.extend(f.readlines()[1:])\n",
    "        \n",
    "with open('files/zen-utf16.txt', 'w+', encoding='utf-16') as output:\n",
    "    output.writelines(line for line in lines_)\n",
    "    \n",
    "with open('files/zen-utf16.txt', 'r', encoding='utf-16') as file:\n",
    "    contents = file.readlines()\n",
    "    for line in contents:\n",
    "        print(line.strip())"
   ]
  },
  {
   "cell_type": "markdown",
   "metadata": {},
   "source": [
    "# Structured Data\n",
    "\n",
    "Given a list of dictionaries of the details of books by author Neal Stephenson like:"
   ]
  },
  {
   "cell_type": "code",
   "execution_count": 28,
   "metadata": {},
   "outputs": [],
   "source": [
    "\n",
    "books = [\n",
    "  {\n",
    "    'title' : \"The Big U\",\n",
    "    'author' : \"Neal Stephenson\",\n",
    "    'publication-date' : \"1984\",\n",
    "  },\n",
    "  {\n",
    "    'title' : \"Snow Crash\",\n",
    "    'author' : \"Neal Stephenson\",\n",
    "    'publication-date' : \"1992\",\n",
    "    'awards' : \"British Science Fiction Association Award, 1993\",\n",
    "  },\n",
    "  {\n",
    "    'title' : \"Interface\",\n",
    "    'author' : \"Neal Stephenson\",\n",
    "    'co-author' : \"J. Frederick George\",\n",
    "    'publication-date' : \"1994\",\n",
    "  },\n",
    "  {\n",
    "    'title' : \"The Diamond Age: or A Young Lady's Illustrated Primer\",\n",
    "    'author' : \"Neal Stephenson\",\n",
    "    'publication-date' : \"1995\",\n",
    "    'awards' : \"Hugo and Locus SF Awards winner, 1996; Nebula\",\n",
    "  },\n",
    "  {\n",
    "    'title' : \"The Cobweb\",\n",
    "    'author' : \"Neal Stephenson\",\n",
    "    'co-author' : \"J. Frederick George\",\n",
    "    'publication-date' : \"1996\",\n",
    "  },\n",
    "]"
   ]
  },
  {
   "cell_type": "markdown",
   "metadata": {},
   "source": [
    "write a function:\n",
    "that saves the book details to a CSV file. Your file must include a header row based on the dictionary keys that you calculate based on the supplied dictionary (i.e. no hard coding the header!). You must print the contents of the saved file after it has been written to test your work."
   ]
  },
  {
   "cell_type": "code",
   "execution_count": 29,
   "metadata": {},
   "outputs": [],
   "source": [
    "import pandas as pd\n",
    "def save_as_csv (booklist: dict, filename):\n",
    "    '''\n",
    "    Accepts a dictionry of book details and saves a csv\n",
    "    file (including a header row based on the dictionary keys)\n",
    "    to the filename provided.\n",
    "    '''\n",
    "    df = pd.DataFrame(booklist)\n",
    "    df.to_csv(f'files/{filename}.csv', index=False)\n",
    "    \n",
    "save_as_csv(books, 'Neal')"
   ]
  },
  {
   "cell_type": "markdown",
   "metadata": {},
   "source": [
    "Create a NumPy array using np.zeros() and amend it as follows:\n",
    "$$\n",
    "\\begin{bmatrix}\n",
    "\n",
    "\\end{bmatrix}\n",
    "$$\n",
    "Create a second NumPy array using the functions np.arange() and np.reshape():\n",
    "\n",
    "\n",
    "Multiply arr1 by arr2 and assign the resultant matrix to variable arr3.\n",
    "\n",
    "Copy arr3 to a new array arr4 leaving arr3 unchanged. Multiply each value of arr4 by a factor of 2. \n",
    "\n",
    "Print arr1, arr2, arr3 and arr4.\n",
    "\n",
    "Your final arr4 should look like:\n",
    "\n",
    "\n"
   ]
  }
 ],
 "metadata": {
  "kernelspec": {
   "display_name": "Python 3",
   "language": "python",
   "name": "python3"
  },
  "language_info": {
   "codemirror_mode": {
    "name": "ipython",
    "version": 3
   },
   "file_extension": ".py",
   "mimetype": "text/x-python",
   "name": "python",
   "nbconvert_exporter": "python",
   "pygments_lexer": "ipython3",
   "version": "3.10.12"
  }
 },
 "nbformat": 4,
 "nbformat_minor": 2
}
