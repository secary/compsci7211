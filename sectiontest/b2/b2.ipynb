{
 "cells": [
  {
   "cell_type": "markdown",
   "metadata": {},
   "source": [
    "# Files\n",
    "\n",
    "Given a list of files from the downloaded archive:\n",
    "\n",
    "`['b2-1.txt', 'b2-2.txt', 'b2-3.txt', 'b2-4.txt']`  \n",
    "that contain fragments of PEP 20 - The Zen of PythonLinks to an external site. such as:\n",
    "\n",
    "`PEP 20 – The Zen of Python`  \n",
    "`Beautiful is better than ugly.`  \n",
    "`Explicit is better than implicit.`  \n",
    "`Simple is better than complex.`  \n",
    "`Complex is better than complicated.`  \n",
    "create a new file 'zen-utf16.txt` that concatenates all of the contents of the files into one text file with the following requirements:\n",
    "\n",
    "the first line of each file (a header line that reads \"PEP 20 – The Zen of Python\" is removed, and\n",
    "the new file is saved with 'utf-16' encoding.\n",
    "To test your work, you must read the file and print its contents. You must close all files after use - in particular the written file."
   ]
  },
  {
   "cell_type": "code",
   "execution_count": 25,
   "metadata": {},
   "outputs": [
    {
     "name": "stdout",
     "output_type": "stream",
     "text": [
      "Beautiful is better than ugly.\n",
      "Explicit is better than implicit.\n",
      "Simple is better than complex.\n",
      "Complex is better than complicated.\n",
      "Flat is better than nested.Sparse is better than dense.\n",
      "Readability counts.\n",
      "Special cases aren't special enough to break the rules.\n",
      "Although practicality beats purity.\n",
      "Errors should never pass silently.\n",
      "Unless explicitly silenced.In the face of ambiguity, refuse the temptation to guess.\n",
      "There should be one-- and preferably only one --obvious way to do it.\n",
      "Although that way may not be obvious at first unless you're Dutch.\n",
      "Now is better than never.Although never is often better than *right* now.\n",
      "If the implementation is hard to explain, it's a bad idea.\n",
      "If the implementation is easy to explain, it may be a good idea.\n",
      "Namespaces are one honking great idea -- let's do more of those!\n"
     ]
    }
   ],
   "source": [
    "files = ['b2-1.txt', 'b2-2.txt', 'b2-3.txt', 'b2-4.txt']\n",
    "lines_ = []\n",
    "for file in files:\n",
    "    with open (f'files/{file}','r' ,encoding='utf-8') as f:\n",
    "        lines_.extend(f.readlines()[1:])\n",
    "        \n",
    "with open('files/zen-utf16.txt', 'w+', encoding='utf-16') as output:\n",
    "    output.writelines(line for line in lines_)\n",
    "    \n",
    "with open('files/zen-utf16.txt', 'r', encoding='utf-16') as file:\n",
    "    contents = file.readlines()\n",
    "    for line in contents:\n",
    "        print(line.strip())"
   ]
  },
  {
   "cell_type": "markdown",
   "metadata": {},
   "source": [
    "# Structured Data\n",
    "\n",
    "Given a list of dictionaries of the details of books by author Neal Stephenson like:"
   ]
  },
  {
   "cell_type": "code",
   "execution_count": 28,
   "metadata": {},
   "outputs": [],
   "source": [
    "\n",
    "books = [\n",
    "  {\n",
    "    'title' : \"The Big U\",\n",
    "    'author' : \"Neal Stephenson\",\n",
    "    'publication-date' : \"1984\",\n",
    "  },\n",
    "  {\n",
    "    'title' : \"Snow Crash\",\n",
    "    'author' : \"Neal Stephenson\",\n",
    "    'publication-date' : \"1992\",\n",
    "    'awards' : \"British Science Fiction Association Award, 1993\",\n",
    "  },\n",
    "  {\n",
    "    'title' : \"Interface\",\n",
    "    'author' : \"Neal Stephenson\",\n",
    "    'co-author' : \"J. Frederick George\",\n",
    "    'publication-date' : \"1994\",\n",
    "  },\n",
    "  {\n",
    "    'title' : \"The Diamond Age: or A Young Lady's Illustrated Primer\",\n",
    "    'author' : \"Neal Stephenson\",\n",
    "    'publication-date' : \"1995\",\n",
    "    'awards' : \"Hugo and Locus SF Awards winner, 1996; Nebula\",\n",
    "  },\n",
    "  {\n",
    "    'title' : \"The Cobweb\",\n",
    "    'author' : \"Neal Stephenson\",\n",
    "    'co-author' : \"J. Frederick George\",\n",
    "    'publication-date' : \"1996\",\n",
    "  },\n",
    "]"
   ]
  },
  {
   "cell_type": "markdown",
   "metadata": {},
   "source": [
    "write a function:\n",
    "that saves the book details to a CSV file. Your file must include a header row based on the dictionary keys that you calculate based on the supplied dictionary (i.e. no hard coding the header!). You must print the contents of the saved file after it has been written to test your work."
   ]
  },
  {
   "cell_type": "code",
   "execution_count": 29,
   "metadata": {},
   "outputs": [],
   "source": [
    "import pandas as pd\n",
    "def save_as_csv (booklist: dict, filename):\n",
    "    '''\n",
    "    Accepts a dictionry of book details and saves a csv\n",
    "    file (including a header row based on the dictionary keys)\n",
    "    to the filename provided.\n",
    "    '''\n",
    "    df = pd.DataFrame(booklist)\n",
    "    df.to_csv(f'files/{filename}.csv', index=False)\n",
    "    \n",
    "save_as_csv(books, 'Neal')"
   ]
  },
  {
   "cell_type": "markdown",
   "metadata": {},
   "source": [
    "# Numpy\n",
    "Create a NumPy array using np.zeros() and amend it as follows:\n",
    "$$\n",
    "arr1 =\n",
    "\\begin{bmatrix}\n",
    "    1 & 0 & 0 & 0 \\\\\n",
    "    0 & 1 & 0 & 0 \\\\\n",
    "    0 & 0 & 1 & 0 \\\\\n",
    "    0 & 0 & 0 & 1\n",
    "\\end{bmatrix}\n",
    "$$\n",
    "Create a second NumPy array using the functions np.arange() and np.reshape():\n",
    "$$\n",
    "arr1 =\n",
    "\\begin{bmatrix}\n",
    "    1 & 2 & 3 & 4 \\\\\n",
    "    5 & 6 & 7 & 8 \\\\\n",
    "    9 & 10 & 11 & 12 \\\\\n",
    "    13 & 14 & 15 & 16\n",
    "\\end{bmatrix}\n",
    "$$\n",
    "Multiply arr1 by arr2 and assign the resultant matrix to variable arr3.\n",
    "\n",
    "Copy arr3 to a new array arr4 leaving arr3 unchanged. Multiply each value of arr4 by a factor of 2. \n",
    "\n",
    "Print arr1, arr2, arr3 and arr4.\n",
    "\n",
    "Your final arr4 should look like:\n",
    "$$\n",
    "arr4 = \n",
    "\\begin{bmatrix}\n",
    "    2 & 0 & 0 & 0 \\\\\n",
    "    0 & 12 & 0 & 0 \\\\\n",
    "    0 & 0 & 22 & 0 \\\\\n",
    "    0 & 0 & 0 & 32\n",
    "\\end{bmatrix}\n",
    "$$"
   ]
  },
  {
   "cell_type": "code",
   "execution_count": 12,
   "metadata": {},
   "outputs": [
    {
     "name": "stdout",
     "output_type": "stream",
     "text": [
      "[[ 1  0  0  0]\n",
      " [ 0  6  0  0]\n",
      " [ 0  0 11  0]\n",
      " [ 0  0  0 16]] [[ 2  0  0  0]\n",
      " [ 0 12  0  0]\n",
      " [ 0  0 22  0]\n",
      " [ 0  0  0 32]]\n"
     ]
    }
   ],
   "source": [
    "import numpy as np\n",
    "arr1 = np.zeros((4, 4), dtype=int)\n",
    "arr1[0, 0] = arr1[1, 1] = arr1[2, 2] = arr1[3, 3] = 1\n",
    "\n",
    "arr2 = np.arange(1, 17, 1).reshape(4,4)\n",
    "arr3 = arr1 * arr2\n",
    "arr4 = arr3 * 2\n",
    "print(arr3, arr4)"
   ]
  },
  {
   "cell_type": "markdown",
   "metadata": {},
   "source": [
    "# Pandas\n",
    "From the supplied files, readLinks to an external site. the CSV file full-book-list.csv into a DataFrame named df1. You may adopt any approach you wish to execute the following steps:  \n",
    "\n",
    "create a copy of df1 that is called df2,  \n",
    "drop the column 'author' from 'df2' in place,  \n",
    "change the column headings in df2 to replace the dash separators ('-') with spaces and capitalize the column titles, as follows:  \n",
    "        ` ['Title', 'Co author', 'Publication date', 'Awards', 'Sales']`  \n",
    "\n",
    "set the index of df2 to the book 'Title' in place.  \n",
    "Now create a DataFrame df3 that contains the 'Awards' received for each book which sold more than 100,000 copies leaving df2 unchanged."
   ]
  },
  {
   "cell_type": "code",
   "execution_count": 23,
   "metadata": {},
   "outputs": [
    {
     "data": {
      "text/plain": [
       "title\n",
       "Snow Crash                                               British Science Fiction Association Award nomi...\n",
       "The Diamond Age: or A Young Lady's Illustrated Primer    Hugo and Locus SF Awards winner, 1996; Nebula,...\n",
       "Cryptonomicon                                            Locus SF Award winner, 2000; Hugo and Clarke A...\n",
       "Name: awards, dtype: object"
      ]
     },
     "execution_count": 23,
     "metadata": {},
     "output_type": "execute_result"
    }
   ],
   "source": [
    "import pandas as pd\n",
    "df1 = pd.read_csv('files/full-book-list.csv')\n",
    "df2 = df1.drop(columns=['author']).set_index('title')\n",
    "df3 = df2[df2['sales'] > 100000]['awards']\n",
    "df3"
   ]
  },
  {
   "cell_type": "markdown",
   "metadata": {},
   "source": [
    "# Refactioring\n",
    "Given the following function that identifies whether a list of numbers is monotonicLinks to an external site., apply at least three of the refactoring techniques outlined here to improve this code. For each applied technique, identify it numerically and include a brief comment to explain its use. For example:  \n"
   ]
  },
  {
   "cell_type": "code",
   "execution_count": null,
   "metadata": {},
   "outputs": [],
   "source": [
    "\n",
    "# pattern 1, renamed parameter named 'a' to `input_list` to improve readability."
   ]
  },
  {
   "cell_type": "markdown",
   "metadata": {},
   "source": [
    "The three techniques selected must be unique (i.e.: you gain no credit for using the same technique three times)."
   ]
  },
  {
   "cell_type": "code",
   "execution_count": 24,
   "metadata": {},
   "outputs": [
    {
     "name": "stdout",
     "output_type": "stream",
     "text": [
      "Checking [6, 0, 1, 2, 2, 3] for strict monontone: False\n",
      "Checking [-1, 0, 1, 2, 2, 3] for strict monontone: False\n",
      "Checking [-1, 0, 1, 2, 2, 3] for strict monontone: True\n"
     ]
    }
   ],
   "source": [
    "def is_monotonic(a, st):\n",
    "    \"\"\"\n",
    "    This function checks if a list of numbers is monotonic.\n",
    "\n",
    "    Args:\n",
    "        a (list): A list of numbers.\n",
    "        st (bool): Flag to indicate strict or non-strict monotonicity.\n",
    "                    If True, checks for strictly increasing/decreasing.\n",
    "                    If False, checks for non-strict monotonicity.\n",
    "                    Default is True.\n",
    "\n",
    "    Returns:\n",
    "        bool: True if the list is monotonic, False otherwise.\n",
    "\n",
    "    \"\"\"\n",
    "    flag1 = True\n",
    "    flag2 = True\n",
    "\n",
    "    print (f'Checking {a} for strict monontone: {st == True}')\n",
    "\n",
    "    i = 1\n",
    "    \n",
    "    while i < len(a):\n",
    "        if st == False:\n",
    "            if a[i] < a[i - 1]:\n",
    "                flag1 = False\n",
    "            elif a[i] > a[i - 1]:\n",
    "                flag2 = False\n",
    "            i = i + 1\n",
    "    \n",
    "        else:\n",
    "            if a[i] <= a[i - 1]:\n",
    "                flag1 = False\n",
    "            elif a[i] >= a[i - 1]:\n",
    "                flag2 = False \n",
    "            i = i + 1\n",
    "\n",
    "\n",
    "    return flag1 or flag2\n",
    "\n",
    "# Test cases\n",
    "\n",
    "assert not is_monotonic ([6, 0, 1, 2, 2, 3], st = False)\n",
    "assert is_monotonic ([-1, 0, 1, 2, 2, 3], st = False)\n",
    "assert not is_monotonic ([-1, 0, 1, 2, 2, 3], st = True) "
   ]
  },
  {
   "cell_type": "code",
   "execution_count": 29,
   "metadata": {},
   "outputs": [],
   "source": [
    "def is_monotonic_refactor(target: list, strict: bool=True):\n",
    "    if len(target) <= 1:\n",
    "        return True\n",
    "    if strict:\n",
    "        is_decreased = all(target[i] > target[i + 1] for i in range(len(target) - 1))\n",
    "        is_increased = all(target[i] < target[i + 1] for i in range(len(target) - 1))\n",
    "    else:\n",
    "        is_decreased = all(target[i] >= target[i + 1] for i in range(len(target) - 1))\n",
    "        is_increased = all(target[i] <= target[i + 1] for i in range(len(target) - 1))\n",
    "    return is_decreased or is_increased"
   ]
  },
  {
   "cell_type": "code",
   "execution_count": 2,
   "metadata": {},
   "outputs": [
    {
     "data": {
      "text/plain": [
       "True"
      ]
     },
     "execution_count": 2,
     "metadata": {},
     "output_type": "execute_result"
    }
   ],
   "source": [
    "def is_monotonic_recursive(target: list, strict: bool=True):\n",
    "\n",
    "    \n",
    "    def is_increased(target):\n",
    "        if len(target) <= 1:\n",
    "            return True\n",
    "        if strict:\n",
    "            if target[0] < target[1]:\n",
    "                return is_increased(target[1:])\n",
    "            return False\n",
    "        else:\n",
    "            if target[0] <= target[1]:\n",
    "                return is_increased(target[1:])\n",
    "            return False\n",
    "        \n",
    "    def is_decreased(target):\n",
    "        if len(target) <= 1:\n",
    "            return True\n",
    "        if strict:\n",
    "            if target[0] > target[1]:\n",
    "                return is_decreased(target[1:])\n",
    "            return False\n",
    "        else:\n",
    "            if target[0] >= target[1]:\n",
    "                return is_decreased(target[1:])\n",
    "            return False\n",
    "    return is_decreased(target) or is_increased(target)\n",
    "\n",
    "is_monotonic_recursive([1,2,3,4])\n"
   ]
  },
  {
   "cell_type": "markdown",
   "metadata": {},
   "source": [
    "# Synthesis of Key Concepts\n",
    "We wish to create a function to analyse a NumPy array of (somewhat) random numbers and save our analysis to a JSON file. The function has the following definition:"
   ]
  },
  {
   "cell_type": "code",
   "execution_count": 9,
   "metadata": {},
   "outputs": [],
   "source": [
    "import json\n",
    "import pandas as pd\n",
    "import numpy as np\n",
    "def summarise_and_save (filename, arr):\n",
    "    '''\n",
    "    Function that accepts a NumPy array of numeric data and calculates three\n",
    "    characteristics:\n",
    "       - the minimum value,\n",
    "       - the maximum value, and\n",
    "       - the mean value.\n",
    "    The summary data and the array (rounded to two decimal places) are saved\n",
    "    in JSON format to the supplied filename with keys: 'min', 'max', 'mean' and 'series'.   \n",
    "    '''"
   ]
  },
  {
   "cell_type": "code",
   "execution_count": null,
   "metadata": {},
   "outputs": [],
   "source": []
  },
  {
   "cell_type": "markdown",
   "metadata": {},
   "source": [
    "Per the docstring, the function has the following requirements:\n",
    "\n",
    "* accept a NumPy array,\n",
    "* calculate min, max and mean values, \n",
    "* round all data to two decimal places, and\n",
    "* save these values and the series to the filename in JSON format.\n",
    "\n",
    "You are also given a function that repeatably generates a NumPy array of numbers according to a random seed to create test data:"
   ]
  },
  {
   "cell_type": "code",
   "execution_count": 3,
   "metadata": {},
   "outputs": [],
   "source": [
    "import numpy as np\n",
    "\n",
    "def generate_test_data (size, seed = 0, noise_amplitude = 2):\n",
    "\n",
    "    np.random.seed(seed)\n",
    "\n",
    "    arr = np.random.uniform(1, 100, size)\n",
    "    arr.sort()\n",
    "\n",
    "    # Fuzz the data a little\n",
    "    noise = np.random.uniform(-noise_amplitude, noise_amplitude, size)\n",
    "    arr += noise\n",
    "\n",
    "    arr = np.clip(arr, 1, 100)\n",
    "\n",
    "    return arr"
   ]
  },
  {
   "cell_type": "markdown",
   "metadata": {},
   "source": [
    "Following a Red-Green-Refactor approach:\n",
    "\n",
    "* create two failing test cases (functions) to test the incomplete function summarise_and_save,\n",
    "* implement all of the requirements of the function as listed above, and\n",
    "* retest your implementation to show transition from failing tests (red) to successful tests (green).  \n",
    "\n",
    "Your test functions must handle all generated exceptions and return True if the test passed, otherwise False. After implementing the requirements listed and retesting, your output file should hold the following summary data (for seed = 0):"
   ]
  },
  {
   "cell_type": "code",
   "execution_count": null,
   "metadata": {},
   "outputs": [],
   "source": [
    "{\n",
    "    \"min\": 40.13,\n",
    "    \"max\": 97.88,\n",
    "    \"mean\": 62.15,\n",
    "    \"series\": [\n",
    "        40.13,\n",
    "        43.06,\n",
    "        44.59,\n",
    "        56.65,\n",
    "        53.62,\n",
    "        59.02,\n",
    "        63.02,\n",
    "        73.13,\n",
    "        90.40,\n",
    "        97.88\n",
    "    ]\n",
    "}"
   ]
  },
  {
   "cell_type": "code",
   "execution_count": 18,
   "metadata": {},
   "outputs": [
    {
     "data": {
      "text/plain": [
       "{'min': np.float64(40.13),\n",
       " 'max': np.float64(97.88),\n",
       " 'mean': np.float64(62.15),\n",
       " 'series': [np.float64(40.13),\n",
       "  np.float64(43.06),\n",
       "  np.float64(44.59),\n",
       "  np.float64(56.65),\n",
       "  np.float64(53.62),\n",
       "  np.float64(59.02),\n",
       "  np.float64(63.02),\n",
       "  np.float64(73.13),\n",
       "  np.float64(90.4),\n",
       "  np.float64(97.88)]}"
      ]
     },
     "execution_count": 18,
     "metadata": {},
     "output_type": "execute_result"
    }
   ],
   "source": [
    "def summarise_and_save (filename, arr):\n",
    "    output = {}\n",
    "    arr = np.round(arr, 2)\n",
    "    output['min'] = np.min(arr)\n",
    "    output['max'] = np.max(arr)\n",
    "    output['mean'] = np.mean(arr)\n",
    "    output['series'] = list(arr)\n",
    "    with open(f'files/{filename}.json','w+') as file:\n",
    "        json.dump(output, file)\n",
    "    return output\n",
    "summarise_and_save('arr1', generate_test_data(10))"
   ]
  },
  {
   "cell_type": "code",
   "execution_count": 25,
   "metadata": {},
   "outputs": [
    {
     "data": {
      "text/html": [
       "<div>\n",
       "<style scoped>\n",
       "    .dataframe tbody tr th:only-of-type {\n",
       "        vertical-align: middle;\n",
       "    }\n",
       "\n",
       "    .dataframe tbody tr th {\n",
       "        vertical-align: top;\n",
       "    }\n",
       "\n",
       "    .dataframe thead th {\n",
       "        text-align: right;\n",
       "    }\n",
       "</style>\n",
       "<table border=\"1\" class=\"dataframe\">\n",
       "  <thead>\n",
       "    <tr style=\"text-align: right;\">\n",
       "      <th></th>\n",
       "      <th>min</th>\n",
       "      <th>max</th>\n",
       "      <th>mean</th>\n",
       "      <th>series</th>\n",
       "    </tr>\n",
       "  </thead>\n",
       "  <tbody>\n",
       "    <tr>\n",
       "      <th>0</th>\n",
       "      <td>40.13</td>\n",
       "      <td>97.88</td>\n",
       "      <td>62.15</td>\n",
       "      <td>40.13</td>\n",
       "    </tr>\n",
       "    <tr>\n",
       "      <th>1</th>\n",
       "      <td>40.13</td>\n",
       "      <td>97.88</td>\n",
       "      <td>62.15</td>\n",
       "      <td>43.06</td>\n",
       "    </tr>\n",
       "    <tr>\n",
       "      <th>2</th>\n",
       "      <td>40.13</td>\n",
       "      <td>97.88</td>\n",
       "      <td>62.15</td>\n",
       "      <td>44.59</td>\n",
       "    </tr>\n",
       "    <tr>\n",
       "      <th>3</th>\n",
       "      <td>40.13</td>\n",
       "      <td>97.88</td>\n",
       "      <td>62.15</td>\n",
       "      <td>56.65</td>\n",
       "    </tr>\n",
       "    <tr>\n",
       "      <th>4</th>\n",
       "      <td>40.13</td>\n",
       "      <td>97.88</td>\n",
       "      <td>62.15</td>\n",
       "      <td>53.62</td>\n",
       "    </tr>\n",
       "    <tr>\n",
       "      <th>5</th>\n",
       "      <td>40.13</td>\n",
       "      <td>97.88</td>\n",
       "      <td>62.15</td>\n",
       "      <td>59.02</td>\n",
       "    </tr>\n",
       "    <tr>\n",
       "      <th>6</th>\n",
       "      <td>40.13</td>\n",
       "      <td>97.88</td>\n",
       "      <td>62.15</td>\n",
       "      <td>63.02</td>\n",
       "    </tr>\n",
       "    <tr>\n",
       "      <th>7</th>\n",
       "      <td>40.13</td>\n",
       "      <td>97.88</td>\n",
       "      <td>62.15</td>\n",
       "      <td>73.13</td>\n",
       "    </tr>\n",
       "    <tr>\n",
       "      <th>8</th>\n",
       "      <td>40.13</td>\n",
       "      <td>97.88</td>\n",
       "      <td>62.15</td>\n",
       "      <td>90.40</td>\n",
       "    </tr>\n",
       "    <tr>\n",
       "      <th>9</th>\n",
       "      <td>40.13</td>\n",
       "      <td>97.88</td>\n",
       "      <td>62.15</td>\n",
       "      <td>97.88</td>\n",
       "    </tr>\n",
       "  </tbody>\n",
       "</table>\n",
       "</div>"
      ],
      "text/plain": [
       "     min    max   mean  series\n",
       "0  40.13  97.88  62.15   40.13\n",
       "1  40.13  97.88  62.15   43.06\n",
       "2  40.13  97.88  62.15   44.59\n",
       "3  40.13  97.88  62.15   56.65\n",
       "4  40.13  97.88  62.15   53.62\n",
       "5  40.13  97.88  62.15   59.02\n",
       "6  40.13  97.88  62.15   63.02\n",
       "7  40.13  97.88  62.15   73.13\n",
       "8  40.13  97.88  62.15   90.40\n",
       "9  40.13  97.88  62.15   97.88"
      ]
     },
     "execution_count": 25,
     "metadata": {},
     "output_type": "execute_result"
    }
   ],
   "source": [
    "pd.read_json('files/arr1.json')"
   ]
  },
  {
   "cell_type": "code",
   "execution_count": 26,
   "metadata": {},
   "outputs": [
    {
     "data": {
      "text/plain": [
       "True"
      ]
     },
     "execution_count": 26,
     "metadata": {},
     "output_type": "execute_result"
    }
   ],
   "source": [
    "\n",
    "def test(summarise_and_save):\n",
    "    try:\n",
    "        assert not summarise_and_save('arr1', generate_test_data(10))['max'] == 50, 'correct answer'\n",
    "        assert not summarise_and_save('arr1', generate_test_data(10))['mean'] == 62.15232, 'correct answer'\n",
    "        assert isinstance(pd.read_json('files/arr1.json')['series'][0], float), 'not a list'\n",
    "        return True\n",
    "        \n",
    "    except AssertionError as e:\n",
    "        print(f\"tests didn't pass: {e}\")\n",
    "        return False\n",
    "test(summarise_and_save)"
   ]
  },
  {
   "cell_type": "code",
   "execution_count": null,
   "metadata": {},
   "outputs": [],
   "source": []
  }
 ],
 "metadata": {
  "kernelspec": {
   "display_name": "Python 3",
   "language": "python",
   "name": "python3"
  },
  "language_info": {
   "codemirror_mode": {
    "name": "ipython",
    "version": 3
   },
   "file_extension": ".py",
   "mimetype": "text/x-python",
   "name": "python",
   "nbconvert_exporter": "python",
   "pygments_lexer": "ipython3",
   "version": "3.10.12"
  }
 },
 "nbformat": 4,
 "nbformat_minor": 2
}
